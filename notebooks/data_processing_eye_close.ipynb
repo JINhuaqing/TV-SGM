{
 "cells": [
  {
   "cell_type": "markdown",
   "id": "cadabb59",
   "metadata": {},
   "source": [
    "Some preprocessing"
   ]
  },
  {
   "cell_type": "code",
   "execution_count": 1,
   "id": "17726e40-ac08-4f1b-8720-c8a6b9003c26",
   "metadata": {
    "execution": {
     "iopub.execute_input": "2023-05-30T23:25:20.901111Z",
     "iopub.status.busy": "2023-05-30T23:25:20.900608Z",
     "iopub.status.idle": "2023-05-30T23:25:20.926048Z",
     "shell.execute_reply": "2023-05-30T23:25:20.924689Z",
     "shell.execute_reply.started": "2023-05-30T23:25:20.901067Z"
    },
    "tags": []
   },
   "outputs": [
    {
     "data": {
      "text/plain": [
       "False"
      ]
     },
     "execution_count": 1,
     "metadata": {},
     "output_type": "execute_result"
    }
   ],
   "source": [
    "RUN_PYTHON_SCRIPT = False"
   ]
  },
  {
   "cell_type": "code",
   "execution_count": 2,
   "id": "ba9942dd",
   "metadata": {
    "ExecuteTime": {
     "end_time": "2023-04-04T17:37:57.771920Z",
     "start_time": "2023-04-04T17:37:56.085736Z"
    },
    "execution": {
     "iopub.execute_input": "2023-05-30T23:25:20.929817Z",
     "iopub.status.busy": "2023-05-30T23:25:20.929318Z",
     "iopub.status.idle": "2023-05-30T23:25:21.107586Z",
     "shell.execute_reply": "2023-05-30T23:25:21.106989Z",
     "shell.execute_reply.started": "2023-05-30T23:25:20.929775Z"
    },
    "tags": []
   },
   "outputs": [],
   "source": [
    "import sys\n",
    "sys.path.append(\"../mypkg\")\n",
    "from constants import RES_ROOT, FIG_ROOT, DATA_ROOT"
   ]
  },
  {
   "cell_type": "code",
   "execution_count": 3,
   "id": "ad09a305",
   "metadata": {
    "ExecuteTime": {
     "end_time": "2023-04-04T17:38:03.434191Z",
     "start_time": "2023-04-04T17:37:58.883670Z"
    },
    "execution": {
     "iopub.execute_input": "2023-05-30T23:25:21.108381Z",
     "iopub.status.busy": "2023-05-30T23:25:21.108165Z",
     "iopub.status.idle": "2023-05-30T23:25:22.045301Z",
     "shell.execute_reply": "2023-05-30T23:25:22.044777Z",
     "shell.execute_reply.started": "2023-05-30T23:25:21.108366Z"
    },
    "tags": []
   },
   "outputs": [],
   "source": [
    "import numpy as np\n",
    "import scipy\n",
    "import matplotlib.pyplot as plt\n",
    "import seaborn as sns\n",
    "from easydict import EasyDict as edict\n",
    "from tqdm import trange, tqdm\n",
    "import time\n",
    "\n",
    "if not RUN_PYTHON_SCRIPT:\n",
    "    plt.style.use(FIG_ROOT/\"base.mplstyle\")"
   ]
  },
  {
   "cell_type": "code",
   "execution_count": 4,
   "id": "0924abca",
   "metadata": {
    "ExecuteTime": {
     "end_time": "2023-04-04T17:38:12.656580Z",
     "start_time": "2023-04-04T17:38:12.479288Z"
    },
    "execution": {
     "iopub.execute_input": "2023-05-30T23:25:22.048755Z",
     "iopub.status.busy": "2023-05-30T23:25:22.048533Z",
     "iopub.status.idle": "2023-05-30T23:25:22.101382Z",
     "shell.execute_reply": "2023-05-30T23:25:22.100319Z",
     "shell.execute_reply.started": "2023-05-30T23:25:22.048737Z"
    },
    "tags": []
   },
   "outputs": [],
   "source": [
    "from spectrome import Brain\n",
    "from sgm.sgm import SGM\n",
    "from utils.misc import save_pkl, save_pkl_dict2folder, load_pkl, load_pkl_folder2dict, delta_time\n",
    "from utils.standardize import std_mat, std_vec"
   ]
  },
  {
   "cell_type": "code",
   "execution_count": 5,
   "id": "318c4ef4",
   "metadata": {
    "ExecuteTime": {
     "end_time": "2023-04-04T17:38:12.665771Z",
     "start_time": "2023-04-04T17:38:12.659314Z"
    },
    "execution": {
     "iopub.execute_input": "2023-05-30T23:25:22.103468Z",
     "iopub.status.busy": "2023-05-30T23:25:22.102721Z",
     "iopub.status.idle": "2023-05-30T23:25:23.565048Z",
     "shell.execute_reply": "2023-05-30T23:25:23.564507Z",
     "shell.execute_reply.started": "2023-05-30T23:25:22.103426Z"
    },
    "tags": []
   },
   "outputs": [],
   "source": [
    "# pkgs for pytorch ( Mar 27, 2023) \n",
    "import torch\n",
    "import torch.nn as nn\n",
    "from torch.functional import F\n",
    "from torch.optim.lr_scheduler import ExponentialLR\n",
    "\n",
    "torch.set_default_dtype(torch.float64)\n",
    "if torch.cuda.is_available():\n",
    "    torch.cuda.set_device(2)\n",
    "    torch.set_default_tensor_type(torch.cuda.DoubleTensor)\n",
    "    torch.backends.cudnn.benchmark = True\n",
    "else:\n",
    "    torch.set_default_tensor_type(torch.DoubleTensor)"
   ]
  },
  {
   "cell_type": "code",
   "execution_count": null,
   "id": "d3eb7e49",
   "metadata": {},
   "outputs": [],
   "source": []
  },
  {
   "cell_type": "markdown",
   "id": "81f73f43-7bfb-49fd-92f5-53a813e4a385",
   "metadata": {},
   "source": [
    "# Get the spectrogram \n"
   ]
  },
  {
   "cell_type": "code",
   "execution_count": 6,
   "id": "886a2c00-7f80-4070-8df9-5dcb56ec76da",
   "metadata": {
    "execution": {
     "iopub.execute_input": "2023-05-30T23:25:23.566175Z",
     "iopub.status.busy": "2023-05-30T23:25:23.565826Z",
     "iopub.status.idle": "2023-05-30T23:25:23.697294Z",
     "shell.execute_reply": "2023-05-30T23:25:23.696298Z",
     "shell.execute_reply.started": "2023-05-30T23:25:23.566159Z"
    },
    "tags": []
   },
   "outputs": [],
   "source": [
    "from scipy.io import loadmat\n",
    "from scipy import signal\n",
    "root = DATA_ROOT/\"MEG-eye-multiFreqs\"\n",
    "\n",
    "_paras = edict()\n",
    "_paras.freq_limit = [1, 45]\n",
    "_paras.fs = 600\n",
    "_paras.fils_path = list(root.glob(\"*1-45*20.mat\"))\n",
    "\n",
    "_paras.spg_paras = edict()\n",
    "_paras.spg_paras.nperseg = 600\n",
    "_paras.spg_paras.noverlap = 302"
   ]
  },
  {
   "cell_type": "code",
   "execution_count": 11,
   "id": "72ed77a7-9d78-42ca-908a-a43a32e90c2d",
   "metadata": {
    "execution": {
     "iopub.execute_input": "2023-05-30T23:26:59.513701Z",
     "iopub.status.busy": "2023-05-30T23:26:59.513065Z",
     "iopub.status.idle": "2023-05-30T23:27:00.099006Z",
     "shell.execute_reply": "2023-05-30T23:27:00.097938Z",
     "shell.execute_reply.started": "2023-05-30T23:26:59.513656Z"
    },
    "tags": []
   },
   "outputs": [
    {
     "name": "stderr",
     "output_type": "stream",
     "text": [
      "100%|█████████████████████████████████████████████████████████████████████████████████████████████████████████████████████████████████████████| 68/68 [00:00<00:00, 486.42it/s]\n"
     ]
    },
    {
     "name": "stdout",
     "output_type": "stream",
     "text": [
      "Save to /data/rajlab1/user_data/jin/MyResearch/TV-SGM/notebooks/../mypkg/../data/MEG-eye-multiFreqs/lcmv_DKregion_R2868E_03-st_1-45Hz_20_spectrogram.pkl\n"
     ]
    }
   ],
   "source": [
    "# change the file to estimate PSD\n",
    "fil_path = _paras.fils_path[1]\n",
    "\n",
    "MEG_ts = loadmat(fil_path)[\"DK_timecourse\"];\n",
    "PSD_data = edict()\n",
    "PSD_data.spectrogram = []\n",
    "PSD_data.freqs = None\n",
    "PSD_data.times = None\n",
    "PSD_data.paras = _paras.spg_paras\n",
    "PSD_data.readme = \"The spectrogram is estimated with signal.spectrogram with paras. Note that it is in |mag|^2 (not in dB)\"\n",
    "for roi_ix in trange(MEG_ts.shape[0]):\n",
    "    freqs, times, Sxx = signal.spectrogram(MEG_ts[roi_ix], _paras.fs, mode=\"psd\", \n",
    "                                           nperseg=_paras.spg_paras.nperseg, \n",
    "                                           noverlap=_paras.spg_paras.noverlap)\n",
    "    keep_idxs = np.bitwise_and(freqs>=_paras.freq_limit[0],  freqs<=_paras.freq_limit[1])\n",
    "    freqs = freqs[keep_idxs]\n",
    "    Sxx = Sxx[keep_idxs]\n",
    "    PSD_data.spectrogram.append(Sxx)\n",
    "    \n",
    "PSD_data.freqs = freqs\n",
    "PSD_data.times = times\n",
    "PSD_data.spectrogram = np.array(PSD_data.spectrogram)\n",
    "\n",
    "save_pkl(root/(fil_path.stem + \"_spectrogram.pkl\"), PSD_data)"
   ]
  },
  {
   "cell_type": "code",
   "execution_count": 88,
   "id": "52a26c84-ee98-48b5-b018-5e544a1b70fe",
   "metadata": {
    "execution": {
     "iopub.execute_input": "2023-05-30T23:16:43.281988Z",
     "iopub.status.busy": "2023-05-30T23:16:43.281338Z",
     "iopub.status.idle": "2023-05-30T23:16:43.299348Z",
     "shell.execute_reply": "2023-05-30T23:16:43.298257Z",
     "shell.execute_reply.started": "2023-05-30T23:16:43.281928Z"
    },
    "tags": []
   },
   "outputs": [
    {
     "data": {
      "text/plain": [
       "(240,)"
      ]
     },
     "execution_count": 88,
     "metadata": {},
     "output_type": "execute_result"
    }
   ],
   "source": [
    "#plt.pcolormesh(times, freqs, 10 * np.log10(Sxx), shading='gouraud')\n",
    "#plt.ylabel('Frequency [Hz]')\n",
    "#plt.xlabel('Time [sec]')\n",
    "#plt.colorbar(label='PSD (dB)')\n",
    "#plt.show()"
   ]
  },
  {
   "cell_type": "code",
   "execution_count": null,
   "id": "7a168809-379f-49da-ad2b-d1bb70003c40",
   "metadata": {},
   "outputs": [],
   "source": []
  },
  {
   "cell_type": "markdown",
   "id": "6d7a4da6",
   "metadata": {},
   "source": [
    "# produce base metrics"
   ]
  },
  {
   "cell_type": "code",
   "execution_count": 7,
   "id": "c68aa910-7dd5-4bfe-ad5d-11e1001c1394",
   "metadata": {
    "execution": {
     "iopub.execute_input": "2023-05-24T00:11:45.096823Z",
     "iopub.status.busy": "2023-05-24T00:11:45.096331Z",
     "iopub.status.idle": "2023-05-24T00:11:45.102041Z",
     "shell.execute_reply": "2023-05-24T00:11:45.100859Z",
     "shell.execute_reply.started": "2023-05-24T00:11:45.096784Z"
    },
    "tags": []
   },
   "outputs": [],
   "source": [
    "from models.loss import reg_R_fn, lin_R_fn"
   ]
  },
  {
   "cell_type": "code",
   "execution_count": 8,
   "id": "521836de",
   "metadata": {
    "ExecuteTime": {
     "end_time": "2023-04-04T17:38:17.218490Z",
     "start_time": "2023-04-04T17:38:13.493691Z"
    },
    "execution": {
     "iopub.execute_input": "2023-05-24T00:11:45.996022Z",
     "iopub.status.busy": "2023-05-24T00:11:45.995367Z",
     "iopub.status.idle": "2023-05-24T00:11:49.691461Z",
     "shell.execute_reply": "2023-05-24T00:11:49.690721Z",
     "shell.execute_reply.started": "2023-05-24T00:11:45.995979Z"
    },
    "tags": []
   },
   "outputs": [],
   "source": [
    "import netCDF4\n",
    "fils = list(DATA_ROOT.glob(\"*s100tp.nc\"))\n",
    "file2read = netCDF4.Dataset(fils[0], 'r')\n",
    "psd_all = np.array(file2read.variables[\"__xarray_dataarray_variable__\"][:])\n",
    "psd_all = 10 * np.log10(psd_all)\n",
    "time_points = np.array(file2read.variables[\"timepoints\"][:])\n",
    "freqs = np.array(file2read.variables[\"frequencies\"][:])\n",
    "ROIs_order = np.array(file2read.variables[\"regionx\"][:])\n",
    "file2read.close()\n",
    "\n",
    "# real data\n",
    "all_data = psd_all.transpose(3, 2, 0, 1)\n",
    "all_data_std = (all_data - all_data.mean(axis=-1, keepdims=True))/all_data.std(axis=-1, keepdims=True);"
   ]
  },
  {
   "cell_type": "code",
   "execution_count": 9,
   "id": "1c32b1c1-2536-4c74-ba71-30106792f886",
   "metadata": {
    "execution": {
     "iopub.execute_input": "2023-05-24T00:11:49.692567Z",
     "iopub.status.busy": "2023-05-24T00:11:49.692404Z",
     "iopub.status.idle": "2023-05-24T00:11:49.740499Z",
     "shell.execute_reply": "2023-05-24T00:11:49.740015Z",
     "shell.execute_reply.started": "2023-05-24T00:11:49.692554Z"
    },
    "tags": []
   },
   "outputs": [
    {
     "name": "stdout",
     "output_type": "stream",
     "text": [
      "Load file /data/rajlab1/user_data/jin/MyResearch/TV-SGM/notebooks/../mypkg/../results/simu_sgm_data_ind_large/PSDs_test.pkl\n"
     ]
    }
   ],
   "source": [
    "# the simulated data\n",
    "simu_sgm_data = load_pkl_folder2dict(RES_ROOT/\"simu_sgm_data_ind_large\", including=[\"PSDs_test\"]);"
   ]
  },
  {
   "cell_type": "code",
   "execution_count": 10,
   "id": "f9030733-03af-4ed5-a6e2-dc67a1728c94",
   "metadata": {
    "execution": {
     "iopub.execute_input": "2023-05-24T00:11:49.741464Z",
     "iopub.status.busy": "2023-05-24T00:11:49.741243Z",
     "iopub.status.idle": "2023-05-24T00:11:49.794472Z",
     "shell.execute_reply": "2023-05-24T00:11:49.793856Z",
     "shell.execute_reply.started": "2023-05-24T00:11:49.741450Z"
    },
    "tags": []
   },
   "outputs": [],
   "source": [
    "base_PSDs_dB = 20*np.log10(simu_sgm_data.PSDs_test[:1000]);\n",
    "base_PSDs_dB_std = (base_PSDs_dB - base_PSDs_dB.mean(axis=-1, keepdims=True))/base_PSDs_dB.std(axis=-1, keepdims=True);"
   ]
  },
  {
   "cell_type": "code",
   "execution_count": 11,
   "id": "4fca7886-3e15-4b4a-914a-fdcdf82b4e2c",
   "metadata": {
    "execution": {
     "iopub.execute_input": "2023-05-24T00:11:49.800115Z",
     "iopub.status.busy": "2023-05-24T00:11:49.799843Z",
     "iopub.status.idle": "2023-05-24T00:11:49.803624Z",
     "shell.execute_reply": "2023-05-24T00:11:49.803210Z",
     "shell.execute_reply.started": "2023-05-24T00:11:49.800101Z"
    },
    "tags": []
   },
   "outputs": [],
   "source": [
    "# path to save\n",
    "target_path = DATA_ROOT/(fils[0].stem + \"_base_1000\")\n",
    "if not target_path.exists():\n",
    "    target_path.mkdir()"
   ]
  },
  {
   "cell_type": "code",
   "execution_count": 12,
   "id": "77d353ac-a0c9-416b-9300-19271723de96",
   "metadata": {
    "execution": {
     "iopub.execute_input": "2023-05-24T00:11:50.798033Z",
     "iopub.status.busy": "2023-05-24T00:11:50.797393Z",
     "iopub.status.idle": "2023-05-24T00:11:50.807394Z",
     "shell.execute_reply": "2023-05-24T00:11:50.806369Z",
     "shell.execute_reply.started": "2023-05-24T00:11:50.797989Z"
    },
    "tags": []
   },
   "outputs": [],
   "source": [
    "def _all2stat_fn(corrs):\n",
    "    \"\"\"output useful stats for the base corrs\n",
    "    \"\"\"\n",
    "    res = edict()\n",
    "    if corrs.ndim == 1:\n",
    "        res.mean = np.mean(corrs)\n",
    "        res.median = np.median(corrs)\n",
    "        res.std = np.std(corrs)\n",
    "    elif corrs.ndim == 2:\n",
    "        assert corrs.shape[-1] == 68\n",
    "        res.mean = np.mean(corrs, axis=0)\n",
    "        res.median = np.median(corrs, axis=0)\n",
    "        res.std = np.std(corrs, axis=0)\n",
    "    return res"
   ]
  },
  {
   "cell_type": "markdown",
   "id": "ef40e192-5fe8-4d4a-bae2-757d757cd808",
   "metadata": {},
   "source": [
    "## Reg R"
   ]
  },
  {
   "cell_type": "code",
   "execution_count": 13,
   "id": "d029a42c-d8a4-42bc-9d2d-66c2c8c0ea43",
   "metadata": {
    "execution": {
     "iopub.execute_input": "2023-05-23T22:44:49.037467Z",
     "iopub.status.busy": "2023-05-23T22:44:49.037077Z",
     "iopub.status.idle": "2023-05-23T22:55:39.972572Z",
     "shell.execute_reply": "2023-05-23T22:55:39.971536Z",
     "shell.execute_reply.started": "2023-05-23T22:44:49.037442Z"
    },
    "scrolled": true,
    "tags": []
   },
   "outputs": [
    {
     "name": "stderr",
     "output_type": "stream",
     "text": [
      "  3%|███▊                                                                                                                                       | 1/36 [00:18<10:31, 18.03s/it]"
     ]
    },
    {
     "name": "stdout",
     "output_type": "stream",
     "text": [
      "/data/rajlab1/user_data/jin/MyResearch/TV-SGM/notebooks/../mypkg/../data/individual_wavelet_reordered_smooth_raw_s100tp_base_1000/regR_0.pkl exists! Use is_force=True to save it anyway\n",
      "/data/rajlab1/user_data/jin/MyResearch/TV-SGM/notebooks/../mypkg/../data/individual_wavelet_reordered_smooth_raw_s100tp_base_1000/regR_roiwise_0.pkl exists! Use is_force=True to save it anyway\n"
     ]
    },
    {
     "name": "stderr",
     "output_type": "stream",
     "text": [
      "  6%|███████▋                                                                                                                                   | 2/36 [00:36<10:15, 18.11s/it]"
     ]
    },
    {
     "name": "stdout",
     "output_type": "stream",
     "text": [
      "Save to /data/rajlab1/user_data/jin/MyResearch/TV-SGM/notebooks/../mypkg/../data/individual_wavelet_reordered_smooth_raw_s100tp_base_1000/regR_1.pkl\n",
      "Save to /data/rajlab1/user_data/jin/MyResearch/TV-SGM/notebooks/../mypkg/../data/individual_wavelet_reordered_smooth_raw_s100tp_base_1000/regR_roiwise_1.pkl\n"
     ]
    },
    {
     "name": "stderr",
     "output_type": "stream",
     "text": [
      "  8%|███████████▌                                                                                                                               | 3/36 [00:54<09:57, 18.10s/it]"
     ]
    },
    {
     "name": "stdout",
     "output_type": "stream",
     "text": [
      "Save to /data/rajlab1/user_data/jin/MyResearch/TV-SGM/notebooks/../mypkg/../data/individual_wavelet_reordered_smooth_raw_s100tp_base_1000/regR_2.pkl\n",
      "Save to /data/rajlab1/user_data/jin/MyResearch/TV-SGM/notebooks/../mypkg/../data/individual_wavelet_reordered_smooth_raw_s100tp_base_1000/regR_roiwise_2.pkl\n"
     ]
    },
    {
     "name": "stderr",
     "output_type": "stream",
     "text": [
      " 11%|███████████████▍                                                                                                                           | 4/36 [01:12<09:36, 18.01s/it]"
     ]
    },
    {
     "name": "stdout",
     "output_type": "stream",
     "text": [
      "Save to /data/rajlab1/user_data/jin/MyResearch/TV-SGM/notebooks/../mypkg/../data/individual_wavelet_reordered_smooth_raw_s100tp_base_1000/regR_3.pkl\n",
      "Save to /data/rajlab1/user_data/jin/MyResearch/TV-SGM/notebooks/../mypkg/../data/individual_wavelet_reordered_smooth_raw_s100tp_base_1000/regR_roiwise_3.pkl\n"
     ]
    },
    {
     "name": "stderr",
     "output_type": "stream",
     "text": [
      " 14%|███████████████████▎                                                                                                                       | 5/36 [01:30<09:17, 17.97s/it]"
     ]
    },
    {
     "name": "stdout",
     "output_type": "stream",
     "text": [
      "Save to /data/rajlab1/user_data/jin/MyResearch/TV-SGM/notebooks/../mypkg/../data/individual_wavelet_reordered_smooth_raw_s100tp_base_1000/regR_4.pkl\n",
      "Save to /data/rajlab1/user_data/jin/MyResearch/TV-SGM/notebooks/../mypkg/../data/individual_wavelet_reordered_smooth_raw_s100tp_base_1000/regR_roiwise_4.pkl\n"
     ]
    },
    {
     "name": "stderr",
     "output_type": "stream",
     "text": [
      " 17%|███████████████████████▏                                                                                                                   | 6/36 [01:47<08:58, 17.95s/it]"
     ]
    },
    {
     "name": "stdout",
     "output_type": "stream",
     "text": [
      "Save to /data/rajlab1/user_data/jin/MyResearch/TV-SGM/notebooks/../mypkg/../data/individual_wavelet_reordered_smooth_raw_s100tp_base_1000/regR_5.pkl\n",
      "Save to /data/rajlab1/user_data/jin/MyResearch/TV-SGM/notebooks/../mypkg/../data/individual_wavelet_reordered_smooth_raw_s100tp_base_1000/regR_roiwise_5.pkl\n"
     ]
    },
    {
     "name": "stderr",
     "output_type": "stream",
     "text": [
      " 19%|███████████████████████████                                                                                                                | 7/36 [02:05<08:40, 17.93s/it]"
     ]
    },
    {
     "name": "stdout",
     "output_type": "stream",
     "text": [
      "Save to /data/rajlab1/user_data/jin/MyResearch/TV-SGM/notebooks/../mypkg/../data/individual_wavelet_reordered_smooth_raw_s100tp_base_1000/regR_6.pkl\n",
      "Save to /data/rajlab1/user_data/jin/MyResearch/TV-SGM/notebooks/../mypkg/../data/individual_wavelet_reordered_smooth_raw_s100tp_base_1000/regR_roiwise_6.pkl\n"
     ]
    },
    {
     "name": "stderr",
     "output_type": "stream",
     "text": [
      " 22%|██████████████████████████████▉                                                                                                            | 8/36 [02:23<08:21, 17.92s/it]"
     ]
    },
    {
     "name": "stdout",
     "output_type": "stream",
     "text": [
      "Save to /data/rajlab1/user_data/jin/MyResearch/TV-SGM/notebooks/../mypkg/../data/individual_wavelet_reordered_smooth_raw_s100tp_base_1000/regR_7.pkl\n",
      "Save to /data/rajlab1/user_data/jin/MyResearch/TV-SGM/notebooks/../mypkg/../data/individual_wavelet_reordered_smooth_raw_s100tp_base_1000/regR_roiwise_7.pkl\n"
     ]
    },
    {
     "name": "stderr",
     "output_type": "stream",
     "text": [
      " 25%|██████████████████████████████████▊                                                                                                        | 9/36 [02:41<08:03, 17.92s/it]"
     ]
    },
    {
     "name": "stdout",
     "output_type": "stream",
     "text": [
      "Save to /data/rajlab1/user_data/jin/MyResearch/TV-SGM/notebooks/../mypkg/../data/individual_wavelet_reordered_smooth_raw_s100tp_base_1000/regR_8.pkl\n",
      "Save to /data/rajlab1/user_data/jin/MyResearch/TV-SGM/notebooks/../mypkg/../data/individual_wavelet_reordered_smooth_raw_s100tp_base_1000/regR_roiwise_8.pkl\n"
     ]
    },
    {
     "name": "stderr",
     "output_type": "stream",
     "text": [
      " 28%|██████████████████████████████████████▎                                                                                                   | 10/36 [02:59<07:45, 17.91s/it]"
     ]
    },
    {
     "name": "stdout",
     "output_type": "stream",
     "text": [
      "Save to /data/rajlab1/user_data/jin/MyResearch/TV-SGM/notebooks/../mypkg/../data/individual_wavelet_reordered_smooth_raw_s100tp_base_1000/regR_9.pkl\n",
      "Save to /data/rajlab1/user_data/jin/MyResearch/TV-SGM/notebooks/../mypkg/../data/individual_wavelet_reordered_smooth_raw_s100tp_base_1000/regR_roiwise_9.pkl\n"
     ]
    },
    {
     "name": "stderr",
     "output_type": "stream",
     "text": [
      " 31%|██████████████████████████████████████████▏                                                                                               | 11/36 [03:17<07:27, 17.89s/it]"
     ]
    },
    {
     "name": "stdout",
     "output_type": "stream",
     "text": [
      "Save to /data/rajlab1/user_data/jin/MyResearch/TV-SGM/notebooks/../mypkg/../data/individual_wavelet_reordered_smooth_raw_s100tp_base_1000/regR_10.pkl\n",
      "Save to /data/rajlab1/user_data/jin/MyResearch/TV-SGM/notebooks/../mypkg/../data/individual_wavelet_reordered_smooth_raw_s100tp_base_1000/regR_roiwise_10.pkl\n"
     ]
    },
    {
     "name": "stderr",
     "output_type": "stream",
     "text": [
      " 33%|██████████████████████████████████████████████                                                                                            | 12/36 [03:35<07:09, 17.88s/it]"
     ]
    },
    {
     "name": "stdout",
     "output_type": "stream",
     "text": [
      "Save to /data/rajlab1/user_data/jin/MyResearch/TV-SGM/notebooks/../mypkg/../data/individual_wavelet_reordered_smooth_raw_s100tp_base_1000/regR_11.pkl\n",
      "Save to /data/rajlab1/user_data/jin/MyResearch/TV-SGM/notebooks/../mypkg/../data/individual_wavelet_reordered_smooth_raw_s100tp_base_1000/regR_roiwise_11.pkl\n"
     ]
    },
    {
     "name": "stderr",
     "output_type": "stream",
     "text": [
      " 36%|█████████████████████████████████████████████████▊                                                                                        | 13/36 [03:53<06:51, 17.88s/it]"
     ]
    },
    {
     "name": "stdout",
     "output_type": "stream",
     "text": [
      "Save to /data/rajlab1/user_data/jin/MyResearch/TV-SGM/notebooks/../mypkg/../data/individual_wavelet_reordered_smooth_raw_s100tp_base_1000/regR_12.pkl\n",
      "Save to /data/rajlab1/user_data/jin/MyResearch/TV-SGM/notebooks/../mypkg/../data/individual_wavelet_reordered_smooth_raw_s100tp_base_1000/regR_roiwise_12.pkl\n"
     ]
    },
    {
     "name": "stderr",
     "output_type": "stream",
     "text": [
      " 39%|█████████████████████████████████████████████████████▋                                                                                    | 14/36 [04:11<06:33, 17.89s/it]"
     ]
    },
    {
     "name": "stdout",
     "output_type": "stream",
     "text": [
      "Save to /data/rajlab1/user_data/jin/MyResearch/TV-SGM/notebooks/../mypkg/../data/individual_wavelet_reordered_smooth_raw_s100tp_base_1000/regR_13.pkl\n",
      "Save to /data/rajlab1/user_data/jin/MyResearch/TV-SGM/notebooks/../mypkg/../data/individual_wavelet_reordered_smooth_raw_s100tp_base_1000/regR_roiwise_13.pkl\n"
     ]
    },
    {
     "name": "stderr",
     "output_type": "stream",
     "text": [
      " 42%|█████████████████████████████████████████████████████████▌                                                                                | 15/36 [04:28<06:15, 17.89s/it]"
     ]
    },
    {
     "name": "stdout",
     "output_type": "stream",
     "text": [
      "Save to /data/rajlab1/user_data/jin/MyResearch/TV-SGM/notebooks/../mypkg/../data/individual_wavelet_reordered_smooth_raw_s100tp_base_1000/regR_14.pkl\n",
      "Save to /data/rajlab1/user_data/jin/MyResearch/TV-SGM/notebooks/../mypkg/../data/individual_wavelet_reordered_smooth_raw_s100tp_base_1000/regR_roiwise_14.pkl\n"
     ]
    },
    {
     "name": "stderr",
     "output_type": "stream",
     "text": [
      " 44%|█████████████████████████████████████████████████████████████▎                                                                            | 16/36 [04:46<05:58, 17.91s/it]"
     ]
    },
    {
     "name": "stdout",
     "output_type": "stream",
     "text": [
      "Save to /data/rajlab1/user_data/jin/MyResearch/TV-SGM/notebooks/../mypkg/../data/individual_wavelet_reordered_smooth_raw_s100tp_base_1000/regR_15.pkl\n",
      "Save to /data/rajlab1/user_data/jin/MyResearch/TV-SGM/notebooks/../mypkg/../data/individual_wavelet_reordered_smooth_raw_s100tp_base_1000/regR_roiwise_15.pkl\n"
     ]
    },
    {
     "name": "stderr",
     "output_type": "stream",
     "text": [
      " 47%|█████████████████████████████████████████████████████████████████▏                                                                        | 17/36 [05:04<05:39, 17.87s/it]"
     ]
    },
    {
     "name": "stdout",
     "output_type": "stream",
     "text": [
      "Save to /data/rajlab1/user_data/jin/MyResearch/TV-SGM/notebooks/../mypkg/../data/individual_wavelet_reordered_smooth_raw_s100tp_base_1000/regR_16.pkl\n",
      "Save to /data/rajlab1/user_data/jin/MyResearch/TV-SGM/notebooks/../mypkg/../data/individual_wavelet_reordered_smooth_raw_s100tp_base_1000/regR_roiwise_16.pkl\n"
     ]
    },
    {
     "name": "stderr",
     "output_type": "stream",
     "text": [
      " 50%|█████████████████████████████████████████████████████████████████████                                                                     | 18/36 [05:22<05:21, 17.85s/it]"
     ]
    },
    {
     "name": "stdout",
     "output_type": "stream",
     "text": [
      "Save to /data/rajlab1/user_data/jin/MyResearch/TV-SGM/notebooks/../mypkg/../data/individual_wavelet_reordered_smooth_raw_s100tp_base_1000/regR_17.pkl\n",
      "Save to /data/rajlab1/user_data/jin/MyResearch/TV-SGM/notebooks/../mypkg/../data/individual_wavelet_reordered_smooth_raw_s100tp_base_1000/regR_roiwise_17.pkl\n"
     ]
    },
    {
     "name": "stderr",
     "output_type": "stream",
     "text": [
      " 53%|████████████████████████████████████████████████████████████████████████▊                                                                 | 19/36 [05:40<05:03, 17.84s/it]"
     ]
    },
    {
     "name": "stdout",
     "output_type": "stream",
     "text": [
      "Save to /data/rajlab1/user_data/jin/MyResearch/TV-SGM/notebooks/../mypkg/../data/individual_wavelet_reordered_smooth_raw_s100tp_base_1000/regR_18.pkl\n",
      "Save to /data/rajlab1/user_data/jin/MyResearch/TV-SGM/notebooks/../mypkg/../data/individual_wavelet_reordered_smooth_raw_s100tp_base_1000/regR_roiwise_18.pkl\n"
     ]
    },
    {
     "name": "stderr",
     "output_type": "stream",
     "text": [
      " 56%|████████████████████████████████████████████████████████████████████████████▋                                                             | 20/36 [05:58<04:45, 17.82s/it]"
     ]
    },
    {
     "name": "stdout",
     "output_type": "stream",
     "text": [
      "Save to /data/rajlab1/user_data/jin/MyResearch/TV-SGM/notebooks/../mypkg/../data/individual_wavelet_reordered_smooth_raw_s100tp_base_1000/regR_19.pkl\n",
      "Save to /data/rajlab1/user_data/jin/MyResearch/TV-SGM/notebooks/../mypkg/../data/individual_wavelet_reordered_smooth_raw_s100tp_base_1000/regR_roiwise_19.pkl\n"
     ]
    },
    {
     "name": "stderr",
     "output_type": "stream",
     "text": [
      " 58%|████████████████████████████████████████████████████████████████████████████████▌                                                         | 21/36 [06:15<04:27, 17.80s/it]"
     ]
    },
    {
     "name": "stdout",
     "output_type": "stream",
     "text": [
      "Save to /data/rajlab1/user_data/jin/MyResearch/TV-SGM/notebooks/../mypkg/../data/individual_wavelet_reordered_smooth_raw_s100tp_base_1000/regR_20.pkl\n",
      "Save to /data/rajlab1/user_data/jin/MyResearch/TV-SGM/notebooks/../mypkg/../data/individual_wavelet_reordered_smooth_raw_s100tp_base_1000/regR_roiwise_20.pkl\n"
     ]
    },
    {
     "name": "stderr",
     "output_type": "stream",
     "text": [
      " 61%|████████████████████████████████████████████████████████████████████████████████████▎                                                     | 22/36 [06:33<04:09, 17.80s/it]"
     ]
    },
    {
     "name": "stdout",
     "output_type": "stream",
     "text": [
      "Save to /data/rajlab1/user_data/jin/MyResearch/TV-SGM/notebooks/../mypkg/../data/individual_wavelet_reordered_smooth_raw_s100tp_base_1000/regR_21.pkl\n",
      "Save to /data/rajlab1/user_data/jin/MyResearch/TV-SGM/notebooks/../mypkg/../data/individual_wavelet_reordered_smooth_raw_s100tp_base_1000/regR_roiwise_21.pkl\n"
     ]
    },
    {
     "name": "stderr",
     "output_type": "stream",
     "text": [
      " 64%|████████████████████████████████████████████████████████████████████████████████████████▏                                                 | 23/36 [06:51<03:53, 17.97s/it]"
     ]
    },
    {
     "name": "stdout",
     "output_type": "stream",
     "text": [
      "Save to /data/rajlab1/user_data/jin/MyResearch/TV-SGM/notebooks/../mypkg/../data/individual_wavelet_reordered_smooth_raw_s100tp_base_1000/regR_22.pkl\n",
      "Save to /data/rajlab1/user_data/jin/MyResearch/TV-SGM/notebooks/../mypkg/../data/individual_wavelet_reordered_smooth_raw_s100tp_base_1000/regR_roiwise_22.pkl\n"
     ]
    },
    {
     "name": "stderr",
     "output_type": "stream",
     "text": [
      " 67%|████████████████████████████████████████████████████████████████████████████████████████████                                              | 24/36 [07:10<03:37, 18.09s/it]"
     ]
    },
    {
     "name": "stdout",
     "output_type": "stream",
     "text": [
      "Save to /data/rajlab1/user_data/jin/MyResearch/TV-SGM/notebooks/../mypkg/../data/individual_wavelet_reordered_smooth_raw_s100tp_base_1000/regR_23.pkl\n",
      "Save to /data/rajlab1/user_data/jin/MyResearch/TV-SGM/notebooks/../mypkg/../data/individual_wavelet_reordered_smooth_raw_s100tp_base_1000/regR_roiwise_23.pkl\n"
     ]
    },
    {
     "name": "stderr",
     "output_type": "stream",
     "text": [
      " 69%|███████████████████████████████████████████████████████████████████████████████████████████████▊                                          | 25/36 [07:28<03:20, 18.19s/it]"
     ]
    },
    {
     "name": "stdout",
     "output_type": "stream",
     "text": [
      "Save to /data/rajlab1/user_data/jin/MyResearch/TV-SGM/notebooks/../mypkg/../data/individual_wavelet_reordered_smooth_raw_s100tp_base_1000/regR_24.pkl\n",
      "Save to /data/rajlab1/user_data/jin/MyResearch/TV-SGM/notebooks/../mypkg/../data/individual_wavelet_reordered_smooth_raw_s100tp_base_1000/regR_roiwise_24.pkl\n"
     ]
    },
    {
     "name": "stderr",
     "output_type": "stream",
     "text": [
      " 72%|███████████████████████████████████████████████████████████████████████████████████████████████████▋                                      | 26/36 [07:47<03:02, 18.25s/it]"
     ]
    },
    {
     "name": "stdout",
     "output_type": "stream",
     "text": [
      "Save to /data/rajlab1/user_data/jin/MyResearch/TV-SGM/notebooks/../mypkg/../data/individual_wavelet_reordered_smooth_raw_s100tp_base_1000/regR_25.pkl\n",
      "Save to /data/rajlab1/user_data/jin/MyResearch/TV-SGM/notebooks/../mypkg/../data/individual_wavelet_reordered_smooth_raw_s100tp_base_1000/regR_roiwise_25.pkl\n"
     ]
    },
    {
     "name": "stderr",
     "output_type": "stream",
     "text": [
      " 75%|███████████████████████████████████████████████████████████████████████████████████████████████████████▌                                  | 27/36 [08:05<02:44, 18.29s/it]"
     ]
    },
    {
     "name": "stdout",
     "output_type": "stream",
     "text": [
      "Save to /data/rajlab1/user_data/jin/MyResearch/TV-SGM/notebooks/../mypkg/../data/individual_wavelet_reordered_smooth_raw_s100tp_base_1000/regR_26.pkl\n",
      "Save to /data/rajlab1/user_data/jin/MyResearch/TV-SGM/notebooks/../mypkg/../data/individual_wavelet_reordered_smooth_raw_s100tp_base_1000/regR_roiwise_26.pkl\n"
     ]
    },
    {
     "name": "stderr",
     "output_type": "stream",
     "text": [
      " 78%|███████████████████████████████████████████████████████████████████████████████████████████████████████████▎                              | 28/36 [08:23<02:26, 18.32s/it]"
     ]
    },
    {
     "name": "stdout",
     "output_type": "stream",
     "text": [
      "Save to /data/rajlab1/user_data/jin/MyResearch/TV-SGM/notebooks/../mypkg/../data/individual_wavelet_reordered_smooth_raw_s100tp_base_1000/regR_27.pkl\n",
      "Save to /data/rajlab1/user_data/jin/MyResearch/TV-SGM/notebooks/../mypkg/../data/individual_wavelet_reordered_smooth_raw_s100tp_base_1000/regR_roiwise_27.pkl\n"
     ]
    },
    {
     "name": "stderr",
     "output_type": "stream",
     "text": [
      " 81%|███████████████████████████████████████████████████████████████████████████████████████████████████████████████▏                          | 29/36 [08:42<02:08, 18.33s/it]"
     ]
    },
    {
     "name": "stdout",
     "output_type": "stream",
     "text": [
      "Save to /data/rajlab1/user_data/jin/MyResearch/TV-SGM/notebooks/../mypkg/../data/individual_wavelet_reordered_smooth_raw_s100tp_base_1000/regR_28.pkl\n",
      "Save to /data/rajlab1/user_data/jin/MyResearch/TV-SGM/notebooks/../mypkg/../data/individual_wavelet_reordered_smooth_raw_s100tp_base_1000/regR_roiwise_28.pkl\n"
     ]
    },
    {
     "name": "stderr",
     "output_type": "stream",
     "text": [
      " 83%|███████████████████████████████████████████████████████████████████████████████████████████████████████████████████                       | 30/36 [09:00<01:50, 18.36s/it]"
     ]
    },
    {
     "name": "stdout",
     "output_type": "stream",
     "text": [
      "Save to /data/rajlab1/user_data/jin/MyResearch/TV-SGM/notebooks/../mypkg/../data/individual_wavelet_reordered_smooth_raw_s100tp_base_1000/regR_29.pkl\n",
      "Save to /data/rajlab1/user_data/jin/MyResearch/TV-SGM/notebooks/../mypkg/../data/individual_wavelet_reordered_smooth_raw_s100tp_base_1000/regR_roiwise_29.pkl\n"
     ]
    },
    {
     "name": "stderr",
     "output_type": "stream",
     "text": [
      " 86%|██████████████████████████████████████████████████████████████████████████████████████████████████████████████████████▊                   | 31/36 [09:19<01:31, 18.37s/it]"
     ]
    },
    {
     "name": "stdout",
     "output_type": "stream",
     "text": [
      "Save to /data/rajlab1/user_data/jin/MyResearch/TV-SGM/notebooks/../mypkg/../data/individual_wavelet_reordered_smooth_raw_s100tp_base_1000/regR_30.pkl\n",
      "Save to /data/rajlab1/user_data/jin/MyResearch/TV-SGM/notebooks/../mypkg/../data/individual_wavelet_reordered_smooth_raw_s100tp_base_1000/regR_roiwise_30.pkl\n"
     ]
    },
    {
     "name": "stderr",
     "output_type": "stream",
     "text": [
      " 89%|██████████████████████████████████████████████████████████████████████████████████████████████████████████████████████████▋               | 32/36 [09:37<01:13, 18.38s/it]"
     ]
    },
    {
     "name": "stdout",
     "output_type": "stream",
     "text": [
      "Save to /data/rajlab1/user_data/jin/MyResearch/TV-SGM/notebooks/../mypkg/../data/individual_wavelet_reordered_smooth_raw_s100tp_base_1000/regR_31.pkl\n",
      "Save to /data/rajlab1/user_data/jin/MyResearch/TV-SGM/notebooks/../mypkg/../data/individual_wavelet_reordered_smooth_raw_s100tp_base_1000/regR_roiwise_31.pkl\n"
     ]
    },
    {
     "name": "stderr",
     "output_type": "stream",
     "text": [
      " 92%|██████████████████████████████████████████████████████████████████████████████████████████████████████████████████████████████▌           | 33/36 [09:55<00:55, 18.40s/it]"
     ]
    },
    {
     "name": "stdout",
     "output_type": "stream",
     "text": [
      "Save to /data/rajlab1/user_data/jin/MyResearch/TV-SGM/notebooks/../mypkg/../data/individual_wavelet_reordered_smooth_raw_s100tp_base_1000/regR_32.pkl\n",
      "Save to /data/rajlab1/user_data/jin/MyResearch/TV-SGM/notebooks/../mypkg/../data/individual_wavelet_reordered_smooth_raw_s100tp_base_1000/regR_roiwise_32.pkl\n"
     ]
    },
    {
     "name": "stderr",
     "output_type": "stream",
     "text": [
      " 94%|██████████████████████████████████████████████████████████████████████████████████████████████████████████████████████████████████▎       | 34/36 [10:14<00:36, 18.36s/it]"
     ]
    },
    {
     "name": "stdout",
     "output_type": "stream",
     "text": [
      "Save to /data/rajlab1/user_data/jin/MyResearch/TV-SGM/notebooks/../mypkg/../data/individual_wavelet_reordered_smooth_raw_s100tp_base_1000/regR_33.pkl\n",
      "Save to /data/rajlab1/user_data/jin/MyResearch/TV-SGM/notebooks/../mypkg/../data/individual_wavelet_reordered_smooth_raw_s100tp_base_1000/regR_roiwise_33.pkl\n"
     ]
    },
    {
     "name": "stderr",
     "output_type": "stream",
     "text": [
      " 97%|██████████████████████████████████████████████████████████████████████████████████████████████████████████████████████████████████████▏   | 35/36 [10:32<00:18, 18.33s/it]"
     ]
    },
    {
     "name": "stdout",
     "output_type": "stream",
     "text": [
      "Save to /data/rajlab1/user_data/jin/MyResearch/TV-SGM/notebooks/../mypkg/../data/individual_wavelet_reordered_smooth_raw_s100tp_base_1000/regR_34.pkl\n",
      "Save to /data/rajlab1/user_data/jin/MyResearch/TV-SGM/notebooks/../mypkg/../data/individual_wavelet_reordered_smooth_raw_s100tp_base_1000/regR_roiwise_34.pkl\n"
     ]
    },
    {
     "name": "stderr",
     "output_type": "stream",
     "text": [
      "100%|██████████████████████████████████████████████████████████████████████████████████████████████████████████████████████████████████████████| 36/36 [10:50<00:00, 18.08s/it]"
     ]
    },
    {
     "name": "stdout",
     "output_type": "stream",
     "text": [
      "Save to /data/rajlab1/user_data/jin/MyResearch/TV-SGM/notebooks/../mypkg/../data/individual_wavelet_reordered_smooth_raw_s100tp_base_1000/regR_35.pkl\n",
      "Save to /data/rajlab1/user_data/jin/MyResearch/TV-SGM/notebooks/../mypkg/../data/individual_wavelet_reordered_smooth_raw_s100tp_base_1000/regR_roiwise_35.pkl\n"
     ]
    },
    {
     "name": "stderr",
     "output_type": "stream",
     "text": [
      "\n"
     ]
    }
   ],
   "source": [
    "for sub_ix in trange(all_data_std.shape[0]):\n",
    "    cur_sub_corrs = []\n",
    "    cur_sub_corrs_roiwise = []\n",
    "    for time_ix in range(all_data_std.shape[1]):\n",
    "        cur_data = all_data_std[sub_ix, time_ix];\n",
    "        cur_data_rep = np.repeat(cur_data[np.newaxis], len(base_PSDs_dB_std), axis=0)\n",
    "        base_corrs_roiwise  = reg_R_fn(base_PSDs_dB_std, cur_data_rep)\n",
    "        base_corrs = reg_R_fn(base_PSDs_dB_std.mean(axis=1), \n",
    "                              cur_data_rep.mean(axis=1))\n",
    "        cur_sub_corrs_roiwise.append(_all2stat_fn(base_corrs_roiwise))\n",
    "        cur_sub_corrs.append(_all2stat_fn(base_corrs))\n",
    "        \n",
    "    save_pkl(target_path/f\"regR_{sub_ix}.pkl\", cur_sub_corrs)\n",
    "    save_pkl(target_path/f\"regR_roiwise_{sub_ix}.pkl\", cur_sub_corrs_roiwise)"
   ]
  },
  {
   "cell_type": "markdown",
   "id": "a9d46fbc-8867-4ba3-9344-00c585972f28",
   "metadata": {},
   "source": [
    "## linR"
   ]
  },
  {
   "cell_type": "code",
   "execution_count": null,
   "id": "2a8497fd-15f4-4d77-a998-78365bf2b69e",
   "metadata": {
    "execution": {
     "iopub.execute_input": "2023-05-24T00:12:04.440743Z",
     "iopub.status.busy": "2023-05-24T00:12:04.439998Z"
    },
    "scrolled": true,
    "tags": []
   },
   "outputs": [
    {
     "name": "stderr",
     "output_type": "stream",
     "text": [
      "  0%|                                                                                                                                                   | 0/36 [00:00<?, ?it/s]"
     ]
    }
   ],
   "source": [
    "for sub_ix in trange(all_data_std.shape[0]):\n",
    "    cur_sub_corrs = []\n",
    "    cur_sub_corrs_roiwise = []\n",
    "    for time_ix in range(all_data_std.shape[1]):\n",
    "        cur_data = all_data_std[sub_ix, time_ix];\n",
    "        cur_data_rep = np.repeat(cur_data[np.newaxis], len(base_PSDs_dB_std), axis=0)\n",
    "        base_corrs_roiwise  = lin_R_fn(base_PSDs_dB_std, cur_data_rep)\n",
    "        base_corrs = lin_R_fn(base_PSDs_dB_std.mean(axis=1), \n",
    "                              cur_data_rep.mean(axis=1))\n",
    "        cur_sub_corrs_roiwise.append(_all2stat_fn(base_corrs_roiwise))\n",
    "        cur_sub_corrs.append(_all2stat_fn(base_corrs))\n",
    "        \n",
    "    save_pkl(target_path/f\"linR_{sub_ix}.pkl\", cur_sub_corrs)\n",
    "    save_pkl(target_path/f\"linR_roiwise_{sub_ix}.pkl\", cur_sub_corrs_roiwise)"
   ]
  },
  {
   "cell_type": "code",
   "execution_count": null,
   "id": "cd4e099d-00ca-4af1-a11f-7a9a6b914d17",
   "metadata": {},
   "outputs": [],
   "source": []
  }
 ],
 "metadata": {
  "kernelspec": {
   "display_name": "Python 3 (ipykernel)",
   "language": "python",
   "name": "python3"
  },
  "language_info": {
   "codemirror_mode": {
    "name": "ipython",
    "version": 3
   },
   "file_extension": ".py",
   "mimetype": "text/x-python",
   "name": "python",
   "nbconvert_exporter": "python",
   "pygments_lexer": "ipython3",
   "version": "3.9.7"
  },
  "toc": {
   "base_numbering": 1,
   "nav_menu": {},
   "number_sections": true,
   "sideBar": true,
   "skip_h1_title": false,
   "title_cell": "Table of Contents",
   "title_sidebar": "Contents",
   "toc_cell": false,
   "toc_position": {
    "height": "calc(100% - 180px)",
    "left": "10px",
    "top": "150px",
    "width": "165px"
   },
   "toc_section_display": true,
   "toc_window_display": true
  },
  "toc-autonumbering": true,
  "toc-showcode": false
 },
 "nbformat": 4,
 "nbformat_minor": 5
}
