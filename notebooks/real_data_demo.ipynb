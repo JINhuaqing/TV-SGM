{
 "cells": [
  {
   "cell_type": "markdown",
   "id": "cadabb59",
   "metadata": {},
   "source": [
    "Here, I test whether my LSTM net works or not to estimate SGM parameters \n",
    "\n",
    "Now I run the real data from Parul (Apr 2, 2023)\n",
    "\n",
    "Convert to dB Scale"
   ]
  },
  {
   "cell_type": "code",
   "execution_count": 1,
   "id": "77566fcf-6190-41eb-8168-972aeea4fcad",
   "metadata": {
    "execution": {
     "iopub.execute_input": "2023-05-09T20:20:57.501501Z",
     "iopub.status.busy": "2023-05-09T20:20:57.500885Z",
     "iopub.status.idle": "2023-05-09T20:20:57.523112Z",
     "shell.execute_reply": "2023-05-09T20:20:57.521527Z",
     "shell.execute_reply.started": "2023-05-09T20:20:57.501456Z"
    },
    "tags": []
   },
   "outputs": [
    {
     "data": {
      "text/plain": [
       "False"
      ]
     },
     "execution_count": 1,
     "metadata": {},
     "output_type": "execute_result"
    }
   ],
   "source": [
    "RUN_PYTHON_SCRIPT = False"
   ]
  },
  {
   "cell_type": "code",
   "execution_count": 2,
   "id": "ba9942dd",
   "metadata": {
    "ExecuteTime": {
     "end_time": "2023-04-04T17:37:57.771920Z",
     "start_time": "2023-04-04T17:37:56.085736Z"
    },
    "execution": {
     "iopub.execute_input": "2023-05-09T20:20:57.524976Z",
     "iopub.status.busy": "2023-05-09T20:20:57.524364Z",
     "iopub.status.idle": "2023-05-09T20:20:57.895186Z",
     "shell.execute_reply": "2023-05-09T20:20:57.894108Z",
     "shell.execute_reply.started": "2023-05-09T20:20:57.524930Z"
    },
    "tags": []
   },
   "outputs": [],
   "source": [
    "import sys\n",
    "sys.path.append(\"../mypkg\")\n",
    "from constants import RES_ROOT, FIG_ROOT, DATA_ROOT"
   ]
  },
  {
   "cell_type": "code",
   "execution_count": 3,
   "id": "ad09a305",
   "metadata": {
    "ExecuteTime": {
     "end_time": "2023-04-04T17:38:03.434191Z",
     "start_time": "2023-04-04T17:37:58.883670Z"
    },
    "execution": {
     "iopub.execute_input": "2023-05-09T20:20:57.897658Z",
     "iopub.status.busy": "2023-05-09T20:20:57.897194Z",
     "iopub.status.idle": "2023-05-09T20:20:58.918325Z",
     "shell.execute_reply": "2023-05-09T20:20:58.917219Z",
     "shell.execute_reply.started": "2023-05-09T20:20:57.897625Z"
    },
    "tags": []
   },
   "outputs": [],
   "source": [
    "import numpy as np\n",
    "import scipy\n",
    "import matplotlib.pyplot as plt\n",
    "import seaborn as sns\n",
    "from easydict import EasyDict as edict\n",
    "from tqdm import trange, tqdm\n",
    "import time\n",
    "\n",
    "plt.style.use(FIG_ROOT/\"base.mplstyle\")"
   ]
  },
  {
   "cell_type": "code",
   "execution_count": 4,
   "id": "75fd7795",
   "metadata": {
    "ExecuteTime": {
     "end_time": "2023-04-04T17:38:12.476128Z",
     "start_time": "2023-04-04T17:38:04.142458Z"
    },
    "execution": {
     "iopub.execute_input": "2023-05-09T20:20:58.920859Z",
     "iopub.status.busy": "2023-05-09T20:20:58.920129Z",
     "iopub.status.idle": "2023-05-09T20:21:00.391310Z",
     "shell.execute_reply": "2023-05-09T20:21:00.390762Z",
     "shell.execute_reply.started": "2023-05-09T20:20:58.920816Z"
    },
    "tags": []
   },
   "outputs": [
    {
     "data": {
      "text/plain": [
       "<module 'models.lstm' from '/data/rajlab1/user_data/jin/MyResearch/TV-SGM/notebooks/../mypkg/models/lstm.py'>"
      ]
     },
     "execution_count": 4,
     "metadata": {},
     "output_type": "execute_result"
    }
   ],
   "source": [
    "import importlib\n",
    "import models.lstm\n",
    "importlib.reload(models.lstm)"
   ]
  },
  {
   "cell_type": "code",
   "execution_count": 5,
   "id": "0924abca",
   "metadata": {
    "ExecuteTime": {
     "end_time": "2023-04-04T17:38:12.656580Z",
     "start_time": "2023-04-04T17:38:12.479288Z"
    },
    "execution": {
     "iopub.execute_input": "2023-05-09T20:21:00.392712Z",
     "iopub.status.busy": "2023-05-09T20:21:00.392318Z",
     "iopub.status.idle": "2023-05-09T20:21:00.428692Z",
     "shell.execute_reply": "2023-05-09T20:21:00.427717Z",
     "shell.execute_reply.started": "2023-05-09T20:21:00.392693Z"
    },
    "tags": []
   },
   "outputs": [],
   "source": [
    "from utils.reparam import theta2raw_torch, raw2theta_torch, raw2theta_np\n",
    "from spectrome import Brain\n",
    "from sgm.sgm import SGM\n",
    "from utils.stable import paras_stable_check\n",
    "from utils.misc import save_pkl, save_pkl_dict2folder, load_pkl, load_pkl_folder2dict, delta_time\n",
    "from models.lstm import LSTM_SGM\n",
    "from models.loss import  weighted_mse_loss, reg_R_loss, lin_R_loss, lin_R_fn, reg_R_fn\n",
    "from utils.standardize import std_mat, std_vec"
   ]
  },
  {
   "cell_type": "code",
   "execution_count": 6,
   "id": "318c4ef4",
   "metadata": {
    "ExecuteTime": {
     "end_time": "2023-04-04T17:38:12.665771Z",
     "start_time": "2023-04-04T17:38:12.659314Z"
    },
    "execution": {
     "iopub.execute_input": "2023-05-09T20:21:00.430787Z",
     "iopub.status.busy": "2023-05-09T20:21:00.430117Z",
     "iopub.status.idle": "2023-05-09T20:21:00.438211Z",
     "shell.execute_reply": "2023-05-09T20:21:00.437103Z",
     "shell.execute_reply.started": "2023-05-09T20:21:00.430747Z"
    },
    "tags": []
   },
   "outputs": [],
   "source": [
    "# pkgs for pytorch ( Mar 27, 2023) \n",
    "import torch\n",
    "import torch.nn as nn\n",
    "from torch.functional import F\n",
    "from torch.optim.lr_scheduler import ExponentialLR\n",
    "\n",
    "torch.set_default_dtype(torch.float64)\n",
    "if torch.cuda.is_available():\n",
    "    torch.cuda.set_device(2)\n",
    "    torch.set_default_tensor_type(torch.cuda.DoubleTensor)\n",
    "    torch.backends.cudnn.benchmark = True\n",
    "else:\n",
    "    torch.set_default_tensor_type(torch.DoubleTensor)"
   ]
  },
  {
   "cell_type": "code",
   "execution_count": null,
   "id": "c42cd127-34b0-4132-a0a3-efa7f5c514cf",
   "metadata": {},
   "outputs": [],
   "source": []
  },
  {
   "cell_type": "markdown",
   "id": "6d7a4da6",
   "metadata": {},
   "source": [
    "# Data, fn and paras"
   ]
  },
  {
   "cell_type": "code",
   "execution_count": 26,
   "id": "521836de",
   "metadata": {
    "ExecuteTime": {
     "end_time": "2023-04-04T17:38:17.218490Z",
     "start_time": "2023-04-04T17:38:13.493691Z"
    },
    "execution": {
     "iopub.execute_input": "2023-05-09T20:28:24.646679Z",
     "iopub.status.busy": "2023-05-09T20:28:24.646034Z",
     "iopub.status.idle": "2023-05-09T20:28:28.740996Z",
     "shell.execute_reply": "2023-05-09T20:28:28.740493Z",
     "shell.execute_reply.started": "2023-05-09T20:28:24.646635Z"
    },
    "tags": []
   },
   "outputs": [],
   "source": [
    "import netCDF4\n",
    "fils = list(DATA_ROOT.glob(\"*s100tp.nc\")) # 300/150\n",
    "file2read = netCDF4.Dataset(fils[0], 'r')\n",
    "psd_all_full = np.array(file2read.variables[\"__xarray_dataarray_variable__\"][:])\n",
    "psd_all_full = 10 * np.log10(psd_all_full) # to dB scale\n",
    "time_points = np.array(file2read.variables[\"timepoints\"][:])\n",
    "freqs = np.array(file2read.variables[\"frequencies\"][:])\n",
    "ROIs_order = np.array(file2read.variables[\"regionx\"][:])\n",
    "file2read.close()"
   ]
  },
  {
   "cell_type": "code",
   "execution_count": 27,
   "id": "180f0d16",
   "metadata": {
    "ExecuteTime": {
     "end_time": "2023-04-04T17:38:18.614858Z",
     "start_time": "2023-04-04T17:38:18.509968Z"
    },
    "execution": {
     "iopub.execute_input": "2023-05-09T20:28:28.742506Z",
     "iopub.status.busy": "2023-05-09T20:28:28.742185Z",
     "iopub.status.idle": "2023-05-09T20:28:28.787999Z",
     "shell.execute_reply": "2023-05-09T20:28:28.786932Z",
     "shell.execute_reply.started": "2023-05-09T20:28:28.742489Z"
    },
    "tags": []
   },
   "outputs": [],
   "source": [
    "# Load the Connectome\n",
    "brain = Brain.Brain()\n",
    "brain.add_connectome(DATA_ROOT)\n",
    "brain.reorder_connectome(brain.connectome, brain.distance_matrix)\n",
    "brain.bi_symmetric_c()\n",
    "brain.reduce_extreme_dir()"
   ]
  },
  {
   "cell_type": "code",
   "execution_count": 28,
   "id": "f85a7c05",
   "metadata": {
    "ExecuteTime": {
     "end_time": "2023-04-04T17:38:22.084241Z",
     "start_time": "2023-04-04T17:38:22.076317Z"
    },
    "execution": {
     "iopub.execute_input": "2023-05-09T20:28:28.790132Z",
     "iopub.status.busy": "2023-05-09T20:28:28.789387Z",
     "iopub.status.idle": "2023-05-09T20:28:28.798855Z",
     "shell.execute_reply": "2023-05-09T20:28:28.797887Z",
     "shell.execute_reply.started": "2023-05-09T20:28:28.790092Z"
    },
    "tags": []
   },
   "outputs": [],
   "source": [
    "# some constant parameters for this file\n",
    "paras = edict()\n",
    "\n",
    "## I reorder them in an alphabetical order and I change tauC to tauG (Mar 27, 2023)\n",
    "## the orginal order is taue, taui, tauC, speed, alpha, gii, gei\n",
    "## paras.par_low = np.asarray([0.005,0.005,0.005,5, 0.1,0.001,0.001])\n",
    "## paras.par_high = np.asarray([0.03, 0.20, 0.03,20,  1,    2,  0.7])\n",
    "##\n",
    "\n",
    "# alpha, gei, gii, taue, tauG, taui, speed \n",
    "paras.par_low = np.array([0.1, 0.001,0.001, 0.005, 0.005, 0.005, 5])\n",
    "paras.par_high = np.asarray([1, 0.7, 2, 0.03, 0.03, 0.20, 20])\n",
    "paras.prior_bds = np.array([paras.par_low, paras.par_high]).T\n",
    "paras.names = [\"alpha\", \"gei\", \"gii\", \"Taue\", \"TauG\", \"Taui\", \"Speed\"]\n",
    "\n",
    "paras.C = brain.reducedConnectome\n",
    "paras.D = brain.distance_matrix\n",
    "paras.freqs = freqs"
   ]
  },
  {
   "cell_type": "code",
   "execution_count": null,
   "id": "1296b9e0",
   "metadata": {},
   "outputs": [],
   "source": []
  },
  {
   "cell_type": "markdown",
   "id": "65ce16ba",
   "metadata": {},
   "source": [
    "# Train the model"
   ]
  },
  {
   "cell_type": "code",
   "execution_count": 29,
   "id": "b49a3544-8248-45e0-b006-4464dbaaf09f",
   "metadata": {
    "ExecuteTime": {
     "end_time": "2023-04-04T17:38:36.267294Z",
     "start_time": "2023-04-04T17:38:35.514912Z"
    },
    "execution": {
     "iopub.execute_input": "2023-05-09T20:28:28.801508Z",
     "iopub.status.busy": "2023-05-09T20:28:28.800750Z",
     "iopub.status.idle": "2023-05-09T20:28:29.564890Z",
     "shell.execute_reply": "2023-05-09T20:28:29.563774Z",
     "shell.execute_reply.started": "2023-05-09T20:28:28.801447Z"
    },
    "tags": []
   },
   "outputs": [
    {
     "name": "stdout",
     "output_type": "stream",
     "text": [
      "Load file /data/rajlab1/user_data/jin/MyResearch/TV-SGM/notebooks/../mypkg/../results/SGM_net_large/freqs.pkl\n",
      "Load file /data/rajlab1/user_data/jin/MyResearch/TV-SGM/notebooks/../mypkg/../results/SGM_net_large/loss.pkl\n",
      "Load file /data/rajlab1/user_data/jin/MyResearch/TV-SGM/notebooks/../mypkg/../results/SGM_net_large/loss_test.pkl\n",
      "Load file /data/rajlab1/user_data/jin/MyResearch/TV-SGM/notebooks/../mypkg/../results/SGM_net_large/model.pkl\n",
      "Load file /data/rajlab1/user_data/jin/MyResearch/TV-SGM/notebooks/../mypkg/../results/SGM_net_large/paras.pkl\n"
     ]
    }
   ],
   "source": [
    "trained_model = load_pkl_folder2dict(RES_ROOT/\"SGM_net_large\", excluding=['opt*'])\n",
    "sgm_net = trained_model.model;\n",
    "sgm_net.eval();"
   ]
  },
  {
   "cell_type": "code",
   "execution_count": 30,
   "id": "6fe17f7e-27c4-46fb-8c28-37e34b229746",
   "metadata": {
    "execution": {
     "iopub.execute_input": "2023-05-09T20:28:31.390933Z",
     "iopub.status.busy": "2023-05-09T20:28:31.390296Z",
     "iopub.status.idle": "2023-05-09T20:28:32.305855Z",
     "shell.execute_reply": "2023-05-09T20:28:32.305281Z",
     "shell.execute_reply.started": "2023-05-09T20:28:31.390887Z"
    },
    "tags": []
   },
   "outputs": [
    {
     "data": {
      "image/png": "[encoded data removed]",
      "text/plain": [
       "<Figure size 1000x500 with 1 Axes>"
      ]
     },
     "metadata": {
      "needs_background": "light"
     },
     "output_type": "display_data"
    }
   ],
   "source": [
    "if not RUN_PYTHON_SCRIPT:\n",
    "    plt.plot(np.array(trained_model.loss)/10)\n",
    "    plt.plot(trained_model.loss_test)\n",
    "    #plt.xticks(np.arange(0, 120, 14));\n",
    "    plt.yscale(\"log\")"
   ]
  },
  {
   "cell_type": "code",
   "execution_count": 31,
   "id": "d507dc44",
   "metadata": {
    "ExecuteTime": {
     "end_time": "2023-04-04T17:38:47.060338Z",
     "start_time": "2023-04-04T17:38:46.969000Z"
    },
    "code_folding": [],
    "execution": {
     "iopub.execute_input": "2023-05-09T20:28:40.062909Z",
     "iopub.status.busy": "2023-05-09T20:28:40.062144Z",
     "iopub.status.idle": "2023-05-09T20:28:40.080747Z",
     "shell.execute_reply": "2023-05-09T20:28:40.079650Z",
     "shell.execute_reply.started": "2023-05-09T20:28:40.062865Z"
    },
    "tags": []
   },
   "outputs": [],
   "source": [
    "# functions to generate training sample (Apr 1, 2023)\n",
    "def random_choice(n, batchsize=1, len_seg=None):\n",
    "    \"\"\"Randomly select the lower and upper bound of the segment\n",
    "        args:\n",
    "            n: len of the total time series\n",
    "    \"\"\"\n",
    "    if len_seg is None:\n",
    "        len_seg = torch.randint(low=10, high=100, size=(1, ))\n",
    "    up_bd = torch.randint(low=len_seg.item(), high=n, size=(batchsize, ))\n",
    "    low_bd = up_bd - len_seg\n",
    "    return low_bd, up_bd\n",
    "\n",
    "\n",
    "def random_samples_rnn(X, Y=None, batchsize=1, \n",
    "                       bds=None, \n",
    "                       is_std=True, \n",
    "                       theta2raw_fn=None):\n",
    "    \"\"\"Randomly select a sample from the whole segment\n",
    "        args:\n",
    "            X: PSD, num_seq x 68 x nfreq or \n",
    "               PSD, num_sub x num_seq x 68 x nfreq\n",
    "            Y: params, num x 7, in original sgm scale\n",
    "        return:\n",
    "            X_seqs: len_seq x batchsize x num_fs\n",
    "            Y_seqs: len_seq x batchsize x 7\n",
    "            \n",
    "    \"\"\"\n",
    "    if X.ndim == 4:\n",
    "        # if multiple subjects, pick up a subject\n",
    "        num_sub = X.shape[0]\n",
    "        sub_idx = np.random.randint(low=0, high=num_sub)\n",
    "        X = X[sub_idx]\n",
    "        \n",
    "    if not isinstance(X, torch.Tensor):\n",
    "        X = torch.tensor(X)\n",
    "    if is_std:\n",
    "        #X = X/X.std(axis=(1, 2), keepdims=True)\n",
    "        # Let std for each ROI and each data\n",
    "        X = (X-X.mean(axis=2, keepdims=True))/X.std(axis=2, keepdims=True)\n",
    "    if Y is not None:\n",
    "        if not isinstance(Y, torch.Tensor):\n",
    "            Y = torch.tensor(Y)\n",
    "        if theta2raw_fn: \n",
    "            Y = theta2raw_fn(Y)\n",
    "    if bds is None:\n",
    "        low_bds, up_bds = random_choice(len(X), batchsize)\n",
    "    else:\n",
    "        low_bds, up_bds = bds\n",
    "\n",
    "    X = X.flatten(1)\n",
    "    X_seqs = []\n",
    "    Y_seqs = []\n",
    "    for low_bd, up_bd in zip(low_bds, up_bds):\n",
    "        X_seq = X[low_bd:up_bd, :].unsqueeze(1)\n",
    "        X_seqs.append(X_seq)\n",
    "        if Y is not None:\n",
    "            Y_seq = Y[low_bd:up_bd].unsqueeze(1)\n",
    "            Y_seqs.append(Y_seq)\n",
    "    if Y is not None:\n",
    "        return torch.cat(X_seqs, dim=1), torch.cat(Y_seqs, dim=1)\n",
    "    else:\n",
    "        return torch.cat(X_seqs, dim=1)\n",
    "        "
   ]
  },
  {
   "cell_type": "code",
   "execution_count": 32,
   "id": "2db4078d-5415-4185-9076-db8bdcff80db",
   "metadata": {
    "execution": {
     "iopub.execute_input": "2023-05-09T20:28:40.530174Z",
     "iopub.status.busy": "2023-05-09T20:28:40.529554Z",
     "iopub.status.idle": "2023-05-09T20:28:40.540580Z",
     "shell.execute_reply": "2023-05-09T20:28:40.539064Z",
     "shell.execute_reply.started": "2023-05-09T20:28:40.530119Z"
    },
    "tags": []
   },
   "outputs": [],
   "source": [
    "def evaluate(all_data):\n",
    "    num_sub, len_seq, _, _ = all_data.shape\n",
    "    all_data_raw = torch.tensor(all_data).transpose(1, 0)\n",
    "    all_data_input = (all_data_raw - all_data_raw.mean(axis=-1, keepdims=True))/all_data_raw.std(axis=-1, keepdims=True);\n",
    "    all_data_input = all_data_input.flatten(2);\n",
    "    \n",
    "    Y_pred = rnn(all_data_input);\n",
    "    X_pred = sgm_net(Y_pred.flatten(0, 1));\n",
    "    corrs = reg_R_fn(all_data_raw.flatten(0, 1), X_pred);\n",
    "    corrs = corrs.reshape(len_seq, num_sub, -1).transpose(1, 0)\n",
    "    return corrs.detach().numpy()"
   ]
  },
  {
   "cell_type": "code",
   "execution_count": 33,
   "id": "ace453aa",
   "metadata": {
    "ExecuteTime": {
     "end_time": "2023-04-04T19:25:30.343060Z",
     "start_time": "2023-04-04T19:25:30.335835Z"
    },
    "execution": {
     "iopub.execute_input": "2023-05-09T20:28:41.117381Z",
     "iopub.status.busy": "2023-05-09T20:28:41.116692Z",
     "iopub.status.idle": "2023-05-09T20:28:41.825778Z",
     "shell.execute_reply": "2023-05-09T20:28:41.825095Z",
     "shell.execute_reply.started": "2023-05-09T20:28:41.117338Z"
    },
    "tags": []
   },
   "outputs": [],
   "source": [
    "paras_rnn = edict()\n",
    "paras_rnn.batchsize = 128\n",
    "paras_rnn.niter = 500\n",
    "paras_rnn.loss_out = 5\n",
    "paras_rnn.eval_out = 20\n",
    "paras_rnn.clip = 1 # from \n",
    "paras_rnn.lr_step = 10\n",
    "\n",
    "paras_rnn.k = 1\n",
    "paras_rnn.hidden_dim = int(1024/1)\n",
    "paras_rnn.output_dim = 7\n",
    "paras_rnn.input_dim = 68*len(paras.freqs)\n",
    "paras_rnn.is_bidirectional = False\n",
    "paras_rnn.unstable_pen = 10000 # Whether to filter out the unstable sps or not, if 0 not, if large number, yes\n",
    "paras_rnn.loss_name = \"corr\" # linR, corr, wmse or mse\n",
    "#paras.names = [\"alpha\", \"gei\", \"gii\", \"Taue\", \"TauG\", \"Taui\", \"Speed\"]\n",
    "# 1 dynamic, 0 static\n",
    "paras_rnn.dy_mask = [0, 0, 0, 0, 0, 0, 0] \n",
    "\n",
    "# delete a sig outlier\n",
    "psd_all = psd_all_full\n",
    "#psd_all = np.delete(psd_all_full, 24, axis=-1)\n",
    "#  real data, should be len_seq x nrois x nfreqs\n",
    "data_idx = 0\n",
    "cur_data = psd_all[:, :, :, 1].transpose(2, 0, 1)\n",
    "#  real data, should be num_sub x len_seq x nrois x nfreqs\n",
    "all_data = psd_all.transpose(3, 2, 0, 1);\n",
    "\n",
    "all_data_raw = torch.tensor(all_data).transpose(1, 0)\n",
    "all_data_input = (all_data_raw - all_data_raw.mean(axis=-1, keepdims=True))/all_data_raw.std(axis=-1, keepdims=True);\n",
    "all_data_input = all_data_input.flatten(2);"
   ]
  },
  {
   "cell_type": "code",
   "execution_count": 34,
   "id": "2b8b59c2",
   "metadata": {
    "ExecuteTime": {
     "end_time": "2023-04-04T20:27:57.475018Z",
     "start_time": "2023-04-04T20:27:57.334374Z"
    },
    "execution": {
     "iopub.execute_input": "2023-05-09T20:28:41.878137Z",
     "iopub.status.busy": "2023-05-09T20:28:41.877825Z",
     "iopub.status.idle": "2023-05-09T20:28:42.147087Z",
     "shell.execute_reply": "2023-05-09T20:28:42.146194Z",
     "shell.execute_reply.started": "2023-05-09T20:28:41.878118Z"
    },
    "tags": []
   },
   "outputs": [
    {
     "name": "stdout",
     "output_type": "stream",
     "text": [
      "Adjusting learning rate of group 0 to 2.0000e-04.\n"
     ]
    },
    {
     "data": {
      "text/plain": [
       "<torch.optim.lr_scheduler.ExponentialLR at 0x7fe195672cd0>"
      ]
     },
     "execution_count": 34,
     "metadata": {},
     "output_type": "execute_result"
    }
   ],
   "source": [
    "rnn = LSTM_SGM(input_dim=paras_rnn.input_dim, \n",
    "               hidden_dim=paras_rnn.hidden_dim, \n",
    "               output_dim=paras_rnn.output_dim, \n",
    "               is_bidirectional=paras_rnn.is_bidirectional, \n",
    "               prior_bds=torch.tensor(paras.prior_bds), \n",
    "               k = paras_rnn.k, \n",
    "               dy_mask = paras_rnn.dy_mask\n",
    ")\n",
    "if paras_rnn.loss_name.startswith(\"corr\"):\n",
    "    loss_fn = reg_R_loss\n",
    "elif paras_rnn.loss_name.startswith(\"linR\"):\n",
    "    loss_fn = lin_R_loss\n",
    "elif paras_rnn.loss_name.startswith(\"wmse\"):\n",
    "    loss_fn = weighted_mse_loss\n",
    "elif paras_rnn.loss_name.startswith(\"mse\"):\n",
    "    loss_fn = nn.MSELoss()\n",
    "else:\n",
    "    raise KeyError(\"No such loss\")\n",
    "\n",
    "optimizer = torch.optim.AdamW(rnn.parameters(), lr=2e-4, weight_decay=0)\n",
    "scheduler = ExponentialLR(optimizer, gamma=0.9, verbose=True)"
   ]
  },
  {
   "cell_type": "code",
   "execution_count": 23,
   "id": "16653792",
   "metadata": {
    "ExecuteTime": {
     "end_time": "2023-04-04T20:39:31.112388Z",
     "start_time": "2023-04-04T20:27:58.069870Z"
    },
    "execution": {
     "iopub.execute_input": "2023-05-09T17:49:37.935234Z",
     "iopub.status.busy": "2023-05-09T17:49:37.934600Z",
     "iopub.status.idle": "2023-05-09T18:50:11.508443Z",
     "shell.execute_reply": "2023-05-09T18:50:11.493413Z",
     "shell.execute_reply.started": "2023-05-09T17:49:37.935188Z"
    },
    "scrolled": true,
    "tags": []
   },
   "outputs": [
    {
     "name": "stdout",
     "output_type": "stream",
     "text": [
      "At iter 5/500, the losses are -0.80260 (train). The time used is 40.114s. \n",
      "Adjusting learning rate of group 0 to 1.8000e-04.\n",
      "At iter 10/500, the losses are -0.82354 (train). The time used is 34.317s. \n",
      "At iter 15/500, the losses are -0.82914 (train). The time used is 33.414s. \n",
      "Adjusting learning rate of group 0 to 1.6200e-04.\n",
      "At iter 20/500, the losses are -0.83048 (train). The time used is 32.845s. \n",
      "====================================================================================================\n",
      "At iter 20/500, the losses on all data are 0.83066. The time used is 1.975s. \n",
      "====================================================================================================\n",
      "At iter 25/500, the losses are -0.83122 (train). The time used is 35.026s. \n",
      "Adjusting learning rate of group 0 to 1.4580e-04.\n",
      "At iter 30/500, the losses are -0.83201 (train). The time used is 34.494s. \n",
      "At iter 35/500, the losses are -0.83233 (train). The time used is 35.129s. \n",
      "Adjusting learning rate of group 0 to 1.3122e-04.\n",
      "At iter 40/500, the losses are -0.83254 (train). The time used is 34.393s. \n",
      "====================================================================================================\n",
      "At iter 40/500, the losses on all data are 0.83265. The time used is 2.403s. \n",
      "====================================================================================================\n",
      "At iter 45/500, the losses are -0.83269 (train). The time used is 36.646s. \n",
      "Adjusting learning rate of group 0 to 1.1810e-04.\n",
      "At iter 50/500, the losses are -0.83287 (train). The time used is 34.916s. \n",
      "At iter 55/500, the losses are -0.83300 (train). The time used is 36.104s. \n",
      "Adjusting learning rate of group 0 to 1.0629e-04.\n",
      "At iter 60/500, the losses are -0.83314 (train). The time used is 33.734s. \n",
      "====================================================================================================\n",
      "At iter 60/500, the losses on all data are 0.83323. The time used is 2.351s. \n",
      "====================================================================================================\n",
      "At iter 65/500, the losses are -0.83328 (train). The time used is 33.749s. \n",
      "Adjusting learning rate of group 0 to 9.5659e-05.\n",
      "At iter 70/500, the losses are -0.83339 (train). The time used is 32.163s. \n",
      "At iter 75/500, the losses are -0.83350 (train). The time used is 33.852s. \n",
      "Adjusting learning rate of group 0 to 8.6093e-05.\n",
      "At iter 80/500, the losses are -0.83360 (train). The time used is 35.047s. \n",
      "====================================================================================================\n",
      "At iter 80/500, the losses on all data are 0.83366. The time used is 2.403s. \n",
      "====================================================================================================\n",
      "At iter 85/500, the losses are -0.83370 (train). The time used is 36.435s. \n",
      "Adjusting learning rate of group 0 to 7.7484e-05.\n",
      "At iter 90/500, the losses are -0.83379 (train). The time used is 36.213s. \n",
      "At iter 95/500, the losses are -0.83387 (train). The time used is 35.476s. \n",
      "Adjusting learning rate of group 0 to 6.9736e-05.\n",
      "At iter 100/500, the losses are -0.83394 (train). The time used is 37.138s. \n",
      "====================================================================================================\n",
      "At iter 100/500, the losses on all data are 0.83398. The time used is 2.361s. \n",
      "====================================================================================================\n",
      "At iter 105/500, the losses are -0.83400 (train). The time used is 35.454s. \n",
      "Adjusting learning rate of group 0 to 6.2762e-05.\n",
      "At iter 110/500, the losses are -0.83405 (train). The time used is 35.029s. \n",
      "At iter 115/500, the losses are -0.83410 (train). The time used is 34.061s. \n",
      "Adjusting learning rate of group 0 to 5.6486e-05.\n",
      "At iter 120/500, the losses are -0.83415 (train). The time used is 36.290s. \n",
      "====================================================================================================\n",
      "At iter 120/500, the losses on all data are 0.83417. The time used is 2.385s. \n",
      "====================================================================================================\n",
      "At iter 125/500, the losses are -0.83419 (train). The time used is 34.956s. \n",
      "Adjusting learning rate of group 0 to 5.0837e-05.\n",
      "At iter 130/500, the losses are -0.83423 (train). The time used is 36.863s. \n",
      "At iter 135/500, the losses are -0.83427 (train). The time used is 31.716s. \n",
      "Adjusting learning rate of group 0 to 4.5754e-05.\n",
      "At iter 140/500, the losses are -0.83430 (train). The time used is 35.121s. \n",
      "====================================================================================================\n",
      "At iter 140/500, the losses on all data are 0.83432. The time used is 2.460s. \n",
      "====================================================================================================\n",
      "At iter 145/500, the losses are -0.83434 (train). The time used is 37.694s. \n",
      "Adjusting learning rate of group 0 to 4.1178e-05.\n",
      "At iter 150/500, the losses are -0.83437 (train). The time used is 32.765s. \n",
      "At iter 155/500, the losses are -0.83439 (train). The time used is 36.853s. \n",
      "Adjusting learning rate of group 0 to 3.7060e-05.\n",
      "At iter 160/500, the losses are -0.83442 (train). The time used is 36.787s. \n",
      "====================================================================================================\n",
      "At iter 160/500, the losses on all data are 0.83444. The time used is 2.451s. \n",
      "====================================================================================================\n",
      "At iter 165/500, the losses are -0.83445 (train). The time used is 35.363s. \n",
      "Adjusting learning rate of group 0 to 3.3354e-05.\n",
      "At iter 170/500, the losses are -0.83447 (train). The time used is 35.276s. \n",
      "At iter 175/500, the losses are -0.83449 (train). The time used is 36.170s. \n",
      "Adjusting learning rate of group 0 to 3.0019e-05.\n",
      "At iter 180/500, the losses are -0.83451 (train). The time used is 35.662s. \n",
      "====================================================================================================\n",
      "At iter 180/500, the losses on all data are 0.83452. The time used is 2.437s. \n",
      "====================================================================================================\n",
      "At iter 185/500, the losses are -0.83453 (train). The time used is 34.162s. \n",
      "Adjusting learning rate of group 0 to 2.7017e-05.\n",
      "At iter 190/500, the losses are -0.83456 (train). The time used is 32.722s. \n",
      "At iter 195/500, the losses are -0.83459 (train). The time used is 34.840s. \n",
      "Adjusting learning rate of group 0 to 2.4315e-05.\n",
      "At iter 200/500, the losses are -0.83461 (train). The time used is 32.854s. \n",
      "====================================================================================================\n",
      "At iter 200/500, the losses on all data are 0.83463. The time used is 1.783s. \n",
      "====================================================================================================\n",
      "At iter 205/500, the losses are -0.83464 (train). The time used is 36.304s. \n",
      "Adjusting learning rate of group 0 to 2.1884e-05.\n",
      "At iter 210/500, the losses are -0.83466 (train). The time used is 36.702s. \n",
      "At iter 215/500, the losses are -0.83468 (train). The time used is 35.346s. \n",
      "Adjusting learning rate of group 0 to 1.9695e-05.\n",
      "At iter 220/500, the losses are -0.83470 (train). The time used is 37.148s. \n",
      "====================================================================================================\n",
      "At iter 220/500, the losses on all data are 0.83472. The time used is 2.222s. \n",
      "====================================================================================================\n",
      "At iter 225/500, the losses are -0.83472 (train). The time used is 33.925s. \n",
      "Adjusting learning rate of group 0 to 1.7726e-05.\n",
      "At iter 230/500, the losses are -0.83474 (train). The time used is 35.377s. \n",
      "At iter 235/500, the losses are -0.83475 (train). The time used is 35.120s. \n",
      "Adjusting learning rate of group 0 to 1.5953e-05.\n",
      "At iter 240/500, the losses are -0.83477 (train). The time used is 34.320s. \n",
      "====================================================================================================\n",
      "At iter 240/500, the losses on all data are 0.83477. The time used is 2.275s. \n",
      "====================================================================================================\n",
      "At iter 245/500, the losses are -0.83478 (train). The time used is 34.488s. \n",
      "Adjusting learning rate of group 0 to 1.4358e-05.\n",
      "At iter 250/500, the losses are -0.83479 (train). The time used is 36.039s. \n",
      "At iter 255/500, the losses are -0.83480 (train). The time used is 38.201s. \n",
      "Adjusting learning rate of group 0 to 1.2922e-05.\n",
      "At iter 260/500, the losses are -0.83481 (train). The time used is 36.306s. \n",
      "====================================================================================================\n",
      "At iter 260/500, the losses on all data are 0.83482. The time used is 2.316s. \n",
      "====================================================================================================\n",
      "At iter 265/500, the losses are -0.83482 (train). The time used is 36.511s. \n",
      "Adjusting learning rate of group 0 to 1.1630e-05.\n",
      "At iter 270/500, the losses are -0.83483 (train). The time used is 36.036s. \n",
      "At iter 275/500, the losses are -0.83484 (train). The time used is 36.246s. \n",
      "Adjusting learning rate of group 0 to 1.0467e-05.\n",
      "At iter 280/500, the losses are -0.83485 (train). The time used is 35.054s. \n",
      "====================================================================================================\n",
      "At iter 280/500, the losses on all data are 0.83485. The time used is 2.502s. \n",
      "====================================================================================================\n",
      "At iter 285/500, the losses are -0.83485 (train). The time used is 39.325s. \n",
      "Adjusting learning rate of group 0 to 9.4203e-06.\n",
      "At iter 290/500, the losses are -0.83486 (train). The time used is 33.612s. \n",
      "At iter 295/500, the losses are -0.83487 (train). The time used is 33.042s. \n",
      "Adjusting learning rate of group 0 to 8.4782e-06.\n",
      "At iter 300/500, the losses are -0.83487 (train). The time used is 34.640s. \n",
      "====================================================================================================\n",
      "At iter 300/500, the losses on all data are 0.83487. The time used is 2.378s. \n",
      "====================================================================================================\n",
      "At iter 305/500, the losses are -0.83488 (train). The time used is 35.719s. \n",
      "Adjusting learning rate of group 0 to 7.6304e-06.\n",
      "At iter 310/500, the losses are -0.83488 (train). The time used is 36.905s. \n",
      "At iter 315/500, the losses are -0.83488 (train). The time used is 37.381s. \n",
      "Adjusting learning rate of group 0 to 6.8674e-06.\n",
      "At iter 320/500, the losses are -0.83489 (train). The time used is 36.275s. \n",
      "====================================================================================================\n",
      "At iter 320/500, the losses on all data are 0.83489. The time used is 1.965s. \n",
      "====================================================================================================\n",
      "At iter 325/500, the losses are -0.83489 (train). The time used is 38.168s. \n",
      "Adjusting learning rate of group 0 to 6.1806e-06.\n",
      "At iter 330/500, the losses are -0.83490 (train). The time used is 39.389s. \n",
      "At iter 335/500, the losses are -0.83490 (train). The time used is 34.976s. \n",
      "Adjusting learning rate of group 0 to 5.5626e-06.\n",
      "At iter 340/500, the losses are -0.83490 (train). The time used is 37.089s. \n",
      "====================================================================================================\n",
      "At iter 340/500, the losses on all data are 0.83490. The time used is 2.422s. \n",
      "====================================================================================================\n",
      "At iter 345/500, the losses are -0.83490 (train). The time used is 35.533s. \n",
      "Adjusting learning rate of group 0 to 5.0063e-06.\n",
      "At iter 350/500, the losses are -0.83491 (train). The time used is 37.450s. \n",
      "At iter 355/500, the losses are -0.83491 (train). The time used is 36.222s. \n",
      "Adjusting learning rate of group 0 to 4.5057e-06.\n",
      "At iter 360/500, the losses are -0.83491 (train). The time used is 35.702s. \n",
      "====================================================================================================\n",
      "At iter 360/500, the losses on all data are 0.83491. The time used is 2.391s. \n",
      "====================================================================================================\n",
      "At iter 365/500, the losses are -0.83491 (train). The time used is 34.703s. \n",
      "Adjusting learning rate of group 0 to 4.0551e-06.\n",
      "At iter 370/500, the losses are -0.83492 (train). The time used is 35.512s. \n",
      "At iter 375/500, the losses are -0.83492 (train). The time used is 33.536s. \n",
      "Adjusting learning rate of group 0 to 3.6496e-06.\n",
      "At iter 380/500, the losses are -0.83492 (train). The time used is 34.791s. \n",
      "====================================================================================================\n",
      "At iter 380/500, the losses on all data are 0.83492. The time used is 2.442s. \n",
      "====================================================================================================\n",
      "At iter 385/500, the losses are -0.83492 (train). The time used is 34.861s. \n",
      "Adjusting learning rate of group 0 to 3.2846e-06.\n",
      "At iter 390/500, the losses are -0.83492 (train). The time used is 32.846s. \n",
      "At iter 395/500, the losses are -0.83493 (train). The time used is 36.397s. \n",
      "Adjusting learning rate of group 0 to 2.9562e-06.\n",
      "At iter 400/500, the losses are -0.83493 (train). The time used is 36.807s. \n",
      "====================================================================================================\n",
      "At iter 400/500, the losses on all data are 0.83493. The time used is 2.496s. \n",
      "====================================================================================================\n",
      "At iter 405/500, the losses are -0.83493 (train). The time used is 36.420s. \n",
      "Adjusting learning rate of group 0 to 2.6606e-06.\n",
      "At iter 410/500, the losses are -0.83493 (train). The time used is 34.830s. \n",
      "At iter 415/500, the losses are -0.83493 (train). The time used is 36.628s. \n",
      "Adjusting learning rate of group 0 to 2.3945e-06.\n",
      "At iter 420/500, the losses are -0.83493 (train). The time used is 36.688s. \n",
      "====================================================================================================\n",
      "At iter 420/500, the losses on all data are 0.83493. The time used is 2.365s. \n",
      "====================================================================================================\n",
      "At iter 425/500, the losses are -0.83493 (train). The time used is 36.100s. \n",
      "Adjusting learning rate of group 0 to 2.1551e-06.\n",
      "At iter 430/500, the losses are -0.83494 (train). The time used is 35.436s. \n",
      "At iter 435/500, the losses are -0.83494 (train). The time used is 35.237s. \n",
      "Adjusting learning rate of group 0 to 1.9395e-06.\n",
      "At iter 440/500, the losses are -0.83494 (train). The time used is 35.675s. \n",
      "====================================================================================================\n",
      "At iter 440/500, the losses on all data are 0.83494. The time used is 2.335s. \n",
      "====================================================================================================\n",
      "At iter 445/500, the losses are -0.83494 (train). The time used is 35.018s. \n",
      "Adjusting learning rate of group 0 to 1.7456e-06.\n",
      "At iter 450/500, the losses are -0.83494 (train). The time used is 33.768s. \n",
      "At iter 455/500, the losses are -0.83494 (train). The time used is 37.823s. \n",
      "Adjusting learning rate of group 0 to 1.5710e-06.\n",
      "At iter 460/500, the losses are -0.83494 (train). The time used is 40.206s. \n",
      "====================================================================================================\n",
      "At iter 460/500, the losses on all data are 0.83494. The time used is 2.227s. \n",
      "====================================================================================================\n",
      "At iter 465/500, the losses are -0.83494 (train). The time used is 37.907s. \n",
      "Adjusting learning rate of group 0 to 1.4139e-06.\n",
      "At iter 470/500, the losses are -0.83494 (train). The time used is 37.145s. \n",
      "At iter 475/500, the losses are -0.83494 (train). The time used is 44.591s. \n",
      "Adjusting learning rate of group 0 to 1.2725e-06.\n",
      "At iter 480/500, the losses are -0.83494 (train). The time used is 37.623s. \n",
      "====================================================================================================\n",
      "At iter 480/500, the losses on all data are 0.83494. The time used is 3.863s. \n",
      "====================================================================================================\n",
      "At iter 485/500, the losses are -0.83494 (train). The time used is 36.900s. \n",
      "Adjusting learning rate of group 0 to 1.1453e-06.\n",
      "At iter 490/500, the losses are -0.83495 (train). The time used is 37.169s. \n",
      "At iter 495/500, the losses are -0.83495 (train). The time used is 36.565s. \n",
      "Adjusting learning rate of group 0 to 1.0308e-06.\n",
      "At iter 500/500, the losses are -0.83495 (train). The time used is 36.321s. \n",
      "====================================================================================================\n",
      "At iter 500/500, the losses on all data are 0.83495. The time used is 2.294s. \n",
      "====================================================================================================\n"
     ]
    }
   ],
   "source": [
    "# training\n",
    "loss_cur = 0\n",
    "losses = []\n",
    "losses_test = []\n",
    "\n",
    "t0 = time.time()\n",
    "sgm_net.eval()\n",
    "loss_add = 0\n",
    "for ix in range(paras_rnn.niter):\n",
    "    rnn.train()\n",
    "    #X_seq = random_samples_rnn(all_data[24], \n",
    "    #                           batchsize=paras_rnn.batchsize)\n",
    "    X_seq = all_data_input\n",
    "    # Zero the gradients\n",
    "    optimizer.zero_grad()\n",
    "    \n",
    "    theta_pred = rnn(X_seq)\n",
    "    X_pred = sgm_net(theta_pred.flatten(0, 1))\n",
    "    loss_main = loss_fn(X_seq.flatten(0, 1).reshape(-1, 68, len(paras.freqs)),\n",
    "                   X_pred)\n",
    "    if paras_rnn.unstable_pen > 0:\n",
    "        unstable_inds = paras_stable_check(theta_pred.flatten(0, 1).detach().numpy());\n",
    "        unstable_inds = torch.tensor(unstable_inds).reshape(*theta_pred.shape[:2])\n",
    "        loss_add = (paras_rnn.unstable_pen * unstable_inds.unsqueeze(-1) * theta_pred).mean();\n",
    "    loss = loss_main + loss_add\n",
    "    \n",
    "    # Perform backward pass\n",
    "    loss.backward()\n",
    "    \n",
    "    torch.nn.utils.clip_grad_norm_(rnn.parameters(), paras_rnn.clip)\n",
    "    # Perform optimization\n",
    "    optimizer.step()\n",
    "    \n",
    "    if ix % paras_rnn.lr_step == (paras_rnn.lr_step-1):\n",
    "        scheduler.step()\n",
    "    \n",
    "    loss_cur = loss_cur + loss_main.item()\n",
    "    if ix % paras_rnn.loss_out == (paras_rnn.loss_out-1):\n",
    "        losses.append(loss_cur/paras_rnn.loss_out)\n",
    "        print(f\"At iter {ix+1}/{paras_rnn.niter}, \"\n",
    "              f\"the losses are {loss_cur/paras_rnn.loss_out:.5f} (train). \"\n",
    "              f\"The time used is {delta_time(t0):.3f}s. \"\n",
    "             )\n",
    "        loss_cur = 0\n",
    "        t0 = time.time()\n",
    "        \n",
    "    if ix % paras_rnn.eval_out == (paras_rnn.eval_out-1):\n",
    "        rnn.eval()\n",
    "        loss_test = evaluate(all_data).mean()\n",
    "        losses_test.append(loss_test)\n",
    "        print(f\"=\"*100)\n",
    "        print(f\"At iter {ix+1}/{paras_rnn.niter}, \"\n",
    "              f\"the losses on all data are {loss_test:.5f}. \"\n",
    "              f\"The time used is {delta_time(t0):.3f}s. \"\n",
    "             )\n",
    "        print(f\"=\"*100)\n",
    "        t0 = time.time()\n",
    "    \n"
   ]
  },
  {
   "cell_type": "code",
   "execution_count": 24,
   "id": "041b9d90",
   "metadata": {
    "ExecuteTime": {
     "end_time": "2023-04-04T20:55:50.277877Z",
     "start_time": "2023-04-04T20:55:50.180639Z"
    },
    "execution": {
     "iopub.execute_input": "2023-05-09T18:50:11.565491Z",
     "iopub.status.busy": "2023-05-09T18:50:11.564960Z",
     "iopub.status.idle": "2023-05-09T18:50:12.400844Z",
     "shell.execute_reply": "2023-05-09T18:50:12.399454Z",
     "shell.execute_reply.started": "2023-05-09T18:50:11.565463Z"
    },
    "tags": []
   },
   "outputs": [
    {
     "data": {
      "image/png": "[encoded data removed]",
      "text/plain": [
       "<Figure size 432x288 with 1 Axes>"
      ]
     },
     "metadata": {
      "needs_background": "light"
     },
     "output_type": "display_data"
    }
   ],
   "source": [
    "if not RUN_PYTHON_SCRIPT:\n",
    "    plt.plot(losses[:])\n",
    "    #plt.yscale(\"log\")"
   ]
  },
  {
   "cell_type": "code",
   "execution_count": null,
   "id": "20c1147e",
   "metadata": {},
   "outputs": [],
   "source": []
  },
  {
   "cell_type": "markdown",
   "id": "2ef8fc65",
   "metadata": {},
   "source": [
    "# Save"
   ]
  },
  {
   "cell_type": "code",
   "execution_count": 35,
   "id": "e11d6603-bb35-4621-8d20-25265af5685e",
   "metadata": {
    "execution": {
     "iopub.execute_input": "2023-05-09T20:28:49.256044Z",
     "iopub.status.busy": "2023-05-09T20:28:49.255404Z",
     "iopub.status.idle": "2023-05-09T20:28:49.267747Z",
     "shell.execute_reply": "2023-05-09T20:28:49.266709Z",
     "shell.execute_reply.started": "2023-05-09T20:28:49.255999Z"
    },
    "tags": []
   },
   "outputs": [
    {
     "data": {
      "text/plain": [
       "'LSTM_simu_net_corr_alpha_gei_gii_Taue_TauG_Taui'"
      ]
     },
     "execution_count": 35,
     "metadata": {},
     "output_type": "execute_result"
    }
   ],
   "source": [
    "dy_part = \"_\".join(np.array(paras.names)[np.array(paras_rnn.dy_mask)==0][:-1])\n",
    "folder_name = f\"LSTM_simu_net_{paras_rnn.loss_name}_{dy_part}\";\n",
    "folder_name"
   ]
  },
  {
   "cell_type": "code",
   "execution_count": 54,
   "id": "8865f4f0",
   "metadata": {
    "ExecuteTime": {
     "end_time": "2023-04-04T20:56:01.835052Z",
     "start_time": "2023-04-04T20:55:55.813367Z"
    },
    "execution": {
     "iopub.execute_input": "2023-05-09T20:36:28.795851Z",
     "iopub.status.busy": "2023-05-09T20:36:28.795211Z",
     "iopub.status.idle": "2023-05-09T20:36:34.647855Z",
     "shell.execute_reply": "2023-05-09T20:36:34.605687Z",
     "shell.execute_reply.started": "2023-05-09T20:36:28.795807Z"
    },
    "tags": []
   },
   "outputs": [
    {
     "name": "stdout",
     "output_type": "stream",
     "text": [
      "Load file /data/rajlab1/user_data/jin/MyResearch/TV-SGM/notebooks/../mypkg/../results/LSTM_simu_net_corr_alpha_gei_gii_Taue_TauG_Taui/loss.pkl\n",
      "Load file /data/rajlab1/user_data/jin/MyResearch/TV-SGM/notebooks/../mypkg/../results/LSTM_simu_net_corr_alpha_gei_gii_Taue_TauG_Taui/loss_fn.pkl\n",
      "Load file /data/rajlab1/user_data/jin/MyResearch/TV-SGM/notebooks/../mypkg/../results/LSTM_simu_net_corr_alpha_gei_gii_Taue_TauG_Taui/model.pkl\n",
      "Load file /data/rajlab1/user_data/jin/MyResearch/TV-SGM/notebooks/../mypkg/../results/LSTM_simu_net_corr_alpha_gei_gii_Taue_TauG_Taui/optimizer.pkl\n",
      "Load file /data/rajlab1/user_data/jin/MyResearch/TV-SGM/notebooks/../mypkg/../results/LSTM_simu_net_corr_alpha_gei_gii_Taue_TauG_Taui/paras.pkl\n",
      "Load file /data/rajlab1/user_data/jin/MyResearch/TV-SGM/notebooks/../mypkg/../results/LSTM_simu_net_corr_alpha_gei_gii_Taue_TauG_Taui/sgm_paramss_est.pkl\n"
     ]
    }
   ],
   "source": [
    "if (RES_ROOT/folder_name).exists():\n",
    "    trained_model = load_pkl_folder2dict(RES_ROOT/folder_name)\n",
    "else:\n",
    "    trained_model = edict()\n",
    "    trained_model.model = rnn\n",
    "    trained_model.loss_fn = loss_fn\n",
    "    trained_model.optimizer = optimizer\n",
    "    trained_model.paras = paras_rnn\n",
    "    trained_model.loss = losses\n",
    "    save_pkl_dict2folder(RES_ROOT/folder_name, trained_model, is_force=True)"
   ]
  },
  {
   "cell_type": "code",
   "execution_count": null,
   "id": "ef95b8d8-ed67-42b4-baac-8448f6cb203f",
   "metadata": {},
   "outputs": [],
   "source": []
  },
  {
   "cell_type": "markdown",
   "id": "73a978aa-d304-4743-871a-7c56d5e0a3e6",
   "metadata": {},
   "source": [
    "# PSD "
   ]
  },
  {
   "cell_type": "code",
   "execution_count": 56,
   "id": "06ca1333-81c2-4dfe-a619-c749f077704a",
   "metadata": {
    "execution": {
     "iopub.execute_input": "2023-05-09T20:36:58.724931Z",
     "iopub.status.busy": "2023-05-09T20:36:58.724138Z",
     "iopub.status.idle": "2023-05-09T20:37:22.635050Z",
     "shell.execute_reply": "2023-05-09T20:37:22.633622Z",
     "shell.execute_reply.started": "2023-05-09T20:36:58.724881Z"
    },
    "tags": []
   },
   "outputs": [
    {
     "name": "stderr",
     "output_type": "stream",
     "text": [
      "100%|██████████████████████████████████████████████████████████████████████████████████████████████████████████████████████████████████████████| 36/36 [00:07<00:00,  4.78it/s]\n"
     ]
    },
    {
     "name": "stdout",
     "output_type": "stream",
     "text": [
      "Save to /data/rajlab1/user_data/jin/MyResearch/TV-SGM/notebooks/../mypkg/../results/LSTM_simu_net_corr_alpha_gei_gii_Taue_TauG_Taui/loss.pkl\n",
      "Save to /data/rajlab1/user_data/jin/MyResearch/TV-SGM/notebooks/../mypkg/../results/LSTM_simu_net_corr_alpha_gei_gii_Taue_TauG_Taui/loss_fn.pkl\n",
      "Save to /data/rajlab1/user_data/jin/MyResearch/TV-SGM/notebooks/../mypkg/../results/LSTM_simu_net_corr_alpha_gei_gii_Taue_TauG_Taui/model.pkl\n",
      "Save to /data/rajlab1/user_data/jin/MyResearch/TV-SGM/notebooks/../mypkg/../results/LSTM_simu_net_corr_alpha_gei_gii_Taue_TauG_Taui/optimizer.pkl\n",
      "Save to /data/rajlab1/user_data/jin/MyResearch/TV-SGM/notebooks/../mypkg/../results/LSTM_simu_net_corr_alpha_gei_gii_Taue_TauG_Taui/paras.pkl\n",
      "Save to /data/rajlab1/user_data/jin/MyResearch/TV-SGM/notebooks/../mypkg/../results/LSTM_simu_net_corr_alpha_gei_gii_Taue_TauG_Taui/sgm_paramss_est.pkl\n"
     ]
    }
   ],
   "source": [
    "trained_model.model.eval()\n",
    "sgm_paramss_est = []\n",
    "for data_idx  in trange(36):\n",
    "    cur_data = psd_all[:, :, :, data_idx].transpose(2, 0, 1)\n",
    "    X_test = random_samples_rnn(cur_data,\n",
    "                                bds=[[0], [360]],\n",
    "                                theta2raw_fn=None)\n",
    "    with torch.no_grad():\n",
    "        Y_pred = trained_model.model(X_test).squeeze()\n",
    "        sgm_paramss_est.append(Y_pred.numpy())\n",
    "sgm_paramss_est = np.array(sgm_paramss_est);\n",
    "\n",
    "trained_model.sgm_paramss_est = sgm_paramss_est\n",
    "save_pkl_dict2folder(RES_ROOT/folder_name, trained_model, is_force=True)"
   ]
  },
  {
   "cell_type": "code",
   "execution_count": 58,
   "id": "88d8ec8c-4960-4d7d-b038-2579796ccd52",
   "metadata": {
    "execution": {
     "iopub.execute_input": "2023-05-09T20:38:14.819993Z",
     "iopub.status.busy": "2023-05-09T20:38:14.819350Z",
     "iopub.status.idle": "2023-05-09T20:38:14.843788Z",
     "shell.execute_reply": "2023-05-09T20:38:14.842370Z",
     "shell.execute_reply.started": "2023-05-09T20:38:14.819945Z"
    },
    "tags": []
   },
   "outputs": [],
   "source": [
    "# calculate rec PSD and save, only need once\n",
    "# only for all static model\n",
    "if False:\n",
    "    sgmmodel = SGM(paras.C, paras.D, paras.freqs)\n",
    "    def fn(sgm_param):\n",
    "        cur_PSD = sgmmodel.run_local_coupling_forward(sgm_param)\n",
    "        return cur_PSD[:68]\n",
    "        \n",
    "    X_recs = []\n",
    "    for sgm_params_est in tqdm(trained_model.sgm_paramss_est, total=36):\n",
    "        X_rec = fn(sgm_params_est[0])\n",
    "        X_rec = np.tile(X_rec, (len(sgm_params_est), 1, 1))\n",
    "        X_recs.append(X_rec)\n",
    "    # save\n",
    "    trained_model.Rec_PSD = np.array(X_recs)\n",
    "    save_pkl_dict2folder(RES_ROOT/folder_name, trained_model, is_force=False)"
   ]
  },
  {
   "cell_type": "code",
   "execution_count": null,
   "id": "6b240252-8bd6-4aab-ac90-a802c8f421de",
   "metadata": {
    "execution": {
     "iopub.execute_input": "2023-05-09T18:50:34.960681Z",
     "iopub.status.busy": "2023-05-09T18:50:34.959773Z",
     "iopub.status.idle": "2023-05-09T19:35:21.673196Z",
     "shell.execute_reply": "2023-05-09T19:35:21.670059Z",
     "shell.execute_reply.started": "2023-05-09T18:50:34.960633Z"
    },
    "tags": []
   },
   "outputs": [],
   "source": [
    "# calculate rec PSD and save, only need once\n",
    "import multiprocessing as mp\n",
    "num_core = 20\n",
    "\n",
    "sgmmodel = SGM(paras.C, paras.D, paras.freqs)\n",
    "def fn(sgm_param):\n",
    "    cur_PSD = sgmmodel.run_local_coupling_forward(sgm_param)\n",
    "    return cur_PSD[:68]\n",
    "    \n",
    "if __name__ == \"__main__\":\n",
    "    X_recs = []\n",
    "    for sgm_params_est in sgm_paramss_est:\n",
    "        with mp.Pool(num_core) as pool:\n",
    "            all_procs = pool.imap(fn, sgm_params_est)\n",
    "            X_rec = list(tqdm(all_procs, total=len(sgm_params_est)))\n",
    "        X_recs.append(X_rec)\n",
    "# save\n",
    "trained_model.Rec_PSD = np.array(X_recs)\n",
    "save_pkl_dict2folder(RES_ROOT/folder_name, trained_model, is_force=False)"
   ]
  },
  {
   "cell_type": "code",
   "execution_count": null,
   "id": "043ff2fb-e467-4a8f-b576-01905f2cb496",
   "metadata": {},
   "outputs": [],
   "source": []
  }
 ],
 "metadata": {
  "kernelspec": {
   "display_name": "Python 3 (ipykernel)",
   "language": "python",
   "name": "python3"
  },
  "language_info": {
   "codemirror_mode": {
    "name": "ipython",
    "version": 3
   },
   "file_extension": ".py",
   "mimetype": "text/x-python",
   "name": "python",
   "nbconvert_exporter": "python",
   "pygments_lexer": "ipython3",
   "version": "3.9.7"
  },
  "toc": {
   "base_numbering": 1,
   "nav_menu": {},
   "number_sections": true,
   "sideBar": true,
   "skip_h1_title": false,
   "title_cell": "Table of Contents",
   "title_sidebar": "Contents",
   "toc_cell": false,
   "toc_position": {
    "height": "calc(100% - 180px)",
    "left": "10px",
    "top": "150px",
    "width": "165px"
   },
   "toc_section_display": true,
   "toc_window_display": true
  },
  "toc-autonumbering": true,
  "toc-showcode": false
 },
 "nbformat": 4,
 "nbformat_minor": 5
}
