{
 "cells": [
  {
   "cell_type": "markdown",
   "id": "cadabb59",
   "metadata": {},
   "source": [
    "Here, I test whether my LSTM net works or not to estimate SGM parameters \n",
    "\n",
    "Now I run the real data from Parul (Apr 2, 2023)"
   ]
  },
  {
   "cell_type": "code",
   "execution_count": 1,
   "id": "ba9942dd",
   "metadata": {
    "ExecuteTime": {
     "end_time": "2023-04-04T17:37:57.771920Z",
     "start_time": "2023-04-04T17:37:56.085736Z"
    },
    "execution": {
     "iopub.execute_input": "2023-04-22T06:51:51.173170Z",
     "iopub.status.busy": "2023-04-22T06:51:51.172520Z",
     "iopub.status.idle": "2023-04-22T06:51:52.888086Z",
     "shell.execute_reply": "2023-04-22T06:51:52.886844Z",
     "shell.execute_reply.started": "2023-04-22T06:51:51.173125Z"
    },
    "tags": []
   },
   "outputs": [],
   "source": [
    "import sys\n",
    "sys.path.append(\"../mypkg\")\n",
    "from constants import RES_ROOT, FIG_ROOT, DATA_ROOT"
   ]
  },
  {
   "cell_type": "code",
   "execution_count": 2,
   "id": "ad09a305",
   "metadata": {
    "ExecuteTime": {
     "end_time": "2023-04-04T17:38:03.434191Z",
     "start_time": "2023-04-04T17:37:58.883670Z"
    },
    "execution": {
     "iopub.execute_input": "2023-04-22T06:51:52.894467Z",
     "iopub.status.busy": "2023-04-22T06:51:52.893957Z",
     "iopub.status.idle": "2023-04-22T06:51:56.912027Z",
     "shell.execute_reply": "2023-04-22T06:51:56.910681Z",
     "shell.execute_reply.started": "2023-04-22T06:51:52.894424Z"
    },
    "tags": []
   },
   "outputs": [],
   "source": [
    "import numpy as np\n",
    "import scipy\n",
    "import matplotlib.pyplot as plt\n",
    "import seaborn as sns\n",
    "from easydict import EasyDict as edict\n",
    "from tqdm import trange, tqdm\n",
    "import time\n",
    "\n",
    "plt.style.use(FIG_ROOT/\"base.mplstyle\")\n",
    "%matplotlib inline"
   ]
  },
  {
   "cell_type": "code",
   "execution_count": 3,
   "id": "75fd7795",
   "metadata": {
    "ExecuteTime": {
     "end_time": "2023-04-04T17:38:12.476128Z",
     "start_time": "2023-04-04T17:38:04.142458Z"
    },
    "execution": {
     "iopub.execute_input": "2023-04-22T06:51:56.918413Z",
     "iopub.status.busy": "2023-04-22T06:51:56.917575Z",
     "iopub.status.idle": "2023-04-22T06:52:04.567091Z",
     "shell.execute_reply": "2023-04-22T06:52:04.566082Z",
     "shell.execute_reply.started": "2023-04-22T06:51:56.918368Z"
    },
    "tags": []
   },
   "outputs": [
    {
     "data": {
      "text/plain": [
       "<module 'models.lstm' from '/data/rajlab1/user_data/jin/MyResearch/TV-SGM/notebooks/../mypkg/models/lstm.py'>"
      ]
     },
     "execution_count": 3,
     "metadata": {},
     "output_type": "execute_result"
    }
   ],
   "source": [
    "import importlib\n",
    "import models.lstm\n",
    "importlib.reload(models.lstm)"
   ]
  },
  {
   "cell_type": "code",
   "execution_count": 4,
   "id": "0924abca",
   "metadata": {
    "ExecuteTime": {
     "end_time": "2023-04-04T17:38:12.656580Z",
     "start_time": "2023-04-04T17:38:12.479288Z"
    },
    "execution": {
     "iopub.execute_input": "2023-04-22T06:52:04.587243Z",
     "iopub.status.busy": "2023-04-22T06:52:04.586023Z",
     "iopub.status.idle": "2023-04-22T06:52:04.754438Z",
     "shell.execute_reply": "2023-04-22T06:52:04.753252Z",
     "shell.execute_reply.started": "2023-04-22T06:52:04.587168Z"
    },
    "tags": []
   },
   "outputs": [],
   "source": [
    "from utils.reparam import theta2raw_torch, raw2theta_torch, raw2theta_np\n",
    "from spectrome import Brain\n",
    "from sgm.sgm import SGM\n",
    "from utils.misc import save_pkl, save_pkl_dict2folder, load_pkl, load_pkl_folder2dict, delta_time\n",
    "from models.lstm import LSTM_SGM\n",
    "from models.loss import cos_simi_loss, weighted_mse_loss\n",
    "from utils.standardize import std_mat, std_vec"
   ]
  },
  {
   "cell_type": "code",
   "execution_count": 5,
   "id": "318c4ef4",
   "metadata": {
    "ExecuteTime": {
     "end_time": "2023-04-04T17:38:12.665771Z",
     "start_time": "2023-04-04T17:38:12.659314Z"
    },
    "execution": {
     "iopub.execute_input": "2023-04-22T06:52:04.759893Z",
     "iopub.status.busy": "2023-04-22T06:52:04.759268Z",
     "iopub.status.idle": "2023-04-22T06:52:04.766972Z",
     "shell.execute_reply": "2023-04-22T06:52:04.766158Z",
     "shell.execute_reply.started": "2023-04-22T06:52:04.759851Z"
    },
    "tags": []
   },
   "outputs": [],
   "source": [
    "# pkgs for pytorch ( Mar 27, 2023) \n",
    "import torch\n",
    "import torch.nn as nn\n",
    "from torch.functional import F\n",
    "from torch.optim.lr_scheduler import ExponentialLR\n",
    "\n",
    "torch.set_default_dtype(torch.float64)\n",
    "if torch.cuda.is_available():\n",
    "    torch.cuda.set_device(2)\n",
    "    torch.set_default_tensor_type(torch.cuda.DoubleTensor)\n",
    "    torch.backends.cudnn.benchmark = True\n",
    "else:\n",
    "    torch.set_default_tensor_type(torch.DoubleTensor)"
   ]
  },
  {
   "cell_type": "code",
   "execution_count": null,
   "id": "d3eb7e49",
   "metadata": {},
   "outputs": [],
   "source": []
  },
  {
   "cell_type": "markdown",
   "id": "6d7a4da6",
   "metadata": {},
   "source": [
    "# Data, fn and paras"
   ]
  },
  {
   "cell_type": "code",
   "execution_count": 7,
   "id": "521836de",
   "metadata": {
    "ExecuteTime": {
     "end_time": "2023-04-04T17:38:17.218490Z",
     "start_time": "2023-04-04T17:38:13.493691Z"
    },
    "execution": {
     "iopub.execute_input": "2023-04-22T06:52:08.653420Z",
     "iopub.status.busy": "2023-04-22T06:52:08.652783Z",
     "iopub.status.idle": "2023-04-22T06:52:11.581374Z",
     "shell.execute_reply": "2023-04-22T06:52:11.580585Z",
     "shell.execute_reply.started": "2023-04-22T06:52:08.653374Z"
    },
    "tags": []
   },
   "outputs": [],
   "source": [
    "import netCDF4\n",
    "fils = list(DATA_ROOT.glob(\"*s100tp.nc\")) # 300/150\n",
    "file2read = netCDF4.Dataset(fils[0], 'r')\n",
    "psd_all = np.array(file2read.variables[\"__xarray_dataarray_variable__\"][:])\n",
    "time_points = np.array(file2read.variables[\"timepoints\"][:])\n",
    "freqs = np.array(file2read.variables[\"frequencies\"][:])\n",
    "ROIs_order = np.array(file2read.variables[\"regionx\"][:])\n",
    "file2read.close()"
   ]
  },
  {
   "cell_type": "code",
   "execution_count": 8,
   "id": "180f0d16",
   "metadata": {
    "ExecuteTime": {
     "end_time": "2023-04-04T17:38:18.614858Z",
     "start_time": "2023-04-04T17:38:18.509968Z"
    },
    "execution": {
     "iopub.execute_input": "2023-04-22T06:52:13.095799Z",
     "iopub.status.busy": "2023-04-22T06:52:13.095194Z",
     "iopub.status.idle": "2023-04-22T06:52:13.211672Z",
     "shell.execute_reply": "2023-04-22T06:52:13.210400Z",
     "shell.execute_reply.started": "2023-04-22T06:52:13.095754Z"
    },
    "tags": []
   },
   "outputs": [],
   "source": [
    "# Load the Connectome\n",
    "brain = Brain.Brain()\n",
    "brain.add_connectome(DATA_ROOT)\n",
    "brain.reorder_connectome(brain.connectome, brain.distance_matrix)\n",
    "brain.bi_symmetric_c()\n",
    "brain.reduce_extreme_dir()"
   ]
  },
  {
   "cell_type": "code",
   "execution_count": 9,
   "id": "f85a7c05",
   "metadata": {
    "ExecuteTime": {
     "end_time": "2023-04-04T17:38:22.084241Z",
     "start_time": "2023-04-04T17:38:22.076317Z"
    },
    "execution": {
     "iopub.execute_input": "2023-04-22T06:52:13.500022Z",
     "iopub.status.busy": "2023-04-22T06:52:13.499433Z",
     "iopub.status.idle": "2023-04-22T06:52:13.509945Z",
     "shell.execute_reply": "2023-04-22T06:52:13.508663Z",
     "shell.execute_reply.started": "2023-04-22T06:52:13.499976Z"
    },
    "tags": []
   },
   "outputs": [],
   "source": [
    "# some constant parameters for this file\n",
    "paras = edict()\n",
    "\n",
    "## I reorder them in an alphabetical order and I change tauC to tauG (Mar 27, 2023)\n",
    "## the orginal order is taue, taui, tauC, speed, alpha, gii, gei\n",
    "## paras.par_low = np.asarray([0.005,0.005,0.005,5, 0.1,0.001,0.001])\n",
    "## paras.par_high = np.asarray([0.03, 0.20, 0.03,20,  1,    2,  0.7])\n",
    "##\n",
    "\n",
    "# alpha, gei, gii, taue, tauG, taui, speed \n",
    "paras.par_low = np.array([0.1, 0.001,0.001, 0.005, 0.005, 0.005, 5])\n",
    "paras.par_high = np.asarray([1, 0.7, 2, 0.03, 0.03, 0.20, 20])\n",
    "paras.prior_bds = np.array([paras.par_low, paras.par_high]).T\n",
    "paras.names = [\"alpha\", \"gei\", \"gii\", \"Taue\", \"TauG\", \"Taui\", \"Speed\"]\n",
    "\n",
    "paras.C = brain.reducedConnectome\n",
    "paras.D = brain.distance_matrix\n",
    "paras.freqs = freqs"
   ]
  },
  {
   "cell_type": "code",
   "execution_count": null,
   "id": "1296b9e0",
   "metadata": {},
   "outputs": [],
   "source": []
  },
  {
   "cell_type": "markdown",
   "id": "65ce16ba",
   "metadata": {},
   "source": [
    "# Train the model"
   ]
  },
  {
   "cell_type": "code",
   "execution_count": 10,
   "id": "b49a3544-8248-45e0-b006-4464dbaaf09f",
   "metadata": {
    "ExecuteTime": {
     "end_time": "2023-04-04T17:38:36.267294Z",
     "start_time": "2023-04-04T17:38:35.514912Z"
    },
    "execution": {
     "iopub.execute_input": "2023-04-22T06:52:16.856447Z",
     "iopub.status.busy": "2023-04-22T06:52:16.855815Z",
     "iopub.status.idle": "2023-04-22T06:52:17.376036Z",
     "shell.execute_reply": "2023-04-22T06:52:17.374959Z",
     "shell.execute_reply.started": "2023-04-22T06:52:16.856401Z"
    },
    "tags": []
   },
   "outputs": [
    {
     "name": "stdout",
     "output_type": "stream",
     "text": [
      "Load file /data/rajlab1/user_data/jin/MyResearch/TV-SGM/notebooks/../mypkg/../results/SGM_net_large/freqs.pkl\n",
      "Load file /data/rajlab1/user_data/jin/MyResearch/TV-SGM/notebooks/../mypkg/../results/SGM_net_large/loss.pkl\n",
      "Load file /data/rajlab1/user_data/jin/MyResearch/TV-SGM/notebooks/../mypkg/../results/SGM_net_large/loss_test.pkl\n",
      "Load file /data/rajlab1/user_data/jin/MyResearch/TV-SGM/notebooks/../mypkg/../results/SGM_net_large/model.pkl\n",
      "Load file /data/rajlab1/user_data/jin/MyResearch/TV-SGM/notebooks/../mypkg/../results/SGM_net_large/paras.pkl\n"
     ]
    }
   ],
   "source": [
    "trained_model = load_pkl_folder2dict(RES_ROOT/\"SGM_net_large\", excluding=['opt*'])\n",
    "sgm_net = trained_model.model;\n",
    "sgm_net.eval();"
   ]
  },
  {
   "cell_type": "code",
   "execution_count": 11,
   "id": "6fe17f7e-27c4-46fb-8c28-37e34b229746",
   "metadata": {
    "execution": {
     "iopub.execute_input": "2023-04-22T06:52:19.807345Z",
     "iopub.status.busy": "2023-04-22T06:52:19.806719Z",
     "iopub.status.idle": "2023-04-22T06:52:20.478168Z",
     "shell.execute_reply": "2023-04-22T06:52:20.477246Z",
     "shell.execute_reply.started": "2023-04-22T06:52:19.807299Z"
    },
    "tags": []
   },
   "outputs": [
    {
     "data": {
      "image/png": "[encoded data removed]",
      "text/plain": [
       "<Figure size 432x288 with 1 Axes>"
      ]
     },
     "metadata": {
      "needs_background": "light"
     },
     "output_type": "display_data"
    }
   ],
   "source": [
    "plt.plot(np.array(trained_model.loss)/10)\n",
    "plt.plot(trained_model.loss_test)\n",
    "#plt.xticks(np.arange(0, 120, 14));\n",
    "plt.yscale(\"log\")"
   ]
  },
  {
   "cell_type": "code",
   "execution_count": 12,
   "id": "d507dc44",
   "metadata": {
    "ExecuteTime": {
     "end_time": "2023-04-04T17:38:47.060338Z",
     "start_time": "2023-04-04T17:38:46.969000Z"
    },
    "code_folding": [],
    "execution": {
     "iopub.execute_input": "2023-04-22T06:52:27.814655Z",
     "iopub.status.busy": "2023-04-22T06:52:27.814018Z",
     "iopub.status.idle": "2023-04-22T06:52:27.833456Z",
     "shell.execute_reply": "2023-04-22T06:52:27.832305Z",
     "shell.execute_reply.started": "2023-04-22T06:52:27.814606Z"
    },
    "jupyter": {
     "source_hidden": true
    },
    "tags": []
   },
   "outputs": [],
   "source": [
    "# functions to generate training sample (Apr 1, 2023)\n",
    "def random_choice(n, batchsize=1, len_seg=None):\n",
    "    \"\"\"Randomly select the lower and upper bound of the segment\n",
    "        args:\n",
    "            n: len of the total time series\n",
    "    \"\"\"\n",
    "    if len_seg is None:\n",
    "        len_seg = torch.randint(low=10, high=100, size=(1, ))\n",
    "    up_bd = torch.randint(low=len_seg.item(), high=n, size=(batchsize, ))\n",
    "    low_bd = up_bd - len_seg\n",
    "    return low_bd, up_bd\n",
    "\n",
    "\n",
    "def random_samples_rnn(X, Y=None, batchsize=1, \n",
    "                       bds=None, \n",
    "                       is_std=True, \n",
    "                       theta2raw_fn=None):\n",
    "    \"\"\"Randomly select a sample from the whole segment\n",
    "        args:\n",
    "            X: PSD, num_seq x 68 x nfreq or \n",
    "               PSD, num_sub x num_seq x 68 x nfreq\n",
    "            Y: params, num x 7, in original sgm scale\n",
    "        return:\n",
    "            X_seqs: len_seq x batchsize x num_fs\n",
    "            Y_seqs: len_seq x batchsize x 7\n",
    "            \n",
    "    \"\"\"\n",
    "    if X.ndim == 4:\n",
    "        # if multiple subjects, pick up a subject\n",
    "        num_sub = X.shape[0]\n",
    "        sub_idx = np.random.randint(low=0, high=num_sub)\n",
    "        X = X[sub_idx]\n",
    "        \n",
    "    if not isinstance(X, torch.Tensor):\n",
    "        X = torch.tensor(X)\n",
    "    if is_std:\n",
    "        #X = X/X.std(axis=(1, 2), keepdims=True)\n",
    "        # Let std for each ROI and each data\n",
    "        X = (X-X.mean(axis=2, keepdims=True))/X.std(axis=2, keepdims=True)\n",
    "    if Y is not None:\n",
    "        if not isinstance(Y, torch.Tensor):\n",
    "            Y = torch.tensor(Y)\n",
    "        if theta2raw_fn: \n",
    "            Y = theta2raw_fn(Y)\n",
    "    if bds is None:\n",
    "        low_bds, up_bds = random_choice(len(X), batchsize)\n",
    "    else:\n",
    "        low_bds, up_bds = bds\n",
    "\n",
    "    X = X.flatten(1)\n",
    "    X_seqs = []\n",
    "    Y_seqs = []\n",
    "    for low_bd, up_bd in zip(low_bds, up_bds):\n",
    "        X_seq = X[low_bd:up_bd, :].unsqueeze(1)\n",
    "        X_seqs.append(X_seq)\n",
    "        if Y is not None:\n",
    "            Y_seq = Y[low_bd:up_bd].unsqueeze(1)\n",
    "            Y_seqs.append(Y_seq)\n",
    "    if Y is not None:\n",
    "        return torch.cat(X_seqs, dim=1), torch.cat(Y_seqs, dim=1)\n",
    "    else:\n",
    "        return torch.cat(X_seqs, dim=1)\n",
    "        "
   ]
  },
  {
   "cell_type": "code",
   "execution_count": 13,
   "id": "2db4078d-5415-4185-9076-db8bdcff80db",
   "metadata": {
    "execution": {
     "iopub.execute_input": "2023-04-22T06:52:30.905723Z",
     "iopub.status.busy": "2023-04-22T06:52:30.905116Z",
     "iopub.status.idle": "2023-04-22T06:52:30.919893Z",
     "shell.execute_reply": "2023-04-22T06:52:30.918875Z",
     "shell.execute_reply.started": "2023-04-22T06:52:30.905677Z"
    },
    "tags": []
   },
   "outputs": [],
   "source": [
    "def batch_corr_fn(X_raw, X_pred):\n",
    "    \"\"\"Calculate pearons'r in batch\n",
    "        X_raw: num_p x len_vec\n",
    "        X_pred: num_p x len_vec\n",
    "    \"\"\"\n",
    "    X_raw_mean = X_raw.mean(axis=-1, keepdims=True)\n",
    "    X_raw_std = X_raw.std(axis=-1, keepdims=True)\n",
    "    X_pred_mean = X_pred.mean(axis=-1, keepdims=True)\n",
    "    X_pred_std = X_pred.std(axis=-1, keepdims=True)\n",
    "    num = ((X_raw - X_raw_mean)*(X_pred-X_pred_mean)).sum(axis=-1)\n",
    "    den = torch.sqrt(((X_raw - X_raw_mean)**2).sum(axis=-1)*((X_pred-X_pred_mean)**2).sum(axis=-1))\n",
    "    corrs = num/den\n",
    "    return corrs\n",
    "\n",
    "def evaluate(all_data):\n",
    "    num_sub, len_seq, _, _ = all_data.shape\n",
    "    all_data_raw = torch.tensor(all_data).transpose(1, 0)\n",
    "    all_data_input = (all_data_raw - all_data_raw.mean(axis=-1, keepdims=True))/all_data_raw.std(axis=-1, keepdims=True);\n",
    "    all_data_input = all_data_input.flatten(2);\n",
    "    \n",
    "    Y_pred = rnn(all_data_input);\n",
    "    X_pred = sgm_net(Y_pred.flatten(0, 1));\n",
    "    corrs = batch_corr_fn(all_data_raw.flatten(0, 1), X_pred);\n",
    "    corrs = corrs.reshape(len_seq, num_sub, -1).transpose(1, 0)\n",
    "    return corrs.detach().numpy()"
   ]
  },
  {
   "cell_type": "code",
   "execution_count": 36,
   "id": "ace453aa",
   "metadata": {
    "ExecuteTime": {
     "end_time": "2023-04-04T19:25:30.343060Z",
     "start_time": "2023-04-04T19:25:30.335835Z"
    },
    "execution": {
     "iopub.execute_input": "2023-04-22T23:25:17.241245Z",
     "iopub.status.busy": "2023-04-22T23:25:17.240597Z",
     "iopub.status.idle": "2023-04-22T23:25:17.560859Z",
     "shell.execute_reply": "2023-04-22T23:25:17.560415Z",
     "shell.execute_reply.started": "2023-04-22T23:25:17.241197Z"
    },
    "tags": []
   },
   "outputs": [],
   "source": [
    "paras_rnn = edict()\n",
    "paras_rnn.batchsize = 128\n",
    "paras_rnn.niter = 500\n",
    "paras_rnn.loss_out = 5\n",
    "paras_rnn.eval_out = 20\n",
    "paras_rnn.clip = 1 # from \n",
    "paras_rnn.lr_step = 10\n",
    "\n",
    "paras_rnn.k = 1\n",
    "paras_rnn.hidden_dim = int(1024/1)\n",
    "paras_rnn.output_dim = 7\n",
    "paras_rnn.input_dim = 68*len(paras.freqs)\n",
    "paras_rnn.is_bidirectional = False\n",
    "paras_rnn.dy_mask = [1, 1, 1, 1, 1, 1, 0] \n",
    "\n",
    "#  real data, should be len_seq x nrois x nfreqs\n",
    "data_idx = 0\n",
    "cur_data = psd_all[:, :, :, 1].transpose(2, 0, 1)\n",
    "#  real data, should be num_sub x len_seq x nrois x nfreqs\n",
    "all_data = psd_all.transpose(3, 2, 0, 1);\n",
    "\n",
    "all_data_raw = torch.tensor(all_data).transpose(1, 0)\n",
    "all_data_input = (all_data_raw - all_data_raw.mean(axis=-1, keepdims=True))/all_data_raw.std(axis=-1, keepdims=True);\n",
    "all_data_input = all_data_input.flatten(2);"
   ]
  },
  {
   "cell_type": "code",
   "execution_count": 37,
   "id": "2b8b59c2",
   "metadata": {
    "ExecuteTime": {
     "end_time": "2023-04-04T20:27:57.475018Z",
     "start_time": "2023-04-04T20:27:57.334374Z"
    },
    "execution": {
     "iopub.execute_input": "2023-04-22T23:25:17.843213Z",
     "iopub.status.busy": "2023-04-22T23:25:17.842663Z",
     "iopub.status.idle": "2023-04-22T23:25:17.994867Z",
     "shell.execute_reply": "2023-04-22T23:25:17.994423Z",
     "shell.execute_reply.started": "2023-04-22T23:25:17.843167Z"
    },
    "tags": []
   },
   "outputs": [
    {
     "name": "stdout",
     "output_type": "stream",
     "text": [
      "Adjusting learning rate of group 0 to 2.0000e-04.\n"
     ]
    },
    {
     "data": {
      "text/plain": [
       "<torch.optim.lr_scheduler.ExponentialLR at 0x7fd9ff9a4fa0>"
      ]
     },
     "execution_count": 37,
     "metadata": {},
     "output_type": "execute_result"
    }
   ],
   "source": [
    "rnn = LSTM_SGM(input_dim=paras_rnn.input_dim, \n",
    "               hidden_dim=paras_rnn.hidden_dim, \n",
    "               output_dim=paras_rnn.output_dim, \n",
    "               is_bidirectional=paras_rnn.is_bidirectional, \n",
    "               prior_bds=torch.tensor(paras.prior_bds), \n",
    "               k = paras_rnn.k, \n",
    "               dy_mask = paras_rnn.dy_mask\n",
    ")\n",
    "loss_fn = nn.MSELoss()\n",
    "#loss_fn = weighted_mse_loss\n",
    "#loss_fn = cos_simi_loss\n",
    "\n",
    "optimizer = torch.optim.AdamW(rnn.parameters(), lr=2e-4, weight_decay=0)\n",
    "scheduler = ExponentialLR(optimizer, gamma=0.9, verbose=True)"
   ]
  },
  {
   "cell_type": "code",
   "execution_count": null,
   "id": "16653792",
   "metadata": {
    "ExecuteTime": {
     "end_time": "2023-04-04T20:39:31.112388Z",
     "start_time": "2023-04-04T20:27:58.069870Z"
    },
    "execution": {
     "iopub.execute_input": "2023-04-22T23:25:25.504455Z",
     "iopub.status.busy": "2023-04-22T23:25:25.503817Z"
    },
    "scrolled": true,
    "tags": []
   },
   "outputs": [
    {
     "name": "stdout",
     "output_type": "stream",
     "text": [
      "At iter 5/500, the losses are 0.61709 (train). The time used is 31.692s. \n",
      "Adjusting learning rate of group 0 to 1.8000e-04.\n",
      "At iter 10/500, the losses are 0.40411 (train). The time used is 29.297s. \n",
      "At iter 15/500, the losses are 0.38155 (train). The time used is 28.087s. \n",
      "Adjusting learning rate of group 0 to 1.6200e-04.\n",
      "At iter 20/500, the losses are 0.36236 (train). The time used is 29.118s. \n",
      "====================================================================================================\n",
      "At iter 20/500, the losses on all data are 0.81552. The time used is 3.186s. \n",
      "====================================================================================================\n",
      "At iter 25/500, the losses are 0.35664 (train). The time used is 30.938s. \n",
      "Adjusting learning rate of group 0 to 1.4580e-04.\n",
      "At iter 30/500, the losses are 0.35317 (train). The time used is 27.612s. \n",
      "At iter 35/500, the losses are 0.35028 (train). The time used is 25.320s. \n",
      "Adjusting learning rate of group 0 to 1.3122e-04.\n",
      "At iter 40/500, the losses are 0.34859 (train). The time used is 28.528s. \n",
      "====================================================================================================\n",
      "At iter 40/500, the losses on all data are 0.82151. The time used is 2.505s. \n",
      "====================================================================================================\n",
      "At iter 45/500, the losses are 0.34704 (train). The time used is 27.307s. \n",
      "Adjusting learning rate of group 0 to 1.1810e-04.\n",
      "At iter 50/500, the losses are 0.34562 (train). The time used is 25.627s. \n",
      "At iter 55/500, the losses are 0.34436 (train). The time used is 26.450s. \n",
      "Adjusting learning rate of group 0 to 1.0629e-04.\n",
      "At iter 60/500, the losses are 0.34321 (train). The time used is 25.832s. \n",
      "====================================================================================================\n",
      "At iter 60/500, the losses on all data are 0.82425. The time used is 1.970s. \n",
      "====================================================================================================\n",
      "At iter 65/500, the losses are 0.34211 (train). The time used is 24.401s. \n",
      "Adjusting learning rate of group 0 to 9.5659e-05.\n",
      "At iter 70/500, the losses are 0.34116 (train). The time used is 25.517s. \n",
      "At iter 75/500, the losses are 0.34025 (train). The time used is 27.367s. \n"
     ]
    }
   ],
   "source": [
    "# training\n",
    "loss_cur = 0\n",
    "losses = []\n",
    "losses_test = []\n",
    "\n",
    "t0 = time.time()\n",
    "sgm_net.eval()\n",
    "for ix in range(paras_rnn.niter):\n",
    "    rnn.train()\n",
    "    #X_seq = random_samples_rnn(all_data[24], \n",
    "    #                           batchsize=paras_rnn.batchsize)\n",
    "    X_seq = all_data_input\n",
    "    # Zero the gradients\n",
    "    optimizer.zero_grad()\n",
    "    \n",
    "    theta_pred = rnn(X_seq)\n",
    "    X_pred = sgm_net(theta_pred.flatten(0, 1))\n",
    "    loss = loss_fn(X_seq.flatten(0, 1).reshape(-1, 68, len(paras.freqs)),\n",
    "                   X_pred)\n",
    "    \n",
    "    # Perform backward pass\n",
    "    loss.backward()\n",
    "    \n",
    "    torch.nn.utils.clip_grad_norm_(rnn.parameters(), paras_rnn.clip)\n",
    "    # Perform optimization\n",
    "    optimizer.step()\n",
    "    \n",
    "    if ix % paras_rnn.lr_step == (paras_rnn.lr_step-1):\n",
    "        scheduler.step()\n",
    "    \n",
    "    loss_cur = loss_cur + loss.item()\n",
    "    if ix % paras_rnn.loss_out == (paras_rnn.loss_out-1):\n",
    "        losses.append(loss_cur/paras_rnn.loss_out)\n",
    "        print(f\"At iter {ix+1}/{paras_rnn.niter}, \"\n",
    "              f\"the losses are {loss_cur/paras_rnn.loss_out:.5f} (train). \"\n",
    "              f\"The time used is {delta_time(t0):.3f}s. \"\n",
    "             )\n",
    "        loss_cur = 0\n",
    "        t0 = time.time()\n",
    "        \n",
    "    if ix % paras_rnn.eval_out == (paras_rnn.eval_out-1):\n",
    "        rnn.eval()\n",
    "        loss_test = evaluate(all_data).mean()\n",
    "        losses_test.append(loss_test)\n",
    "        print(f\"=\"*100)\n",
    "        print(f\"At iter {ix+1}/{paras_rnn.niter}, \"\n",
    "              f\"the losses on all data are {loss_test:.5f}. \"\n",
    "              f\"The time used is {delta_time(t0):.3f}s. \"\n",
    "             )\n",
    "        print(f\"=\"*100)\n",
    "        t0 = time.time()\n",
    "    \n"
   ]
  },
  {
   "cell_type": "code",
   "execution_count": 29,
   "id": "041b9d90",
   "metadata": {
    "ExecuteTime": {
     "end_time": "2023-04-04T20:55:50.277877Z",
     "start_time": "2023-04-04T20:55:50.180639Z"
    },
    "execution": {
     "iopub.execute_input": "2023-04-22T21:09:53.162684Z",
     "iopub.status.busy": "2023-04-22T21:09:53.162057Z",
     "iopub.status.idle": "2023-04-22T21:09:53.326200Z",
     "shell.execute_reply": "2023-04-22T21:09:53.325732Z",
     "shell.execute_reply.started": "2023-04-22T21:09:53.162639Z"
    },
    "tags": []
   },
   "outputs": [
    {
     "data": {
      "image/png": "[encoded data removed]",
      "text/plain": [
       "<Figure size 432x288 with 1 Axes>"
      ]
     },
     "metadata": {
      "needs_background": "light"
     },
     "output_type": "display_data"
    }
   ],
   "source": [
    "plt.plot(losses[:])\n",
    "plt.yscale(\"log\")"
   ]
  },
  {
   "cell_type": "code",
   "execution_count": null,
   "id": "20c1147e",
   "metadata": {},
   "outputs": [],
   "source": []
  },
  {
   "cell_type": "markdown",
   "id": "2ef8fc65",
   "metadata": {},
   "source": [
    "# Save"
   ]
  },
  {
   "cell_type": "code",
   "execution_count": 30,
   "id": "e11d6603-bb35-4621-8d20-25265af5685e",
   "metadata": {
    "execution": {
     "iopub.execute_input": "2023-04-22T21:10:01.726233Z",
     "iopub.status.busy": "2023-04-22T21:10:01.725618Z",
     "iopub.status.idle": "2023-04-22T21:10:01.732102Z",
     "shell.execute_reply": "2023-04-22T21:10:01.730857Z",
     "shell.execute_reply.started": "2023-04-22T21:10:01.726187Z"
    },
    "tags": []
   },
   "outputs": [],
   "source": [
    "folder_name = f\"LSTM_simu_net_mse\";"
   ]
  },
  {
   "cell_type": "code",
   "execution_count": 31,
   "id": "8865f4f0",
   "metadata": {
    "ExecuteTime": {
     "end_time": "2023-04-04T20:56:01.835052Z",
     "start_time": "2023-04-04T20:55:55.813367Z"
    },
    "execution": {
     "iopub.execute_input": "2023-04-22T21:10:05.726582Z",
     "iopub.status.busy": "2023-04-22T21:10:05.725807Z",
     "iopub.status.idle": "2023-04-22T21:10:12.200484Z",
     "shell.execute_reply": "2023-04-22T21:10:12.199265Z",
     "shell.execute_reply.started": "2023-04-22T21:10:05.726531Z"
    },
    "tags": []
   },
   "outputs": [
    {
     "name": "stdout",
     "output_type": "stream",
     "text": [
      "/data/rajlab1/user_data/jin/MyResearch/TV-SGM/notebooks/../mypkg/../results/LSTM_simu_net_wmse_tau\n",
      "Create a folder /data/rajlab1/user_data/jin/MyResearch/TV-SGM/notebooks/../mypkg/../results/LSTM_simu_net_wmse_tau\n",
      "Save to /data/rajlab1/user_data/jin/MyResearch/TV-SGM/notebooks/../mypkg/../results/LSTM_simu_net_wmse_tau/model.pkl\n",
      "Save to /data/rajlab1/user_data/jin/MyResearch/TV-SGM/notebooks/../mypkg/../results/LSTM_simu_net_wmse_tau/loss_fn.pkl\n",
      "Save to /data/rajlab1/user_data/jin/MyResearch/TV-SGM/notebooks/../mypkg/../results/LSTM_simu_net_wmse_tau/optimizer.pkl\n",
      "Save to /data/rajlab1/user_data/jin/MyResearch/TV-SGM/notebooks/../mypkg/../results/LSTM_simu_net_wmse_tau/paras.pkl\n",
      "Save to /data/rajlab1/user_data/jin/MyResearch/TV-SGM/notebooks/../mypkg/../results/LSTM_simu_net_wmse_tau/loss.pkl\n"
     ]
    }
   ],
   "source": [
    "if (RES_ROOT/folder_name).exists():\n",
    "    trained_model = load_pkl_folder2dict(RES_ROOT/folder_name)\n",
    "else:\n",
    "    trained_model = edict()\n",
    "    trained_model.model = rnn\n",
    "    trained_model.loss_fn = loss_fn\n",
    "    trained_model.optimizer = optimizer\n",
    "    trained_model.paras = paras_rnn\n",
    "    trained_model.loss = losses\n",
    "    save_pkl_dict2folder(RES_ROOT/folder_name, trained_model, is_force=False)"
   ]
  },
  {
   "cell_type": "code",
   "execution_count": null,
   "id": "ef95b8d8-ed67-42b4-baac-8448f6cb203f",
   "metadata": {},
   "outputs": [],
   "source": []
  },
  {
   "cell_type": "markdown",
   "id": "73a978aa-d304-4743-871a-7c56d5e0a3e6",
   "metadata": {},
   "source": [
    "# PSD "
   ]
  },
  {
   "cell_type": "code",
   "execution_count": 32,
   "id": "06ca1333-81c2-4dfe-a619-c749f077704a",
   "metadata": {
    "execution": {
     "iopub.execute_input": "2023-04-22T21:10:19.019089Z",
     "iopub.status.busy": "2023-04-22T21:10:19.018427Z",
     "iopub.status.idle": "2023-04-22T21:10:27.087463Z",
     "shell.execute_reply": "2023-04-22T21:10:27.086734Z",
     "shell.execute_reply.started": "2023-04-22T21:10:19.019041Z"
    },
    "tags": []
   },
   "outputs": [
    {
     "name": "stderr",
     "output_type": "stream",
     "text": [
      "100%|██████████████████████████████████████████████████████████████████████████████████████████████████████████████████████████████████████████| 36/36 [00:08<00:00,  4.49it/s]"
     ]
    },
    {
     "name": "stdout",
     "output_type": "stream",
     "text": [
      "/data/rajlab1/user_data/jin/MyResearch/TV-SGM/notebooks/../mypkg/../results/LSTM_simu_net_wmse_tau/model.pkl exists! Use is_force=True to save it anyway\n",
      "/data/rajlab1/user_data/jin/MyResearch/TV-SGM/notebooks/../mypkg/../results/LSTM_simu_net_wmse_tau/loss_fn.pkl exists! Use is_force=True to save it anyway\n",
      "/data/rajlab1/user_data/jin/MyResearch/TV-SGM/notebooks/../mypkg/../results/LSTM_simu_net_wmse_tau/optimizer.pkl exists! Use is_force=True to save it anyway\n",
      "/data/rajlab1/user_data/jin/MyResearch/TV-SGM/notebooks/../mypkg/../results/LSTM_simu_net_wmse_tau/paras.pkl exists! Use is_force=True to save it anyway\n",
      "/data/rajlab1/user_data/jin/MyResearch/TV-SGM/notebooks/../mypkg/../results/LSTM_simu_net_wmse_tau/loss.pkl exists! Use is_force=True to save it anyway\n",
      "Save to /data/rajlab1/user_data/jin/MyResearch/TV-SGM/notebooks/../mypkg/../results/LSTM_simu_net_wmse_tau/sgm_paramss_est.pkl\n"
     ]
    },
    {
     "name": "stderr",
     "output_type": "stream",
     "text": [
      "\n"
     ]
    }
   ],
   "source": [
    "trained_model.model.eval()\n",
    "sgm_paramss_est = []\n",
    "for data_idx  in trange(36):\n",
    "    cur_data = psd_all[:, :, :, data_idx].transpose(2, 0, 1)\n",
    "    X_test = random_samples_rnn(cur_data,\n",
    "                                bds=[[0], [360]],\n",
    "                                theta2raw_fn=None)\n",
    "    with torch.no_grad():\n",
    "        Y_pred = trained_model.model(X_test).squeeze()\n",
    "        sgm_paramss_est.append(Y_pred.numpy())\n",
    "sgm_paramss_est = np.array(sgm_paramss_est);\n",
    "\n",
    "trained_model.sgm_paramss_est = sgm_paramss_est\n",
    "save_pkl_dict2folder(RES_ROOT/folder_name, trained_model, is_force=False)"
   ]
  },
  {
   "cell_type": "code",
   "execution_count": 33,
   "id": "979b9959-fc04-4564-a446-d68c34e68703",
   "metadata": {
    "execution": {
     "iopub.execute_input": "2023-04-22T21:10:33.011145Z",
     "iopub.status.busy": "2023-04-22T21:10:33.010388Z",
     "iopub.status.idle": "2023-04-22T22:12:32.399796Z",
     "shell.execute_reply": "2023-04-22T22:12:32.398147Z",
     "shell.execute_reply.started": "2023-04-22T21:10:33.011095Z"
    },
    "tags": []
   },
   "outputs": [
    {
     "name": "stderr",
     "output_type": "stream",
     "text": [
      "100%|████████████████████████████████████████████████████████████████████████████████████████████████████████████████████████████████████████| 360/360 [01:41<00:00,  3.56it/s]\n",
      "100%|████████████████████████████████████████████████████████████████████████████████████████████████████████████████████████████████████████| 360/360 [01:42<00:00,  3.51it/s]\n",
      "100%|████████████████████████████████████████████████████████████████████████████████████████████████████████████████████████████████████████| 360/360 [01:41<00:00,  3.53it/s]\n",
      "100%|████████████████████████████████████████████████████████████████████████████████████████████████████████████████████████████████████████| 360/360 [01:42<00:00,  3.53it/s]\n",
      "100%|████████████████████████████████████████████████████████████████████████████████████████████████████████████████████████████████████████| 360/360 [01:43<00:00,  3.49it/s]\n",
      "100%|████████████████████████████████████████████████████████████████████████████████████████████████████████████████████████████████████████| 360/360 [01:41<00:00,  3.54it/s]\n",
      "100%|████████████████████████████████████████████████████████████████████████████████████████████████████████████████████████████████████████| 360/360 [01:42<00:00,  3.52it/s]\n",
      "100%|████████████████████████████████████████████████████████████████████████████████████████████████████████████████████████████████████████| 360/360 [01:41<00:00,  3.55it/s]\n",
      "100%|████████████████████████████████████████████████████████████████████████████████████████████████████████████████████████████████████████| 360/360 [01:45<00:00,  3.40it/s]\n",
      "100%|████████████████████████████████████████████████████████████████████████████████████████████████████████████████████████████████████████| 360/360 [01:44<00:00,  3.44it/s]\n",
      "100%|████████████████████████████████████████████████████████████████████████████████████████████████████████████████████████████████████████| 360/360 [01:40<00:00,  3.59it/s]\n",
      "100%|████████████████████████████████████████████████████████████████████████████████████████████████████████████████████████████████████████| 360/360 [01:40<00:00,  3.57it/s]\n",
      "100%|████████████████████████████████████████████████████████████████████████████████████████████████████████████████████████████████████████| 360/360 [01:40<00:00,  3.58it/s]\n",
      "100%|████████████████████████████████████████████████████████████████████████████████████████████████████████████████████████████████████████| 360/360 [01:41<00:00,  3.54it/s]\n",
      "100%|████████████████████████████████████████████████████████████████████████████████████████████████████████████████████████████████████████| 360/360 [01:41<00:00,  3.54it/s]\n",
      "100%|████████████████████████████████████████████████████████████████████████████████████████████████████████████████████████████████████████| 360/360 [01:44<00:00,  3.43it/s]\n",
      "100%|████████████████████████████████████████████████████████████████████████████████████████████████████████████████████████████████████████| 360/360 [01:41<00:00,  3.56it/s]\n",
      "100%|████████████████████████████████████████████████████████████████████████████████████████████████████████████████████████████████████████| 360/360 [01:43<00:00,  3.48it/s]\n",
      "100%|████████████████████████████████████████████████████████████████████████████████████████████████████████████████████████████████████████| 360/360 [01:42<00:00,  3.50it/s]\n",
      "100%|████████████████████████████████████████████████████████████████████████████████████████████████████████████████████████████████████████| 360/360 [01:42<00:00,  3.50it/s]\n",
      "100%|████████████████████████████████████████████████████████████████████████████████████████████████████████████████████████████████████████| 360/360 [01:42<00:00,  3.52it/s]\n",
      "100%|████████████████████████████████████████████████████████████████████████████████████████████████████████████████████████████████████████| 360/360 [01:43<00:00,  3.49it/s]\n",
      "100%|████████████████████████████████████████████████████████████████████████████████████████████████████████████████████████████████████████| 360/360 [01:41<00:00,  3.56it/s]\n",
      "100%|████████████████████████████████████████████████████████████████████████████████████████████████████████████████████████████████████████| 360/360 [01:41<00:00,  3.54it/s]\n",
      "100%|████████████████████████████████████████████████████████████████████████████████████████████████████████████████████████████████████████| 360/360 [01:42<00:00,  3.52it/s]\n",
      "100%|████████████████████████████████████████████████████████████████████████████████████████████████████████████████████████████████████████| 360/360 [01:41<00:00,  3.56it/s]\n",
      "100%|████████████████████████████████████████████████████████████████████████████████████████████████████████████████████████████████████████| 360/360 [01:41<00:00,  3.56it/s]\n",
      "100%|████████████████████████████████████████████████████████████████████████████████████████████████████████████████████████████████████████| 360/360 [01:42<00:00,  3.52it/s]\n",
      "100%|████████████████████████████████████████████████████████████████████████████████████████████████████████████████████████████████████████| 360/360 [01:41<00:00,  3.56it/s]\n",
      "100%|████████████████████████████████████████████████████████████████████████████████████████████████████████████████████████████████████████| 360/360 [01:43<00:00,  3.48it/s]\n",
      "100%|████████████████████████████████████████████████████████████████████████████████████████████████████████████████████████████████████████| 360/360 [01:42<00:00,  3.50it/s]\n",
      "100%|████████████████████████████████████████████████████████████████████████████████████████████████████████████████████████████████████████| 360/360 [01:43<00:00,  3.48it/s]\n",
      "100%|████████████████████████████████████████████████████████████████████████████████████████████████████████████████████████████████████████| 360/360 [01:40<00:00,  3.57it/s]\n",
      "100%|████████████████████████████████████████████████████████████████████████████████████████████████████████████████████████████████████████| 360/360 [01:43<00:00,  3.48it/s]\n",
      "100%|████████████████████████████████████████████████████████████████████████████████████████████████████████████████████████████████████████| 360/360 [01:43<00:00,  3.49it/s]\n",
      "100%|████████████████████████████████████████████████████████████████████████████████████████████████████████████████████████████████████████| 360/360 [01:43<00:00,  3.49it/s]\n"
     ]
    },
    {
     "name": "stdout",
     "output_type": "stream",
     "text": [
      "/data/rajlab1/user_data/jin/MyResearch/TV-SGM/notebooks/../mypkg/../results/LSTM_simu_net_wmse_tau/model.pkl exists! Use is_force=True to save it anyway\n",
      "/data/rajlab1/user_data/jin/MyResearch/TV-SGM/notebooks/../mypkg/../results/LSTM_simu_net_wmse_tau/loss_fn.pkl exists! Use is_force=True to save it anyway\n",
      "/data/rajlab1/user_data/jin/MyResearch/TV-SGM/notebooks/../mypkg/../results/LSTM_simu_net_wmse_tau/optimizer.pkl exists! Use is_force=True to save it anyway\n",
      "/data/rajlab1/user_data/jin/MyResearch/TV-SGM/notebooks/../mypkg/../results/LSTM_simu_net_wmse_tau/paras.pkl exists! Use is_force=True to save it anyway\n",
      "/data/rajlab1/user_data/jin/MyResearch/TV-SGM/notebooks/../mypkg/../results/LSTM_simu_net_wmse_tau/loss.pkl exists! Use is_force=True to save it anyway\n",
      "/data/rajlab1/user_data/jin/MyResearch/TV-SGM/notebooks/../mypkg/../results/LSTM_simu_net_wmse_tau/sgm_paramss_est.pkl exists! Use is_force=True to save it anyway\n",
      "Save to /data/rajlab1/user_data/jin/MyResearch/TV-SGM/notebooks/../mypkg/../results/LSTM_simu_net_wmse_tau/Rec_PSD.pkl\n"
     ]
    }
   ],
   "source": [
    "# calculate rec PSD and save, only need once\n",
    "import multiprocessing as mp\n",
    "num_core = 20\n",
    "\n",
    "sgmmodel = SGM(paras.C, paras.D, paras.freqs)\n",
    "def fn(sgm_param):\n",
    "    cur_PSD = sgmmodel.run_local_coupling_forward(sgm_param)\n",
    "    return cur_PSD[:68]\n",
    "    \n",
    "if __name__ == \"__main__\":\n",
    "    X_recs = []\n",
    "    for sgm_params_est in sgm_paramss_est:\n",
    "        with mp.Pool(num_core) as pool:\n",
    "            all_procs = pool.imap(fn, sgm_params_est)\n",
    "            X_rec = list(tqdm(all_procs, total=len(sgm_params_est)))\n",
    "        X_recs.append(X_rec)\n",
    "# save\n",
    "trained_model.Rec_PSD = np.array(X_recs)\n",
    "save_pkl_dict2folder(RES_ROOT/folder_name, trained_model, is_force=False)"
   ]
  },
  {
   "cell_type": "code",
   "execution_count": null,
   "id": "043ff2fb-e467-4a8f-b576-01905f2cb496",
   "metadata": {},
   "outputs": [],
   "source": []
  }
 ],
 "metadata": {
  "kernelspec": {
   "display_name": "Python 3 (ipykernel)",
   "language": "python",
   "name": "python3"
  },
  "language_info": {
   "codemirror_mode": {
    "name": "ipython",
    "version": 3
   },
   "file_extension": ".py",
   "mimetype": "text/x-python",
   "name": "python",
   "nbconvert_exporter": "python",
   "pygments_lexer": "ipython3",
   "version": "3.9.7"
  },
  "toc": {
   "base_numbering": 1,
   "nav_menu": {},
   "number_sections": true,
   "sideBar": true,
   "skip_h1_title": false,
   "title_cell": "Table of Contents",
   "title_sidebar": "Contents",
   "toc_cell": false,
   "toc_position": {
    "height": "calc(100% - 180px)",
    "left": "10px",
    "top": "150px",
    "width": "165px"
   },
   "toc_section_display": true,
   "toc_window_display": true
  },
  "toc-autonumbering": true,
  "toc-showcode": false
 },
 "nbformat": 4,
 "nbformat_minor": 5
}
