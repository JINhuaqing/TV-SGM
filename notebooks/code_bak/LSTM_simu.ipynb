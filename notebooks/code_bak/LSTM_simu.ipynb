{
 "cells": [
  {
   "cell_type": "markdown",
   "id": "e873b21d",
   "metadata": {},
   "source": [
    "Here, I test whether my LSTM net works or not to estimate SGM parameters (Apr 1, 2023)\n",
    "\n",
    "I use the simulated data not the truth MEG"
   ]
  },
  {
   "cell_type": "code",
   "execution_count": 22,
   "id": "78809f74",
   "metadata": {
    "ExecuteTime": {
     "end_time": "2023-04-02T08:11:54.794807Z",
     "start_time": "2023-04-02T08:11:54.789300Z"
    }
   },
   "outputs": [],
   "source": [
    "import sys\n",
    "sys.path.append(\"../mypkg\")\n",
    "from constants import RES_ROOT, FIG_ROOT, DATA_ROOT"
   ]
  },
  {
   "cell_type": "code",
   "execution_count": 23,
   "id": "25c9e8d6",
   "metadata": {
    "ExecuteTime": {
     "end_time": "2023-04-02T08:11:55.137287Z",
     "start_time": "2023-04-02T08:11:55.126109Z"
    }
   },
   "outputs": [],
   "source": [
    "import numpy as np\n",
    "import scipy\n",
    "import matplotlib.pyplot as plt\n",
    "import seaborn as sns\n",
    "from easydict import EasyDict as edict\n",
    "from tqdm import trange, tqdm\n",
    "import time\n",
    "\n",
    "plt.style.use(FIG_ROOT/\"base.mplstyle\")\n",
    "%matplotlib inline"
   ]
  },
  {
   "cell_type": "code",
   "execution_count": 24,
   "id": "fdaa1032",
   "metadata": {
    "ExecuteTime": {
     "end_time": "2023-04-02T08:11:55.479519Z",
     "start_time": "2023-04-02T08:11:55.442204Z"
    }
   },
   "outputs": [
    {
     "data": {
      "text/plain": [
       "<module 'models.lstm' from '/data/rajlab1/user_data/jin/MyResearch/TV-SGM/notebooks/../mypkg/models/lstm.py'>"
      ]
     },
     "execution_count": 24,
     "metadata": {},
     "output_type": "execute_result"
    }
   ],
   "source": [
    "import importlib\n",
    "import models.lstm\n",
    "importlib.reload(models.lstm)"
   ]
  },
  {
   "cell_type": "code",
   "execution_count": 99,
   "id": "bb57c825",
   "metadata": {
    "ExecuteTime": {
     "end_time": "2023-04-02T21:27:01.618951Z",
     "start_time": "2023-04-02T21:27:01.612910Z"
    }
   },
   "outputs": [],
   "source": [
    "from utils.reparam import theta2raw_torch, raw2theta_torch, raw2theta_np\n",
    "from spectrome import Brain\n",
    "from sgm.sgm_fixed import SGM\n",
    "from utils.misc import save_pkl, save_pkl_dict2folder, load_pkl, load_pkl_folder2dict, delta_time\n",
    "from models.lstm import LSTM_SGM\n",
    "from utils.standardize import std_mat, std_vec"
   ]
  },
  {
   "cell_type": "code",
   "execution_count": 26,
   "id": "11b4f6ad",
   "metadata": {
    "ExecuteTime": {
     "end_time": "2023-04-02T08:11:57.914125Z",
     "start_time": "2023-04-02T08:11:57.906818Z"
    }
   },
   "outputs": [],
   "source": [
    "# pkgs for pytorch ( Mar 27, 2023) \n",
    "import torch\n",
    "import torch.nn as nn\n",
    "from torch.functional import F\n",
    "from torch.optim.lr_scheduler import ExponentialLR\n",
    "\n",
    "torch.set_default_dtype(torch.float64)\n",
    "if torch.cuda.is_available():\n",
    "    torch.cuda.set_device(2)\n",
    "    torch.set_default_tensor_type(torch.cuda.DoubleTensor)\n",
    "    torch.backends.cudnn.benchmark = True\n",
    "else:\n",
    "    torch.set_default_tensor_type(torch.DoubleTensor)"
   ]
  },
  {
   "cell_type": "code",
   "execution_count": null,
   "id": "caada28d",
   "metadata": {},
   "outputs": [],
   "source": []
  },
  {
   "cell_type": "markdown",
   "id": "a717cc10",
   "metadata": {},
   "source": [
    "## Data, fn and paras"
   ]
  },
  {
   "cell_type": "code",
   "execution_count": 6,
   "id": "858575a8",
   "metadata": {
    "ExecuteTime": {
     "end_time": "2023-04-02T07:48:10.442850Z",
     "start_time": "2023-04-02T07:48:10.411662Z"
    }
   },
   "outputs": [],
   "source": [
    "# Load the Connectome\n",
    "brain = Brain.Brain()\n",
    "brain.add_connectome(DATA_ROOT)\n",
    "brain.reorder_connectome(brain.connectome, brain.distance_matrix)\n",
    "brain.bi_symmetric_c()\n",
    "brain.reduce_extreme_dir()"
   ]
  },
  {
   "cell_type": "code",
   "execution_count": 7,
   "id": "9c620927",
   "metadata": {
    "ExecuteTime": {
     "end_time": "2023-04-02T07:48:11.563306Z",
     "start_time": "2023-04-02T07:48:11.554387Z"
    }
   },
   "outputs": [],
   "source": [
    "# some constant parameters for this file\n",
    "paras = edict()\n",
    "\n",
    "## I reorder them in an alphabetical order and I change tauC to tauG (Mar 27, 2023)\n",
    "## the orginal order is taue, taui, tauC, speed, alpha, gii, gei\n",
    "## paras.par_low = np.asarray([0.005,0.005,0.005,5, 0.1,0.001,0.001])\n",
    "## paras.par_high = np.asarray([0.03, 0.20, 0.03,20,  1,    2,  0.7])\n",
    "##\n",
    "\n",
    "# alpha, gei, gii, taue, tauG, taui, speed \n",
    "paras.par_low = np.array([0.1, 0.001,0.001, 0.005, 0.005, 0.005, 5])\n",
    "paras.par_high = np.asarray([1, 0.7, 2, 0.03, 0.03, 0.20, 20])\n",
    "paras.prior_bds = np.array([paras.par_low, paras.par_high]).T\n",
    "paras.names = [\"alpha\", \"gei\", \"gii\", \"Taue\", \"TauG\", \"Taui\", \"Speed\"]\n",
    "\n",
    "paras.C = brain.reducedConnectome\n",
    "paras.D = brain.distance_matrix\n",
    "paras.freqs = np.linspace(2, 45, 40)"
   ]
  },
  {
   "cell_type": "code",
   "execution_count": 8,
   "id": "54810d5d",
   "metadata": {
    "ExecuteTime": {
     "end_time": "2023-04-02T07:48:20.016172Z",
     "start_time": "2023-04-02T07:48:19.874594Z"
    },
    "code_folding": [
     12
    ]
   },
   "outputs": [],
   "source": [
    "# running parameters\n",
    "# May change\n",
    "\n",
    "paras_run = edict()\n",
    "\n",
    "paras_run.n = 1000\n",
    "# note k can differ from SGM_net\n",
    "paras_run.k = 1.0 # the parameter for reparameterization in logistic\n",
    "paras_run.sd = 10 # The std to generate SGM parameters in raw scale (R)\n",
    "\n",
    "# to generate ARMA TS\n",
    "from statsmodels.tsa.arima_process import arma_generate_sample\n",
    "\n",
    "def gen_arma_ts(n, ndim=7):\n",
    "    \"\"\"Generate ARMA ndim-vec ts.\n",
    "    \"\"\"\n",
    "    # ARMA(2, 2)\n",
    "    ys = []\n",
    "    for ix in range(ndim):\n",
    "        arparams = np.array([.75, -.25])\n",
    "        maparams = np.array([.65, .35])\n",
    "        ar = np.r_[1, -arparams] # add zero-lag and negate\n",
    "        ma = np.r_[1, maparams] # add zero-lag\n",
    "        y = arma_generate_sample(ar, ma, n)\n",
    "        ys.append(y)\n",
    "    return np.array(ys)"
   ]
  },
  {
   "cell_type": "markdown",
   "id": "009118ba",
   "metadata": {},
   "source": [
    "## Generate simulated data"
   ]
  },
  {
   "cell_type": "code",
   "execution_count": 16,
   "id": "9af8a31c",
   "metadata": {
    "ExecuteTime": {
     "end_time": "2023-04-01T20:18:48.988706Z",
     "start_time": "2023-04-01T20:18:48.599194Z"
    }
   },
   "outputs": [
    {
     "data": {
      "image/png": "[encoded data removed]",
      "text/plain": [
       "<Figure size 1440x360 with 7 Axes>"
      ]
     },
     "metadata": {
      "needs_background": "light"
     },
     "output_type": "display_data"
    }
   ],
   "source": [
    "# show demo of generatingt simulation data (Speed is a constant, Mar 30, 2023)\n",
    "ts_nospeed = gen_arma_ts(1000, 6).T\n",
    "ts_speed = np.repeat(np.random.randn(1), 1000)\n",
    "sgm_paramss_raw = np.concatenate([ts_nospeed, ts_speed.reshape(-1, 1)], axis=1)\n",
    "sgm_paramss = raw2theta_np(sgm_paramss_raw, paras.prior_bds, k=paras_run.k)\n",
    "\n",
    "plt.figure(figsize=[20, 5])\n",
    "for ix in range(7):\n",
    "    plt.subplot(2, 4, ix+1)\n",
    "    sns.kdeplot(sgm_paramss[:, ix])\n",
    "    plt.xlim(paras.prior_bds[ix, :])\n",
    "    plt.xlabel(paras.names[ix])"
   ]
  },
  {
   "cell_type": "code",
   "execution_count": 17,
   "id": "0bebd263",
   "metadata": {
    "ExecuteTime": {
     "end_time": "2023-04-01T20:19:03.447678Z",
     "start_time": "2023-04-01T20:19:02.202508Z"
    }
   },
   "outputs": [
    {
     "data": {
      "image/png": "[encoded data removed]",
      "text/plain": [
       "<Figure size 432x288 with 1 Axes>"
      ]
     },
     "metadata": {
      "needs_background": "light"
     },
     "output_type": "display_data"
    }
   ],
   "source": [
    "#check the reparameterization\n",
    "plt.fill_between(np.arange(7), paras.par_low, paras.par_high, alpha=0.5)\n",
    "plt.yscale(\"log\")\n",
    "for cur_ts_sgm in sgm_paramss:\n",
    "    plt.plot(np.arange(7), cur_ts_sgm, color=\"red\", alpha=0.1)\n",
    "plt.xticks(np.arange(7), paras.names);\n",
    "plt.show()\n",
    "plt.close()"
   ]
  },
  {
   "cell_type": "code",
   "execution_count": null,
   "id": "aaf71849",
   "metadata": {
    "ExecuteTime": {
     "end_time": "2023-04-01T20:22:00.336355Z",
     "start_time": "2023-04-01T20:21:56.169030Z"
    }
   },
   "outputs": [],
   "source": [
    "# Gerenate data when speed is a constant\n",
    "ts_nospeed = gen_arma_ts(paras_run.n, 6).T\n",
    "ts_speed = np.repeat(np.random.randn(1), paras_run.n)\n",
    "sgm_paramss_raw = np.concatenate([ts_nospeed, ts_speed.reshape(-1, 1)], axis=1)\n",
    "sgm_paramss = raw2theta_np(sgm_paramss_raw, paras.prior_bds, k=paras_run.k)\n",
    "\n",
    "sgmmodel = SGM(paras.C, paras.D, paras.freqs)\n",
    "PSDs = []\n",
    "for cur_sgm in tqdm(sgm_paramss):\n",
    "    cur_PSD = sgmmodel.run_local_coupling_forward(cur_sgm)\n",
    "    cur_PSD = cur_PSD[:68, :]\n",
    "    PSDs.append(cur_PSD)\n",
    "    \n",
    "simu_sgm_data = edict()\n",
    "simu_sgm_data.PSDs = np.array(PSDs)\n",
    "simu_sgm_data.sgm_paramss =sgm_paramss\n",
    "save_pkl_dict2folder(RES_ROOT/f\"simu_sgm_data_conspeed_{paras_run.n}\", simu_sgm_data, is_force=False)"
   ]
  },
  {
   "cell_type": "code",
   "execution_count": null,
   "id": "0dc7d596",
   "metadata": {
    "ExecuteTime": {
     "end_time": "2023-04-01T20:22:00.336355Z",
     "start_time": "2023-04-01T20:21:56.169030Z"
    }
   },
   "outputs": [],
   "source": [
    "# Gerenate data when speed is a constant (test)\n",
    "ts_nospeed = gen_arma_ts(paras_run.n, 6).T\n",
    "ts_speed = np.repeat(np.random.randn(1), paras_run.n)\n",
    "sgm_paramss_raw = np.concatenate([ts_nospeed, ts_speed.reshape(-1, 1)], axis=1)\n",
    "sgm_paramss = raw2theta_np(sgm_paramss_raw, paras.prior_bds, k=paras_run.k)\n",
    "\n",
    "sgmmodel = SGM(paras.C, paras.D, paras.freqs)\n",
    "PSDs = []\n",
    "for cur_sgm in tqdm(sgm_paramss):\n",
    "    cur_PSD = sgmmodel.run_local_coupling_forward(cur_sgm)\n",
    "    cur_PSD = cur_PSD[:68, :]\n",
    "    PSDs.append(cur_PSD)\n",
    "    \n",
    "simu_sgm_data = edict()\n",
    "simu_sgm_data.PSDs_test = np.array(PSDs)\n",
    "simu_sgm_data.sgm_paramss_test =sgm_paramss\n",
    "save_pkl_dict2folder(RES_ROOT/f\"simu_sgm_data_conspeed_{paras_run.n}\", simu_sgm_data, is_force=False)"
   ]
  },
  {
   "cell_type": "code",
   "execution_count": null,
   "id": "177c468e",
   "metadata": {},
   "outputs": [],
   "source": []
  },
  {
   "cell_type": "markdown",
   "id": "b782d402",
   "metadata": {},
   "source": [
    "## Train the model"
   ]
  },
  {
   "cell_type": "code",
   "execution_count": 9,
   "id": "f04e7f39",
   "metadata": {
    "ExecuteTime": {
     "end_time": "2023-04-02T07:48:26.539383Z",
     "start_time": "2023-04-02T07:48:26.534089Z"
    }
   },
   "outputs": [],
   "source": [
    "from torch.utils.data import DataLoader, Dataset\n",
    "_theta2raw = lambda Y: theta2raw_torch(Y, paras.prior_bds, paras_run.k)"
   ]
  },
  {
   "cell_type": "code",
   "execution_count": 10,
   "id": "734a8901",
   "metadata": {
    "ExecuteTime": {
     "end_time": "2023-04-02T07:48:27.544067Z",
     "start_time": "2023-04-02T07:48:27.489177Z"
    }
   },
   "outputs": [
    {
     "name": "stdout",
     "output_type": "stream",
     "text": [
      "Load file /data/rajlab1/user_data/jin/MyResearch/TV-SGM/notebooks/../mypkg/../results/simu_sgm_data_conspeed_1000/PSDs.pkl\n",
      "Load file /data/rajlab1/user_data/jin/MyResearch/TV-SGM/notebooks/../mypkg/../results/simu_sgm_data_conspeed_1000/PSDs_test.pkl\n",
      "Load file /data/rajlab1/user_data/jin/MyResearch/TV-SGM/notebooks/../mypkg/../results/simu_sgm_data_conspeed_1000/sgm_paramss.pkl\n",
      "Load file /data/rajlab1/user_data/jin/MyResearch/TV-SGM/notebooks/../mypkg/../results/simu_sgm_data_conspeed_1000/sgm_paramss_test.pkl\n"
     ]
    }
   ],
   "source": [
    "simu_sgm_data = load_pkl_folder2dict(RES_ROOT/\"simu_sgm_data_conspeed_1000\")"
   ]
  },
  {
   "cell_type": "code",
   "execution_count": 11,
   "id": "6aa8964c",
   "metadata": {
    "ExecuteTime": {
     "end_time": "2023-04-02T07:48:28.456782Z",
     "start_time": "2023-04-02T07:48:28.293550Z"
    }
   },
   "outputs": [
    {
     "name": "stdout",
     "output_type": "stream",
     "text": [
      "Load file /data/rajlab1/user_data/jin/MyResearch/TV-SGM/notebooks/../mypkg/../results/SGM_net/loss.pkl\n",
      "Load file /data/rajlab1/user_data/jin/MyResearch/TV-SGM/notebooks/../mypkg/../results/SGM_net/loss_test.pkl\n",
      "Load file /data/rajlab1/user_data/jin/MyResearch/TV-SGM/notebooks/../mypkg/../results/SGM_net/model.pkl\n",
      "Load file /data/rajlab1/user_data/jin/MyResearch/TV-SGM/notebooks/../mypkg/../results/SGM_net/optimizer.pkl\n",
      "Load file /data/rajlab1/user_data/jin/MyResearch/TV-SGM/notebooks/../mypkg/../results/SGM_net/paras.pkl\n"
     ]
    }
   ],
   "source": [
    "trained_model = load_pkl_folder2dict(RES_ROOT/\"SGM_net\")\n",
    "sgm_net = trained_model.model"
   ]
  },
  {
   "cell_type": "code",
   "execution_count": 27,
   "id": "e45d46a3",
   "metadata": {
    "ExecuteTime": {
     "end_time": "2023-04-02T08:12:05.376970Z",
     "start_time": "2023-04-02T08:12:05.360834Z"
    },
    "code_folding": []
   },
   "outputs": [],
   "source": [
    "# functions to generate training sample (Apr 1, 2023)\n",
    "def random_choice(n, batchsize=1, len_seg=None):\n",
    "    \"\"\"Randomly select the lower and upper bound of the segment\n",
    "        args:\n",
    "            n: len of the total time series\n",
    "    \"\"\"\n",
    "    if len_seg is None:\n",
    "        len_seg = torch.randint(low=10, high=200, size=(1, ))\n",
    "    up_bd = torch.randint(low=len_seg.item(), high=n, size=(batchsize, ))\n",
    "    low_bd = up_bd - len_seg\n",
    "    return low_bd, up_bd\n",
    "\n",
    "\n",
    "def random_samples_rnn(X, Y, batchsize=1, \n",
    "                       bds=None, \n",
    "                       is_std=True, \n",
    "                       theta2raw_fn=None):\n",
    "    \"\"\"Randomly select a sample from the whole segment\n",
    "        args:\n",
    "            X: PSD, num x 68 x nfreq\n",
    "            Y: params, num x 7, in orignal sgm scale\n",
    "        return:\n",
    "            X_seqs: len_seq x batchsize x num_fs\n",
    "            Y_seqs: len_seq x batchsize x 7\n",
    "            \n",
    "    \"\"\"\n",
    "    if not isinstance(X, torch.Tensor):\n",
    "        X = torch.tensor(X)\n",
    "    if is_std:\n",
    "        X = X/X.std(axis=(1, 2), keepdims=True)\n",
    "    if not isinstance(Y, torch.Tensor):\n",
    "        Y = torch.tensor(Y)\n",
    "    if theta2raw_fn: \n",
    "        Y = theta2raw_fn(Y)\n",
    "    if bds is None:\n",
    "        low_bds, up_bds = random_choice(len(X), batchsize)\n",
    "    else:\n",
    "        low_bds, up_bds = bds\n",
    "\n",
    "    X = X.flatten(1)\n",
    "    X_seqs = []\n",
    "    Y_seqs = []\n",
    "    for low_bd, up_bd in zip(low_bds, up_bds):\n",
    "        X_seq = X[low_bd:up_bd, :].unsqueeze(1)\n",
    "        Y_seq = Y[low_bd:up_bd].unsqueeze(1)\n",
    "        X_seqs.append(X_seq)\n",
    "        Y_seqs.append(Y_seq)\n",
    "    return torch.cat(X_seqs, dim=1), torch.cat(Y_seqs, dim=1)"
   ]
  },
  {
   "cell_type": "code",
   "execution_count": 28,
   "id": "833ff922",
   "metadata": {
    "ExecuteTime": {
     "end_time": "2023-04-02T08:12:06.219504Z",
     "start_time": "2023-04-02T08:12:06.212892Z"
    }
   },
   "outputs": [],
   "source": [
    "def weighted_mse_loss(pred, target, ws=None):\n",
    "    \"\"\"\n",
    "    Calculates the weighted mean squared error loss between predicted and target values.\n",
    "\n",
    "    Args:\n",
    "        pred (torch.Tensor): predicted values\n",
    "        target (torch.Tensor): target values\n",
    "        ws (torch.Tensor, optional): weights for each value. Defaults to None.\n",
    "\n",
    "    Returns:\n",
    "        torch.Tensor: weighted mean squared error loss\n",
    "    \"\"\"\n",
    "    if ws is None:\n",
    "        ws = torch.ones_like(pred[0])\n",
    "        ws[:, :20] = ws[:, :20]*10\n",
    "    return torch.mean((pred-target)**2 * ws)"
   ]
  },
  {
   "cell_type": "code",
   "execution_count": 29,
   "id": "575a41bd",
   "metadata": {
    "ExecuteTime": {
     "end_time": "2023-04-02T08:12:07.713374Z",
     "start_time": "2023-04-02T08:12:07.706457Z"
    }
   },
   "outputs": [],
   "source": [
    "paras_rnn = edict()\n",
    "paras_rnn.batchsize = 128\n",
    "paras_rnn.niter = 5000\n",
    "paras_rnn.loss_out = 10\n",
    "paras_rnn.clip = 1 # from \n",
    "paras_rnn.lr_step = 500\n",
    "\n",
    "paras_rnn.k = 1\n",
    "paras_rnn.hidden_dim = 512\n",
    "paras_rnn.output_dim = 7\n",
    "paras_rnn.input_dim = 68*40\n",
    "paras_rnn.is_bidirectional = True "
   ]
  },
  {
   "cell_type": "code",
   "execution_count": 30,
   "id": "3314fe42",
   "metadata": {
    "ExecuteTime": {
     "end_time": "2023-04-02T08:12:21.752739Z",
     "start_time": "2023-04-02T08:12:21.629324Z"
    }
   },
   "outputs": [
    {
     "name": "stdout",
     "output_type": "stream",
     "text": [
      "Adjusting learning rate of group 0 to 5.0000e-04.\n"
     ]
    }
   ],
   "source": [
    "rnn = LSTM_SGM(input_dim=paras_rnn.input_dim, \n",
    "               hidden_dim=paras_rnn.hidden_dim, \n",
    "               output_dim=paras_rnn.output_dim, \n",
    "               is_bidirectional=paras_rnn.is_bidirectional, \n",
    "               prior_bds=torch.tensor(paras.prior_bds), \n",
    "               k = paras_rnn.k\n",
    ")\n",
    "loss_fn = nn.MSELoss()\n",
    "loss_fn = weighted_mse_loss\n",
    "\n",
    "optimizer = torch.optim.Adam(rnn.parameters(), lr=5e-4, weight_decay=0)\n",
    "scheduler = ExponentialLR(optimizer, gamma=0.3, verbose=True)"
   ]
  },
  {
   "cell_type": "code",
   "execution_count": 179,
   "id": "f0c934e3",
   "metadata": {
    "ExecuteTime": {
     "end_time": "2023-04-03T20:10:46.597794Z",
     "start_time": "2023-04-03T20:10:46.590496Z"
    }
   },
   "outputs": [
    {
     "data": {
      "text/plain": [
       "(1000, 68, 40)"
      ]
     },
     "execution_count": 179,
     "metadata": {},
     "output_type": "execute_result"
    }
   ],
   "source": [
    "simu_sgm_data.PSDs.shape"
   ]
  },
  {
   "cell_type": "code",
   "execution_count": null,
   "id": "c0f0ee7f",
   "metadata": {},
   "outputs": [],
   "source": []
  },
  {
   "cell_type": "code",
   "execution_count": 31,
   "id": "ef7e0595",
   "metadata": {
    "ExecuteTime": {
     "end_time": "2023-04-02T12:48:50.834434Z",
     "start_time": "2023-04-02T08:12:24.322762Z"
    },
    "scrolled": true
   },
   "outputs": [
    {
     "name": "stdout",
     "output_type": "stream",
     "text": [
      "At iter 10/5000, the losses are 6.10254 (train). The time used is 28.244s. \n",
      "At iter 20/5000, the losses are 2.72114 (train). The time used is 23.521s. \n",
      "At iter 30/5000, the losses are 1.74274 (train). The time used is 35.317s. \n",
      "At iter 40/5000, the losses are 1.48783 (train). The time used is 39.245s. \n",
      "At iter 50/5000, the losses are 1.39764 (train). The time used is 34.908s. \n",
      "At iter 60/5000, the losses are 1.33494 (train). The time used is 47.323s. \n",
      "At iter 70/5000, the losses are 1.26502 (train). The time used is 26.371s. \n",
      "At iter 80/5000, the losses are 1.28912 (train). The time used is 38.269s. \n",
      "At iter 90/5000, the losses are 1.29102 (train). The time used is 28.607s. \n",
      "At iter 100/5000, the losses are 1.25414 (train). The time used is 42.942s. \n",
      "At iter 110/5000, the losses are 1.26921 (train). The time used is 46.536s. \n",
      "At iter 120/5000, the losses are 1.30297 (train). The time used is 43.059s. \n",
      "At iter 130/5000, the losses are 1.23260 (train). The time used is 25.559s. \n",
      "At iter 140/5000, the losses are 1.19264 (train). The time used is 28.790s. \n",
      "At iter 150/5000, the losses are 1.20739 (train). The time used is 25.226s. \n",
      "At iter 160/5000, the losses are 1.23860 (train). The time used is 28.708s. \n",
      "At iter 170/5000, the losses are 1.22718 (train). The time used is 33.176s. \n",
      "At iter 180/5000, the losses are 1.22563 (train). The time used is 30.591s. \n",
      "At iter 190/5000, the losses are 1.20947 (train). The time used is 36.288s. \n",
      "At iter 200/5000, the losses are 1.19320 (train). The time used is 44.675s. \n",
      "At iter 210/5000, the losses are 1.16156 (train). The time used is 37.421s. \n",
      "At iter 220/5000, the losses are 1.15861 (train). The time used is 31.354s. \n",
      "At iter 230/5000, the losses are 1.15864 (train). The time used is 36.369s. \n",
      "At iter 240/5000, the losses are 1.12077 (train). The time used is 21.612s. \n",
      "At iter 250/5000, the losses are 1.15107 (train). The time used is 29.206s. \n",
      "At iter 260/5000, the losses are 1.14046 (train). The time used is 24.446s. \n",
      "At iter 270/5000, the losses are 1.17152 (train). The time used is 30.010s. \n",
      "At iter 280/5000, the losses are 1.19085 (train). The time used is 23.465s. \n",
      "At iter 290/5000, the losses are 1.16978 (train). The time used is 37.981s. \n",
      "At iter 300/5000, the losses are 1.17022 (train). The time used is 23.035s. \n",
      "At iter 310/5000, the losses are 1.16010 (train). The time used is 34.586s. \n",
      "At iter 320/5000, the losses are 1.13127 (train). The time used is 25.443s. \n",
      "At iter 330/5000, the losses are 1.17612 (train). The time used is 29.299s. \n",
      "At iter 340/5000, the losses are 1.17535 (train). The time used is 42.304s. \n",
      "At iter 350/5000, the losses are 1.15446 (train). The time used is 43.846s. \n",
      "At iter 360/5000, the losses are 1.16670 (train). The time used is 44.069s. \n",
      "At iter 370/5000, the losses are 1.14328 (train). The time used is 39.221s. \n",
      "At iter 380/5000, the losses are 1.15641 (train). The time used is 47.727s. \n",
      "At iter 390/5000, the losses are 1.12849 (train). The time used is 22.898s. \n",
      "At iter 400/5000, the losses are 1.16122 (train). The time used is 43.521s. \n",
      "At iter 410/5000, the losses are 1.12222 (train). The time used is 18.861s. \n",
      "At iter 420/5000, the losses are 1.12943 (train). The time used is 22.475s. \n",
      "At iter 430/5000, the losses are 1.11710 (train). The time used is 26.339s. \n",
      "At iter 440/5000, the losses are 1.12696 (train). The time used is 20.397s. \n",
      "At iter 450/5000, the losses are 1.11976 (train). The time used is 19.051s. \n",
      "At iter 460/5000, the losses are 1.15354 (train). The time used is 42.711s. \n",
      "At iter 470/5000, the losses are 1.12991 (train). The time used is 25.879s. \n",
      "At iter 480/5000, the losses are 1.13366 (train). The time used is 23.292s. \n",
      "At iter 490/5000, the losses are 1.11279 (train). The time used is 25.221s. \n",
      "At iter 500/5000, the losses are 1.13745 (train). The time used is 27.487s. \n",
      "Adjusting learning rate of group 0 to 1.5000e-04.\n",
      "At iter 510/5000, the losses are 1.10905 (train). The time used is 35.450s. \n",
      "At iter 520/5000, the losses are 1.10478 (train). The time used is 31.008s. \n",
      "At iter 530/5000, the losses are 1.11188 (train). The time used is 40.775s. \n",
      "At iter 540/5000, the losses are 1.09464 (train). The time used is 35.424s. \n",
      "At iter 550/5000, the losses are 1.08539 (train). The time used is 33.872s. \n",
      "At iter 560/5000, the losses are 1.10963 (train). The time used is 31.575s. \n",
      "At iter 570/5000, the losses are 1.09217 (train). The time used is 26.444s. \n",
      "At iter 580/5000, the losses are 1.07683 (train). The time used is 30.142s. \n",
      "At iter 590/5000, the losses are 1.09562 (train). The time used is 43.501s. \n",
      "At iter 600/5000, the losses are 1.09301 (train). The time used is 34.911s. \n",
      "At iter 610/5000, the losses are 1.10750 (train). The time used is 48.792s. \n",
      "At iter 620/5000, the losses are 1.08347 (train). The time used is 36.161s. \n",
      "At iter 630/5000, the losses are 1.07502 (train). The time used is 34.790s. \n",
      "At iter 640/5000, the losses are 1.09061 (train). The time used is 34.971s. \n",
      "At iter 650/5000, the losses are 1.08603 (train). The time used is 40.192s. \n",
      "At iter 660/5000, the losses are 1.09509 (train). The time used is 44.799s. \n",
      "At iter 670/5000, the losses are 1.07471 (train). The time used is 32.059s. \n",
      "At iter 680/5000, the losses are 1.09447 (train). The time used is 36.830s. \n",
      "At iter 690/5000, the losses are 1.08891 (train). The time used is 29.257s. \n",
      "At iter 700/5000, the losses are 1.08556 (train). The time used is 27.042s. \n",
      "At iter 710/5000, the losses are 1.07060 (train). The time used is 25.682s. \n",
      "At iter 720/5000, the losses are 1.09118 (train). The time used is 38.473s. \n",
      "At iter 730/5000, the losses are 1.09596 (train). The time used is 45.964s. \n",
      "At iter 740/5000, the losses are 1.06689 (train). The time used is 25.894s. \n",
      "At iter 750/5000, the losses are 1.08053 (train). The time used is 32.833s. \n",
      "At iter 760/5000, the losses are 1.09378 (train). The time used is 23.574s. \n",
      "At iter 770/5000, the losses are 1.05899 (train). The time used is 17.547s. \n",
      "At iter 780/5000, the losses are 1.08846 (train). The time used is 25.437s. \n",
      "At iter 790/5000, the losses are 1.09076 (train). The time used is 23.984s. \n",
      "At iter 800/5000, the losses are 1.07609 (train). The time used is 44.096s. \n",
      "At iter 810/5000, the losses are 1.06118 (train). The time used is 39.814s. \n",
      "At iter 820/5000, the losses are 1.08814 (train). The time used is 35.332s. \n",
      "At iter 830/5000, the losses are 1.08568 (train). The time used is 41.974s. \n",
      "At iter 840/5000, the losses are 1.06679 (train). The time used is 20.260s. \n",
      "At iter 850/5000, the losses are 1.07227 (train). The time used is 29.603s. \n",
      "At iter 860/5000, the losses are 1.08924 (train). The time used is 30.200s. \n",
      "At iter 870/5000, the losses are 1.07892 (train). The time used is 32.141s. \n",
      "At iter 880/5000, the losses are 1.08675 (train). The time used is 27.200s. \n",
      "At iter 890/5000, the losses are 1.05723 (train). The time used is 32.021s. \n",
      "At iter 900/5000, the losses are 1.09225 (train). The time used is 35.396s. \n",
      "At iter 910/5000, the losses are 1.08246 (train). The time used is 38.170s. \n",
      "At iter 920/5000, the losses are 1.06618 (train). The time used is 37.502s. \n",
      "At iter 930/5000, the losses are 1.07240 (train). The time used is 42.319s. \n",
      "At iter 940/5000, the losses are 1.06629 (train). The time used is 36.348s. \n",
      "At iter 950/5000, the losses are 1.06957 (train). The time used is 29.399s. \n",
      "At iter 960/5000, the losses are 1.07159 (train). The time used is 25.860s. \n",
      "At iter 970/5000, the losses are 1.08753 (train). The time used is 37.440s. \n",
      "At iter 980/5000, the losses are 1.07722 (train). The time used is 22.499s. \n",
      "At iter 990/5000, the losses are 1.09434 (train). The time used is 35.123s. \n",
      "At iter 1000/5000, the losses are 1.08851 (train). The time used is 30.084s. \n",
      "Adjusting learning rate of group 0 to 4.5000e-05.\n",
      "At iter 1010/5000, the losses are 1.05096 (train). The time used is 20.312s. \n",
      "At iter 1020/5000, the losses are 1.06335 (train). The time used is 22.106s. \n",
      "At iter 1030/5000, the losses are 1.07558 (train). The time used is 36.859s. \n",
      "At iter 1040/5000, the losses are 1.09311 (train). The time used is 33.776s. \n",
      "At iter 1050/5000, the losses are 1.07492 (train). The time used is 22.795s. \n",
      "At iter 1060/5000, the losses are 1.05181 (train). The time used is 29.603s. \n",
      "At iter 1070/5000, the losses are 1.07628 (train). The time used is 29.437s. \n",
      "At iter 1080/5000, the losses are 1.06143 (train). The time used is 32.141s. \n",
      "At iter 1090/5000, the losses are 1.06835 (train). The time used is 26.790s. \n",
      "At iter 1100/5000, the losses are 1.07658 (train). The time used is 36.411s. \n",
      "At iter 1110/5000, the losses are 1.06979 (train). The time used is 38.225s. \n",
      "At iter 1120/5000, the losses are 1.07145 (train). The time used is 32.568s. \n",
      "At iter 1130/5000, the losses are 1.04838 (train). The time used is 22.740s. \n",
      "At iter 1140/5000, the losses are 1.05404 (train). The time used is 12.575s. \n",
      "At iter 1150/5000, the losses are 1.07494 (train). The time used is 28.549s. \n",
      "At iter 1160/5000, the losses are 1.07668 (train). The time used is 33.189s. \n",
      "At iter 1170/5000, the losses are 1.06300 (train). The time used is 35.524s. \n",
      "At iter 1180/5000, the losses are 1.08339 (train). The time used is 32.111s. \n",
      "At iter 1190/5000, the losses are 1.07091 (train). The time used is 38.283s. \n",
      "At iter 1200/5000, the losses are 1.07952 (train). The time used is 30.167s. \n",
      "At iter 1210/5000, the losses are 1.08071 (train). The time used is 52.164s. \n",
      "At iter 1220/5000, the losses are 1.07506 (train). The time used is 31.224s. \n",
      "At iter 1230/5000, the losses are 1.07143 (train). The time used is 36.581s. \n",
      "At iter 1240/5000, the losses are 1.06457 (train). The time used is 39.607s. \n",
      "At iter 1250/5000, the losses are 1.08020 (train). The time used is 47.190s. \n",
      "At iter 1260/5000, the losses are 1.08639 (train). The time used is 41.023s. \n",
      "At iter 1270/5000, the losses are 1.05921 (train). The time used is 44.143s. \n",
      "At iter 1280/5000, the losses are 1.08186 (train). The time used is 35.605s. \n",
      "At iter 1290/5000, the losses are 1.06687 (train). The time used is 29.700s. \n",
      "At iter 1300/5000, the losses are 1.08717 (train). The time used is 52.212s. \n",
      "At iter 1310/5000, the losses are 1.07551 (train). The time used is 40.293s. \n",
      "At iter 1320/5000, the losses are 1.08688 (train). The time used is 42.183s. \n",
      "At iter 1330/5000, the losses are 1.06644 (train). The time used is 34.036s. \n",
      "At iter 1340/5000, the losses are 1.05826 (train). The time used is 23.290s. \n",
      "At iter 1350/5000, the losses are 1.05934 (train). The time used is 18.633s. \n",
      "At iter 1360/5000, the losses are 1.07769 (train). The time used is 34.307s. \n",
      "At iter 1370/5000, the losses are 1.06127 (train). The time used is 30.942s. \n",
      "At iter 1380/5000, the losses are 1.07103 (train). The time used is 32.408s. \n",
      "At iter 1390/5000, the losses are 1.06040 (train). The time used is 29.543s. \n",
      "At iter 1400/5000, the losses are 1.04581 (train). The time used is 30.625s. \n",
      "At iter 1410/5000, the losses are 1.07440 (train). The time used is 31.325s. \n",
      "At iter 1420/5000, the losses are 1.07383 (train). The time used is 29.496s. \n",
      "At iter 1430/5000, the losses are 1.06215 (train). The time used is 30.475s. \n",
      "At iter 1440/5000, the losses are 1.06026 (train). The time used is 35.515s. \n",
      "At iter 1450/5000, the losses are 1.06870 (train). The time used is 38.684s. \n",
      "At iter 1460/5000, the losses are 1.06818 (train). The time used is 36.960s. \n",
      "At iter 1470/5000, the losses are 1.06455 (train). The time used is 32.959s. \n",
      "At iter 1480/5000, the losses are 1.07593 (train). The time used is 42.700s. \n",
      "At iter 1490/5000, the losses are 1.06831 (train). The time used is 29.260s. \n",
      "At iter 1500/5000, the losses are 1.07516 (train). The time used is 31.085s. \n",
      "Adjusting learning rate of group 0 to 1.3500e-05.\n",
      "At iter 1510/5000, the losses are 1.05889 (train). The time used is 33.679s. \n",
      "At iter 1520/5000, the losses are 1.05990 (train). The time used is 31.247s. \n",
      "At iter 1530/5000, the losses are 1.05940 (train). The time used is 31.505s. \n",
      "At iter 1540/5000, the losses are 1.05924 (train). The time used is 28.142s. \n",
      "At iter 1550/5000, the losses are 1.08307 (train). The time used is 36.720s. \n",
      "At iter 1560/5000, the losses are 1.08896 (train). The time used is 34.206s. \n",
      "At iter 1570/5000, the losses are 1.06076 (train). The time used is 26.514s. \n",
      "At iter 1580/5000, the losses are 1.07290 (train). The time used is 41.736s. \n",
      "At iter 1590/5000, the losses are 1.06795 (train). The time used is 39.497s. \n",
      "At iter 1600/5000, the losses are 1.06271 (train). The time used is 22.470s. \n",
      "At iter 1610/5000, the losses are 1.06701 (train). The time used is 39.520s. \n",
      "At iter 1620/5000, the losses are 1.08544 (train). The time used is 48.295s. \n",
      "At iter 1630/5000, the losses are 1.07449 (train). The time used is 35.054s. \n",
      "At iter 1640/5000, the losses are 1.04507 (train). The time used is 27.386s. \n",
      "At iter 1650/5000, the losses are 1.06066 (train). The time used is 31.763s. \n",
      "At iter 1660/5000, the losses are 1.06951 (train). The time used is 25.508s. \n",
      "At iter 1670/5000, the losses are 1.07918 (train). The time used is 34.963s. \n",
      "At iter 1680/5000, the losses are 1.07906 (train). The time used is 41.559s. \n",
      "At iter 1690/5000, the losses are 1.04356 (train). The time used is 23.089s. \n",
      "At iter 1700/5000, the losses are 1.07356 (train). The time used is 34.044s. \n",
      "At iter 1710/5000, the losses are 1.08086 (train). The time used is 27.525s. \n",
      "At iter 1720/5000, the losses are 1.05680 (train). The time used is 22.766s. \n",
      "At iter 1730/5000, the losses are 1.05856 (train). The time used is 27.959s. \n",
      "At iter 1740/5000, the losses are 1.07045 (train). The time used is 37.376s. \n",
      "At iter 1750/5000, the losses are 1.06610 (train). The time used is 33.505s. \n",
      "At iter 1760/5000, the losses are 1.05963 (train). The time used is 29.282s. \n",
      "At iter 1770/5000, the losses are 1.07538 (train). The time used is 35.334s. \n",
      "At iter 1780/5000, the losses are 1.06466 (train). The time used is 31.042s. \n",
      "At iter 1790/5000, the losses are 1.05717 (train). The time used is 21.942s. \n",
      "At iter 1800/5000, the losses are 1.06826 (train). The time used is 31.906s. \n",
      "At iter 1810/5000, the losses are 1.06806 (train). The time used is 24.820s. \n",
      "At iter 1820/5000, the losses are 1.07363 (train). The time used is 32.230s. \n",
      "At iter 1830/5000, the losses are 1.09323 (train). The time used is 33.213s. \n",
      "At iter 1840/5000, the losses are 1.07569 (train). The time used is 28.423s. \n",
      "At iter 1850/5000, the losses are 1.06930 (train). The time used is 31.279s. \n",
      "At iter 1860/5000, the losses are 1.07195 (train). The time used is 26.574s. \n",
      "At iter 1870/5000, the losses are 1.06883 (train). The time used is 24.984s. \n",
      "At iter 1880/5000, the losses are 1.06972 (train). The time used is 30.704s. \n",
      "At iter 1890/5000, the losses are 1.08488 (train). The time used is 33.896s. \n",
      "At iter 1900/5000, the losses are 1.06492 (train). The time used is 30.714s. \n",
      "At iter 1910/5000, the losses are 1.06541 (train). The time used is 37.849s. \n",
      "At iter 1920/5000, the losses are 1.07849 (train). The time used is 48.315s. \n",
      "At iter 1930/5000, the losses are 1.08073 (train). The time used is 29.803s. \n",
      "At iter 1940/5000, the losses are 1.07213 (train). The time used is 36.691s. \n",
      "At iter 1950/5000, the losses are 1.07712 (train). The time used is 32.532s. \n",
      "At iter 1960/5000, the losses are 1.05547 (train). The time used is 35.632s. \n",
      "At iter 1970/5000, the losses are 1.08050 (train). The time used is 35.024s. \n",
      "At iter 1980/5000, the losses are 1.07868 (train). The time used is 42.032s. \n",
      "At iter 1990/5000, the losses are 1.05591 (train). The time used is 32.780s. \n",
      "At iter 2000/5000, the losses are 1.07320 (train). The time used is 22.571s. \n",
      "Adjusting learning rate of group 0 to 4.0500e-06.\n",
      "At iter 2010/5000, the losses are 1.08271 (train). The time used is 27.431s. \n",
      "At iter 2020/5000, the losses are 1.05956 (train). The time used is 33.438s. \n",
      "At iter 2030/5000, the losses are 1.06859 (train). The time used is 38.642s. \n",
      "At iter 2040/5000, the losses are 1.05652 (train). The time used is 29.066s. \n",
      "At iter 2050/5000, the losses are 1.07332 (train). The time used is 28.112s. \n",
      "At iter 2060/5000, the losses are 1.04377 (train). The time used is 22.171s. \n",
      "At iter 2070/5000, the losses are 1.07934 (train). The time used is 34.491s. \n",
      "At iter 2080/5000, the losses are 1.07401 (train). The time used is 33.790s. \n",
      "At iter 2090/5000, the losses are 1.05806 (train). The time used is 24.151s. \n",
      "At iter 2100/5000, the losses are 1.07549 (train). The time used is 29.832s. \n",
      "At iter 2110/5000, the losses are 1.08204 (train). The time used is 28.812s. \n",
      "At iter 2120/5000, the losses are 1.04052 (train). The time used is 22.610s. \n",
      "At iter 2130/5000, the losses are 1.05641 (train). The time used is 23.931s. \n",
      "At iter 2140/5000, the losses are 1.06333 (train). The time used is 31.057s. \n",
      "At iter 2150/5000, the losses are 1.06098 (train). The time used is 38.963s. \n",
      "At iter 2160/5000, the losses are 1.06571 (train). The time used is 35.910s. \n",
      "At iter 2170/5000, the losses are 1.07552 (train). The time used is 34.016s. \n",
      "At iter 2180/5000, the losses are 1.07904 (train). The time used is 31.569s. \n",
      "At iter 2190/5000, the losses are 1.04540 (train). The time used is 23.622s. \n",
      "At iter 2200/5000, the losses are 1.07666 (train). The time used is 34.691s. \n",
      "At iter 2210/5000, the losses are 1.07918 (train). The time used is 43.153s. \n",
      "At iter 2220/5000, the losses are 1.05339 (train). The time used is 25.272s. \n",
      "At iter 2230/5000, the losses are 1.06200 (train). The time used is 28.311s. \n",
      "At iter 2240/5000, the losses are 1.06769 (train). The time used is 33.308s. \n",
      "At iter 2250/5000, the losses are 1.07608 (train). The time used is 32.210s. \n",
      "At iter 2260/5000, the losses are 1.05452 (train). The time used is 34.188s. \n",
      "At iter 2270/5000, the losses are 1.09389 (train). The time used is 45.877s. \n",
      "At iter 2280/5000, the losses are 1.06565 (train). The time used is 41.088s. \n",
      "At iter 2290/5000, the losses are 1.05255 (train). The time used is 24.480s. \n",
      "At iter 2300/5000, the losses are 1.08587 (train). The time used is 45.211s. \n",
      "At iter 2310/5000, the losses are 1.05792 (train). The time used is 29.164s. \n",
      "At iter 2320/5000, the losses are 1.07570 (train). The time used is 44.443s. \n",
      "At iter 2330/5000, the losses are 1.07129 (train). The time used is 32.558s. \n",
      "At iter 2340/5000, the losses are 1.06326 (train). The time used is 30.987s. \n",
      "At iter 2350/5000, the losses are 1.07177 (train). The time used is 33.015s. \n",
      "At iter 2360/5000, the losses are 1.04479 (train). The time used is 30.396s. \n",
      "At iter 2370/5000, the losses are 1.07036 (train). The time used is 44.288s. \n",
      "At iter 2380/5000, the losses are 1.06671 (train). The time used is 33.712s. \n",
      "At iter 2390/5000, the losses are 1.05919 (train). The time used is 34.114s. \n",
      "At iter 2400/5000, the losses are 1.06427 (train). The time used is 40.788s. \n",
      "At iter 2410/5000, the losses are 1.05505 (train). The time used is 26.494s. \n",
      "At iter 2420/5000, the losses are 1.04708 (train). The time used is 25.165s. \n",
      "At iter 2430/5000, the losses are 1.07822 (train). The time used is 39.570s. \n",
      "At iter 2440/5000, the losses are 1.08701 (train). The time used is 31.524s. \n",
      "At iter 2450/5000, the losses are 1.06008 (train). The time used is 23.764s. \n",
      "At iter 2460/5000, the losses are 1.08037 (train). The time used is 40.943s. \n",
      "At iter 2470/5000, the losses are 1.05670 (train). The time used is 28.278s. \n",
      "At iter 2480/5000, the losses are 1.05826 (train). The time used is 36.585s. \n",
      "At iter 2490/5000, the losses are 1.06539 (train). The time used is 39.988s. \n",
      "At iter 2500/5000, the losses are 1.05913 (train). The time used is 38.418s. \n",
      "Adjusting learning rate of group 0 to 1.2150e-06.\n",
      "At iter 2510/5000, the losses are 1.09010 (train). The time used is 51.384s. \n",
      "At iter 2520/5000, the losses are 1.08879 (train). The time used is 38.736s. \n",
      "At iter 2530/5000, the losses are 1.07998 (train). The time used is 47.988s. \n",
      "At iter 2540/5000, the losses are 1.05660 (train). The time used is 18.002s. \n",
      "At iter 2550/5000, the losses are 1.05183 (train). The time used is 25.539s. \n",
      "At iter 2560/5000, the losses are 1.05181 (train). The time used is 32.362s. \n",
      "At iter 2570/5000, the losses are 1.07073 (train). The time used is 25.706s. \n",
      "At iter 2580/5000, the losses are 1.06375 (train). The time used is 32.852s. \n",
      "At iter 2590/5000, the losses are 1.06059 (train). The time used is 28.075s. \n",
      "At iter 2600/5000, the losses are 1.06784 (train). The time used is 39.159s. \n",
      "At iter 2610/5000, the losses are 1.05432 (train). The time used is 33.729s. \n",
      "At iter 2620/5000, the losses are 1.04357 (train). The time used is 27.800s. \n",
      "At iter 2630/5000, the losses are 1.04644 (train). The time used is 28.302s. \n",
      "At iter 2640/5000, the losses are 1.05772 (train). The time used is 32.799s. \n",
      "At iter 2650/5000, the losses are 1.05959 (train). The time used is 24.108s. \n",
      "At iter 2660/5000, the losses are 1.06176 (train). The time used is 38.208s. \n",
      "At iter 2670/5000, the losses are 1.06248 (train). The time used is 39.457s. \n",
      "At iter 2680/5000, the losses are 1.07288 (train). The time used is 44.881s. \n",
      "At iter 2690/5000, the losses are 1.07789 (train). The time used is 31.661s. \n",
      "At iter 2700/5000, the losses are 1.06234 (train). The time used is 22.986s. \n",
      "At iter 2710/5000, the losses are 1.08105 (train). The time used is 42.129s. \n",
      "At iter 2720/5000, the losses are 1.06267 (train). The time used is 36.222s. \n",
      "At iter 2730/5000, the losses are 1.05246 (train). The time used is 30.091s. \n",
      "At iter 2740/5000, the losses are 1.06926 (train). The time used is 25.380s. \n",
      "At iter 2750/5000, the losses are 1.06220 (train). The time used is 32.979s. \n",
      "At iter 2760/5000, the losses are 1.04940 (train). The time used is 27.005s. \n",
      "At iter 2770/5000, the losses are 1.05837 (train). The time used is 32.419s. \n",
      "At iter 2780/5000, the losses are 1.07124 (train). The time used is 33.553s. \n",
      "At iter 2790/5000, the losses are 1.07323 (train). The time used is 46.730s. \n",
      "At iter 2800/5000, the losses are 1.05205 (train). The time used is 23.871s. \n",
      "At iter 2810/5000, the losses are 1.06789 (train). The time used is 29.231s. \n",
      "At iter 2820/5000, the losses are 1.08413 (train). The time used is 39.822s. \n",
      "At iter 2830/5000, the losses are 1.06397 (train). The time used is 32.338s. \n",
      "At iter 2840/5000, the losses are 1.05691 (train). The time used is 46.204s. \n",
      "At iter 2850/5000, the losses are 1.08092 (train). The time used is 50.835s. \n",
      "At iter 2860/5000, the losses are 1.07847 (train). The time used is 41.522s. \n",
      "At iter 2870/5000, the losses are 1.04642 (train). The time used is 19.833s. \n",
      "At iter 2880/5000, the losses are 1.06922 (train). The time used is 30.498s. \n",
      "At iter 2890/5000, the losses are 1.07484 (train). The time used is 30.338s. \n",
      "At iter 2900/5000, the losses are 1.05397 (train). The time used is 25.828s. \n",
      "At iter 2910/5000, the losses are 1.03790 (train). The time used is 18.373s. \n",
      "At iter 2920/5000, the losses are 1.07221 (train). The time used is 19.140s. \n",
      "At iter 2930/5000, the losses are 1.07166 (train). The time used is 30.224s. \n",
      "At iter 2940/5000, the losses are 1.05460 (train). The time used is 19.436s. \n",
      "At iter 2950/5000, the losses are 1.06600 (train). The time used is 24.866s. \n",
      "At iter 2960/5000, the losses are 1.06258 (train). The time used is 30.552s. \n",
      "At iter 2970/5000, the losses are 1.06739 (train). The time used is 26.646s. \n",
      "At iter 2980/5000, the losses are 1.05214 (train). The time used is 28.720s. \n",
      "At iter 2990/5000, the losses are 1.05662 (train). The time used is 23.144s. \n",
      "At iter 3000/5000, the losses are 1.08041 (train). The time used is 30.648s. \n",
      "Adjusting learning rate of group 0 to 3.6450e-07.\n",
      "At iter 3010/5000, the losses are 1.06623 (train). The time used is 34.307s. \n",
      "At iter 3020/5000, the losses are 1.07099 (train). The time used is 34.953s. \n",
      "At iter 3030/5000, the losses are 1.05461 (train). The time used is 26.325s. \n",
      "At iter 3040/5000, the losses are 1.06795 (train). The time used is 39.894s. \n",
      "At iter 3050/5000, the losses are 1.05756 (train). The time used is 29.240s. \n",
      "At iter 3060/5000, the losses are 1.07757 (train). The time used is 42.576s. \n",
      "At iter 3070/5000, the losses are 1.07530 (train). The time used is 47.115s. \n",
      "At iter 3080/5000, the losses are 1.06307 (train). The time used is 39.940s. \n",
      "At iter 3090/5000, the losses are 1.07757 (train). The time used is 44.736s. \n",
      "At iter 3100/5000, the losses are 1.07690 (train). The time used is 32.118s. \n",
      "At iter 3110/5000, the losses are 1.06239 (train). The time used is 42.633s. \n",
      "At iter 3120/5000, the losses are 1.05442 (train). The time used is 42.605s. \n",
      "At iter 3130/5000, the losses are 1.07286 (train). The time used is 39.705s. \n",
      "At iter 3140/5000, the losses are 1.07962 (train). The time used is 31.860s. \n",
      "At iter 3150/5000, the losses are 1.07991 (train). The time used is 38.354s. \n",
      "At iter 3160/5000, the losses are 1.06630 (train). The time used is 30.830s. \n",
      "At iter 3170/5000, the losses are 1.06717 (train). The time used is 22.428s. \n",
      "At iter 3180/5000, the losses are 1.05427 (train). The time used is 26.234s. \n",
      "At iter 3190/5000, the losses are 1.08290 (train). The time used is 25.435s. \n",
      "At iter 3200/5000, the losses are 1.04325 (train). The time used is 18.417s. \n",
      "At iter 3210/5000, the losses are 1.07581 (train). The time used is 25.020s. \n",
      "At iter 3220/5000, the losses are 1.06550 (train). The time used is 27.253s. \n",
      "At iter 3230/5000, the losses are 1.06754 (train). The time used is 27.101s. \n",
      "At iter 3240/5000, the losses are 1.07341 (train). The time used is 39.556s. \n",
      "At iter 3250/5000, the losses are 1.07258 (train). The time used is 34.379s. \n",
      "At iter 3260/5000, the losses are 1.06350 (train). The time used is 32.174s. \n",
      "At iter 3270/5000, the losses are 1.07827 (train). The time used is 43.187s. \n",
      "At iter 3280/5000, the losses are 1.07656 (train). The time used is 43.438s. \n",
      "At iter 3290/5000, the losses are 1.07055 (train). The time used is 25.632s. \n",
      "At iter 3300/5000, the losses are 1.07911 (train). The time used is 29.481s. \n",
      "At iter 3310/5000, the losses are 1.05474 (train). The time used is 31.326s. \n",
      "At iter 3320/5000, the losses are 1.06798 (train). The time used is 40.008s. \n",
      "At iter 3330/5000, the losses are 1.06894 (train). The time used is 35.512s. \n",
      "At iter 3340/5000, the losses are 1.06422 (train). The time used is 40.025s. \n",
      "At iter 3350/5000, the losses are 1.07283 (train). The time used is 39.550s. \n",
      "At iter 3360/5000, the losses are 1.08275 (train). The time used is 41.023s. \n",
      "At iter 3370/5000, the losses are 1.06401 (train). The time used is 27.536s. \n",
      "At iter 3380/5000, the losses are 1.05900 (train). The time used is 24.852s. \n",
      "At iter 3390/5000, the losses are 1.06798 (train). The time used is 34.880s. \n",
      "At iter 3400/5000, the losses are 1.08101 (train). The time used is 50.182s. \n",
      "At iter 3410/5000, the losses are 1.07816 (train). The time used is 44.260s. \n",
      "At iter 3420/5000, the losses are 1.07674 (train). The time used is 46.553s. \n",
      "At iter 3430/5000, the losses are 1.07206 (train). The time used is 37.236s. \n",
      "At iter 3440/5000, the losses are 1.07747 (train). The time used is 36.376s. \n",
      "At iter 3450/5000, the losses are 1.06632 (train). The time used is 46.193s. \n",
      "At iter 3460/5000, the losses are 1.04630 (train). The time used is 31.644s. \n",
      "At iter 3470/5000, the losses are 1.06605 (train). The time used is 38.812s. \n",
      "At iter 3480/5000, the losses are 1.08097 (train). The time used is 34.347s. \n",
      "At iter 3490/5000, the losses are 1.06097 (train). The time used is 29.283s. \n",
      "At iter 3500/5000, the losses are 1.06652 (train). The time used is 37.005s. \n",
      "Adjusting learning rate of group 0 to 1.0935e-07.\n",
      "At iter 3510/5000, the losses are 1.06833 (train). The time used is 34.725s. \n",
      "At iter 3520/5000, the losses are 1.06185 (train). The time used is 27.322s. \n",
      "At iter 3530/5000, the losses are 1.07190 (train). The time used is 30.562s. \n",
      "At iter 3540/5000, the losses are 1.07944 (train). The time used is 36.415s. \n",
      "At iter 3550/5000, the losses are 1.06997 (train). The time used is 29.492s. \n",
      "At iter 3560/5000, the losses are 1.07710 (train). The time used is 35.121s. \n",
      "At iter 3570/5000, the losses are 1.07224 (train). The time used is 31.457s. \n",
      "At iter 3580/5000, the losses are 1.06254 (train). The time used is 34.077s. \n",
      "At iter 3590/5000, the losses are 1.07395 (train). The time used is 29.249s. \n",
      "At iter 3600/5000, the losses are 1.05154 (train). The time used is 32.890s. \n",
      "At iter 3610/5000, the losses are 1.05943 (train). The time used is 23.433s. \n",
      "At iter 3620/5000, the losses are 1.07064 (train). The time used is 31.685s. \n",
      "At iter 3630/5000, the losses are 1.05305 (train). The time used is 24.172s. \n",
      "At iter 3640/5000, the losses are 1.06702 (train). The time used is 24.238s. \n",
      "At iter 3650/5000, the losses are 1.06601 (train). The time used is 34.968s. \n",
      "At iter 3660/5000, the losses are 1.06182 (train). The time used is 30.908s. \n",
      "At iter 3670/5000, the losses are 1.06172 (train). The time used is 27.872s. \n",
      "At iter 3680/5000, the losses are 1.05950 (train). The time used is 30.964s. \n",
      "At iter 3690/5000, the losses are 1.09732 (train). The time used is 40.423s. \n",
      "At iter 3700/5000, the losses are 1.05022 (train). The time used is 28.451s. \n",
      "At iter 3710/5000, the losses are 1.06542 (train). The time used is 36.496s. \n",
      "At iter 3720/5000, the losses are 1.07728 (train). The time used is 36.886s. \n",
      "At iter 3730/5000, the losses are 1.08109 (train). The time used is 40.973s. \n",
      "At iter 3740/5000, the losses are 1.06559 (train). The time used is 37.832s. \n",
      "At iter 3750/5000, the losses are 1.07931 (train). The time used is 38.503s. \n",
      "At iter 3760/5000, the losses are 1.07205 (train). The time used is 40.290s. \n",
      "At iter 3770/5000, the losses are 1.05275 (train). The time used is 23.926s. \n",
      "At iter 3780/5000, the losses are 1.05789 (train). The time used is 27.733s. \n",
      "At iter 3790/5000, the losses are 1.05716 (train). The time used is 30.696s. \n",
      "At iter 3800/5000, the losses are 1.06669 (train). The time used is 49.590s. \n",
      "At iter 3810/5000, the losses are 1.08953 (train). The time used is 42.250s. \n",
      "At iter 3820/5000, the losses are 1.06392 (train). The time used is 28.310s. \n",
      "At iter 3830/5000, the losses are 1.07580 (train). The time used is 37.015s. \n",
      "At iter 3840/5000, the losses are 1.07808 (train). The time used is 29.909s. \n",
      "At iter 3850/5000, the losses are 1.08009 (train). The time used is 28.147s. \n",
      "At iter 3860/5000, the losses are 1.07114 (train). The time used is 36.752s. \n",
      "At iter 3870/5000, the losses are 1.07781 (train). The time used is 35.107s. \n",
      "At iter 3880/5000, the losses are 1.06498 (train). The time used is 32.115s. \n",
      "At iter 3890/5000, the losses are 1.07672 (train). The time used is 34.020s. \n",
      "At iter 3900/5000, the losses are 1.04889 (train). The time used is 30.614s. \n",
      "At iter 3910/5000, the losses are 1.07687 (train). The time used is 43.573s. \n",
      "At iter 3920/5000, the losses are 1.05150 (train). The time used is 25.016s. \n",
      "At iter 3930/5000, the losses are 1.03742 (train). The time used is 23.265s. \n",
      "At iter 3940/5000, the losses are 1.04818 (train). The time used is 35.114s. \n",
      "At iter 3950/5000, the losses are 1.06195 (train). The time used is 35.363s. \n",
      "At iter 3960/5000, the losses are 1.05143 (train). The time used is 24.330s. \n",
      "At iter 3970/5000, the losses are 1.06510 (train). The time used is 25.669s. \n",
      "At iter 3980/5000, the losses are 1.06513 (train). The time used is 24.335s. \n",
      "At iter 3990/5000, the losses are 1.06661 (train). The time used is 28.830s. \n",
      "At iter 4000/5000, the losses are 1.06609 (train). The time used is 29.744s. \n",
      "Adjusting learning rate of group 0 to 3.2805e-08.\n",
      "At iter 4010/5000, the losses are 1.07438 (train). The time used is 38.750s. \n",
      "At iter 4020/5000, the losses are 1.07220 (train). The time used is 38.236s. \n",
      "At iter 4030/5000, the losses are 1.05113 (train). The time used is 26.921s. \n",
      "At iter 4040/5000, the losses are 1.06764 (train). The time used is 25.879s. \n",
      "At iter 4050/5000, the losses are 1.06886 (train). The time used is 42.765s. \n",
      "At iter 4060/5000, the losses are 1.08401 (train). The time used is 42.714s. \n",
      "At iter 4070/5000, the losses are 1.05698 (train). The time used is 27.589s. \n",
      "At iter 4080/5000, the losses are 1.07195 (train). The time used is 37.700s. \n",
      "At iter 4090/5000, the losses are 1.04793 (train). The time used is 20.595s. \n",
      "At iter 4100/5000, the losses are 1.03383 (train). The time used is 28.156s. \n",
      "At iter 4110/5000, the losses are 1.07917 (train). The time used is 25.954s. \n",
      "At iter 4120/5000, the losses are 1.03835 (train). The time used is 29.908s. \n",
      "At iter 4130/5000, the losses are 1.06695 (train). The time used is 34.759s. \n",
      "At iter 4140/5000, the losses are 1.05664 (train). The time used is 34.542s. \n",
      "At iter 4150/5000, the losses are 1.07312 (train). The time used is 38.751s. \n",
      "At iter 4160/5000, the losses are 1.06888 (train). The time used is 31.019s. \n",
      "At iter 4170/5000, the losses are 1.06941 (train). The time used is 28.711s. \n",
      "At iter 4180/5000, the losses are 1.06194 (train). The time used is 31.848s. \n",
      "At iter 4190/5000, the losses are 1.06631 (train). The time used is 33.046s. \n",
      "At iter 4200/5000, the losses are 1.06750 (train). The time used is 41.213s. \n",
      "At iter 4210/5000, the losses are 1.07103 (train). The time used is 25.990s. \n",
      "At iter 4220/5000, the losses are 1.07626 (train). The time used is 29.140s. \n",
      "At iter 4230/5000, the losses are 1.06295 (train). The time used is 35.368s. \n",
      "At iter 4240/5000, the losses are 1.06548 (train). The time used is 28.330s. \n",
      "At iter 4250/5000, the losses are 1.03690 (train). The time used is 29.113s. \n",
      "At iter 4260/5000, the losses are 1.06195 (train). The time used is 33.413s. \n",
      "At iter 4270/5000, the losses are 1.07832 (train). The time used is 28.967s. \n",
      "At iter 4280/5000, the losses are 1.07599 (train). The time used is 48.043s. \n",
      "At iter 4290/5000, the losses are 1.05712 (train). The time used is 21.573s. \n",
      "At iter 4300/5000, the losses are 1.06392 (train). The time used is 39.235s. \n",
      "At iter 4310/5000, the losses are 1.07676 (train). The time used is 34.874s. \n",
      "At iter 4320/5000, the losses are 1.07868 (train). The time used is 41.705s. \n",
      "At iter 4330/5000, the losses are 1.04425 (train). The time used is 23.589s. \n",
      "At iter 4340/5000, the losses are 1.06720 (train). The time used is 29.350s. \n",
      "At iter 4350/5000, the losses are 1.06603 (train). The time used is 32.579s. \n",
      "At iter 4360/5000, the losses are 1.07904 (train). The time used is 35.777s. \n",
      "At iter 4370/5000, the losses are 1.07620 (train). The time used is 28.431s. \n",
      "At iter 4380/5000, the losses are 1.06825 (train). The time used is 38.566s. \n",
      "At iter 4390/5000, the losses are 1.06703 (train). The time used is 34.168s. \n",
      "At iter 4400/5000, the losses are 1.08668 (train). The time used is 37.869s. \n",
      "At iter 4410/5000, the losses are 1.07201 (train). The time used is 26.794s. \n",
      "At iter 4420/5000, the losses are 1.06368 (train). The time used is 35.588s. \n",
      "At iter 4430/5000, the losses are 1.08029 (train). The time used is 40.801s. \n",
      "At iter 4440/5000, the losses are 1.05553 (train). The time used is 29.575s. \n",
      "At iter 4450/5000, the losses are 1.06492 (train). The time used is 40.532s. \n",
      "At iter 4460/5000, the losses are 1.07219 (train). The time used is 37.552s. \n",
      "At iter 4470/5000, the losses are 1.08075 (train). The time used is 32.542s. \n",
      "At iter 4480/5000, the losses are 1.06878 (train). The time used is 46.509s. \n",
      "At iter 4490/5000, the losses are 1.06177 (train). The time used is 28.349s. \n",
      "At iter 4500/5000, the losses are 1.07759 (train). The time used is 42.187s. \n",
      "Adjusting learning rate of group 0 to 9.8415e-09.\n",
      "At iter 4510/5000, the losses are 1.03896 (train). The time used is 35.214s. \n",
      "At iter 4520/5000, the losses are 1.07249 (train). The time used is 39.794s. \n",
      "At iter 4530/5000, the losses are 1.07066 (train). The time used is 35.054s. \n",
      "At iter 4540/5000, the losses are 1.07372 (train). The time used is 30.491s. \n",
      "At iter 4550/5000, the losses are 1.08229 (train). The time used is 42.742s. \n",
      "At iter 4560/5000, the losses are 1.05710 (train). The time used is 23.484s. \n",
      "At iter 4570/5000, the losses are 1.08152 (train). The time used is 47.709s. \n",
      "At iter 4580/5000, the losses are 1.06674 (train). The time used is 36.565s. \n",
      "At iter 4590/5000, the losses are 1.07055 (train). The time used is 28.440s. \n",
      "At iter 4600/5000, the losses are 1.06480 (train). The time used is 34.831s. \n",
      "At iter 4610/5000, the losses are 1.06002 (train). The time used is 21.853s. \n",
      "At iter 4620/5000, the losses are 1.06986 (train). The time used is 35.431s. \n",
      "At iter 4630/5000, the losses are 1.07706 (train). The time used is 41.314s. \n",
      "At iter 4640/5000, the losses are 1.07416 (train). The time used is 35.743s. \n",
      "At iter 4650/5000, the losses are 1.07057 (train). The time used is 28.898s. \n",
      "At iter 4660/5000, the losses are 1.07572 (train). The time used is 41.473s. \n",
      "At iter 4670/5000, the losses are 1.07429 (train). The time used is 34.408s. \n",
      "At iter 4680/5000, the losses are 1.05750 (train). The time used is 23.510s. \n",
      "At iter 4690/5000, the losses are 1.08584 (train). The time used is 40.346s. \n",
      "At iter 4700/5000, the losses are 1.07653 (train). The time used is 31.043s. \n",
      "At iter 4710/5000, the losses are 1.07555 (train). The time used is 44.913s. \n",
      "At iter 4720/5000, the losses are 1.07491 (train). The time used is 28.901s. \n",
      "At iter 4730/5000, the losses are 1.06059 (train). The time used is 32.204s. \n",
      "At iter 4740/5000, the losses are 1.06915 (train). The time used is 40.855s. \n",
      "At iter 4750/5000, the losses are 1.06911 (train). The time used is 46.694s. \n",
      "At iter 4760/5000, the losses are 1.06818 (train). The time used is 40.879s. \n",
      "At iter 4770/5000, the losses are 1.06293 (train). The time used is 39.365s. \n",
      "At iter 4780/5000, the losses are 1.08196 (train). The time used is 33.418s. \n",
      "At iter 4790/5000, the losses are 1.06644 (train). The time used is 29.615s. \n",
      "At iter 4800/5000, the losses are 1.07761 (train). The time used is 29.025s. \n",
      "At iter 4810/5000, the losses are 1.08719 (train). The time used is 34.227s. \n",
      "At iter 4820/5000, the losses are 1.06886 (train). The time used is 30.573s. \n",
      "At iter 4830/5000, the losses are 1.07028 (train). The time used is 52.772s. \n",
      "At iter 4840/5000, the losses are 1.09942 (train). The time used is 47.218s. \n",
      "At iter 4850/5000, the losses are 1.05303 (train). The time used is 33.842s. \n",
      "At iter 4860/5000, the losses are 1.08387 (train). The time used is 41.019s. \n",
      "At iter 4870/5000, the losses are 1.07671 (train). The time used is 35.069s. \n",
      "At iter 4880/5000, the losses are 1.05107 (train). The time used is 21.520s. \n",
      "At iter 4890/5000, the losses are 1.06497 (train). The time used is 32.752s. \n",
      "At iter 4900/5000, the losses are 1.07904 (train). The time used is 41.765s. \n",
      "At iter 4910/5000, the losses are 1.06482 (train). The time used is 22.221s. \n",
      "At iter 4920/5000, the losses are 1.05621 (train). The time used is 27.667s. \n",
      "At iter 4930/5000, the losses are 1.05929 (train). The time used is 41.615s. \n",
      "At iter 4940/5000, the losses are 1.06625 (train). The time used is 38.674s. \n",
      "At iter 4950/5000, the losses are 1.06238 (train). The time used is 29.656s. \n",
      "At iter 4960/5000, the losses are 1.08780 (train). The time used is 40.253s. \n",
      "At iter 4970/5000, the losses are 1.06960 (train). The time used is 34.907s. \n",
      "At iter 4980/5000, the losses are 1.04771 (train). The time used is 28.479s. \n",
      "At iter 4990/5000, the losses are 1.07345 (train). The time used is 37.307s. \n",
      "At iter 5000/5000, the losses are 1.05017 (train). The time used is 23.857s. \n",
      "Adjusting learning rate of group 0 to 2.9524e-09.\n"
     ]
    }
   ],
   "source": [
    "# training\n",
    "loss_cur = 0\n",
    "losses = []\n",
    "losses_test = []\n",
    "\n",
    "t0 = time.time()\n",
    "sgm_net.eval()\n",
    "for ix in range(paras_rnn.niter):\n",
    "    X_seq, Y_seq = random_samples_rnn(simu_sgm_data.PSDs,\n",
    "                                      simu_sgm_data.sgm_paramss, \n",
    "                                      batchsize=paras_rnn.batchsize, \n",
    "                                      theta2raw_fn=_theta2raw)\n",
    "    # Zero the gradients\n",
    "    optimizer.zero_grad()\n",
    "    \n",
    "    theta_pred = rnn(X_seq)\n",
    "    X_pred = sgm_net(theta_pred.flatten(0, 1))\n",
    "    loss = loss_fn(X_seq.flatten(0, 1).reshape(-1, 68, 40),\n",
    "                   X_pred)\n",
    "    \n",
    "    # Perform backward pass\n",
    "    loss.backward()\n",
    "    \n",
    "    torch.nn.utils.clip_grad_norm_(rnn.parameters(), paras_rnn.clip)\n",
    "    # Perform optimization\n",
    "    optimizer.step()\n",
    "    \n",
    "    loss_cur = loss_cur + loss.item()\n",
    "    if ix % paras_rnn.loss_out == (paras_rnn.loss_out-1):\n",
    "        losses.append(loss_cur/paras_rnn.loss_out)\n",
    "        print(f\"At iter {ix+1}/{paras_rnn.niter}, \"\n",
    "              f\"the losses are {loss_cur/paras_rnn.loss_out:.5f} (train). \"\n",
    "              f\"The time used is {delta_time(t0):.3f}s. \"\n",
    "             )\n",
    "        loss_cur = 0\n",
    "        rnn.train()\n",
    "        t0 = time.time()\n",
    "    \n",
    "    if ix % paras_rnn.lr_step == (paras_rnn.lr_step-1):\n",
    "        scheduler.step()"
   ]
  },
  {
   "cell_type": "code",
   "execution_count": 33,
   "id": "008687a8",
   "metadata": {
    "ExecuteTime": {
     "end_time": "2023-04-02T21:07:09.849482Z",
     "start_time": "2023-04-02T21:07:09.605859Z"
    }
   },
   "outputs": [
    {
     "data": {
      "image/png": "[encoded data removed]",
      "text/plain": [
       "<Figure size 432x288 with 1 Axes>"
      ]
     },
     "metadata": {
      "needs_background": "light"
     },
     "output_type": "display_data"
    }
   ],
   "source": [
    "plt.plot(losses)\n",
    "plt.yscale(\"log\")"
   ]
  },
  {
   "cell_type": "markdown",
   "id": "e8b6ba91",
   "metadata": {},
   "source": [
    "## Evaluate"
   ]
  },
  {
   "cell_type": "markdown",
   "id": "0112a69c",
   "metadata": {},
   "source": [
    "### SGM parameters"
   ]
  },
  {
   "cell_type": "code",
   "execution_count": 34,
   "id": "209d4619",
   "metadata": {
    "ExecuteTime": {
     "end_time": "2023-04-02T21:07:23.856224Z",
     "start_time": "2023-04-02T21:07:23.511712Z"
    }
   },
   "outputs": [],
   "source": [
    "X_test, Y_test= random_samples_rnn(simu_sgm_data.PSDs,\n",
    "                                      simu_sgm_data.sgm_paramss, \n",
    "                                      bds=[[0], [1000]],\n",
    "                                      theta2raw_fn=None)\n",
    "rnn.eval()\n",
    "with torch.no_grad():\n",
    "    Y_pred = rnn(X_test).squeeze()\n",
    "    #Y_pred = raw2theta_torch(Y_pred, torch.tensor(paras.prior_bds), k=paras_run.k)\n",
    "Y_test = Y_test.squeeze()"
   ]
  },
  {
   "cell_type": "code",
   "execution_count": 35,
   "id": "6fbf8f9f",
   "metadata": {
    "ExecuteTime": {
     "end_time": "2023-04-02T21:07:33.477683Z",
     "start_time": "2023-04-02T21:07:33.181225Z"
    }
   },
   "outputs": [
    {
     "data": {
      "image/png": "[encoded data removed]",
      "text/plain": [
       "<Figure size 1440x360 with 2 Axes>"
      ]
     },
     "metadata": {
      "needs_background": "light"
     },
     "output_type": "display_data"
    }
   ],
   "source": [
    "idx = 4\n",
    "con_data = np.array([\n",
    "           Y_test[:, idx].numpy(),\n",
    "           Y_pred[:, idx].numpy()])\n",
    "plt.figure(figsize=[20, 5])\n",
    "sns.heatmap(con_data)\n",
    "plt.yticks([0.5, 1.5], [\"Truth\", \"Prediction\"]);"
   ]
  },
  {
   "cell_type": "code",
   "execution_count": 52,
   "id": "8c459e99",
   "metadata": {
    "ExecuteTime": {
     "end_time": "2023-04-02T21:11:31.524780Z",
     "start_time": "2023-04-02T21:11:31.514470Z"
    }
   },
   "outputs": [
    {
     "name": "stdout",
     "output_type": "stream",
     "text": [
      "(0.3491626654683381, 4.7974889685055145e-30)\n",
      "(0.01836634713882146, 0.5618354427782281)\n",
      "(0.0333383684869648, 0.2922374358282148)\n",
      "(0.4747621489928629, 2.3671793523105844e-57)\n",
      "(0.8730351860423375, 1.58317095854e-313)\n",
      "(0.09096260550984457, 0.003991123382979489)\n"
     ]
    }
   ],
   "source": [
    "for ix in range(6):\n",
    "    print(scipy.stats.pearsonr(\n",
    "           Y_test[:, ix].numpy(),\n",
    "           Y_pred[:, ix].numpy()\n",
    "    ))"
   ]
  },
  {
   "cell_type": "markdown",
   "id": "0e1603f6",
   "metadata": {},
   "source": [
    "### Recontruct PSD"
   ]
  },
  {
   "cell_type": "code",
   "execution_count": 107,
   "id": "d872d935",
   "metadata": {
    "ExecuteTime": {
     "end_time": "2023-04-02T21:30:22.693102Z",
     "start_time": "2023-04-02T21:30:22.632979Z"
    }
   },
   "outputs": [],
   "source": [
    "sgm_net.eval()\n",
    "with torch.no_grad():\n",
    "    X_rec1 = sgm_net(Y_pred)\n",
    "X_rec1 = X_rec1.numpy()\n",
    "\n",
    "X_org = simu_sgm_data.PSDs\n",
    "X_org = X_org/X_org.std(axis=(1, 2), keepdims=1)"
   ]
  },
  {
   "cell_type": "code",
   "execution_count": 149,
   "id": "da7b4c84",
   "metadata": {
    "ExecuteTime": {
     "end_time": "2023-04-02T22:04:50.093306Z",
     "start_time": "2023-04-02T21:58:28.444401Z"
    }
   },
   "outputs": [
    {
     "name": "stderr",
     "output_type": "stream",
     "text": [
      "100%|██████████████████████████████████████████████████████████████████████████████████████████████████████████████████████████████████████| 1000/1000 [06:21<00:00,  2.62it/s]\n"
     ]
    }
   ],
   "source": [
    "sgmmodel = SGM(paras.C, paras.D, paras.freqs)\n",
    "X_rec2 = []\n",
    "for sgm_params_cur in tqdm(Y_pred):\n",
    "    cur_PSD = sgmmodel.run_local_coupling_forward(sgm_params_cur.numpy())\n",
    "    X_rec2.append(cur_PSD[:68])\n",
    "X_rec2 = np.array(X_rec2)\n",
    "X_rec2 = X_rec2/X_rec2.std(axis=(1, 2), keepdims=1)"
   ]
  },
  {
   "cell_type": "code",
   "execution_count": 109,
   "id": "37626b40",
   "metadata": {
    "ExecuteTime": {
     "end_time": "2023-04-02T21:30:41.467491Z",
     "start_time": "2023-04-02T21:30:41.457134Z"
    }
   },
   "outputs": [],
   "source": [
    "def ana_corr(data_org, data_rec):\n",
    "    corrs_psd = []\n",
    "    for ix in range(data_org.shape[0]):\n",
    "        seq_x = data_org[ix]\n",
    "        seq_y = data_rec[ix]\n",
    "        res = scipy.stats.pearsonr(seq_x, seq_y)\n",
    "        corrs_psd.append(res[0])\n",
    "        \n",
    "        \n",
    "    data_org_std = std_mat(data_org)\n",
    "    data_rec_std = std_mat(data_rec)\n",
    "    corr_psd_uni = scipy.stats.pearsonr(\n",
    "        data_org_std.mean(axis=0), \n",
    "        data_rec_std.mean(axis=0))[0]\n",
    "    \n",
    "    corrs_sp = []\n",
    "    for ix in range(data_org.shape[1]):\n",
    "        seq_x = data_org[:, ix]\n",
    "        seq_y = data_rec[:, ix]\n",
    "        res = scipy.stats.pearsonr(seq_x, seq_y)\n",
    "        corrs_sp.append(res[0])\n",
    "    return corr_psd_uni, corrs_psd, corrs_sp"
   ]
  },
  {
   "cell_type": "code",
   "execution_count": 155,
   "id": "695ec10a",
   "metadata": {
    "ExecuteTime": {
     "end_time": "2023-04-02T22:12:10.668876Z",
     "start_time": "2023-04-02T22:12:02.765434Z"
    }
   },
   "outputs": [
    {
     "name": "stdout",
     "output_type": "stream",
     "text": [
      "0.9484344357956783 0.08743834731049734\n",
      "0.9369320017806869 0.10136407192723579\n"
     ]
    }
   ],
   "source": [
    "corrs1 = []\n",
    "corrs2 = []\n",
    "for ix in range(len(X_org)):\n",
    "    corrs1.append(ana_corr(X_org[ix], X_rec1[ix])[0])\n",
    "    corrs2.append(ana_corr(X_org[ix], X_rec2[ix])[0])\n",
    "print(np.mean(corrs1), np.std(corrs1))\n",
    "print(np.mean(corrs2), np.std(corrs2))"
   ]
  },
  {
   "cell_type": "code",
   "execution_count": 171,
   "id": "ca3d1d5d",
   "metadata": {
    "ExecuteTime": {
     "end_time": "2023-04-02T22:15:10.547503Z",
     "start_time": "2023-04-02T22:15:10.537851Z"
    }
   },
   "outputs": [
    {
     "name": "stdout",
     "output_type": "stream",
     "text": [
      "[[346 482 308 782 551 481 310 109 309 632]\n",
      " [482 346 481 782 632 551  45 309 109 308]]\n",
      "[[284 295 357 336 923 695  87 381 202  86]\n",
      " [664 807 715 828 887 405 437 841 164 222]]\n"
     ]
    }
   ],
   "source": [
    "print(np.stack([\n",
    "    np.argsort(corrs1)[:10],\n",
    "    np.argsort(corrs2)[:10]]))\n",
    "\n",
    "print(np.stack([\n",
    "    np.argsort(-np.array(corrs1))[:10],\n",
    "    np.argsort(-np.array(corrs2))[:10]]))"
   ]
  },
  {
   "cell_type": "code",
   "execution_count": 177,
   "id": "17dd4cac",
   "metadata": {
    "ExecuteTime": {
     "end_time": "2023-04-02T22:16:05.393113Z",
     "start_time": "2023-04-02T22:16:05.287320Z"
    }
   },
   "outputs": [
    {
     "data": {
      "text/plain": [
       "<matplotlib.legend.Legend at 0x7f5b609fff40>"
      ]
     },
     "execution_count": 177,
     "metadata": {},
     "output_type": "execute_result"
    },
    {
     "data": {
      "image/png": "[encoded data removed]",
      "text/plain": [
       "<Figure size 432x288 with 1 Axes>"
      ]
     },
     "metadata": {
      "needs_background": "light"
     },
     "output_type": "display_data"
    }
   ],
   "source": [
    "idx = np.argmin(corrs1)\n",
    "idx = 405 \n",
    "plt.plot(std_mat(X_org[idx]).mean(axis=0), label=\"Original\")\n",
    "plt.plot(std_mat(X_rec1[idx]).mean(axis=0), label=\"Reconstructed1\")\n",
    "plt.plot(std_mat(X_rec2[idx]).mean(axis=0), label=\"Reconstructed2\")\n",
    "plt.legend()"
   ]
  },
  {
   "cell_type": "code",
   "execution_count": 178,
   "id": "cd283b12",
   "metadata": {
    "ExecuteTime": {
     "end_time": "2023-04-02T22:16:07.200898Z",
     "start_time": "2023-04-02T22:16:07.192530Z"
    }
   },
   "outputs": [
    {
     "data": {
      "text/plain": [
       "array([[6.67153059e-01, 4.68866069e-01, 1.95860934e+00, 1.30077886e-02,\n",
       "        2.96239173e-02, 1.59695247e-01, 1.47868816e+01],\n",
       "       [3.77303394e-01, 3.60230355e-01, 7.73818310e-01, 1.28352319e-02,\n",
       "        2.95342640e-02, 1.12282176e-01, 1.95564955e+01]])"
      ]
     },
     "execution_count": 178,
     "metadata": {},
     "output_type": "execute_result"
    }
   ],
   "source": [
    "np.stack([ \n",
    "    simu_sgm_data.sgm_paramss[idx],\n",
    "    Y_pred[idx].numpy()])"
   ]
  },
  {
   "cell_type": "code",
   "execution_count": 135,
   "id": "15be3f0c",
   "metadata": {
    "ExecuteTime": {
     "end_time": "2023-04-02T21:36:54.599798Z",
     "start_time": "2023-04-02T21:36:54.592400Z"
    }
   },
   "outputs": [
    {
     "data": {
      "text/plain": [
       "array([[1.e-01, 1.e+00],\n",
       "       [1.e-03, 7.e-01],\n",
       "       [1.e-03, 2.e+00],\n",
       "       [5.e-03, 3.e-02],\n",
       "       [5.e-03, 3.e-02],\n",
       "       [5.e-03, 2.e-01],\n",
       "       [5.e+00, 2.e+01]])"
      ]
     },
     "execution_count": 135,
     "metadata": {},
     "output_type": "execute_result"
    }
   ],
   "source": [
    "paras.prior_bds"
   ]
  },
  {
   "cell_type": "markdown",
   "id": "b08609a8",
   "metadata": {},
   "source": [
    "## Save"
   ]
  },
  {
   "cell_type": "code",
   "execution_count": 136,
   "id": "d4db2391",
   "metadata": {
    "ExecuteTime": {
     "end_time": "2023-04-02T21:39:32.251214Z",
     "start_time": "2023-04-02T21:39:26.980728Z"
    }
   },
   "outputs": [
    {
     "name": "stdout",
     "output_type": "stream",
     "text": [
      "/data/rajlab1/user_data/jin/MyResearch/TV-SGM/notebooks/../mypkg/../results/LSTM_simu_net\n",
      "Create a folder /data/rajlab1/user_data/jin/MyResearch/TV-SGM/notebooks/../mypkg/../results/LSTM_simu_net\n",
      "Save to /data/rajlab1/user_data/jin/MyResearch/TV-SGM/notebooks/../mypkg/../results/LSTM_simu_net/model.pkl\n",
      "Save to /data/rajlab1/user_data/jin/MyResearch/TV-SGM/notebooks/../mypkg/../results/LSTM_simu_net/loss.pkl\n",
      "Save to /data/rajlab1/user_data/jin/MyResearch/TV-SGM/notebooks/../mypkg/../results/LSTM_simu_net/optimizer.pkl\n",
      "Save to /data/rajlab1/user_data/jin/MyResearch/TV-SGM/notebooks/../mypkg/../results/LSTM_simu_net/paras.pkl\n"
     ]
    }
   ],
   "source": [
    "trained_model = edict()\n",
    "trained_model.model = rnn\n",
    "trained_model.loss = loss_fn\n",
    "trained_model.optimizer = optimizer\n",
    "trained_model.paras = paras_rnn\n",
    "trained_model.loss = losses\n",
    "save_pkl_dict2folder(RES_ROOT/\"LSTM_simu_net\", trained_model, is_force=False)"
   ]
  },
  {
   "cell_type": "code",
   "execution_count": null,
   "id": "95ce4774",
   "metadata": {},
   "outputs": [],
   "source": []
  }
 ],
 "metadata": {
  "kernelspec": {
   "display_name": "Python 3 (ipykernel)",
   "language": "python",
   "name": "python3"
  },
  "language_info": {
   "codemirror_mode": {
    "name": "ipython",
    "version": 3
   },
   "file_extension": ".py",
   "mimetype": "text/x-python",
   "name": "python",
   "nbconvert_exporter": "python",
   "pygments_lexer": "ipython3",
   "version": "3.9.7"
  },
  "toc": {
   "base_numbering": 1,
   "nav_menu": {},
   "number_sections": true,
   "sideBar": true,
   "skip_h1_title": false,
   "title_cell": "Table of Contents",
   "title_sidebar": "Contents",
   "toc_cell": false,
   "toc_position": {
    "height": "calc(100% - 180px)",
    "left": "10px",
    "top": "150px",
    "width": "165px"
   },
   "toc_section_display": true,
   "toc_window_display": true
  }
 },
 "nbformat": 4,
 "nbformat_minor": 5
}
