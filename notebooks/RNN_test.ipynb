{
 "cells": [
  {
   "cell_type": "markdown",
   "id": "50a448bd",
   "metadata": {},
   "source": [
    "I use this jupyter to test whether my RNN is correct or not (Mar 20, 2023).\n",
    "\n",
    "\n",
    "1. The first stage (Mar 20, 2023), I simply try to see whether RNN works or not, so \n",
    "\n",
    "    a. Generate X and Y without time-dependance. \n",
    "    \n",
    "    b. Add noise on Y.\n",
    "    \n",
    "    c. It works well (Mar 20, 2023) \n",
    "    \n",
    "2. The second stage, I try to generate ts with time-dependence.\n",
    "\n",
    "    a. I generate Y first with time-dependence. \n",
    "    \n",
    "    b. Then I generate X = YA\n",
    "    \n",
    "    c. In fact, when data are large enough, the hidden layer can help improve the performance (Mar 20, 2023)\n"
   ]
  },
  {
   "cell_type": "markdown",
   "id": "41ace1c8",
   "metadata": {},
   "source": [
    "## Import pkgs"
   ]
  },
  {
   "cell_type": "code",
   "execution_count": 1,
   "id": "b428815f",
   "metadata": {
    "ExecuteTime": {
     "end_time": "2023-03-20T22:01:25.153482Z",
     "start_time": "2023-03-20T22:01:24.991567Z"
    }
   },
   "outputs": [],
   "source": [
    "import sys\n",
    "sys.path.append(\"../mypkg\")\n",
    "from constants import RES_ROOT, FIG_ROOT, DATA_ROOT"
   ]
  },
  {
   "cell_type": "code",
   "execution_count": 2,
   "id": "be4d2722",
   "metadata": {
    "ExecuteTime": {
     "end_time": "2023-03-20T22:01:26.549658Z",
     "start_time": "2023-03-20T22:01:25.746984Z"
    }
   },
   "outputs": [],
   "source": [
    "import numpy as np\n",
    "import scipy\n",
    "import matplotlib.pyplot as plt\n",
    "import seaborn as sns\n",
    "from easydict import EasyDict as edict\n",
    "from tqdm import trange\n",
    "\n",
    "plt.style.use(FIG_ROOT/\"base.mplstyle\")\n",
    "%matplotlib inline"
   ]
  },
  {
   "cell_type": "code",
   "execution_count": 3,
   "id": "96a42c9e",
   "metadata": {
    "ExecuteTime": {
     "end_time": "2023-03-20T22:01:27.870393Z",
     "start_time": "2023-03-20T22:01:26.551507Z"
    }
   },
   "outputs": [],
   "source": [
    "# pkgs for pytorch (Mar 20, 2023)\n",
    "import torch\n",
    "import torch.nn as nn\n",
    "\n",
    "torch.set_default_dtype(torch.float64)\n",
    "torch.set_default_tensor_type(torch.DoubleTensor)"
   ]
  },
  {
   "cell_type": "code",
   "execution_count": null,
   "id": "4f2857bc",
   "metadata": {},
   "outputs": [],
   "source": []
  },
  {
   "cell_type": "markdown",
   "id": "e517fee4",
   "metadata": {},
   "source": [
    "## Data, fns and parameters"
   ]
  },
  {
   "cell_type": "code",
   "execution_count": 4,
   "id": "c7342e16",
   "metadata": {
    "ExecuteTime": {
     "end_time": "2023-03-20T22:01:27.876660Z",
     "start_time": "2023-03-20T22:01:27.872850Z"
    }
   },
   "outputs": [],
   "source": [
    "paras = edict()\n",
    "paras.d = 68 # dim of feature vector\n",
    "paras.n = 10000 # length of the time series\n",
    "\n",
    "paras.n_ouput = 7 # dim of output from RNN\n",
    "paras.n_hidden = 256 # dim of hidden from RNN\n",
    "\n",
    "paras.err_sd = 20 # error standard deviation added to x\n",
    "paras.is_hidden = False# whether to include hidden or not"
   ]
  },
  {
   "cell_type": "code",
   "execution_count": null,
   "id": "731d6cfc",
   "metadata": {
    "ExecuteTime": {
     "end_time": "2023-03-20T21:34:21.210173Z",
     "start_time": "2023-03-20T21:34:21.201310Z"
    }
   },
   "outputs": [],
   "source": []
  },
  {
   "cell_type": "code",
   "execution_count": 5,
   "id": "84d2b51b",
   "metadata": {},
   "outputs": [],
   "source": [
    "# to generate ts \n",
    "from statsmodels.tsa.arima_process import arma_generate_sample\n",
    "\n",
    "def gen_arma_ts(ndim=7, n=paras.n):\n",
    "    \"\"\"Generate ARMA ndim-vec ts.\n",
    "    \"\"\"\n",
    "    # ARMA(2, 2)\n",
    "    ys = []\n",
    "    for ix in range(ndim):\n",
    "        arparams = np.array([.75, -.25])\n",
    "        maparams = np.array([.65, .35])\n",
    "        ar = np.r_[1, -arparams] # add zero-lag and negate\n",
    "        ma = np.r_[1, maparams] # add zero-lag\n",
    "        y = arma_generate_sample(ar, ma, n)\n",
    "        ys.append(y)\n",
    "    return np.array(ys)"
   ]
  },
  {
   "cell_type": "code",
   "execution_count": 6,
   "id": "c298be9d",
   "metadata": {},
   "outputs": [],
   "source": [
    "# generate a toy data\n",
    "torch.manual_seed(0)\n",
    "Amat = torch.randn(paras.d, paras.n_ouput).T\n",
    "\n",
    "tmp_data_y = gen_arma_ts(ndim=paras.n_ouput)\n",
    "tmp_data_y = torch.tensor(tmp_data_y)\n",
    "tmp_data_x1 = (tmp_data_y.T @ Amat).T # error-free\n",
    "tmp_data_x = tmp_data_x1 + torch.randn_like(tmp_data_x1)*paras.err_sd # error version\n",
    "\n",
    "\n",
    "tmp_data_test_y = gen_arma_ts(ndim=paras.n_ouput)\n",
    "tmp_data_test_y = torch.tensor(tmp_data_test_y)\n",
    "tmp_data_test_x1 = (tmp_data_test_y.T @ Amat).T # error-free\n",
    "tmp_data_test_x = tmp_data_test_x1 + torch.randn_like(tmp_data_test_x1)*paras.err_sd # error version"
   ]
  },
  {
   "cell_type": "code",
   "execution_count": 7,
   "id": "adcee389",
   "metadata": {
    "ExecuteTime": {
     "end_time": "2023-03-20T22:01:32.582381Z",
     "start_time": "2023-03-20T22:01:32.572419Z"
    }
   },
   "outputs": [],
   "source": [
    "\n",
    "class RNN(nn.Module):\n",
    "    def __init__(self, input_size, hidden_size, output_size):\n",
    "        super(RNN, self).__init__()\n",
    "\n",
    "        self.hidden_size = hidden_size\n",
    "        self.mid_size = 128\n",
    "\n",
    "        self.i2h = nn.Linear(input_size + hidden_size, hidden_size)\n",
    "        self.i2o = nn.Linear(input_size + hidden_size, self.mid_size)\n",
    "        self.h2o = nn.Linear(hidden_size+self.mid_size, output_size)\n",
    "\n",
    "    def forward(self, input_, hidden):\n",
    "        combined = torch.cat((input_, hidden), 1)\n",
    "        midput = self.i2o(combined)\n",
    "        hidden = self.i2h(combined)\n",
    "        midput_combined = torch.cat((hidden, midput), 1)\n",
    "        output = self.h2o(midput_combined)\n",
    "        return output, hidden\n",
    "\n",
    "    def initHidden(self):\n",
    "        return torch.zeros(1, self.hidden_size)\n"
   ]
  },
  {
   "cell_type": "code",
   "execution_count": 8,
   "id": "a7aac9d5",
   "metadata": {
    "ExecuteTime": {
     "end_time": "2023-03-20T22:01:34.262630Z",
     "start_time": "2023-03-20T22:01:34.252033Z"
    }
   },
   "outputs": [],
   "source": [
    "# functions to generate training sample\n",
    "# note that I fix the bach size = 1\n",
    "def random_choice(n):\n",
    "    \"\"\"Randomly select the lower and upper bound of the segment\n",
    "        args:\n",
    "            n: len of the total time series\n",
    "    \"\"\"\n",
    "    up_bd = torch.randint(low=100, high=n, size=(1, ))\n",
    "    len_seg = torch.randint(low=10, high=50, size=(1, ))\n",
    "    low_bd = up_bd - len_seg\n",
    "    return low_bd.item(), up_bd.item()\n",
    "\n",
    "\n",
    "def random_training_samples(data_x, data_y, bds=None):\n",
    "    \"\"\"Randomly select a sample from the whole segment\n",
    "        args:\n",
    "            data_x: total ts\n",
    "            data_y: total label ts for data_x\n",
    "    \"\"\"\n",
    "    if bds is None:\n",
    "        low_bd, up_bd = random_choice(paras.n)\n",
    "    else:\n",
    "        low_bd, up_bd = bds\n",
    "    part_data_x = torch.unsqueeze(data_x[:, low_bd:up_bd], 0)\n",
    "    part_data_x = part_data_x.permute(2, 0, 1)\n",
    "    \n",
    "    part_data_y = torch.unsqueeze(data_y[:, low_bd:up_bd], 0)\n",
    "    part_data_y = part_data_y.permute(2, 0, 1)\n",
    "    return part_data_x, part_data_y"
   ]
  },
  {
   "cell_type": "code",
   "execution_count": 9,
   "id": "0ef2cfd9",
   "metadata": {},
   "outputs": [],
   "source": [
    "def train(data_x, data_y, rnn, is_hidden=paras.is_hidden):\n",
    "    hidden = rnn.initHidden()\n",
    "\n",
    "    rnn.zero_grad()\n",
    "\n",
    "    loss = 0\n",
    "    seg_len = data_x.shape[0]\n",
    "    for i in range(seg_len):\n",
    "        if is_hidden:\n",
    "            output, hidden = rnn(data_x[i], hidden)\n",
    "        else:\n",
    "            output, _ = rnn(data_x[i], hidden)\n",
    "        loss = criterion(output, data_y[i])/seg_len + loss\n",
    "\n",
    "        \n",
    "    loss.backward()\n",
    "    # Add parameters' gradients to their values, multiplied by learning rate\n",
    "    for p in rnn.parameters():\n",
    "        p.data.add_(p.grad.data, alpha=-learning_rate)\n",
    "\n",
    "    return output, loss.item()\n"
   ]
  },
  {
   "cell_type": "code",
   "execution_count": 10,
   "id": "8741d5ea",
   "metadata": {},
   "outputs": [],
   "source": [
    "def evaluate(data_x, rnn, is_hidden=paras.is_hidden):\n",
    "    with torch.no_grad():\n",
    "        hidden = rnn.initHidden()\n",
    "    \n",
    "        seg_len = data_x.shape[0]\n",
    "        outputs = []\n",
    "        for i in range(seg_len):\n",
    "            if is_hidden:\n",
    "                output, hidden = rnn(data_x[i], hidden)\n",
    "            else:\n",
    "                output, _ = rnn(data_x[i], hidden)\n",
    "            outputs.append(output)\n",
    "\n",
    "    return torch.cat(outputs, axis=0)"
   ]
  },
  {
   "cell_type": "code",
   "execution_count": null,
   "id": "053bfe68",
   "metadata": {},
   "outputs": [],
   "source": []
  },
  {
   "cell_type": "code",
   "execution_count": 11,
   "id": "b2aeb6f8",
   "metadata": {
    "ExecuteTime": {
     "end_time": "2023-03-20T22:01:38.830308Z",
     "start_time": "2023-03-20T22:01:38.821055Z"
    }
   },
   "outputs": [],
   "source": [
    "criterion = nn.MSELoss()\n",
    "learning_rate = 0.005 # If you set this too high, it might explode. If too low, it might not learn\n",
    "\n"
   ]
  },
  {
   "cell_type": "code",
   "execution_count": null,
   "id": "938422fd",
   "metadata": {},
   "outputs": [],
   "source": []
  },
  {
   "cell_type": "markdown",
   "id": "04526618",
   "metadata": {},
   "source": [
    "## Run"
   ]
  },
  {
   "cell_type": "markdown",
   "id": "e7bc1144",
   "metadata": {},
   "source": [
    "### training"
   ]
  },
  {
   "cell_type": "code",
   "execution_count": 17,
   "id": "141f05d2",
   "metadata": {
    "ExecuteTime": {
     "end_time": "2023-03-20T22:03:39.691169Z",
     "start_time": "2023-03-20T22:03:39.685017Z"
    }
   },
   "outputs": [],
   "source": [
    "rnn1 = RNN(paras.d, paras.n_hidden, paras.n_ouput)\n",
    "rnn2 = RNN(paras.d, paras.n_hidden, paras.n_ouput)"
   ]
  },
  {
   "cell_type": "code",
   "execution_count": 18,
   "id": "de39b16f",
   "metadata": {
    "ExecuteTime": {
     "end_time": "2023-03-20T22:05:31.177215Z",
     "start_time": "2023-03-20T22:03:40.982550Z"
    },
    "scrolled": true
   },
   "outputs": [
    {
     "name": "stderr",
     "output_type": "stream",
     "text": [
      "100%|██████████████████████████████████████████████████████████████████████████████████████████████████████████████████████████████████████████████████████████| 2000/2000 [01:07<00:00, 29.57it/s]\n"
     ]
    }
   ],
   "source": [
    "import time\n",
    "import math\n",
    "\n",
    "n_iters = 2000\n",
    "print_every = 100\n",
    "plot_every = 100\n",
    "\n",
    "\n",
    "\n",
    "# Keep track of losses for plotting\n",
    "current_loss1 = 0\n",
    "current_loss2 = 0\n",
    "current_test_loss1 = 0\n",
    "current_test_loss2 = 0\n",
    "all_losses1 = []\n",
    "all_losses2 = []\n",
    "test_losses1 = []\n",
    "test_losses2 = []\n",
    "\n",
    "def timeSince(since):\n",
    "    now = time.time()\n",
    "    s = now - since\n",
    "    m = math.floor(s / 60)\n",
    "    s -= m * 60\n",
    "    return '%dm %ds' % (m, s)\n",
    "\n",
    "start = time.time()\n",
    "\n",
    "for iter in trange(1, n_iters + 1):\n",
    "    data_x, data_y = random_training_samples(tmp_data_x, tmp_data_y)\n",
    "    ouput, loss1 = train(data_x, data_y, rnn1, False)\n",
    "    ouput, loss2 = train(data_x, data_y, rnn2, True)\n",
    "    \n",
    "    # train loss \n",
    "    true_y = data_y.squeeze()\n",
    "    pred_y1 = evaluate(data_x, rnn1, False)\n",
    "    pred_y2 = evaluate(data_x, rnn2, True)\n",
    "    loss1 = ((pred_y1-true_y)**2).mean(axis=1).sqrt().mean().item()\n",
    "    loss2 = ((pred_y2-true_y)**2).mean(axis=1).sqrt().mean().item()\n",
    "    current_loss1 += loss1\n",
    "    current_loss2 += loss2\n",
    "\n",
    "    # test\n",
    "    test_x, test_y = random_training_samples(tmp_data_test_x, tmp_data_test_y)\n",
    "    true_y = test_y.squeeze()\n",
    "    pred_y1 = evaluate(test_x, rnn1, False)\n",
    "    pred_y2 = evaluate(test_x, rnn2, True)\n",
    "    test_loss1 = ((pred_y1-true_y)**2).mean(axis=1).sqrt().mean().item()\n",
    "    test_loss2 = ((pred_y2-true_y)**2).mean(axis=1).sqrt().mean().item()\n",
    "    current_test_loss1 += test_loss1\n",
    "    current_test_loss2 += test_loss2\n",
    "    \n",
    "    # Print iter number, loss, name and guess\n",
    "    if iter % print_every == 1e10:\n",
    "        print('%d %d%% (%s) %.4f' % (iter, iter / n_iters * 100, timeSince(start), loss1))\n",
    "\n",
    "    # Add current loss avg to list of losses\n",
    "    if iter % plot_every == 0:\n",
    "        all_losses1.append(current_loss1 / plot_every)\n",
    "        all_losses2.append(current_loss2 / plot_every)\n",
    "        test_losses1.append(current_test_loss1 / plot_every)\n",
    "        test_losses2.append(current_test_loss2 / plot_every)\n",
    "        current_loss1 = 0\n",
    "        current_loss2 = 0\n",
    "        current_test_loss1 = 0\n",
    "        current_test_loss2 = 0"
   ]
  },
  {
   "cell_type": "code",
   "execution_count": null,
   "id": "d139a0d2",
   "metadata": {},
   "outputs": [],
   "source": []
  },
  {
   "cell_type": "code",
   "execution_count": 19,
   "id": "28198913",
   "metadata": {},
   "outputs": [
    {
     "data": {
      "text/plain": [
       "<matplotlib.legend.Legend at 0x7fb1f5c46220>"
      ]
     },
     "execution_count": 19,
     "metadata": {},
     "output_type": "execute_result"
    },
    {
     "data": {
      "image/png": "[encoded data removed]",
      "text/plain": [
       "<Figure size 432x288 with 1 Axes>"
      ]
     },
     "metadata": {
      "needs_background": "light"
     },
     "output_type": "display_data"
    }
   ],
   "source": [
    "plt.plot(all_losses1, label=\"No hidden\")\n",
    "plt.plot(all_losses2, label=\"Hidden\")\n",
    "plt.title(\"Training loss\", fontsize=20)\n",
    "plt.yscale(\"log\")\n",
    "plt.legend()"
   ]
  },
  {
   "cell_type": "code",
   "execution_count": 20,
   "id": "aa3b6f31",
   "metadata": {},
   "outputs": [
    {
     "data": {
      "text/plain": [
       "<matplotlib.legend.Legend at 0x7fb1f5bc7250>"
      ]
     },
     "execution_count": 20,
     "metadata": {},
     "output_type": "execute_result"
    },
    {
     "data": {
      "image/png": "[encoded data removed]",
      "text/plain": [
       "<Figure size 432x288 with 1 Axes>"
      ]
     },
     "metadata": {
      "needs_background": "light"
     },
     "output_type": "display_data"
    }
   ],
   "source": [
    "plt.plot(test_losses1, label=\"No hidden\")\n",
    "plt.plot(test_losses2, label=\"Hidden\")\n",
    "plt.title(\"Test loss\", fontsize=20)\n",
    "plt.yscale(\"log\")\n",
    "plt.legend()"
   ]
  },
  {
   "cell_type": "markdown",
   "id": "858dc172",
   "metadata": {},
   "source": [
    "### Evaluate"
   ]
  },
  {
   "cell_type": "code",
   "execution_count": 32,
   "id": "510531e6",
   "metadata": {},
   "outputs": [],
   "source": [
    "test_x, test_y = random_training_samples(tmp_data_x, tmp_data_y, bds=[1, 10000])\n",
    "#test_x, test_y = random_training_samples(tmp_data_test_x, tmp_data_test_y, bds=[1, 10000])"
   ]
  },
  {
   "cell_type": "code",
   "execution_count": 33,
   "id": "fb12af9a",
   "metadata": {},
   "outputs": [
    {
     "name": "stdout",
     "output_type": "stream",
     "text": [
      "tensor(446.2874)\n",
      "tensor(409.3959)\n"
     ]
    }
   ],
   "source": [
    "pred_y1 = evaluate(test_x, rnn1, False)\n",
    "pred_y2 = evaluate(test_x, rnn2, True)\n",
    "true_y = test_y.squeeze()\n",
    "print(torch.norm(pred_y1-true_y))\n",
    "print(torch.norm(pred_y2-true_y))"
   ]
  },
  {
   "cell_type": "code",
   "execution_count": 24,
   "id": "5c7a83ed",
   "metadata": {},
   "outputs": [
    {
     "data": {
      "text/plain": [
       "<matplotlib.legend.Legend at 0x7f0e8a485130>"
      ]
     },
     "execution_count": 24,
     "metadata": {},
     "output_type": "execute_result"
    },
    {
     "data": {
      "image/png": "[encoded data removed]",
      "text/plain": [
       "<Figure size 432x288 with 1 Axes>"
      ]
     },
     "metadata": {
      "needs_background": "light"
     },
     "output_type": "display_data"
    }
   ],
   "source": [
    "idx = 0\n",
    "plt.plot(pred_y2[:, idx], label=\"Predicted\")\n",
    "plt.plot(pred_y1[:, idx], label=\"Predicted No\")\n",
    "plt.plot(true_y[:, idx], label=\"Truth\")\n",
    "plt.legend(fontsize=10)"
   ]
  },
  {
   "cell_type": "code",
   "execution_count": null,
   "id": "978758a7",
   "metadata": {},
   "outputs": [],
   "source": []
  }
 ],
 "metadata": {
  "kernelspec": {
   "display_name": "Python 3 (ipykernel)",
   "language": "python",
   "name": "python3"
  },
  "language_info": {
   "codemirror_mode": {
    "name": "ipython",
    "version": 3
   },
   "file_extension": ".py",
   "mimetype": "text/x-python",
   "name": "python",
   "nbconvert_exporter": "python",
   "pygments_lexer": "ipython3",
   "version": "3.9.7"
  },
  "toc": {
   "base_numbering": 1,
   "nav_menu": {},
   "number_sections": true,
   "sideBar": true,
   "skip_h1_title": false,
   "title_cell": "Table of Contents",
   "title_sidebar": "Contents",
   "toc_cell": false,
   "toc_position": {},
   "toc_section_display": true,
   "toc_window_display": true
  }
 },
 "nbformat": 4,
 "nbformat_minor": 5
}
