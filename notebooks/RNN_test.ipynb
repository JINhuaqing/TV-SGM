{
 "cells": [
  {
   "cell_type": "markdown",
   "id": "50a448bd",
   "metadata": {},
   "source": [
    "I use this jupyter to test whether my RNN is correct or not (Mar 20, 2023).\n",
    "\n"
   ]
  },
  {
   "cell_type": "markdown",
   "id": "41ace1c8",
   "metadata": {},
   "source": [
    "## Import pkgs"
   ]
  },
  {
   "cell_type": "code",
   "execution_count": 1,
   "id": "b428815f",
   "metadata": {
    "ExecuteTime": {
     "end_time": "2023-03-20T22:01:25.153482Z",
     "start_time": "2023-03-20T22:01:24.991567Z"
    }
   },
   "outputs": [],
   "source": [
    "import sys\n",
    "sys.path.append(\"../mypkg\")\n",
    "from constants import RES_ROOT, FIG_ROOT, DATA_ROOT"
   ]
  },
  {
   "cell_type": "code",
   "execution_count": 2,
   "id": "be4d2722",
   "metadata": {
    "ExecuteTime": {
     "end_time": "2023-03-20T22:01:26.549658Z",
     "start_time": "2023-03-20T22:01:25.746984Z"
    }
   },
   "outputs": [],
   "source": [
    "import numpy as np\n",
    "import scipy\n",
    "import matplotlib.pyplot as plt\n",
    "import seaborn as sns\n",
    "from easydict import EasyDict as edict\n",
    "from tqdm import trange\n",
    "\n",
    "plt.style.use(FIG_ROOT/\"base.mplstyle\")\n",
    "%matplotlib inline"
   ]
  },
  {
   "cell_type": "code",
   "execution_count": 3,
   "id": "96a42c9e",
   "metadata": {
    "ExecuteTime": {
     "end_time": "2023-03-20T22:01:27.870393Z",
     "start_time": "2023-03-20T22:01:26.551507Z"
    }
   },
   "outputs": [],
   "source": [
    "# pkgs for pytorch (Mar 20, 2023)\n",
    "import torch\n",
    "import torch.nn as nn\n",
    "\n",
    "torch.set_default_dtype(torch.float64)\n",
    "torch.set_default_tensor_type(torch.DoubleTensor)"
   ]
  },
  {
   "cell_type": "code",
   "execution_count": null,
   "id": "4f2857bc",
   "metadata": {},
   "outputs": [],
   "source": []
  },
  {
   "cell_type": "markdown",
   "id": "e517fee4",
   "metadata": {},
   "source": [
    "## Data, fns and parameters"
   ]
  },
  {
   "cell_type": "code",
   "execution_count": 4,
   "id": "c7342e16",
   "metadata": {
    "ExecuteTime": {
     "end_time": "2023-03-20T22:01:27.876660Z",
     "start_time": "2023-03-20T22:01:27.872850Z"
    }
   },
   "outputs": [],
   "source": [
    "paras = edict()\n",
    "paras.d = 68 # dim of feature vector\n",
    "paras.n = 1000 # length of the time series\n",
    "\n",
    "paras.n_ouput = 7 # dim of output from RNN\n",
    "paras.n_hidden = 128 # dim of hidden from RNN"
   ]
  },
  {
   "cell_type": "code",
   "execution_count": null,
   "id": "731d6cfc",
   "metadata": {
    "ExecuteTime": {
     "end_time": "2023-03-20T21:34:21.210173Z",
     "start_time": "2023-03-20T21:34:21.201310Z"
    }
   },
   "outputs": [],
   "source": []
  },
  {
   "cell_type": "code",
   "execution_count": 5,
   "id": "8774fe22",
   "metadata": {
    "ExecuteTime": {
     "end_time": "2023-03-20T22:01:30.400564Z",
     "start_time": "2023-03-20T22:01:30.383202Z"
    }
   },
   "outputs": [],
   "source": [
    "# generate a toy data\n",
    "torch.manual_seed(0)\n",
    "Amat = torch.randn(paras.d, paras.n_ouput)\n",
    "tmp_data_x = torch.tensor(np.random.randn(paras.d, paras.n))\n",
    "tmp_data_y = (tmp_data_x.T @ Amat).T"
   ]
  },
  {
   "cell_type": "code",
   "execution_count": 6,
   "id": "adcee389",
   "metadata": {
    "ExecuteTime": {
     "end_time": "2023-03-20T22:01:32.582381Z",
     "start_time": "2023-03-20T22:01:32.572419Z"
    }
   },
   "outputs": [],
   "source": [
    "\n",
    "class RNN(nn.Module):\n",
    "    def __init__(self, input_size, hidden_size, output_size):\n",
    "        super(RNN, self).__init__()\n",
    "\n",
    "        self.hidden_size = hidden_size\n",
    "\n",
    "        self.i2h = nn.Linear(input_size + hidden_size, hidden_size)\n",
    "        self.i2o = nn.Linear(input_size + hidden_size, output_size)\n",
    "        self.softmax = nn.LogSoftmax(dim=1)\n",
    "\n",
    "    def forward(self, input_, hidden):\n",
    "        combined = torch.cat((input_, hidden), 1)\n",
    "        output = self.i2o(combined)\n",
    "        hidden = self.i2h(combined)\n",
    "        output = self.softmax(output)\n",
    "        return output, hidden\n",
    "\n",
    "    def initHidden(self):\n",
    "        return torch.zeros(1, self.hidden_size)\n"
   ]
  },
  {
   "cell_type": "code",
   "execution_count": 7,
   "id": "a7aac9d5",
   "metadata": {
    "ExecuteTime": {
     "end_time": "2023-03-20T22:01:34.262630Z",
     "start_time": "2023-03-20T22:01:34.252033Z"
    }
   },
   "outputs": [],
   "source": [
    "# functions to generate training sample\n",
    "# note that I fix the bach size = 1\n",
    "def random_choice(n):\n",
    "    \"\"\"Randomly select the lower and upper bound of the segment\n",
    "        args:\n",
    "            n: len of the total time series\n",
    "    \"\"\"\n",
    "    up_bd = torch.randint(low=100, high=n, size=(1, ))\n",
    "    len_seg = torch.randint(low=10, high=50, size=(1, ))\n",
    "    low_bd = up_bd - len_seg\n",
    "    return low_bd.item(), up_bd.item()\n",
    "\n",
    "\n",
    "def random_training_samples(data_x, data_y):\n",
    "    \"\"\"Randomly select a sample from the whole segment\n",
    "        args:\n",
    "            data_x: total ts\n",
    "            data_y: total label ts for data_x\n",
    "    \"\"\"\n",
    "    low_bd, up_bd = random_choice(paras.n)\n",
    "    part_data_x = torch.unsqueeze(data_x[:, low_bd:up_bd], 0)\n",
    "    part_data_x = part_data_x.permute(2, 0, 1)\n",
    "    \n",
    "    part_data_y = torch.unsqueeze(data_y[:, low_bd:up_bd], 0)\n",
    "    part_data_y = part_data_y.permute(2, 0, 1)\n",
    "    return part_data_x, part_data_y"
   ]
  },
  {
   "cell_type": "code",
   "execution_count": 8,
   "id": "41b32553",
   "metadata": {
    "ExecuteTime": {
     "end_time": "2023-03-20T22:01:38.830308Z",
     "start_time": "2023-03-20T22:01:38.821055Z"
    }
   },
   "outputs": [],
   "source": [
    "criterion = nn.MSELoss()\n",
    "learning_rate = 0.005 # If you set this too high, it might explode. If too low, it might not learn\n",
    "\n",
    "def train(data_x, data_y):\n",
    "    hidden = rnn.initHidden()\n",
    "\n",
    "    rnn.zero_grad()\n",
    "\n",
    "    loss = 0\n",
    "    seg_len = data_x.shape[0]\n",
    "    for i in range(seg_len):\n",
    "        output, hidden = rnn(data_x[i], hidden)\n",
    "        loss = criterion(output, data_y[i])/seg_len + loss\n",
    "\n",
    "        \n",
    "    loss.backward()\n",
    "    # Add parameters' gradients to their values, multiplied by learning rate\n",
    "    for p in rnn.parameters():\n",
    "        p.data.add_(p.grad.data, alpha=-learning_rate)\n",
    "\n",
    "    return output, loss.item()"
   ]
  },
  {
   "cell_type": "code",
   "execution_count": 12,
   "id": "c0fa1384",
   "metadata": {
    "ExecuteTime": {
     "end_time": "2023-03-20T22:03:39.691169Z",
     "start_time": "2023-03-20T22:03:39.685017Z"
    }
   },
   "outputs": [],
   "source": [
    "rnn = RNN(paras.d, paras.n_hidden, paras.n_ouput)"
   ]
  },
  {
   "cell_type": "code",
   "execution_count": 13,
   "id": "de39b16f",
   "metadata": {
    "ExecuteTime": {
     "end_time": "2023-03-20T22:05:31.177215Z",
     "start_time": "2023-03-20T22:03:40.982550Z"
    }
   },
   "outputs": [
    {
     "name": "stdout",
     "output_type": "stream",
     "text": [
      "500 0% (0m 3s) 59.9952\n",
      "1000 0% (0m 6s) 48.2808\n",
      "1500 0% (0m 10s) 38.8679\n",
      "2000 0% (0m 15s) 42.7155\n",
      "2500 0% (0m 19s) 49.9927\n",
      "3000 0% (0m 22s) 52.8567\n",
      "3500 0% (0m 26s) 55.9514\n",
      "4000 0% (0m 29s) 37.4992\n",
      "4500 0% (0m 32s) 51.1702\n",
      "5000 0% (0m 36s) 39.5328\n",
      "5500 0% (0m 39s) 47.2552\n",
      "6000 0% (0m 43s) 53.4964\n",
      "6500 0% (0m 46s) 47.7844\n",
      "7000 0% (0m 49s) 46.8868\n",
      "7500 0% (0m 53s) 37.0808\n",
      "8000 0% (0m 56s) 32.5652\n",
      "8500 0% (0m 59s) 52.7252\n",
      "9000 0% (1m 3s) 41.7861\n",
      "9500 0% (1m 6s) 40.7708\n",
      "10000 1% (1m 9s) 55.1898\n",
      "10500 1% (1m 13s) 42.9478\n",
      "11000 1% (1m 16s) 54.0115\n",
      "11500 1% (1m 19s) 39.1690\n",
      "12000 1% (1m 23s) 58.2272\n",
      "12500 1% (1m 26s) 58.9865\n",
      "13000 1% (1m 29s) 53.7657\n",
      "13500 1% (1m 33s) 58.3969\n",
      "14000 1% (1m 36s) 40.7940\n",
      "14500 1% (1m 39s) 35.3505\n",
      "15000 1% (1m 43s) 36.1115\n",
      "15500 1% (1m 46s) 52.8059\n",
      "16000 1% (1m 50s) 51.2405\n"
     ]
    },
    {
     "ename": "KeyboardInterrupt",
     "evalue": "",
     "output_type": "error",
     "traceback": [
      "\u001b[0;31m---------------------------------------------------------------------------\u001b[0m",
      "\u001b[0;31mKeyboardInterrupt\u001b[0m                         Traceback (most recent call last)",
      "\u001b[0;32m/tmp/ipykernel_3728/3740377578.py\u001b[0m in \u001b[0;36m<module>\u001b[0;34m\u001b[0m\n\u001b[1;32m     23\u001b[0m \u001b[0;32mfor\u001b[0m \u001b[0miter\u001b[0m \u001b[0;32min\u001b[0m \u001b[0mrange\u001b[0m\u001b[0;34m(\u001b[0m\u001b[0;36m1\u001b[0m\u001b[0;34m,\u001b[0m \u001b[0mn_iters\u001b[0m \u001b[0;34m+\u001b[0m \u001b[0;36m1\u001b[0m\u001b[0;34m)\u001b[0m\u001b[0;34m:\u001b[0m\u001b[0;34m\u001b[0m\u001b[0;34m\u001b[0m\u001b[0m\n\u001b[1;32m     24\u001b[0m     \u001b[0mdata_x\u001b[0m\u001b[0;34m,\u001b[0m \u001b[0mdata_y\u001b[0m \u001b[0;34m=\u001b[0m \u001b[0mrandom_training_samples\u001b[0m\u001b[0;34m(\u001b[0m\u001b[0mtmp_data_x\u001b[0m\u001b[0;34m,\u001b[0m \u001b[0mtmp_data_y\u001b[0m\u001b[0;34m)\u001b[0m\u001b[0;34m\u001b[0m\u001b[0;34m\u001b[0m\u001b[0m\n\u001b[0;32m---> 25\u001b[0;31m     \u001b[0mouput\u001b[0m\u001b[0;34m,\u001b[0m \u001b[0mloss\u001b[0m \u001b[0;34m=\u001b[0m \u001b[0mtrain\u001b[0m\u001b[0;34m(\u001b[0m\u001b[0mdata_x\u001b[0m\u001b[0;34m,\u001b[0m \u001b[0mdata_y\u001b[0m\u001b[0;34m)\u001b[0m\u001b[0;34m\u001b[0m\u001b[0;34m\u001b[0m\u001b[0m\n\u001b[0m\u001b[1;32m     26\u001b[0m     \u001b[0mcurrent_loss\u001b[0m \u001b[0;34m+=\u001b[0m \u001b[0mloss\u001b[0m\u001b[0;34m\u001b[0m\u001b[0;34m\u001b[0m\u001b[0m\n\u001b[1;32m     27\u001b[0m \u001b[0;34m\u001b[0m\u001b[0m\n",
      "\u001b[0;32m/tmp/ipykernel_3728/2151996476.py\u001b[0m in \u001b[0;36mtrain\u001b[0;34m(data_x, data_y)\u001b[0m\n\u001b[1;32m     11\u001b[0m     \u001b[0;32mfor\u001b[0m \u001b[0mi\u001b[0m \u001b[0;32min\u001b[0m \u001b[0mrange\u001b[0m\u001b[0;34m(\u001b[0m\u001b[0mseg_len\u001b[0m\u001b[0;34m)\u001b[0m\u001b[0;34m:\u001b[0m\u001b[0;34m\u001b[0m\u001b[0;34m\u001b[0m\u001b[0m\n\u001b[1;32m     12\u001b[0m         \u001b[0moutput\u001b[0m\u001b[0;34m,\u001b[0m \u001b[0mhidden\u001b[0m \u001b[0;34m=\u001b[0m \u001b[0mrnn\u001b[0m\u001b[0;34m(\u001b[0m\u001b[0mdata_x\u001b[0m\u001b[0;34m[\u001b[0m\u001b[0mi\u001b[0m\u001b[0;34m]\u001b[0m\u001b[0;34m,\u001b[0m \u001b[0mhidden\u001b[0m\u001b[0;34m)\u001b[0m\u001b[0;34m\u001b[0m\u001b[0;34m\u001b[0m\u001b[0m\n\u001b[0;32m---> 13\u001b[0;31m         \u001b[0mloss\u001b[0m \u001b[0;34m=\u001b[0m \u001b[0mcriterion\u001b[0m\u001b[0;34m(\u001b[0m\u001b[0moutput\u001b[0m\u001b[0;34m,\u001b[0m \u001b[0mdata_y\u001b[0m\u001b[0;34m[\u001b[0m\u001b[0mi\u001b[0m\u001b[0;34m]\u001b[0m\u001b[0;34m)\u001b[0m\u001b[0;34m/\u001b[0m\u001b[0mseg_len\u001b[0m \u001b[0;34m+\u001b[0m \u001b[0mloss\u001b[0m\u001b[0;34m\u001b[0m\u001b[0;34m\u001b[0m\u001b[0m\n\u001b[0m\u001b[1;32m     14\u001b[0m \u001b[0;34m\u001b[0m\u001b[0m\n\u001b[1;32m     15\u001b[0m \u001b[0;34m\u001b[0m\u001b[0m\n",
      "\u001b[0;31mKeyboardInterrupt\u001b[0m: "
     ]
    }
   ],
   "source": [
    "import time\n",
    "import math\n",
    "\n",
    "n_iters = 1000000\n",
    "print_every = 500\n",
    "plot_every = 100\n",
    "\n",
    "\n",
    "\n",
    "# Keep track of losses for plotting\n",
    "current_loss = 0\n",
    "all_losses = []\n",
    "\n",
    "def timeSince(since):\n",
    "    now = time.time()\n",
    "    s = now - since\n",
    "    m = math.floor(s / 60)\n",
    "    s -= m * 60\n",
    "    return '%dm %ds' % (m, s)\n",
    "\n",
    "start = time.time()\n",
    "\n",
    "for iter in range(1, n_iters + 1):\n",
    "    data_x, data_y = random_training_samples(tmp_data_x, tmp_data_y)\n",
    "    ouput, loss = train(data_x, data_y)\n",
    "    current_loss += loss\n",
    "\n",
    "    # Print iter number, loss, name and guess\n",
    "    if iter % print_every == 0:\n",
    "        print('%d %d%% (%s) %.4f' % (iter, iter / n_iters * 100, timeSince(start), loss))\n",
    "\n",
    "    # Add current loss avg to list of losses\n",
    "    if iter % plot_every == 0:\n",
    "        all_losses.append(current_loss / plot_every)\n",
    "        current_loss = 0"
   ]
  },
  {
   "cell_type": "code",
   "execution_count": null,
   "id": "c808547c",
   "metadata": {},
   "outputs": [],
   "source": []
  }
 ],
 "metadata": {
  "kernelspec": {
   "display_name": "Python 3 (ipykernel)",
   "language": "python",
   "name": "python3"
  },
  "language_info": {
   "codemirror_mode": {
    "name": "ipython",
    "version": 3
   },
   "file_extension": ".py",
   "mimetype": "text/x-python",
   "name": "python",
   "nbconvert_exporter": "python",
   "pygments_lexer": "ipython3",
   "version": "3.9.7"
  },
  "toc": {
   "base_numbering": 1,
   "nav_menu": {},
   "number_sections": true,
   "sideBar": true,
   "skip_h1_title": false,
   "title_cell": "Table of Contents",
   "title_sidebar": "Contents",
   "toc_cell": false,
   "toc_position": {},
   "toc_section_display": true,
   "toc_window_display": false
  }
 },
 "nbformat": 4,
 "nbformat_minor": 5
}
