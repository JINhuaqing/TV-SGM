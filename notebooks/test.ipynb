{
 "cells": [
  {
   "cell_type": "code",
   "execution_count": 1,
   "metadata": {},
   "outputs": [],
   "source": [
    "from jin_utils import get_mypkg_path\n",
    "import sys\n",
    "mypkg = get_mypkg_path()\n",
    "sys.path.append(mypkg)\n",
    "\n",
    "from constants import RES_ROOT, FIG_ROOT, DATA_ROOT\n"
   ]
  },
  {
   "cell_type": "code",
   "execution_count": 2,
   "metadata": {},
   "outputs": [],
   "source": [
    "%load_ext autoreload\n",
    "%autoreload 2\n",
    "# 0,1, 2, 3, be careful about the space"
   ]
  },
  {
   "cell_type": "code",
   "execution_count": 30,
   "metadata": {},
   "outputs": [],
   "source": [
    "from scipy.special import logit\n",
    "import numpy as np\n",
    "from utils.reparam import logistic_np, ThetaTransform\n",
    "import torch"
   ]
  },
  {
   "cell_type": "code",
   "execution_count": 44,
   "metadata": {},
   "outputs": [],
   "source": [
    "thetas1_raw = np.random.randn(10, 5)\n",
    "thetas2_raw = torch.randn(10, 5);"
   ]
  },
  {
   "cell_type": "code",
   "execution_count": 46,
   "metadata": {},
   "outputs": [
    {
     "data": {
      "text/plain": [
       "array([[ 0.45877485,  0.0170585 ,  0.01809381,  0.1043223 , 13.3686901 ],\n",
       "       [ 0.5336316 ,  0.01904456,  0.01810049,  0.10846222, 12.89148375],\n",
       "       [ 0.52369862,  0.01828011,  0.01730469,  0.10170772, 13.27897621],\n",
       "       [ 0.44013894,  0.01804217,  0.01787215,  0.10539507, 12.79821711],\n",
       "       [ 0.50636399,  0.01747894,  0.01800907,  0.10508416, 12.66441809],\n",
       "       [ 0.48001643,  0.01772962,  0.01664993,  0.0934305 , 13.08995155],\n",
       "       [ 0.5750841 ,  0.01724631,  0.01798387,  0.10188343, 12.6149522 ],\n",
       "       [ 0.49570011,  0.01802122,  0.01781585,  0.09859023, 12.54118441],\n",
       "       [ 0.46453847,  0.01702237,  0.01736847,  0.10482279, 12.36222592],\n",
       "       [ 0.49967673,  0.01832863,  0.01755323,  0.11224854, 12.62621965]])"
      ]
     },
     "execution_count": 46,
     "metadata": {},
     "output_type": "execute_result"
    }
   ],
   "source": [
    "thetatransFn = ThetaTransform(params_mask=[1, 0, 0, 1, 1, 1, 1])\n",
    "\n",
    "thetas2 = thetatransFn.raw2theta(thetas2_raw)\n",
    "thetas1 = thetatransFn.raw2theta(thetas1_raw)\n"
   ]
  },
  {
   "cell_type": "code",
   "execution_count": null,
   "metadata": {},
   "outputs": [],
   "source": []
  }
 ],
 "metadata": {
  "kernelspec": {
   "display_name": "Python 3 (ipykernel)",
   "language": "python",
   "name": "python3"
  },
  "language_info": {
   "codemirror_mode": {
    "name": "ipython",
    "version": 3
   },
   "file_extension": ".py",
   "mimetype": "text/x-python",
   "name": "python",
   "nbconvert_exporter": "python",
   "pygments_lexer": "ipython3",
   "version": "3.9.19"
  }
 },
 "nbformat": 4,
 "nbformat_minor": 2
}
