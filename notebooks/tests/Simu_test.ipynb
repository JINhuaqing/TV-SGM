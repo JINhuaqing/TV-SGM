{
 "cells": [
  {
   "cell_type": "markdown",
   "id": "bb3f47d2",
   "metadata": {},
   "source": [
    "In this file, I do the simulation of SGM (Mar 27, 2023)\n",
    "\n",
    "1. I generate SGM parameters from ARMA model \n",
    "\n",
    "2. With them, I generate the corresponding PSD. \n",
    "\n",
    "3. I train RNN and CNN to see whether we can recover the SGM parmaters or not"
   ]
  },
  {
   "cell_type": "markdown",
   "id": "9dd9e541",
   "metadata": {},
   "source": [
    "## Import pkg"
   ]
  },
  {
   "cell_type": "code",
   "execution_count": 2,
   "id": "47e4cfd5",
   "metadata": {
    "ExecuteTime": {
     "end_time": "2023-04-01T22:21:45.674687Z",
     "start_time": "2023-04-01T22:21:45.510519Z"
    }
   },
   "outputs": [],
   "source": [
    "import sys\n",
    "sys.path.append(\"../../mypkg\")\n",
    "from constants import RES_ROOT, FIG_ROOT, DATA_ROOT"
   ]
  },
  {
   "cell_type": "code",
   "execution_count": 3,
   "id": "287ee027",
   "metadata": {
    "ExecuteTime": {
     "end_time": "2023-04-01T22:21:47.482607Z",
     "start_time": "2023-04-01T22:21:46.132909Z"
    }
   },
   "outputs": [],
   "source": [
    "import numpy as np\n",
    "import scipy\n",
    "import matplotlib.pyplot as plt\n",
    "import seaborn as sns\n",
    "from easydict import EasyDict as edict\n",
    "from tqdm import trange, tqdm\n",
    "import time\n",
    "\n",
    "plt.style.use(FIG_ROOT/\"base.mplstyle\")\n",
    "%matplotlib inline"
   ]
  },
  {
   "cell_type": "code",
   "execution_count": 4,
   "id": "516fcdde",
   "metadata": {
    "ExecuteTime": {
     "end_time": "2023-04-01T22:21:49.794633Z",
     "start_time": "2023-04-01T22:21:48.180323Z"
    }
   },
   "outputs": [],
   "source": [
    "from utils.reparam import theta2raw_torch, raw2theta_torch, raw2theta_np\n",
    "from spectrome import Brain\n",
    "from sgm.sgm_fixed import SGM\n",
    "from utils.misc import save_pkl, save_pkl_dict2folder, load_pkl, load_pkl_folder2dict, delta_time"
   ]
  },
  {
   "cell_type": "code",
   "execution_count": 5,
   "id": "afc259b0",
   "metadata": {
    "ExecuteTime": {
     "end_time": "2023-04-01T22:21:49.801253Z",
     "start_time": "2023-04-01T22:21:49.796647Z"
    }
   },
   "outputs": [],
   "source": [
    "# pkgs for pytorch ( Mar 27, 2023) \n",
    "import torch\n",
    "import torch.nn as nn\n",
    "from torch.functional import F\n",
    "from torch.optim.lr_scheduler import ExponentialLR\n",
    "\n",
    "torch.set_default_dtype(torch.float64)\n",
    "if torch.cuda.is_available():\n",
    "    torch.cuda.set_device(2)\n",
    "    torch.set_default_tensor_type(torch.cuda.DoubleTensor)\n",
    "    torch.backends.cudnn.benchmark = True\n",
    "else:\n",
    "    torch.set_default_tensor_type(torch.DoubleTensor)\n"
   ]
  },
  {
   "cell_type": "markdown",
   "id": "fc3ddab6",
   "metadata": {},
   "source": [
    "## Data, fn and parameters"
   ]
  },
  {
   "cell_type": "code",
   "execution_count": 6,
   "id": "6b87647e",
   "metadata": {
    "ExecuteTime": {
     "end_time": "2023-04-01T22:21:50.020843Z",
     "start_time": "2023-04-01T22:21:49.987032Z"
    }
   },
   "outputs": [],
   "source": [
    "# Load the Connectome\n",
    "brain = Brain.Brain()\n",
    "brain.add_connectome(DATA_ROOT)\n",
    "brain.reorder_connectome(brain.connectome, brain.distance_matrix)\n",
    "brain.bi_symmetric_c()\n",
    "brain.reduce_extreme_dir()\n"
   ]
  },
  {
   "cell_type": "code",
   "execution_count": 7,
   "id": "3ff4b2b4",
   "metadata": {
    "ExecuteTime": {
     "end_time": "2023-04-01T22:21:50.446277Z",
     "start_time": "2023-04-01T22:21:50.438667Z"
    }
   },
   "outputs": [],
   "source": [
    "# some constant parameters for this file\n",
    "paras = edict()\n",
    "\n",
    "## I reorder them in an alphabetical order and I change tauC to tauG (Mar 27, 2023)\n",
    "## the orginal order is taue, taui, tauC, speed, alpha, gii, gei\n",
    "## paras.par_low = np.asarray([0.005,0.005,0.005,5, 0.1,0.001,0.001])\n",
    "## paras.par_high = np.asarray([0.03, 0.20, 0.03,20,  1,    2,  0.7])\n",
    "##\n",
    "\n",
    "# alpha, gei, gii, taue, tauG, taui, speed \n",
    "paras.par_low = np.array([0.1, 0.001,0.001, 0.005, 0.005, 0.005, 5])\n",
    "paras.par_high = np.asarray([1, 0.7, 2, 0.03, 0.03, 0.20, 20])\n",
    "paras.prior_bds = np.array([paras.par_low, paras.par_high]).T\n",
    "paras.names = [\"alpha\", \"gei\", \"gii\", \"Taue\", \"TauG\", \"Taui\", \"Speed\"]\n",
    "\n",
    "paras.C = brain.reducedConnectome\n",
    "paras.D = brain.distance_matrix\n",
    "paras.freqs = np.linspace(2, 45, 40)\n"
   ]
  },
  {
   "cell_type": "code",
   "execution_count": 8,
   "id": "bb0cd09f",
   "metadata": {
    "ExecuteTime": {
     "end_time": "2023-04-01T22:21:51.049844Z",
     "start_time": "2023-04-01T22:21:51.046587Z"
    }
   },
   "outputs": [],
   "source": [
    "# running parameters\n",
    "# May change\n",
    "\n",
    "paras_run = edict()\n",
    "\n",
    "paras_run.n = 1000\n",
    "paras_run.k = 1 # the parameter for reparameterization in logistic"
   ]
  },
  {
   "cell_type": "code",
   "execution_count": 9,
   "id": "b1c77e70",
   "metadata": {
    "ExecuteTime": {
     "end_time": "2023-04-01T22:21:51.996064Z",
     "start_time": "2023-04-01T22:21:51.781977Z"
    }
   },
   "outputs": [],
   "source": [
    "# to generate ARMA TS\n",
    "from statsmodels.tsa.arima_process import arma_generate_sample\n",
    "\n",
    "def gen_arma_ts(n, ndim=7):\n",
    "    \"\"\"Generate ARMA ndim-vec ts.\n",
    "    \"\"\"\n",
    "    # ARMA(2, 2)\n",
    "    ys = []\n",
    "    for ix in range(ndim):\n",
    "        arparams = np.array([.75, -.25])\n",
    "        maparams = np.array([.65, .35])\n",
    "        ar = np.r_[1, -arparams] # add zero-lag and negate\n",
    "        ma = np.r_[1, maparams] # add zero-lag\n",
    "        y = arma_generate_sample(ar, ma, n)\n",
    "        ys.append(y)\n",
    "    return np.array(ys)"
   ]
  },
  {
   "cell_type": "code",
   "execution_count": 10,
   "id": "168e4a3b",
   "metadata": {
    "ExecuteTime": {
     "end_time": "2023-03-30T17:47:57.454002Z",
     "start_time": "2023-03-30T17:47:55.707939Z"
    },
    "code_folding": []
   },
   "outputs": [
    {
     "data": {
      "image/png": "[encoded data removed]",
      "text/plain": [
       "<Figure size 432x288 with 1 Axes>"
      ]
     },
     "metadata": {
      "needs_background": "light"
     },
     "output_type": "display_data"
    },
    {
     "data": {
      "image/png": "[encoded data removed]",
      "text/plain": [
       "<Figure size 432x288 with 1 Axes>"
      ]
     },
     "metadata": {
      "needs_background": "light"
     },
     "output_type": "display_data"
    }
   ],
   "source": [
    "# show demo of generatingt simulation data (Speed is not a constant)\n",
    "ts = gen_arma_ts(1000).T\n",
    "sgm_seq = raw2theta_np(ts, paras.prior_bds, k=paras_run.k)\n",
    "\n",
    "#check the reparameterization\n",
    "plt.fill_between(np.arange(7), paras.par_low, paras.par_high, alpha=0.5)\n",
    "plt.yscale(\"log\")\n",
    "for cur_ts_sgm in sgm_seq:\n",
    "    plt.plot(np.arange(7), cur_ts_sgm, color=\"red\", alpha=0.1)\n",
    "plt.xticks(np.arange(7), paras.names);\n",
    "plt.show()\n",
    "plt.close()\n",
    "        \n",
    "sgmmodel = SGM(paras.C, paras.D, paras.freqs)\n",
    "# check a demo PSD\n",
    "sgmmodel = SGM(paras.C, paras.D, paras.freqs)\n",
    "PSD_demo = sgmmodel.run_local_coupling_forward(sgm_seq[1, :])\n",
    "for ix in range(PSD_demo.shape[1]):\n",
    "    plt.plot(paras.freqs, PSD_demo[ix, :])"
   ]
  },
  {
   "cell_type": "code",
   "execution_count": 31,
   "id": "b006f9c6",
   "metadata": {
    "ExecuteTime": {
     "end_time": "2023-03-30T17:52:02.614545Z",
     "start_time": "2023-03-30T17:52:00.798600Z"
    },
    "code_folding": []
   },
   "outputs": [
    {
     "data": {
      "image/png": "[encoded data removed]",
      "text/plain": [
       "<Figure size 432x288 with 1 Axes>"
      ]
     },
     "metadata": {
      "needs_background": "light"
     },
     "output_type": "display_data"
    },
    {
     "data": {
      "image/png": "[encoded data removed]",
      "text/plain": [
       "<Figure size 432x288 with 1 Axes>"
      ]
     },
     "metadata": {
      "needs_background": "light"
     },
     "output_type": "display_data"
    }
   ],
   "source": [
    "# show demo of generatingt simulation data (Speed is a constant, Mar 30, 2023)\n",
    "ts_nospeed = gen_arma_ts(1000, 6).T\n",
    "ts_speed = np.repeat(np.random.randn(1), 1000)\n",
    "ts = np.concatenate([ts_nospeed, ts_speed.reshape(-1, 1)], axis=1)\n",
    "sgm_seq = raw2theta_np(ts, paras.prior_bds, k=paras_run.k)\n",
    "\n",
    "#check the reparameterization\n",
    "plt.fill_between(np.arange(7), paras.par_low, paras.par_high, alpha=0.5)\n",
    "plt.yscale(\"log\")\n",
    "for cur_ts_sgm in sgm_seq:\n",
    "    plt.plot(np.arange(7), cur_ts_sgm, color=\"red\", alpha=0.1)\n",
    "plt.xticks(np.arange(7), paras.names);\n",
    "plt.show()\n",
    "plt.close()\n",
    "#        \n",
    "sgmmodel = SGM(paras.C, paras.D, paras.freqs)\n",
    "## check a demo PSD\n",
    "sgmmodel = SGM(paras.C, paras.D, paras.freqs)\n",
    "PSD_demo = sgmmodel.run_local_coupling_forward(sgm_seq[1, :])\n",
    "for ix in range(PSD_demo.shape[1]):\n",
    "    plt.plot(paras.freqs, PSD_demo[ix, :])"
   ]
  },
  {
   "cell_type": "code",
   "execution_count": null,
   "id": "2a2965f2",
   "metadata": {},
   "outputs": [],
   "source": []
  },
  {
   "cell_type": "markdown",
   "id": "9fe05e91",
   "metadata": {},
   "source": [
    "### Generate simulation data"
   ]
  },
  {
   "cell_type": "code",
   "execution_count": 14,
   "id": "d411371f",
   "metadata": {
    "ExecuteTime": {
     "end_time": "2023-03-27T21:23:19.359334Z",
     "start_time": "2023-03-27T21:17:25.541870Z"
    }
   },
   "outputs": [
    {
     "name": "stderr",
     "output_type": "stream",
     "text": [
      "100%|██████████████████████████████████████████████████████████████████████████████████████████████████████████████████████████████████████| 1000/1000 [05:53<00:00,  2.83it/s]\n"
     ]
    }
   ],
   "source": [
    "ts = gen_arma_ts(paras_run.n).T\n",
    "sgm_seq = raw2theta_np(ts, paras.prior_bds, k=paras_run.k)\n",
    "\n",
    "PSDs = []\n",
    "for cur_sgm in tqdm(sgm_seq):\n",
    "    cur_PSD = sgmmodel.run_local_coupling_forward(cur_sgm)\n",
    "    cur_PSD = cur_PSD[:68, :]\n",
    "    PSDs.append(cur_PSD)\n",
    "    \n",
    "simu_sgm_data = edict()\n",
    "simu_sgm_data.PSDs = np.array(PSDs)\n",
    "simu_sgm_data.sgm_params = sgm_seq\n",
    "save_pkl_dict2folder(RES_ROOT/\"simu_sgm_data\", simu_sgm_data, is_force=False)"
   ]
  },
  {
   "cell_type": "code",
   "execution_count": 14,
   "id": "a2d97393",
   "metadata": {
    "ExecuteTime": {
     "end_time": "2023-03-27T21:23:19.359334Z",
     "start_time": "2023-03-27T21:17:25.541870Z"
    }
   },
   "outputs": [
    {
     "name": "stderr",
     "output_type": "stream",
     "text": [
      "100%|██████████████████████████████████████████████████████████████████████████████████████████████████████████████████████████████████████| 1000/1000 [05:53<00:00,  2.83it/s]\n"
     ]
    }
   ],
   "source": [
    "ts = gen_arma_ts(paras_run.n).T\n",
    "sgm_seq = raw2theta_np(ts, paras.prior_bds, k=paras_run.k)\n",
    "\n",
    "PSDs = []\n",
    "for cur_sgm in tqdm(sgm_seq):\n",
    "    cur_PSD = sgmmodel.run_local_coupling_forward(cur_sgm)\n",
    "    cur_PSD = cur_PSD[:68, :]\n",
    "    PSDs.append(cur_PSD)\n",
    "    \n",
    "simu_sgm_data = edict()\n",
    "simu_sgm_data.PSDs = np.array(PSDs)\n",
    "simu_sgm_data.sgm_params = sgm_seq\n",
    "save_pkl_dict2folder(RES_ROOT/\"simu_sgm_data\", simu_sgm_data, is_force=False)"
   ]
  },
  {
   "cell_type": "code",
   "execution_count": 250,
   "id": "46a31d50",
   "metadata": {
    "ExecuteTime": {
     "end_time": "2023-03-27T23:49:21.144814Z",
     "start_time": "2023-03-27T23:43:21.716080Z"
    }
   },
   "outputs": [
    {
     "name": "stderr",
     "output_type": "stream",
     "text": [
      "100%|██████████████████████████████████████████████████████████████████████████████████████████████████████████████████████████████████████| 1000/1000 [05:59<00:00,  2.78it/s]\n"
     ]
    },
    {
     "name": "stdout",
     "output_type": "stream",
     "text": [
      "Save to /data/rajlab1/user_data/jin/MyResearch/TV-SGM/notebooks/../mypkg/../results/simu_sgm_data/PSDs_test.pkl\n",
      "Save to /data/rajlab1/user_data/jin/MyResearch/TV-SGM/notebooks/../mypkg/../results/simu_sgm_data/sgm_params_test.pkl\n"
     ]
    }
   ],
   "source": [
    "ts = gen_arma_ts(paras_run.n).T\n",
    "sgm_seq_test = raw2theta_np(ts, paras.prior_bds, k=paras_run.k)\n",
    "\n",
    "PSDs_test = []\n",
    "for cur_sgm in tqdm(sgm_seq_test):\n",
    "    cur_PSD = sgmmodel.run_local_coupling_forward(cur_sgm)\n",
    "    cur_PSD = cur_PSD[:68, :]\n",
    "    PSDs_test.append(cur_PSD)\n",
    "    \n",
    "simu_sgm_data = edict()\n",
    "simu_sgm_data.PSDs_test = np.array(PSDs_test)\n",
    "simu_sgm_data.sgm_params_test = sgm_seq_test\n",
    "save_pkl_dict2folder(RES_ROOT/\"simu_sgm_data\", simu_sgm_data, is_force=False)"
   ]
  },
  {
   "cell_type": "code",
   "execution_count": 32,
   "id": "fbe26750",
   "metadata": {
    "ExecuteTime": {
     "end_time": "2023-03-30T18:00:23.713706Z",
     "start_time": "2023-03-30T17:54:12.890064Z"
    }
   },
   "outputs": [
    {
     "name": "stderr",
     "output_type": "stream",
     "text": [
      "100%|██████████████████████████████████████████████████████████████████████████████████████████████████████████████████████████████████████| 1000/1000 [06:10<00:00,  2.70it/s]\n"
     ]
    },
    {
     "name": "stdout",
     "output_type": "stream",
     "text": [
      "/data/rajlab1/user_data/jin/MyResearch/TV-SGM/notebooks/../mypkg/../results/simu_sgm_data_conspeed_1000\n",
      "Create a folder /data/rajlab1/user_data/jin/MyResearch/TV-SGM/notebooks/../mypkg/../results/simu_sgm_data_conspeed_1000\n",
      "Save to /data/rajlab1/user_data/jin/MyResearch/TV-SGM/notebooks/../mypkg/../results/simu_sgm_data_conspeed_1000/PSDs.pkl\n",
      "Save to /data/rajlab1/user_data/jin/MyResearch/TV-SGM/notebooks/../mypkg/../results/simu_sgm_data_conspeed_1000/sgm_params.pkl\n"
     ]
    }
   ],
   "source": [
    "# Gerenate data when speed is a constant\n",
    "ts_nospeed = gen_arma_ts(paras_run.n, 6).T\n",
    "ts_speed = np.repeat(np.random.randn(1), paras_run.n)\n",
    "ts = np.concatenate([ts_nospeed, ts_speed.reshape(-1, 1)], axis=1)\n",
    "sgm_seq = raw2theta_np(ts, paras.prior_bds, k=paras_run.k)\n",
    "\n",
    "PSDs = []\n",
    "for cur_sgm in tqdm(sgm_seq):\n",
    "    cur_PSD = sgmmodel.run_local_coupling_forward(cur_sgm)\n",
    "    cur_PSD = cur_PSD[:68, :]\n",
    "    PSDs.append(cur_PSD)\n",
    "    \n",
    "simu_sgm_data = edict()\n",
    "simu_sgm_data.PSDs = np.array(PSDs)\n",
    "simu_sgm_data.sgm_params = sgm_seq\n",
    "save_pkl_dict2folder(RES_ROOT/f\"simu_sgm_data_conspeed_{paras_run.n}\", simu_sgm_data, is_force=False)"
   ]
  },
  {
   "cell_type": "code",
   "execution_count": 33,
   "id": "2447c7da",
   "metadata": {
    "ExecuteTime": {
     "end_time": "2023-03-30T18:06:09.689435Z",
     "start_time": "2023-03-30T18:00:23.716734Z"
    }
   },
   "outputs": [
    {
     "name": "stderr",
     "output_type": "stream",
     "text": [
      "100%|██████████████████████████████████████████████████████████████████████████████████████████████████████████████████████████████████████| 1000/1000 [05:45<00:00,  2.89it/s]\n"
     ]
    },
    {
     "name": "stdout",
     "output_type": "stream",
     "text": [
      "Save to /data/rajlab1/user_data/jin/MyResearch/TV-SGM/notebooks/../mypkg/../results/simu_sgm_data_conspeed_1000/PSDs_test.pkl\n",
      "Save to /data/rajlab1/user_data/jin/MyResearch/TV-SGM/notebooks/../mypkg/../results/simu_sgm_data_conspeed_1000/sgm_params_test.pkl\n"
     ]
    }
   ],
   "source": [
    "# Gerenate data when speed is a constant\n",
    "ts_nospeed = gen_arma_ts(paras_run.n, 6).T\n",
    "ts_speed = np.repeat(np.random.randn(1), paras_run.n)\n",
    "ts = np.concatenate([ts_nospeed, ts_speed.reshape(-1, 1)], axis=1)\n",
    "sgm_seq = raw2theta_np(ts, paras.prior_bds, k=paras_run.k)\n",
    "\n",
    "PSDs = []\n",
    "for cur_sgm in tqdm(sgm_seq):\n",
    "    cur_PSD = sgmmodel.run_local_coupling_forward(cur_sgm)\n",
    "    cur_PSD = cur_PSD[:68, :]\n",
    "    PSDs.append(cur_PSD)\n",
    "    \n",
    "simu_sgm_data = edict()\n",
    "simu_sgm_data.PSDs_test = np.array(PSDs)\n",
    "simu_sgm_data.sgm_params_test = sgm_seq\n",
    "save_pkl_dict2folder(RES_ROOT/f\"simu_sgm_data_conspeed_{paras_run.n}\", simu_sgm_data, is_force=False)"
   ]
  },
  {
   "cell_type": "code",
   "execution_count": null,
   "id": "b565067a",
   "metadata": {},
   "outputs": [],
   "source": []
  },
  {
   "cell_type": "markdown",
   "id": "ed8491dd",
   "metadata": {},
   "source": [
    "## Build neural network"
   ]
  },
  {
   "cell_type": "code",
   "execution_count": null,
   "id": "ecfe81a5",
   "metadata": {},
   "outputs": [],
   "source": []
  },
  {
   "cell_type": "markdown",
   "id": "95194640",
   "metadata": {},
   "source": [
    "### A MLP for SGM"
   ]
  },
  {
   "cell_type": "code",
   "execution_count": 152,
   "id": "11d8640f",
   "metadata": {
    "ExecuteTime": {
     "end_time": "2023-03-31T04:28:48.968198Z",
     "start_time": "2023-03-31T04:28:48.140650Z"
    }
   },
   "outputs": [
    {
     "name": "stdout",
     "output_type": "stream",
     "text": [
      "Load file /data/rajlab1/user_data/jin/MyResearch/TV-SGM/notebooks/../mypkg/../results/simu_sgm_data/PSDs.pkl\n",
      "Load file /data/rajlab1/user_data/jin/MyResearch/TV-SGM/notebooks/../mypkg/../results/simu_sgm_data/PSDs_test.pkl\n",
      "Load file /data/rajlab1/user_data/jin/MyResearch/TV-SGM/notebooks/../mypkg/../results/simu_sgm_data/sgm_params.pkl\n",
      "Load file /data/rajlab1/user_data/jin/MyResearch/TV-SGM/notebooks/../mypkg/../results/simu_sgm_data/sgm_params_test.pkl\n"
     ]
    }
   ],
   "source": [
    "simu_sgm_data = load_pkl_folder2dict(RES_ROOT/\"simu_sgm_data\")\n"
   ]
  },
  {
   "cell_type": "code",
   "execution_count": 153,
   "id": "391a5031",
   "metadata": {
    "ExecuteTime": {
     "end_time": "2023-03-31T04:28:49.835904Z",
     "start_time": "2023-03-31T04:28:49.823586Z"
    }
   },
   "outputs": [],
   "source": [
    "\n",
    "# A MLP to approximate SGM model\n",
    "class SGMnet(nn.Module):\n",
    "    def __init__(self, nroi, nfreq, is_large=True):\n",
    "        super(SGMnet, self).__init__()\n",
    "\n",
    "        output_size = nroi*nfreq\n",
    "        self.is_large = is_large\n",
    "        self.nroi = nroi\n",
    "        self.nfreq = nfreq\n",
    "        self.lay_init = nn.Linear(7, 256)\n",
    "        \n",
    "        self.layers1 = nn.Sequential(\n",
    "                      nn.Linear(256, 256),\n",
    "                      nn.ReLU(),\n",
    "                      nn.Linear(256, 256),\n",
    "                    )\n",
    "        self.layers2 = nn.Sequential(\n",
    "                      nn.Linear(256, 512),\n",
    "                      nn.ReLU(),\n",
    "                      nn.Dropout(0.5),\n",
    "                      #nn.Linear(512, 1024),\n",
    "                      #nn.ReLU(),\n",
    "                      nn.Linear(512, output_size),\n",
    "                    )\n",
    "\n",
    "\n",
    "    def forward(self, x):\n",
    "        \"\"\"forward\n",
    "        \"\"\"\n",
    "        x = F.relu(self.lay_init(x))\n",
    "        if self.is_large:\n",
    "            residual = x\n",
    "            x = self.layers1(x)\n",
    "            x = F.relu(x + residual)\n",
    "        x = self.layers2(x)\n",
    "        x = x.reshape(-1, self.nroi, self.nfreq)\n",
    "        return x\n",
    "\n"
   ]
  },
  {
   "cell_type": "code",
   "execution_count": 154,
   "id": "bae944c8",
   "metadata": {
    "ExecuteTime": {
     "end_time": "2023-03-31T04:28:51.475792Z",
     "start_time": "2023-03-31T04:28:51.395950Z"
    }
   },
   "outputs": [],
   "source": [
    "paras_sgm_net = edict()\n",
    "paras_sgm_net.batchsize = 256\n",
    "paras_sgm_net.niter = 50000\n",
    "paras_sgm_net.loss_out = 100\n",
    "\n",
    "# remove the scale, does not matter\n",
    "std_PSDs = ((simu_sgm_data.PSDs - simu_sgm_data.PSDs.mean(axis=(1, 2), keepdims=True))/\n",
    "        simu_sgm_data.PSDs.std(axis=(1, 2), keepdims=True)\n",
    "       )\n",
    "std_PSDs_test = ((simu_sgm_data.PSDs_test- simu_sgm_data.PSDs_test.mean(axis=(1, 2), keepdims=True))/\n",
    "        simu_sgm_data.PSDs_test.std(axis=(1, 2), keepdims=True)\n",
    "       )\n",
    "simu_sgm_data_torch = edict()\n",
    "simu_sgm_data_torch.sgm_params = torch.tensor(simu_sgm_data.sgm_params)\n",
    "simu_sgm_data_torch.PSDs = torch.tensor(std_PSDs)\n",
    "simu_sgm_data_torch.sgm_params_test = torch.tensor(simu_sgm_data.sgm_params_test)\n",
    "simu_sgm_data_torch.PSDs_test = torch.tensor(std_PSDs_test)"
   ]
  },
  {
   "cell_type": "code",
   "execution_count": 155,
   "id": "83f6c1cc",
   "metadata": {
    "ExecuteTime": {
     "end_time": "2023-03-31T04:28:51.947899Z",
     "start_time": "2023-03-31T04:28:51.941547Z"
    }
   },
   "outputs": [],
   "source": [
    "def evaluate(X_test, Y_test, net):\n",
    "    loss_fn = nn.MSELoss()\n",
    "    net.eval()\n",
    "    with torch.no_grad():\n",
    "        Y_test_pred = net(X_test)\n",
    "        loss = loss_fn(Y_test, Y_test_pred)\n",
    "\n",
    "    net.train()\n",
    "    return loss.item()"
   ]
  },
  {
   "cell_type": "code",
   "execution_count": 156,
   "id": "67169528",
   "metadata": {
    "ExecuteTime": {
     "end_time": "2023-03-31T04:28:52.504686Z",
     "start_time": "2023-03-31T04:28:52.498233Z"
    }
   },
   "outputs": [],
   "source": [
    "def random_samples(data):\n",
    "    \"\"\"Generate simulation samples with batchsize\"\"\"\n",
    "    idxs = np.random.choice(len(data.sgm_params), paras_sgm_net.batchsize, replace=False)\n",
    "    idxs = np.sort(idxs)\n",
    "    X_batch = data.sgm_params[idxs, :]\n",
    "    Y_batch = data.PSDs[idxs, :]\n",
    "    return X_batch, Y_batch"
   ]
  },
  {
   "cell_type": "code",
   "execution_count": 157,
   "id": "2c3f2ea9",
   "metadata": {
    "ExecuteTime": {
     "end_time": "2023-03-31T04:28:54.029840Z",
     "start_time": "2023-03-31T04:28:53.997294Z"
    }
   },
   "outputs": [],
   "source": [
    "sgm_net = SGMnet(nroi=68, nfreq=len(paras.freqs))\n",
    "loss_fn = nn.MSELoss()\n",
    "optimizer = torch.optim.Adam(sgm_net.parameters(), lr=1e-4, weight_decay=0)\n",
    "#optimizer = torch.optim.SGD(sgm_net.parameters(), lr=1e-4)"
   ]
  },
  {
   "cell_type": "code",
   "execution_count": 158,
   "id": "473d871f",
   "metadata": {
    "ExecuteTime": {
     "end_time": "2023-03-31T04:29:03.400772Z",
     "start_time": "2023-03-31T04:28:59.531586Z"
    },
    "scrolled": true
   },
   "outputs": [
    {
     "name": "stdout",
     "output_type": "stream",
     "text": [
      "At iter 100/50000,the losses are 7.33924E-01 (train) and 4.84003E-01 (test). The time used is 1.913s. \n",
      "At iter 200/50000,the losses are 4.75343E-01 (train) and 4.33473E-01 (test). The time used is 1.886s. \n"
     ]
    },
    {
     "ename": "KeyboardInterrupt",
     "evalue": "",
     "output_type": "error",
     "traceback": [
      "\u001b[0;31m---------------------------------------------------------------------------\u001b[0m",
      "\u001b[0;31mKeyboardInterrupt\u001b[0m                         Traceback (most recent call last)",
      "\u001b[0;32m/tmp/ipykernel_14187/2598516134.py\u001b[0m in \u001b[0;36m<module>\u001b[0;34m\u001b[0m\n\u001b[1;32m     16\u001b[0m     \u001b[0;31m#print(loss)\u001b[0m\u001b[0;34m\u001b[0m\u001b[0;34m\u001b[0m\u001b[0m\n\u001b[1;32m     17\u001b[0m     \u001b[0;31m# Perform backward pass\u001b[0m\u001b[0;34m\u001b[0m\u001b[0;34m\u001b[0m\u001b[0m\n\u001b[0;32m---> 18\u001b[0;31m     \u001b[0mloss\u001b[0m\u001b[0;34m.\u001b[0m\u001b[0mbackward\u001b[0m\u001b[0;34m(\u001b[0m\u001b[0;34m)\u001b[0m\u001b[0;34m\u001b[0m\u001b[0;34m\u001b[0m\u001b[0m\n\u001b[0m\u001b[1;32m     19\u001b[0m \u001b[0;34m\u001b[0m\u001b[0m\n\u001b[1;32m     20\u001b[0m     \u001b[0;31m# Perform optimization\u001b[0m\u001b[0;34m\u001b[0m\u001b[0;34m\u001b[0m\u001b[0m\n",
      "\u001b[0;32m/opt/conda/lib/python3.9/site-packages/torch/_tensor.py\u001b[0m in \u001b[0;36mbackward\u001b[0;34m(self, gradient, retain_graph, create_graph, inputs)\u001b[0m\n\u001b[1;32m    485\u001b[0m                 \u001b[0minputs\u001b[0m\u001b[0;34m=\u001b[0m\u001b[0minputs\u001b[0m\u001b[0;34m,\u001b[0m\u001b[0;34m\u001b[0m\u001b[0;34m\u001b[0m\u001b[0m\n\u001b[1;32m    486\u001b[0m             )\n\u001b[0;32m--> 487\u001b[0;31m         torch.autograd.backward(\n\u001b[0m\u001b[1;32m    488\u001b[0m             \u001b[0mself\u001b[0m\u001b[0;34m,\u001b[0m \u001b[0mgradient\u001b[0m\u001b[0;34m,\u001b[0m \u001b[0mretain_graph\u001b[0m\u001b[0;34m,\u001b[0m \u001b[0mcreate_graph\u001b[0m\u001b[0;34m,\u001b[0m \u001b[0minputs\u001b[0m\u001b[0;34m=\u001b[0m\u001b[0minputs\u001b[0m\u001b[0;34m\u001b[0m\u001b[0;34m\u001b[0m\u001b[0m\n\u001b[1;32m    489\u001b[0m         )\n",
      "\u001b[0;32m/opt/conda/lib/python3.9/site-packages/torch/autograd/__init__.py\u001b[0m in \u001b[0;36mbackward\u001b[0;34m(tensors, grad_tensors, retain_graph, create_graph, grad_variables, inputs)\u001b[0m\n\u001b[1;32m    198\u001b[0m     \u001b[0;31m# some Python versions print out the first line of a multi-line function\u001b[0m\u001b[0;34m\u001b[0m\u001b[0;34m\u001b[0m\u001b[0m\n\u001b[1;32m    199\u001b[0m     \u001b[0;31m# calls in the traceback and some print out the last line\u001b[0m\u001b[0;34m\u001b[0m\u001b[0;34m\u001b[0m\u001b[0m\n\u001b[0;32m--> 200\u001b[0;31m     Variable._execution_engine.run_backward(  # Calls into the C++ engine to run the backward pass\n\u001b[0m\u001b[1;32m    201\u001b[0m         \u001b[0mtensors\u001b[0m\u001b[0;34m,\u001b[0m \u001b[0mgrad_tensors_\u001b[0m\u001b[0;34m,\u001b[0m \u001b[0mretain_graph\u001b[0m\u001b[0;34m,\u001b[0m \u001b[0mcreate_graph\u001b[0m\u001b[0;34m,\u001b[0m \u001b[0minputs\u001b[0m\u001b[0;34m,\u001b[0m\u001b[0;34m\u001b[0m\u001b[0;34m\u001b[0m\u001b[0m\n\u001b[1;32m    202\u001b[0m         allow_unreachable=True, accumulate_grad=True)  # Calls into the C++ engine to run the backward pass\n",
      "\u001b[0;31mKeyboardInterrupt\u001b[0m: "
     ]
    }
   ],
   "source": [
    "# training\n",
    "loss_cur = 0\n",
    "losses = []\n",
    "losses_test = []\n",
    "\n",
    "t0 = time.time()\n",
    "for ix in range(paras_sgm_net.niter):\n",
    "    X_batch, Y_batch = random_samples(simu_sgm_data_torch)\n",
    "    # Zero the gradients\n",
    "    optimizer.zero_grad()\n",
    "    \n",
    "    Y_batch_est = sgm_net(X_batch)\n",
    "    #print(Y_batch_est.sum(axis=(1, 2)))\n",
    "    \n",
    "    loss = loss_fn(Y_batch, Y_batch_est)\n",
    "    #print(loss)\n",
    "    # Perform backward pass\n",
    "    loss.backward()\n",
    "    \n",
    "    # Perform optimization\n",
    "    optimizer.step()\n",
    "    \n",
    "    loss_cur = loss_cur + loss.item()\n",
    "    if ix % paras_sgm_net.loss_out == (paras_sgm_net.loss_out-1):\n",
    "        losses.append(loss_cur/paras_sgm_net.loss_out)\n",
    "        losses_test.append(evaluate(simu_sgm_data_torch.sgm_params_test, \n",
    "                                    simu_sgm_data_torch.PSDs_test, \n",
    "                                   sgm_net))\n",
    "        print(f\"At iter {ix+1}/{paras_sgm_net.niter},\"\n",
    "              f\"the losses are {loss_cur/paras_sgm_net.loss_out:.5E} (train)\"\n",
    "              f\" and {losses_test[-1]:.5E} (test). \"\n",
    "              f\"The time used is {delta_time(t0):.3f}s. \"\n",
    "             )\n",
    "        loss_cur = 0\n",
    "        t0 = time.time()\n",
    "    "
   ]
  },
  {
   "cell_type": "code",
   "execution_count": 33,
   "id": "ff590088",
   "metadata": {
    "ExecuteTime": {
     "end_time": "2023-03-30T22:32:14.963535Z",
     "start_time": "2023-03-30T22:32:13.989419Z"
    }
   },
   "outputs": [
    {
     "name": "stdout",
     "output_type": "stream",
     "text": [
      "Save to /data/rajlab1/user_data/jin/MyResearch/TV-SGM/notebooks/../mypkg/../results/SGM_net/model.pkl\n",
      "Save to /data/rajlab1/user_data/jin/MyResearch/TV-SGM/notebooks/../mypkg/../results/SGM_net/loss.pkl\n",
      "Save to /data/rajlab1/user_data/jin/MyResearch/TV-SGM/notebooks/../mypkg/../results/SGM_net/optimizer.pkl\n",
      "Save to /data/rajlab1/user_data/jin/MyResearch/TV-SGM/notebooks/../mypkg/../results/SGM_net/paras.pkl\n",
      "Save to /data/rajlab1/user_data/jin/MyResearch/TV-SGM/notebooks/../mypkg/../results/SGM_net/loss_test.pkl\n"
     ]
    }
   ],
   "source": [
    "trained_model = edict()\n",
    "trained_model.model = sgm_net\n",
    "trained_model.loss = loss_fn\n",
    "trained_model.optimizer = optimizer\n",
    "trained_model.paras = paras_sgm_net\n",
    "trained_model.loss = losses\n",
    "trained_model.loss_test = losses_test\n",
    "save_pkl_dict2folder(RES_ROOT/\"SGM_net\", trained_model, is_force=True)"
   ]
  },
  {
   "cell_type": "code",
   "execution_count": 34,
   "id": "3fd053ce",
   "metadata": {
    "ExecuteTime": {
     "end_time": "2023-03-30T22:32:16.691431Z",
     "start_time": "2023-03-30T22:32:16.595698Z"
    }
   },
   "outputs": [
    {
     "data": {
      "text/plain": [
       "[<matplotlib.lines.Line2D at 0x7fb8e6ef61f0>]"
      ]
     },
     "execution_count": 34,
     "metadata": {},
     "output_type": "execute_result"
    },
    {
     "data": {
      "image/png": "[encoded data removed]",
      "text/plain": [
       "<Figure size 432x288 with 1 Axes>"
      ]
     },
     "metadata": {
      "needs_background": "light"
     },
     "output_type": "display_data"
    }
   ],
   "source": [
    "plt.plot(losses)\n",
    "plt.plot(losses_test)"
   ]
  },
  {
   "cell_type": "code",
   "execution_count": null,
   "id": "79f7a531",
   "metadata": {},
   "outputs": [],
   "source": []
  },
  {
   "cell_type": "markdown",
   "id": "376fa82c",
   "metadata": {},
   "source": [
    "### LSTM for seq"
   ]
  },
  {
   "cell_type": "code",
   "execution_count": 10,
   "id": "efb3f8d5",
   "metadata": {
    "ExecuteTime": {
     "end_time": "2023-04-01T22:21:57.359303Z",
     "start_time": "2023-04-01T22:21:57.304594Z"
    }
   },
   "outputs": [
    {
     "name": "stdout",
     "output_type": "stream",
     "text": [
      "Load file /data/rajlab1/user_data/jin/MyResearch/TV-SGM/notebooks/tests/../../mypkg/../results/simu_sgm_data_conspeed_1000/PSDs.pkl\n",
      "Load file /data/rajlab1/user_data/jin/MyResearch/TV-SGM/notebooks/tests/../../mypkg/../results/simu_sgm_data_conspeed_1000/PSDs_test.pkl\n",
      "Load file /data/rajlab1/user_data/jin/MyResearch/TV-SGM/notebooks/tests/../../mypkg/../results/simu_sgm_data_conspeed_1000/sgm_paramss.pkl\n",
      "Load file /data/rajlab1/user_data/jin/MyResearch/TV-SGM/notebooks/tests/../../mypkg/../results/simu_sgm_data_conspeed_1000/sgm_paramss_test.pkl\n"
     ]
    }
   ],
   "source": [
    "simu_sgm_data = load_pkl_folder2dict(RES_ROOT/f\"simu_sgm_data_conspeed_{paras_run.n}\")\n"
   ]
  },
  {
   "cell_type": "code",
   "execution_count": 12,
   "id": "4dd5d1f5",
   "metadata": {
    "ExecuteTime": {
     "end_time": "2023-04-01T22:22:17.758072Z",
     "start_time": "2023-04-01T22:22:17.662982Z"
    }
   },
   "outputs": [],
   "source": [
    "# remove the scale, does not matter\n",
    "std_PSDs = ((simu_sgm_data.PSDs - simu_sgm_data.PSDs.mean(axis=(1, 2), keepdims=True))/\n",
    "        simu_sgm_data.PSDs.std(axis=(1, 2), keepdims=True)\n",
    "       )\n",
    "std_PSDs_test = ((simu_sgm_data.PSDs_test- simu_sgm_data.PSDs_test.mean(axis=(1, 2), keepdims=True))/\n",
    "        simu_sgm_data.PSDs_test.std(axis=(1, 2), keepdims=True)\n",
    "       )\n",
    "simu_sgm_data_torch = edict()\n",
    "simu_sgm_data_torch.sgm_paramss = theta2raw_torch(torch.tensor(simu_sgm_data.sgm_paramss), \n",
    "                                                 paras.prior_bds, k=paras_run.k)\n",
    "simu_sgm_data_torch.PSDs = torch.tensor(std_PSDs)\n",
    "simu_sgm_data_torch.sgm_paramss_test = theta2raw_torch(torch.tensor(simu_sgm_data.sgm_paramss_test), \n",
    "                                                      paras.prior_bds, k=paras_run.k)\n",
    "simu_sgm_data_torch.PSDs_test = torch.tensor(std_PSDs_test)"
   ]
  },
  {
   "cell_type": "code",
   "execution_count": 13,
   "id": "bb59d756",
   "metadata": {
    "ExecuteTime": {
     "end_time": "2023-04-01T22:22:23.624577Z",
     "start_time": "2023-04-01T22:22:23.611133Z"
    }
   },
   "outputs": [],
   "source": [
    "class LSTM_SGM(nn.Module):\n",
    "\n",
    "    def __init__(self, input_dim, hidden_dim, output_dim, \n",
    "                 is_bidirectional=True, \n",
    "                prior_bds=None):\n",
    "        super(LSTM_SGM, self).__init__()\n",
    "        self.input_dim = input_dim\n",
    "        self.hidden_dim = hidden_dim\n",
    "        self.output_dim = output_dim\n",
    "        self.prior_bds = prior_bds\n",
    "        self.is_bidirectional = is_bidirectional\n",
    "\n",
    "        self.lstm = nn.LSTM(self.input_dim,\n",
    "                            self.hidden_dim,\n",
    "                            num_layers=1,\n",
    "                            bidirectional=self.is_bidirectional)\n",
    "        \n",
    "        if self.is_bidirectional:\n",
    "            self.fc1 = nn.Linear(2*self.hidden_dim, 256)\n",
    "            self.laynorm = nn.LayerNorm(2*self.hidden_dim)\n",
    "        else:\n",
    "            self.fc1 = nn.Linear(self.hidden_dim, 256)\n",
    "            self.laynorm = nn.LayerNorm(self.hidden_dim)\n",
    "        self.fc2 = nn.Linear(256, self.output_dim)\n",
    "        self.dropout = nn.Dropout(0.5)\n",
    "            \n",
    "\n",
    "    def forward(self, seq):\n",
    "        \"\"\"\n",
    "        args:\n",
    "            seq: should be len_seg x n_batch x len_fs\n",
    "        return:\n",
    "            x_raw: x in R scale, should be len_seg x n_batch x output_dim (7)\n",
    "        \"\"\"\n",
    "        x, _ = self.lstm(seq) # len_seg x n_batch x len_fs\n",
    "        x = self.laynorm(x)\n",
    "        x = self.dropout(x)\n",
    "        x = F.relu(self.fc1(x))\n",
    "        x = self.dropout(x)\n",
    "        x = self.fc2(x) # len_seg x n_batch x output_dim(7)\n",
    "        #x_raw = x\n",
    "        \n",
    "        x = torch.transpose(x, 1, 0) #  n_batch x len_seg x output_dim(7)\n",
    "        x_last = x[:, :, -1].mean(axis=-1, keepdims=True).repeat(1, len(seq)).unsqueeze(-1) # n_batch x len_seg x 1\n",
    "        x_raw = torch.cat([x[:, :, :-1], x_last], dim=-1) #  n_batch x len_seg x output_dim(7)\n",
    "        x_raw = x_raw.transpose(1, 0) # len_seg x n_batch x output_dim(7)\n",
    "        \n",
    "        return x_raw\n",
    "    \n",
    "    def theta_raw_2out(self, thetas_raw, k=1):\n",
    "        \"\"\"transform reparameterized theta to orignal theta\n",
    "            args: thetas_raw: an array with num_sps x 7\n",
    "                  prior_bds: an array with 7 x 2\n",
    "        \"\"\"\n",
    "        thetas = raw2theta_torch(thetas_raw, self.prior_bds, k=k)\n",
    "        return thetas "
   ]
  },
  {
   "cell_type": "code",
   "execution_count": 14,
   "id": "bc89575f",
   "metadata": {
    "ExecuteTime": {
     "end_time": "2023-04-01T22:22:24.128090Z",
     "start_time": "2023-04-01T22:22:24.119444Z"
    }
   },
   "outputs": [],
   "source": [
    "# functions to generate training sample\n",
    "# note that I fix the bach size = 1\n",
    "def random_choice(n, batchsize=1):\n",
    "    \"\"\"Randomly select the lower and upper bound of the segment\n",
    "        args:\n",
    "            n: len of the total time series\n",
    "    \"\"\"\n",
    "    #len_seg = torch.tensor(30)\n",
    "    len_seg = torch.randint(low=10, high=200, size=(1, ))\n",
    "    up_bd = torch.randint(low=200, high=n, size=(batchsize, ))\n",
    "    low_bd = up_bd - len_seg\n",
    "    return low_bd, up_bd\n",
    "\n",
    "\n",
    "def random_samples_rnn(X, Y, batchsize=1, bds=None):\n",
    "    \"\"\"Randomly select a sample from the whole segment\n",
    "        args:\n",
    "            data: \n",
    "    \"\"\"\n",
    "    if bds is None:\n",
    "        low_bds, up_bds = random_choice(len(X), batchsize)\n",
    "    else:\n",
    "        low_bds, up_bds = bds\n",
    "\n",
    "    X = X.flatten(1)\n",
    "    X_seqs = []\n",
    "    Y_seqs = []\n",
    "    for low_bd, up_bd in zip(low_bds, up_bds):\n",
    "        X_seq = X[low_bd:up_bd, :].unsqueeze(1)\n",
    "        Y_seq = Y[low_bd:up_bd].unsqueeze(1)\n",
    "        X_seqs.append(X_seq)\n",
    "        Y_seqs.append(Y_seq)\n",
    "    return torch.cat(X_seqs, dim=1), torch.cat(Y_seqs, dim=1)"
   ]
  },
  {
   "cell_type": "code",
   "execution_count": 15,
   "id": "7b5f1779",
   "metadata": {
    "ExecuteTime": {
     "end_time": "2023-04-01T22:22:25.047291Z",
     "start_time": "2023-04-01T22:22:25.042820Z"
    }
   },
   "outputs": [],
   "source": [
    "def evaluate_rnn(X_test, Y_test, net):\n",
    "    \"\"\"args:\n",
    "            X_test: tensor of len_seg x n_batch x n_fs\n",
    "            Y_test: tensor of len_seg x n_batch x 7\n",
    "    \"\"\"\n",
    "    loss_fn = nn.MSELoss()\n",
    "    net.eval()\n",
    "    with torch.no_grad():\n",
    "        Y_test_pred = net(X_test)\n",
    "        loss = loss_fn(Y_test, Y_test_pred)\n",
    "    net.train()\n",
    "    return loss.item()"
   ]
  },
  {
   "cell_type": "code",
   "execution_count": 16,
   "id": "8aa894d6",
   "metadata": {
    "ExecuteTime": {
     "end_time": "2023-04-01T22:22:26.777151Z",
     "start_time": "2023-04-01T22:22:26.771077Z"
    }
   },
   "outputs": [],
   "source": [
    "def step_move_rnn_inf(X_test, net, len_seg, move_step, is_bi=False):\n",
    "    \"\"\"Do rnn inference with len_seq and move_step \n",
    "       For each time, we also inference a seq with length len_seq, \n",
    "                    then we only use the results in this seq with length move_step \n",
    "                    as predicted Y.\n",
    "        args:\n",
    "            X_test: tensor of len_seg x n_batch x n_fs\n",
    "            is_bi: whether bidirectional RNN or not. \n",
    "                   If yes, take the middle part of len_seq. \n",
    "                   If no, take the end part.\n",
    "    \"\"\"\n",
    "    if is_bi:\n",
    "        len_seg_l = int((len_seg-move_step)/2)\n",
    "    else:\n",
    "        len_seg_l = len_seg-move_step\n",
    "    #len_seg_r = len_seg - len_seg_l - move_step\n",
    "    \n",
    "    n = X_test.shape[0]\n",
    "    X_test = X_test.squeeze()\n",
    "    X_test_batch = []\n",
    "    for ix in range(0, n, move_step):\n",
    "        low, up = ix, ix+len_seg\n",
    "        if (n-up) < move_step:\n",
    "            up = n\n",
    "        X_test_batch.append(X_test[low:up])\n",
    "        if up == n:\n",
    "            break\n",
    "    X_test_last_batch = X_test_batch[-1].unsqueeze(1)\n",
    "    X_test_batch1 = torch.stack(X_test_batch[:-1], dim=1)\n",
    "    \n",
    "    net.eval()\n",
    "    with torch.no_grad():\n",
    "        Y_test_pred1 = net(X_test_batch1)\n",
    "        Y_test_last_batch = net(X_test_last_batch)\n",
    "    net.train()\n",
    "    begin_part = Y_test_pred1[:len_seg_l, 0, :]\n",
    "    inner_part = Y_test_pred1[len_seg_l:(len_seg_l+move_step)]\n",
    "    end_part = Y_test_last_batch[len_seg_l:].squeeze()\n",
    "    inner_part = inner_part.transpose(1, 0).reshape(-1, 7)\n",
    "    Y_test_pred = torch.cat([begin_part, inner_part, end_part])\n",
    "    return Y_test_pred.unsqueeze(1)"
   ]
  },
  {
   "cell_type": "code",
   "execution_count": 17,
   "id": "330f29d6",
   "metadata": {
    "ExecuteTime": {
     "end_time": "2023-04-01T22:22:28.268496Z",
     "start_time": "2023-04-01T22:22:28.263490Z"
    }
   },
   "outputs": [],
   "source": [
    "paras_rnn = edict()\n",
    "paras_rnn.batchsize = 128\n",
    "paras_rnn.niter = 50000\n",
    "paras_rnn.loss_out = 10\n",
    "paras_rnn.clip = 10 # from \n",
    "\n",
    "paras_rnn.hidden_dim = 512\n",
    "paras_rnn.output_dim = 7\n",
    "paras_rnn.input_dim = 68*40"
   ]
  },
  {
   "cell_type": "code",
   "execution_count": 44,
   "id": "90c00151",
   "metadata": {
    "ExecuteTime": {
     "end_time": "2023-03-30T21:02:13.020687Z",
     "start_time": "2023-03-30T21:02:12.826066Z"
    }
   },
   "outputs": [],
   "source": [
    "rnn = LSTM_SGM(input_dim=paras_rnn.input_dim, \n",
    "               hidden_dim=paras_rnn.hidden_dim, \n",
    "               output_dim=paras_rnn.output_dim, \n",
    "               is_bidirectional=True, \n",
    "               prior_bds=torch.tensor(paras.prior_bds), \n",
    ")\n",
    "loss_fn = nn.MSELoss()\n",
    "#optimizer = torch.optim.SGD(rnn.parameters(), lr=1e-4, weight_decay=1e-5)\n",
    "optimizer = torch.optim.Adam(rnn.parameters(), lr=1e-4, weight_decay=0)"
   ]
  },
  {
   "cell_type": "code",
   "execution_count": 45,
   "id": "0ea39719",
   "metadata": {
    "ExecuteTime": {
     "end_time": "2023-03-30T21:27:31.295687Z",
     "start_time": "2023-03-30T21:02:14.125950Z"
    },
    "scrolled": true
   },
   "outputs": [
    {
     "name": "stdout",
     "output_type": "stream",
     "text": [
      "At iter 10/50000, the losses are 3.465 (train) and 3.286 (test).\n",
      "At iter 20/50000, the losses are 2.870 (train) and 3.125 (test).\n",
      "At iter 30/50000, the losses are 2.531 (train) and 3.007 (test).\n",
      "At iter 40/50000, the losses are 2.262 (train) and 2.909 (test).\n",
      "At iter 50/50000, the losses are 1.983 (train) and 2.852 (test).\n",
      "At iter 60/50000, the losses are 1.740 (train) and 2.795 (test).\n",
      "At iter 70/50000, the losses are 1.549 (train) and 2.759 (test).\n",
      "At iter 80/50000, the losses are 1.339 (train) and 2.736 (test).\n",
      "At iter 90/50000, the losses are 1.246 (train) and 2.696 (test).\n",
      "At iter 100/50000, the losses are 1.125 (train) and 2.710 (test).\n",
      "At iter 110/50000, the losses are 1.009 (train) and 2.717 (test).\n",
      "At iter 120/50000, the losses are 0.957 (train) and 2.673 (test).\n",
      "At iter 130/50000, the losses are 0.858 (train) and 2.696 (test).\n",
      "At iter 140/50000, the losses are 0.850 (train) and 2.732 (test).\n",
      "At iter 150/50000, the losses are 0.796 (train) and 2.668 (test).\n",
      "At iter 160/50000, the losses are 0.740 (train) and 2.674 (test).\n",
      "At iter 170/50000, the losses are 0.705 (train) and 2.665 (test).\n",
      "At iter 180/50000, the losses are 0.707 (train) and 2.661 (test).\n",
      "At iter 190/50000, the losses are 0.741 (train) and 2.711 (test).\n",
      "At iter 200/50000, the losses are 0.643 (train) and 2.642 (test).\n",
      "At iter 210/50000, the losses are 0.645 (train) and 2.632 (test).\n",
      "At iter 220/50000, the losses are 0.594 (train) and 2.635 (test).\n",
      "At iter 230/50000, the losses are 0.571 (train) and 2.624 (test).\n",
      "At iter 240/50000, the losses are 0.578 (train) and 2.604 (test).\n",
      "At iter 250/50000, the losses are 0.545 (train) and 2.619 (test).\n",
      "At iter 260/50000, the losses are 0.524 (train) and 2.598 (test).\n",
      "At iter 270/50000, the losses are 0.533 (train) and 2.596 (test).\n",
      "At iter 280/50000, the losses are 0.519 (train) and 2.594 (test).\n",
      "At iter 290/50000, the losses are 0.506 (train) and 2.594 (test).\n",
      "At iter 300/50000, the losses are 0.551 (train) and 2.596 (test).\n",
      "At iter 310/50000, the losses are 0.531 (train) and 2.581 (test).\n",
      "At iter 320/50000, the losses are 0.498 (train) and 2.572 (test).\n",
      "At iter 330/50000, the losses are 0.476 (train) and 2.544 (test).\n",
      "At iter 340/50000, the losses are 0.476 (train) and 2.551 (test).\n",
      "At iter 350/50000, the losses are 0.489 (train) and 2.556 (test).\n",
      "At iter 360/50000, the losses are 0.459 (train) and 2.540 (test).\n",
      "At iter 370/50000, the losses are 0.452 (train) and 2.549 (test).\n",
      "At iter 380/50000, the losses are 0.431 (train) and 2.542 (test).\n",
      "At iter 390/50000, the losses are 0.437 (train) and 2.546 (test).\n",
      "At iter 400/50000, the losses are 0.463 (train) and 2.534 (test).\n",
      "At iter 410/50000, the losses are 0.448 (train) and 2.547 (test).\n",
      "At iter 420/50000, the losses are 0.433 (train) and 2.540 (test).\n",
      "At iter 430/50000, the losses are 0.440 (train) and 2.516 (test).\n",
      "At iter 440/50000, the losses are 0.423 (train) and 2.552 (test).\n",
      "At iter 450/50000, the losses are 0.420 (train) and 2.518 (test).\n",
      "At iter 460/50000, the losses are 0.409 (train) and 2.527 (test).\n",
      "At iter 470/50000, the losses are 0.404 (train) and 2.539 (test).\n",
      "At iter 480/50000, the losses are 0.418 (train) and 2.516 (test).\n",
      "At iter 490/50000, the losses are 0.445 (train) and 2.529 (test).\n",
      "At iter 500/50000, the losses are 0.413 (train) and 2.507 (test).\n",
      "At iter 510/50000, the losses are 0.388 (train) and 2.511 (test).\n",
      "At iter 520/50000, the losses are 0.385 (train) and 2.501 (test).\n",
      "At iter 530/50000, the losses are 0.392 (train) and 2.501 (test).\n",
      "At iter 540/50000, the losses are 0.406 (train) and 2.513 (test).\n",
      "At iter 550/50000, the losses are 0.400 (train) and 2.516 (test).\n",
      "At iter 560/50000, the losses are 0.386 (train) and 2.500 (test).\n",
      "At iter 570/50000, the losses are 0.397 (train) and 2.492 (test).\n",
      "At iter 580/50000, the losses are 0.373 (train) and 2.506 (test).\n",
      "At iter 590/50000, the losses are 0.374 (train) and 2.502 (test).\n",
      "At iter 600/50000, the losses are 0.376 (train) and 2.504 (test).\n",
      "At iter 610/50000, the losses are 0.364 (train) and 2.483 (test).\n",
      "At iter 620/50000, the losses are 0.360 (train) and 2.503 (test).\n",
      "At iter 630/50000, the losses are 0.369 (train) and 2.489 (test).\n",
      "At iter 640/50000, the losses are 0.358 (train) and 2.498 (test).\n",
      "At iter 650/50000, the losses are 0.376 (train) and 2.494 (test).\n",
      "At iter 660/50000, the losses are 0.366 (train) and 2.497 (test).\n",
      "At iter 670/50000, the losses are 0.369 (train) and 2.499 (test).\n",
      "At iter 680/50000, the losses are 0.353 (train) and 2.496 (test).\n",
      "At iter 690/50000, the losses are 0.344 (train) and 2.474 (test).\n",
      "At iter 700/50000, the losses are 0.373 (train) and 2.492 (test).\n"
     ]
    },
    {
     "ename": "KeyboardInterrupt",
     "evalue": "",
     "output_type": "error",
     "traceback": [
      "\u001b[0;31m---------------------------------------------------------------------------\u001b[0m",
      "\u001b[0;31mKeyboardInterrupt\u001b[0m                         Traceback (most recent call last)",
      "\u001b[0;32m/tmp/ipykernel_34588/2857898466.py\u001b[0m in \u001b[0;36m<module>\u001b[0;34m\u001b[0m\n\u001b[1;32m     21\u001b[0m \u001b[0;34m\u001b[0m\u001b[0m\n\u001b[1;32m     22\u001b[0m     \u001b[0;31m# Perform backward pass\u001b[0m\u001b[0;34m\u001b[0m\u001b[0;34m\u001b[0m\u001b[0m\n\u001b[0;32m---> 23\u001b[0;31m     \u001b[0mloss\u001b[0m\u001b[0;34m.\u001b[0m\u001b[0mbackward\u001b[0m\u001b[0;34m(\u001b[0m\u001b[0;34m)\u001b[0m\u001b[0;34m\u001b[0m\u001b[0;34m\u001b[0m\u001b[0m\n\u001b[0m\u001b[1;32m     24\u001b[0m \u001b[0;34m\u001b[0m\u001b[0m\n\u001b[1;32m     25\u001b[0m     \u001b[0mtorch\u001b[0m\u001b[0;34m.\u001b[0m\u001b[0mnn\u001b[0m\u001b[0;34m.\u001b[0m\u001b[0mutils\u001b[0m\u001b[0;34m.\u001b[0m\u001b[0mclip_grad_norm_\u001b[0m\u001b[0;34m(\u001b[0m\u001b[0mrnn\u001b[0m\u001b[0;34m.\u001b[0m\u001b[0mparameters\u001b[0m\u001b[0;34m(\u001b[0m\u001b[0;34m)\u001b[0m\u001b[0;34m,\u001b[0m \u001b[0mparas_rnn\u001b[0m\u001b[0;34m.\u001b[0m\u001b[0mclip\u001b[0m\u001b[0;34m)\u001b[0m\u001b[0;34m\u001b[0m\u001b[0;34m\u001b[0m\u001b[0m\n",
      "\u001b[0;32m/opt/conda/lib/python3.9/site-packages/torch/_tensor.py\u001b[0m in \u001b[0;36mbackward\u001b[0;34m(self, gradient, retain_graph, create_graph, inputs)\u001b[0m\n\u001b[1;32m    485\u001b[0m                 \u001b[0minputs\u001b[0m\u001b[0;34m=\u001b[0m\u001b[0minputs\u001b[0m\u001b[0;34m,\u001b[0m\u001b[0;34m\u001b[0m\u001b[0;34m\u001b[0m\u001b[0m\n\u001b[1;32m    486\u001b[0m             )\n\u001b[0;32m--> 487\u001b[0;31m         torch.autograd.backward(\n\u001b[0m\u001b[1;32m    488\u001b[0m             \u001b[0mself\u001b[0m\u001b[0;34m,\u001b[0m \u001b[0mgradient\u001b[0m\u001b[0;34m,\u001b[0m \u001b[0mretain_graph\u001b[0m\u001b[0;34m,\u001b[0m \u001b[0mcreate_graph\u001b[0m\u001b[0;34m,\u001b[0m \u001b[0minputs\u001b[0m\u001b[0;34m=\u001b[0m\u001b[0minputs\u001b[0m\u001b[0;34m\u001b[0m\u001b[0;34m\u001b[0m\u001b[0m\n\u001b[1;32m    489\u001b[0m         )\n",
      "\u001b[0;32m/opt/conda/lib/python3.9/site-packages/torch/autograd/__init__.py\u001b[0m in \u001b[0;36mbackward\u001b[0;34m(tensors, grad_tensors, retain_graph, create_graph, grad_variables, inputs)\u001b[0m\n\u001b[1;32m    198\u001b[0m     \u001b[0;31m# some Python versions print out the first line of a multi-line function\u001b[0m\u001b[0;34m\u001b[0m\u001b[0;34m\u001b[0m\u001b[0m\n\u001b[1;32m    199\u001b[0m     \u001b[0;31m# calls in the traceback and some print out the last line\u001b[0m\u001b[0;34m\u001b[0m\u001b[0;34m\u001b[0m\u001b[0m\n\u001b[0;32m--> 200\u001b[0;31m     Variable._execution_engine.run_backward(  # Calls into the C++ engine to run the backward pass\n\u001b[0m\u001b[1;32m    201\u001b[0m         \u001b[0mtensors\u001b[0m\u001b[0;34m,\u001b[0m \u001b[0mgrad_tensors_\u001b[0m\u001b[0;34m,\u001b[0m \u001b[0mretain_graph\u001b[0m\u001b[0;34m,\u001b[0m \u001b[0mcreate_graph\u001b[0m\u001b[0;34m,\u001b[0m \u001b[0minputs\u001b[0m\u001b[0;34m,\u001b[0m\u001b[0;34m\u001b[0m\u001b[0;34m\u001b[0m\u001b[0m\n\u001b[1;32m    202\u001b[0m         allow_unreachable=True, accumulate_grad=True)  # Calls into the C++ engine to run the backward pass\n",
      "\u001b[0;31mKeyboardInterrupt\u001b[0m: "
     ]
    }
   ],
   "source": [
    "# training\n",
    "loss_cur = 0\n",
    "losses = []\n",
    "losses_test = []\n",
    "\n",
    "X_test = simu_sgm_data_torch.PSDs_test.flatten(1).unsqueeze(1)\n",
    "Y_test = simu_sgm_data_torch.sgm_params_test.unsqueeze(1)\n",
    "X_train = simu_sgm_data_torch.PSDs.flatten(1).unsqueeze(1)\n",
    "Y_train = simu_sgm_data_torch.sgm_params.unsqueeze(1)\n",
    "\n",
    "for ix in range(paras_rnn.niter):\n",
    "    X_seq, Y_seq = random_samples_rnn(simu_sgm_data_torch.PSDs,\n",
    "                                      simu_sgm_data_torch.sgm_params, \n",
    "                                     batchsize=paras_rnn.batchsize)\n",
    "    # Zero the gradients\n",
    "    optimizer.zero_grad()\n",
    "    \n",
    "    Y_seq_pred = rnn(X_seq)\n",
    "    \n",
    "    loss = loss_fn(Y_seq, Y_seq_pred)\n",
    "    \n",
    "    # Perform backward pass\n",
    "    loss.backward()\n",
    "    \n",
    "    torch.nn.utils.clip_grad_norm_(rnn.parameters(), paras_rnn.clip)\n",
    "    # Perform optimization\n",
    "    optimizer.step()\n",
    "    \n",
    "    loss_cur = loss_cur + loss.item()\n",
    "    if ix % paras_rnn.loss_out == (paras_rnn.loss_out-1):\n",
    "        losses.append(loss_cur/paras_rnn.loss_out)\n",
    "        losses_test.append(evaluate_rnn(X_test, Y_test, rnn))\n",
    "        print(f\"At iter {ix+1}/{paras_rnn.niter}, \"\n",
    "              f\"the losses are {loss_cur/paras_rnn.loss_out:.3f} (train)\"\n",
    "              f\" and {losses_test[-1]:.3f} (test).\"\n",
    "             )\n",
    "        loss_cur = 0\n",
    "        rnn.train()\n",
    "    "
   ]
  },
  {
   "cell_type": "code",
   "execution_count": 46,
   "id": "dc2c0909",
   "metadata": {
    "ExecuteTime": {
     "end_time": "2023-03-30T21:27:34.047111Z",
     "start_time": "2023-03-30T21:27:33.207228Z"
    }
   },
   "outputs": [
    {
     "data": {
      "text/plain": [
       "[<matplotlib.lines.Line2D at 0x7fbf08f9ddc0>]"
      ]
     },
     "execution_count": 46,
     "metadata": {},
     "output_type": "execute_result"
    },
    {
     "data": {
      "image/png": "[encoded data removed]",
      "text/plain": [
       "<Figure size 432x288 with 1 Axes>"
      ]
     },
     "metadata": {
      "needs_background": "light"
     },
     "output_type": "display_data"
    }
   ],
   "source": [
    "plt.plot(losses)\n",
    "plt.plot(losses_test)"
   ]
  },
  {
   "cell_type": "code",
   "execution_count": 47,
   "id": "48d2fa4c",
   "metadata": {
    "ExecuteTime": {
     "end_time": "2023-03-30T21:27:38.385920Z",
     "start_time": "2023-03-30T21:27:38.317085Z"
    }
   },
   "outputs": [],
   "source": [
    "X_seq, Y_seq = random_samples_rnn(simu_sgm_data_torch.PSDs,\n",
    "                                  simu_sgm_data_torch.sgm_params,\n",
    "                                  bds=[[1], [1000]])"
   ]
  },
  {
   "cell_type": "code",
   "execution_count": 48,
   "id": "ed0f5483",
   "metadata": {
    "ExecuteTime": {
     "end_time": "2023-03-30T21:27:41.671692Z",
     "start_time": "2023-03-30T21:27:40.972006Z"
    }
   },
   "outputs": [
    {
     "data": {
      "text/plain": [
       "tensor([[[4.0737e-01, 3.9892e-01, 8.5546e-01, 2.0771e-02, 1.1690e-02,\n",
       "          1.7731e-01, 1.4751e+01]],\n",
       "\n",
       "        [[4.0782e-01, 4.0563e-01, 8.9732e-01, 2.0840e-02, 1.1746e-02,\n",
       "          1.7624e-01, 1.4737e+01]],\n",
       "\n",
       "        [[2.8144e-01, 3.9146e-02, 1.8587e+00, 2.4288e-02, 1.0291e-02,\n",
       "          1.5229e-01, 1.4787e+01]]])"
      ]
     },
     "execution_count": 48,
     "metadata": {},
     "output_type": "execute_result"
    }
   ],
   "source": [
    "idx = -1\n",
    "rnn.eval()\n",
    "Y_seq_pred = rnn(X_seq)\n",
    "Y_seq_pred1 = step_move_rnn_inf(X_seq, rnn, 20, 5)\n",
    "torch.stack([raw2theta_torch(Y_seq_pred.detach(), paras.prior_bds, k=1)[idx, :, :],\n",
    "raw2theta_torch(Y_seq_pred1.detach(), paras.prior_bds, k=1)[idx, :, :],\n",
    "raw2theta_torch(Y_seq[:, :, :], paras.prior_bds, k=1)[idx, :, :]])"
   ]
  },
  {
   "cell_type": "markdown",
   "id": "d686fc08",
   "metadata": {},
   "source": [
    "## End to end "
   ]
  },
  {
   "cell_type": "code",
   "execution_count": 18,
   "id": "e4dcefa4",
   "metadata": {
    "ExecuteTime": {
     "end_time": "2023-04-01T22:22:41.622089Z",
     "start_time": "2023-04-01T22:22:41.572912Z"
    }
   },
   "outputs": [
    {
     "name": "stdout",
     "output_type": "stream",
     "text": [
      "Load file /data/rajlab1/user_data/jin/MyResearch/TV-SGM/notebooks/tests/../../mypkg/../results/simu_sgm_data_conspeed_1000/PSDs.pkl\n",
      "Load file /data/rajlab1/user_data/jin/MyResearch/TV-SGM/notebooks/tests/../../mypkg/../results/simu_sgm_data_conspeed_1000/PSDs_test.pkl\n",
      "Load file /data/rajlab1/user_data/jin/MyResearch/TV-SGM/notebooks/tests/../../mypkg/../results/simu_sgm_data_conspeed_1000/sgm_paramss.pkl\n",
      "Load file /data/rajlab1/user_data/jin/MyResearch/TV-SGM/notebooks/tests/../../mypkg/../results/simu_sgm_data_conspeed_1000/sgm_paramss_test.pkl\n"
     ]
    }
   ],
   "source": [
    "simu_sgm_data = load_pkl_folder2dict(RES_ROOT/f\"simu_sgm_data_conspeed_{paras_run.n}\")\n"
   ]
  },
  {
   "cell_type": "code",
   "execution_count": 19,
   "id": "de61f579",
   "metadata": {
    "ExecuteTime": {
     "end_time": "2023-04-01T22:22:56.434472Z",
     "start_time": "2023-04-01T22:22:56.352622Z"
    }
   },
   "outputs": [],
   "source": [
    "# remove the scale, does not matter\n",
    "std_PSDs = ((simu_sgm_data.PSDs - simu_sgm_data.PSDs.mean(axis=(1, 2), keepdims=True))/\n",
    "        simu_sgm_data.PSDs.std(axis=(1, 2), keepdims=True)\n",
    "       )\n",
    "std_PSDs_test = ((simu_sgm_data.PSDs_test- simu_sgm_data.PSDs_test.mean(axis=(1, 2), keepdims=True))/\n",
    "        simu_sgm_data.PSDs_test.std(axis=(1, 2), keepdims=True)\n",
    "       )\n",
    "simu_sgm_data_torch = edict()\n",
    "simu_sgm_data_torch.sgm_paramss = theta2raw_torch(torch.tensor(simu_sgm_data.sgm_paramss), \n",
    "                                                 paras.prior_bds, k=paras_run.k)\n",
    "simu_sgm_data_torch.PSDs = torch.tensor(std_PSDs)\n",
    "simu_sgm_data_torch.sgm_paramss_test = theta2raw_torch(torch.tensor(simu_sgm_data.sgm_paramss_test), \n",
    "                                                      paras.prior_bds, k=paras_run.k)\n",
    "simu_sgm_data_torch.PSDs_test = torch.tensor(std_PSDs_test)"
   ]
  },
  {
   "cell_type": "code",
   "execution_count": 20,
   "id": "9ecd84df",
   "metadata": {
    "ExecuteTime": {
     "end_time": "2023-04-01T22:22:58.115386Z",
     "start_time": "2023-04-01T22:22:58.109166Z"
    }
   },
   "outputs": [],
   "source": [
    "paras_rnn = edict()\n",
    "paras_rnn.batchsize = 128\n",
    "paras_rnn.niter = 50000\n",
    "paras_rnn.loss_out = 10\n",
    "paras_rnn.lr_step = 50\n",
    "paras_rnn.clip = 10 # from \n",
    "\n",
    "paras_rnn.hidden_dim = 512\n",
    "paras_rnn.output_dim = 7\n",
    "paras_rnn.input_dim = 68*40"
   ]
  },
  {
   "cell_type": "code",
   "execution_count": 101,
   "id": "b512fe68",
   "metadata": {
    "ExecuteTime": {
     "end_time": "2023-03-30T23:05:55.590318Z",
     "start_time": "2023-03-30T23:05:55.529790Z"
    }
   },
   "outputs": [
    {
     "name": "stdout",
     "output_type": "stream",
     "text": [
      "Load file /data/rajlab1/user_data/jin/MyResearch/TV-SGM/notebooks/../mypkg/../results/SGM_net/loss.pkl\n",
      "Load file /data/rajlab1/user_data/jin/MyResearch/TV-SGM/notebooks/../mypkg/../results/SGM_net/loss_test.pkl\n",
      "Load file /data/rajlab1/user_data/jin/MyResearch/TV-SGM/notebooks/../mypkg/../results/SGM_net/model.pkl\n",
      "Load file /data/rajlab1/user_data/jin/MyResearch/TV-SGM/notebooks/../mypkg/../results/SGM_net/optimizer.pkl\n",
      "Load file /data/rajlab1/user_data/jin/MyResearch/TV-SGM/notebooks/../mypkg/../results/SGM_net/paras.pkl\n"
     ]
    }
   ],
   "source": [
    "trained_model = load_pkl_folder2dict(RES_ROOT/\"SGM_net\")\n",
    "sgm_net = trained_model.model"
   ]
  },
  {
   "cell_type": "code",
   "execution_count": 102,
   "id": "e0f3e0a6",
   "metadata": {
    "ExecuteTime": {
     "end_time": "2023-03-30T23:05:58.715077Z",
     "start_time": "2023-03-30T23:05:58.647087Z"
    }
   },
   "outputs": [
    {
     "name": "stdout",
     "output_type": "stream",
     "text": [
      "Adjusting learning rate of group 0 to 1.0000e-04.\n"
     ]
    }
   ],
   "source": [
    "rnn = LSTM_SGM(input_dim=paras_rnn.input_dim, \n",
    "               hidden_dim=paras_rnn.hidden_dim, \n",
    "               output_dim=paras_rnn.output_dim, \n",
    "               is_bidirectional=False, \n",
    "               prior_bds=torch.tensor(paras.prior_bds), \n",
    ")\n",
    "loss_fn = nn.MSELoss()\n",
    "\n",
    "optimizer = torch.optim.Adam(rnn.parameters(), lr=1e-4, weight_decay=0)\n",
    "scheduler = ExponentialLR(optimizer, gamma=0.95, verbose=True)"
   ]
  },
  {
   "cell_type": "code",
   "execution_count": 103,
   "id": "60a023d2",
   "metadata": {
    "ExecuteTime": {
     "end_time": "2023-03-30T23:31:48.092614Z",
     "start_time": "2023-03-30T23:06:07.476158Z"
    },
    "scrolled": true
   },
   "outputs": [
    {
     "name": "stdout",
     "output_type": "stream",
     "text": [
      "At iter 10/50000, the losses are 0.368 (train).The time used is 13.276s. \n",
      "At iter 20/50000, the losses are 0.244 (train).The time used is 12.870s. \n",
      "At iter 30/50000, the losses are 0.213 (train).The time used is 16.623s. \n",
      "At iter 40/50000, the losses are 0.192 (train).The time used is 9.051s. \n",
      "At iter 50/50000, the losses are 0.185 (train).The time used is 13.508s. \n",
      "Adjusting learning rate of group 0 to 9.5000e-05.\n",
      "At iter 60/50000, the losses are 0.177 (train).The time used is 14.494s. \n",
      "At iter 70/50000, the losses are 0.176 (train).The time used is 12.792s. \n",
      "At iter 80/50000, the losses are 0.169 (train).The time used is 9.000s. \n",
      "At iter 90/50000, the losses are 0.165 (train).The time used is 15.085s. \n",
      "At iter 100/50000, the losses are 0.160 (train).The time used is 16.376s. \n",
      "Adjusting learning rate of group 0 to 9.0250e-05.\n",
      "At iter 110/50000, the losses are 0.158 (train).The time used is 20.577s. \n",
      "At iter 120/50000, the losses are 0.157 (train).The time used is 23.381s. \n",
      "At iter 130/50000, the losses are 0.154 (train).The time used is 21.004s. \n",
      "At iter 140/50000, the losses are 0.153 (train).The time used is 25.606s. \n",
      "At iter 150/50000, the losses are 0.151 (train).The time used is 20.823s. \n",
      "Adjusting learning rate of group 0 to 8.5737e-05.\n",
      "At iter 160/50000, the losses are 0.149 (train).The time used is 19.828s. \n",
      "At iter 170/50000, the losses are 0.149 (train).The time used is 20.099s. \n",
      "At iter 180/50000, the losses are 0.148 (train).The time used is 22.956s. \n",
      "At iter 190/50000, the losses are 0.146 (train).The time used is 22.381s. \n",
      "At iter 200/50000, the losses are 0.146 (train).The time used is 17.204s. \n",
      "Adjusting learning rate of group 0 to 8.1451e-05.\n",
      "At iter 210/50000, the losses are 0.146 (train).The time used is 22.051s. \n",
      "At iter 220/50000, the losses are 0.143 (train).The time used is 16.658s. \n",
      "At iter 230/50000, the losses are 0.144 (train).The time used is 20.283s. \n",
      "At iter 240/50000, the losses are 0.144 (train).The time used is 21.242s. \n",
      "At iter 250/50000, the losses are 0.142 (train).The time used is 16.875s. \n",
      "Adjusting learning rate of group 0 to 7.7378e-05.\n",
      "At iter 260/50000, the losses are 0.142 (train).The time used is 23.460s. \n",
      "At iter 270/50000, the losses are 0.141 (train).The time used is 13.451s. \n",
      "At iter 280/50000, the losses are 0.140 (train).The time used is 8.996s. \n",
      "At iter 290/50000, the losses are 0.140 (train).The time used is 15.029s. \n",
      "At iter 300/50000, the losses are 0.140 (train).The time used is 13.983s. \n",
      "Adjusting learning rate of group 0 to 7.3509e-05.\n",
      "At iter 310/50000, the losses are 0.138 (train).The time used is 14.546s. \n",
      "At iter 320/50000, the losses are 0.137 (train).The time used is 14.064s. \n",
      "At iter 330/50000, the losses are 0.138 (train).The time used is 20.491s. \n",
      "At iter 340/50000, the losses are 0.138 (train).The time used is 14.010s. \n",
      "At iter 350/50000, the losses are 0.137 (train).The time used is 10.114s. \n",
      "Adjusting learning rate of group 0 to 6.9834e-05.\n",
      "At iter 360/50000, the losses are 0.137 (train).The time used is 12.146s. \n",
      "At iter 370/50000, the losses are 0.137 (train).The time used is 15.043s. \n",
      "At iter 380/50000, the losses are 0.137 (train).The time used is 16.934s. \n",
      "At iter 390/50000, the losses are 0.137 (train).The time used is 24.990s. \n",
      "At iter 400/50000, the losses are 0.134 (train).The time used is 15.150s. \n",
      "Adjusting learning rate of group 0 to 6.6342e-05.\n",
      "At iter 410/50000, the losses are 0.134 (train).The time used is 18.005s. \n",
      "At iter 420/50000, the losses are 0.133 (train).The time used is 11.716s. \n",
      "At iter 430/50000, the losses are 0.134 (train).The time used is 20.590s. \n",
      "At iter 440/50000, the losses are 0.135 (train).The time used is 18.645s. \n",
      "At iter 450/50000, the losses are 0.134 (train).The time used is 21.175s. \n",
      "Adjusting learning rate of group 0 to 6.3025e-05.\n",
      "At iter 460/50000, the losses are 0.133 (train).The time used is 17.475s. \n",
      "At iter 470/50000, the losses are 0.133 (train).The time used is 19.539s. \n",
      "At iter 480/50000, the losses are 0.132 (train).The time used is 15.679s. \n",
      "At iter 490/50000, the losses are 0.133 (train).The time used is 11.460s. \n",
      "At iter 500/50000, the losses are 0.131 (train).The time used is 14.595s. \n",
      "Adjusting learning rate of group 0 to 5.9874e-05.\n",
      "At iter 510/50000, the losses are 0.133 (train).The time used is 13.014s. \n",
      "At iter 520/50000, the losses are 0.131 (train).The time used is 14.863s. \n",
      "At iter 530/50000, the losses are 0.132 (train).The time used is 15.999s. \n",
      "At iter 540/50000, the losses are 0.132 (train).The time used is 13.753s. \n",
      "At iter 550/50000, the losses are 0.131 (train).The time used is 21.645s. \n",
      "Adjusting learning rate of group 0 to 5.6880e-05.\n",
      "At iter 560/50000, the losses are 0.131 (train).The time used is 15.113s. \n",
      "At iter 570/50000, the losses are 0.131 (train).The time used is 19.484s. \n",
      "At iter 580/50000, the losses are 0.129 (train).The time used is 13.254s. \n",
      "At iter 590/50000, the losses are 0.131 (train).The time used is 11.312s. \n",
      "At iter 600/50000, the losses are 0.132 (train).The time used is 22.085s. \n",
      "Adjusting learning rate of group 0 to 5.4036e-05.\n",
      "At iter 610/50000, the losses are 0.130 (train).The time used is 17.750s. \n",
      "At iter 620/50000, the losses are 0.131 (train).The time used is 22.542s. \n",
      "At iter 630/50000, the losses are 0.129 (train).The time used is 16.708s. \n",
      "At iter 640/50000, the losses are 0.130 (train).The time used is 18.189s. \n",
      "At iter 650/50000, the losses are 0.130 (train).The time used is 20.336s. \n",
      "Adjusting learning rate of group 0 to 5.1334e-05.\n",
      "At iter 660/50000, the losses are 0.130 (train).The time used is 14.292s. \n",
      "At iter 670/50000, the losses are 0.129 (train).The time used is 16.374s. \n",
      "At iter 680/50000, the losses are 0.127 (train).The time used is 13.844s. \n",
      "At iter 690/50000, the losses are 0.130 (train).The time used is 18.500s. \n",
      "At iter 700/50000, the losses are 0.129 (train).The time used is 13.255s. \n",
      "Adjusting learning rate of group 0 to 4.8767e-05.\n",
      "At iter 710/50000, the losses are 0.130 (train).The time used is 14.366s. \n",
      "At iter 720/50000, the losses are 0.129 (train).The time used is 18.993s. \n",
      "At iter 730/50000, the losses are 0.129 (train).The time used is 17.429s. \n",
      "At iter 740/50000, the losses are 0.128 (train).The time used is 15.675s. \n",
      "At iter 750/50000, the losses are 0.127 (train).The time used is 21.294s. \n",
      "Adjusting learning rate of group 0 to 4.6329e-05.\n",
      "At iter 760/50000, the losses are 0.129 (train).The time used is 18.676s. \n",
      "At iter 770/50000, the losses are 0.128 (train).The time used is 14.764s. \n",
      "At iter 780/50000, the losses are 0.128 (train).The time used is 12.311s. \n",
      "At iter 790/50000, the losses are 0.128 (train).The time used is 14.809s. \n",
      "At iter 800/50000, the losses are 0.126 (train).The time used is 15.370s. \n",
      "Adjusting learning rate of group 0 to 4.4013e-05.\n",
      "At iter 810/50000, the losses are 0.129 (train).The time used is 22.086s. \n",
      "At iter 820/50000, the losses are 0.127 (train).The time used is 20.387s. \n",
      "At iter 830/50000, the losses are 0.128 (train).The time used is 19.108s. \n",
      "At iter 840/50000, the losses are 0.128 (train).The time used is 18.503s. \n",
      "At iter 850/50000, the losses are 0.128 (train).The time used is 17.390s. \n",
      "Adjusting learning rate of group 0 to 4.1812e-05.\n",
      "At iter 860/50000, the losses are 0.128 (train).The time used is 19.409s. \n",
      "At iter 870/50000, the losses are 0.127 (train).The time used is 12.312s. \n",
      "At iter 880/50000, the losses are 0.128 (train).The time used is 14.728s. \n",
      "At iter 890/50000, the losses are 0.128 (train).The time used is 16.959s. \n",
      "At iter 900/50000, the losses are 0.128 (train).The time used is 22.905s. \n",
      "Adjusting learning rate of group 0 to 3.9721e-05.\n",
      "At iter 910/50000, the losses are 0.126 (train).The time used is 13.597s. \n"
     ]
    },
    {
     "ename": "KeyboardInterrupt",
     "evalue": "",
     "output_type": "error",
     "traceback": [
      "\u001b[0;31m---------------------------------------------------------------------------\u001b[0m",
      "\u001b[0;31mKeyboardInterrupt\u001b[0m                         Traceback (most recent call last)",
      "\u001b[0;32m/tmp/ipykernel_14187/1985382223.py\u001b[0m in \u001b[0;36m<module>\u001b[0;34m\u001b[0m\n\u001b[1;32m     20\u001b[0m \u001b[0;34m\u001b[0m\u001b[0m\n\u001b[1;32m     21\u001b[0m     \u001b[0;31m# Perform backward pass\u001b[0m\u001b[0;34m\u001b[0m\u001b[0;34m\u001b[0m\u001b[0m\n\u001b[0;32m---> 22\u001b[0;31m     \u001b[0mloss\u001b[0m\u001b[0;34m.\u001b[0m\u001b[0mbackward\u001b[0m\u001b[0;34m(\u001b[0m\u001b[0;34m)\u001b[0m\u001b[0;34m\u001b[0m\u001b[0;34m\u001b[0m\u001b[0m\n\u001b[0m\u001b[1;32m     23\u001b[0m \u001b[0;34m\u001b[0m\u001b[0m\n\u001b[1;32m     24\u001b[0m     \u001b[0mtorch\u001b[0m\u001b[0;34m.\u001b[0m\u001b[0mnn\u001b[0m\u001b[0;34m.\u001b[0m\u001b[0mutils\u001b[0m\u001b[0;34m.\u001b[0m\u001b[0mclip_grad_norm_\u001b[0m\u001b[0;34m(\u001b[0m\u001b[0mrnn\u001b[0m\u001b[0;34m.\u001b[0m\u001b[0mparameters\u001b[0m\u001b[0;34m(\u001b[0m\u001b[0;34m)\u001b[0m\u001b[0;34m,\u001b[0m \u001b[0mparas_rnn\u001b[0m\u001b[0;34m.\u001b[0m\u001b[0mclip\u001b[0m\u001b[0;34m)\u001b[0m\u001b[0;34m\u001b[0m\u001b[0;34m\u001b[0m\u001b[0m\n",
      "\u001b[0;32m/opt/conda/lib/python3.9/site-packages/torch/_tensor.py\u001b[0m in \u001b[0;36mbackward\u001b[0;34m(self, gradient, retain_graph, create_graph, inputs)\u001b[0m\n\u001b[1;32m    485\u001b[0m                 \u001b[0minputs\u001b[0m\u001b[0;34m=\u001b[0m\u001b[0minputs\u001b[0m\u001b[0;34m,\u001b[0m\u001b[0;34m\u001b[0m\u001b[0;34m\u001b[0m\u001b[0m\n\u001b[1;32m    486\u001b[0m             )\n\u001b[0;32m--> 487\u001b[0;31m         torch.autograd.backward(\n\u001b[0m\u001b[1;32m    488\u001b[0m             \u001b[0mself\u001b[0m\u001b[0;34m,\u001b[0m \u001b[0mgradient\u001b[0m\u001b[0;34m,\u001b[0m \u001b[0mretain_graph\u001b[0m\u001b[0;34m,\u001b[0m \u001b[0mcreate_graph\u001b[0m\u001b[0;34m,\u001b[0m \u001b[0minputs\u001b[0m\u001b[0;34m=\u001b[0m\u001b[0minputs\u001b[0m\u001b[0;34m\u001b[0m\u001b[0;34m\u001b[0m\u001b[0m\n\u001b[1;32m    489\u001b[0m         )\n",
      "\u001b[0;32m/opt/conda/lib/python3.9/site-packages/torch/autograd/__init__.py\u001b[0m in \u001b[0;36mbackward\u001b[0;34m(tensors, grad_tensors, retain_graph, create_graph, grad_variables, inputs)\u001b[0m\n\u001b[1;32m    198\u001b[0m     \u001b[0;31m# some Python versions print out the first line of a multi-line function\u001b[0m\u001b[0;34m\u001b[0m\u001b[0;34m\u001b[0m\u001b[0m\n\u001b[1;32m    199\u001b[0m     \u001b[0;31m# calls in the traceback and some print out the last line\u001b[0m\u001b[0;34m\u001b[0m\u001b[0;34m\u001b[0m\u001b[0m\n\u001b[0;32m--> 200\u001b[0;31m     Variable._execution_engine.run_backward(  # Calls into the C++ engine to run the backward pass\n\u001b[0m\u001b[1;32m    201\u001b[0m         \u001b[0mtensors\u001b[0m\u001b[0;34m,\u001b[0m \u001b[0mgrad_tensors_\u001b[0m\u001b[0;34m,\u001b[0m \u001b[0mretain_graph\u001b[0m\u001b[0;34m,\u001b[0m \u001b[0mcreate_graph\u001b[0m\u001b[0;34m,\u001b[0m \u001b[0minputs\u001b[0m\u001b[0;34m,\u001b[0m\u001b[0;34m\u001b[0m\u001b[0;34m\u001b[0m\u001b[0m\n\u001b[1;32m    202\u001b[0m         allow_unreachable=True, accumulate_grad=True)  # Calls into the C++ engine to run the backward pass\n",
      "\u001b[0;31mKeyboardInterrupt\u001b[0m: "
     ]
    }
   ],
   "source": [
    "# training\n",
    "loss_cur = 0\n",
    "losses = []\n",
    "losses_test = []\n",
    "\n",
    "t0 = time.time()\n",
    "sgm_net.eval()\n",
    "for ix in range(paras_rnn.niter):\n",
    "    X_seq, Y_seq = random_samples_rnn(simu_sgm_data_torch.PSDs,\n",
    "                                      simu_sgm_data_torch.sgm_params, \n",
    "                                     batchsize=paras_rnn.batchsize)\n",
    "    # Zero the gradients\n",
    "    optimizer.zero_grad()\n",
    "    \n",
    "    theta_raw_pred = rnn(X_seq)\n",
    "    theta_pred = raw2theta_torch(theta_raw_pred, torch.tensor(paras.prior_bds), k=1)\n",
    "    PSD_pred = sgm_net(theta_pred.flatten(0, 1))\n",
    "    X_pred = PSD_pred.flatten(1)\n",
    "    loss = loss_fn(X_seq.flatten(0, 1), X_pred)\n",
    "    \n",
    "    # Perform backward pass\n",
    "    loss.backward()\n",
    "    \n",
    "    torch.nn.utils.clip_grad_norm_(rnn.parameters(), paras_rnn.clip)\n",
    "    # Perform optimization\n",
    "    optimizer.step()\n",
    "    \n",
    "    loss_cur = loss_cur + loss.item()\n",
    "    if ix % paras_rnn.loss_out == (paras_rnn.loss_out-1):\n",
    "        losses.append(loss_cur/paras_rnn.loss_out)\n",
    "        print(f\"At iter {ix+1}/{paras_rnn.niter}, \"\n",
    "              f\"the losses are {loss_cur/paras_rnn.loss_out:.3f} (train). \"\n",
    "              f\"The time used is {delta_time(t0):.3f}s. \"\n",
    "             )\n",
    "        loss_cur = 0\n",
    "        rnn.train()\n",
    "        t0 = time.time()\n",
    "    \n",
    "    if ix % paras_rnn.lr_step == (paras_rnn.lr_step-1):\n",
    "        scheduler.step()"
   ]
  },
  {
   "cell_type": "code",
   "execution_count": 104,
   "id": "47eae77d",
   "metadata": {
    "ExecuteTime": {
     "end_time": "2023-03-30T23:31:58.527000Z",
     "start_time": "2023-03-30T23:31:57.861739Z"
    }
   },
   "outputs": [
    {
     "data": {
      "text/plain": [
       "[<matplotlib.lines.Line2D at 0x7fb8e69d8d30>]"
      ]
     },
     "execution_count": 104,
     "metadata": {},
     "output_type": "execute_result"
    },
    {
     "data": {
      "image/png": "[encoded data removed]",
      "text/plain": [
       "<Figure size 432x288 with 1 Axes>"
      ]
     },
     "metadata": {
      "needs_background": "light"
     },
     "output_type": "display_data"
    }
   ],
   "source": [
    "plt.plot(losses)"
   ]
  },
  {
   "cell_type": "code",
   "execution_count": 105,
   "id": "07776ebc",
   "metadata": {
    "ExecuteTime": {
     "end_time": "2023-03-30T23:32:07.982543Z",
     "start_time": "2023-03-30T23:32:03.360297Z"
    }
   },
   "outputs": [
    {
     "name": "stdout",
     "output_type": "stream",
     "text": [
      "/data/rajlab1/user_data/jin/MyResearch/TV-SGM/notebooks/../mypkg/../results/LSTM_net\n",
      "Create a folder /data/rajlab1/user_data/jin/MyResearch/TV-SGM/notebooks/../mypkg/../results/LSTM_net\n",
      "Save to /data/rajlab1/user_data/jin/MyResearch/TV-SGM/notebooks/../mypkg/../results/LSTM_net/model.pkl\n",
      "Save to /data/rajlab1/user_data/jin/MyResearch/TV-SGM/notebooks/../mypkg/../results/LSTM_net/loss.pkl\n",
      "Save to /data/rajlab1/user_data/jin/MyResearch/TV-SGM/notebooks/../mypkg/../results/LSTM_net/optimizer.pkl\n",
      "Save to /data/rajlab1/user_data/jin/MyResearch/TV-SGM/notebooks/../mypkg/../results/LSTM_net/scheduler.pkl\n",
      "Save to /data/rajlab1/user_data/jin/MyResearch/TV-SGM/notebooks/../mypkg/../results/LSTM_net/paras.pkl\n"
     ]
    }
   ],
   "source": [
    "trained_uni_model = edict()\n",
    "trained_uni_model.model = rnn\n",
    "trained_uni_model.loss = loss_fn\n",
    "trained_uni_model.optimizer = optimizer\n",
    "trained_uni_model.scheduler = scheduler\n",
    "trained_uni_model.paras = paras_rnn\n",
    "trained_uni_model.loss = losses\n",
    "save_pkl_dict2folder(RES_ROOT/\"LSTM_net\", trained_uni_model, is_force=True)"
   ]
  },
  {
   "cell_type": "code",
   "execution_count": 21,
   "id": "a15f2c5f",
   "metadata": {
    "ExecuteTime": {
     "end_time": "2023-04-01T22:23:35.686845Z",
     "start_time": "2023-04-01T22:23:31.646222Z"
    }
   },
   "outputs": [
    {
     "name": "stdout",
     "output_type": "stream",
     "text": [
      "Load file /data/rajlab1/user_data/jin/MyResearch/TV-SGM/notebooks/tests/../../mypkg/../results/LSTM_net/loss.pkl\n",
      "Load file /data/rajlab1/user_data/jin/MyResearch/TV-SGM/notebooks/tests/../../mypkg/../results/LSTM_net/model.pkl\n",
      "Load file /data/rajlab1/user_data/jin/MyResearch/TV-SGM/notebooks/tests/../../mypkg/../results/LSTM_net/optimizer.pkl\n",
      "Load file /data/rajlab1/user_data/jin/MyResearch/TV-SGM/notebooks/tests/../../mypkg/../results/LSTM_net/paras.pkl\n",
      "Load file /data/rajlab1/user_data/jin/MyResearch/TV-SGM/notebooks/tests/../../mypkg/../results/LSTM_net/scheduler.pkl\n"
     ]
    }
   ],
   "source": [
    "trained_uni_model = load_pkl_folder2dict(RES_ROOT/\"LSTM_net\")\n",
    "rnn  = trained_uni_model.model"
   ]
  },
  {
   "cell_type": "code",
   "execution_count": 22,
   "id": "f1af6cd3",
   "metadata": {
    "ExecuteTime": {
     "end_time": "2023-04-01T22:23:43.993347Z",
     "start_time": "2023-04-01T22:23:43.720818Z"
    }
   },
   "outputs": [],
   "source": [
    "X_seq, Y_seq = random_samples_rnn(simu_sgm_data_torch.PSDs,\n",
    "                                  simu_sgm_data_torch.sgm_paramss, \n",
    "                                     bds=[[0], [1000]])\n",
    "rnn.eval()\n",
    "theta_pred_raw = rnn(X_seq)\n",
    "theta_pred = raw2theta_torch(theta_pred_raw, torch.tensor(paras.prior_bds), k=1).squeeze().detach()\n",
    "theta_true = raw2theta_torch(Y_seq, torch.tensor(paras.prior_bds), k=1).squeeze()"
   ]
  },
  {
   "cell_type": "code",
   "execution_count": 23,
   "id": "2b847695",
   "metadata": {
    "ExecuteTime": {
     "end_time": "2023-04-01T22:23:51.128374Z",
     "start_time": "2023-04-01T22:23:50.440330Z"
    }
   },
   "outputs": [
    {
     "data": {
      "image/png": "[encoded data removed]",
      "text/plain": [
       "<Figure size 1440x360 with 2 Axes>"
      ]
     },
     "metadata": {
      "needs_background": "light"
     },
     "output_type": "display_data"
    }
   ],
   "source": [
    "idx = 3\n",
    "con_data = np.array([\n",
    "           theta_true[:, idx].numpy(),\n",
    "           theta_pred[:, idx].numpy()])\n",
    "plt.figure(figsize=[20, 5])\n",
    "sns.heatmap(con_data)\n",
    "plt.yticks([0.5, 1.5], [\"Truth\", \"Prediction\"]);"
   ]
  },
  {
   "cell_type": "code",
   "execution_count": 25,
   "id": "5ed81ecf",
   "metadata": {
    "ExecuteTime": {
     "end_time": "2023-04-01T22:24:32.348046Z",
     "start_time": "2023-04-01T22:24:32.339746Z"
    }
   },
   "outputs": [
    {
     "name": "stdout",
     "output_type": "stream",
     "text": [
      "(0.058130885153010806, 0.06613392741827502)\n",
      "(0.020939403939660782, 0.5083517040251809)\n",
      "(0.011229303616572775, 0.7228377205757553)\n",
      "(0.6693352458238642, 6.308000039299866e-131)\n",
      "(0.7284711721087906, 4.0460856714436255e-166)\n",
      "(0.09365753436512203, 0.0030315033606022465)\n"
     ]
    }
   ],
   "source": [
    "for ix in range(6):\n",
    "    res = scipy.stats.pearsonr(theta_true[:, ix].numpy(), theta_pred[:, ix].numpy())\n",
    "    print(res)\n"
   ]
  },
  {
   "cell_type": "code",
   "execution_count": null,
   "id": "008e5ba1",
   "metadata": {},
   "outputs": [],
   "source": []
  }
 ],
 "metadata": {
  "kernelspec": {
   "display_name": "Python 3 (ipykernel)",
   "language": "python",
   "name": "python3"
  },
  "language_info": {
   "codemirror_mode": {
    "name": "ipython",
    "version": 3
   },
   "file_extension": ".py",
   "mimetype": "text/x-python",
   "name": "python",
   "nbconvert_exporter": "python",
   "pygments_lexer": "ipython3",
   "version": "3.9.7"
  },
  "toc": {
   "base_numbering": 1,
   "nav_menu": {},
   "number_sections": true,
   "sideBar": true,
   "skip_h1_title": false,
   "title_cell": "Table of Contents",
   "title_sidebar": "Contents",
   "toc_cell": false,
   "toc_position": {
    "height": "calc(100% - 180px)",
    "left": "10px",
    "top": "150px",
    "width": "345.594px"
   },
   "toc_section_display": true,
   "toc_window_display": true
  }
 },
 "nbformat": 4,
 "nbformat_minor": 5
}
