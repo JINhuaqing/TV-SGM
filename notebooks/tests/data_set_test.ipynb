{
 "cells": [
  {
   "cell_type": "markdown",
   "id": "03a26f40",
   "metadata": {},
   "source": [
    "This file is for check the dataset I used (Mar 21, 2023) "
   ]
  },
  {
   "cell_type": "code",
   "execution_count": 3,
   "id": "a77afb9a",
   "metadata": {
    "ExecuteTime": {
     "end_time": "2023-03-21T17:35:14.203949Z",
     "start_time": "2023-03-21T17:35:14.198995Z"
    }
   },
   "outputs": [],
   "source": [
    "import sys\n",
    "sys.path.append(\"../mypkg\")\n",
    "\n",
    "from constants import RES_ROOT, FIG_ROOT, DATA_ROOT, MIDRES_ROOT"
   ]
  },
  {
   "cell_type": "code",
   "execution_count": 6,
   "id": "78312870",
   "metadata": {
    "ExecuteTime": {
     "end_time": "2023-03-21T17:35:50.976926Z",
     "start_time": "2023-03-21T17:35:50.966611Z"
    }
   },
   "outputs": [],
   "source": [
    "import numpy as np\n",
    "import scipy\n",
    "import matplotlib.pyplot as plt\n",
    "import seaborn as sns\n",
    "\n",
    "plt.style.use(FIG_ROOT/\"base.mplstyle\")\n",
    "%matplotlib inline"
   ]
  },
  {
   "cell_type": "code",
   "execution_count": 7,
   "id": "90ba4012",
   "metadata": {
    "ExecuteTime": {
     "end_time": "2023-03-21T17:36:10.656971Z",
     "start_time": "2023-03-21T17:36:10.651968Z"
    }
   },
   "outputs": [],
   "source": [
    "from pathlib import Path"
   ]
  },
  {
   "cell_type": "code",
   "execution_count": null,
   "id": "01778c2d",
   "metadata": {},
   "outputs": [],
   "source": []
  },
  {
   "cell_type": "markdown",
   "id": "b00003d4",
   "metadata": {},
   "source": [
    "### Load data"
   ]
  },
  {
   "cell_type": "code",
   "execution_count": 54,
   "id": "fb1cc8d6",
   "metadata": {
    "ExecuteTime": {
     "end_time": "2023-03-21T18:00:00.989204Z",
     "start_time": "2023-03-21T18:00:00.635994Z"
    }
   },
   "outputs": [],
   "source": [
    "import netCDF4\n",
    "fils = list(DATA_ROOT.glob(\"*.nc\"))\n",
    "file2read = netCDF4.Dataset(fils[0], 'r')\n",
    "psd_all = np.array(file2read.variables[\"__xarray_dataarray_variable__\"][:])\n",
    "time_points = np.array(file2read.variables[\"timepoints\"][:])\n",
    "freqs = np.array(file2read.variables[\"frequencies\"][:])\n",
    "ROIs_order = np.array(file2read.variables[\"regionx\"][:])\n",
    "file2read.close()"
   ]
  },
  {
   "cell_type": "code",
   "execution_count": 55,
   "id": "d7c119da",
   "metadata": {
    "ExecuteTime": {
     "end_time": "2023-03-21T18:00:07.187907Z",
     "start_time": "2023-03-21T18:00:07.180992Z"
    }
   },
   "outputs": [
    {
     "data": {
      "text/plain": [
       "(68, 39, 360, 36)"
      ]
     },
     "execution_count": 55,
     "metadata": {},
     "output_type": "execute_result"
    }
   ],
   "source": [
    "psd_all.shape"
   ]
  },
  {
   "cell_type": "code",
   "execution_count": 57,
   "id": "e036b8f5",
   "metadata": {
    "ExecuteTime": {
     "end_time": "2023-03-21T18:03:37.240393Z",
     "start_time": "2023-03-21T18:03:37.230600Z"
    }
   },
   "outputs": [
    {
     "name": "stdout",
     "output_type": "stream",
     "text": [
      "Gradients of the loss with respect to A:\n",
      "tensor([[ 0.6025, -4.8434,  3.8276],\n",
      "        [-0.2080,  1.6719, -1.3212],\n",
      "        [-0.1332,  1.0711, -0.8464]])\n"
     ]
    }
   ],
   "source": [
    "import torch\n",
    "\n",
    "# Create a tensor and make it require gradients\n",
    "A = torch.randn(3, 3, requires_grad=True)\n",
    "\n",
    "# Compute the inverse\n",
    "A_inv = torch.inverse(A)\n",
    "\n",
    "# Define a loss function using the inverse\n",
    "loss = A_inv.sum()\n",
    "\n",
    "# Compute the gradients\n",
    "loss.backward()\n",
    "\n",
    "# Print the gradients\n",
    "print(\"Gradients of the loss with respect to A:\")\n",
    "print(A.grad)\n"
   ]
  },
  {
   "cell_type": "code",
   "execution_count": 58,
   "id": "f2ead4e8",
   "metadata": {
    "ExecuteTime": {
     "end_time": "2023-03-21T18:04:52.924571Z",
     "start_time": "2023-03-21T18:04:52.724253Z"
    }
   },
   "outputs": [
    {
     "name": "stdout",
     "output_type": "stream",
     "text": [
      "Gradients of the loss with respect to A:\n",
      "tensor([[-0.3320-2.2533j, -1.9040-2.3590j,  0.0050+2.7820j],\n",
      "        [-3.2569+2.8308j, -2.4133+4.3773j,  2.2668-1.0167j],\n",
      "        [-3.5355+1.6426j, -2.9064+3.3860j,  2.4577-1.1041j]])\n"
     ]
    }
   ],
   "source": [
    "import torch\n",
    "\n",
    "# Create a complex tensor and make it require gradients\n",
    "A = torch.randn(3, 3, dtype=torch.cfloat, requires_grad=True)\n",
    "\n",
    "# Compute the inverse\n",
    "A_inv = torch.inverse(A)\n",
    "\n",
    "# Define a loss function using the inverse\n",
    "loss = A_inv.abs().sum()\n",
    "\n",
    "# Compute the gradients\n",
    "loss.backward()\n",
    "\n",
    "# Print the gradients\n",
    "print(\"Gradients of the loss with respect to A:\")\n",
    "print(A.grad)\n"
   ]
  },
  {
   "cell_type": "code",
   "execution_count": null,
   "id": "0528339a",
   "metadata": {},
   "outputs": [],
   "source": []
  }
 ],
 "metadata": {
  "kernelspec": {
   "display_name": "Python 3 (ipykernel)",
   "language": "python",
   "name": "python3"
  },
  "language_info": {
   "codemirror_mode": {
    "name": "ipython",
    "version": 3
   },
   "file_extension": ".py",
   "mimetype": "text/x-python",
   "name": "python",
   "nbconvert_exporter": "python",
   "pygments_lexer": "ipython3",
   "version": "3.9.7"
  },
  "toc": {
   "base_numbering": 1,
   "nav_menu": {},
   "number_sections": true,
   "sideBar": true,
   "skip_h1_title": false,
   "title_cell": "Table of Contents",
   "title_sidebar": "Contents",
   "toc_cell": false,
   "toc_position": {},
   "toc_section_display": true,
   "toc_window_display": false
  }
 },
 "nbformat": 4,
 "nbformat_minor": 5
}
