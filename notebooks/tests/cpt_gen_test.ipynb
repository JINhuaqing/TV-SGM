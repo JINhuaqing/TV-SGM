{
 "cells": [
  {
   "cell_type": "code",
   "execution_count": 1,
   "id": "df4f0a63-0393-486b-8274-bf7b35ad55ea",
   "metadata": {
    "execution": {
     "iopub.execute_input": "2024-01-19T23:20:04.694858Z",
     "iopub.status.busy": "2024-01-19T23:20:04.693871Z",
     "iopub.status.idle": "2024-01-19T23:20:04.814492Z",
     "shell.execute_reply": "2024-01-19T23:20:04.812773Z",
     "shell.execute_reply.started": "2024-01-19T23:20:04.694804Z"
    },
    "tags": []
   },
   "outputs": [],
   "source": [
    "import sys\n",
    "sys.path.append(\"../../mypkg\")\n",
    "from constants import RES_ROOT, FIG_ROOT, DATA_ROOT"
   ]
  },
  {
   "cell_type": "code",
   "execution_count": 2,
   "id": "4b0358a3-44fc-4b33-a0de-c8706c51de16",
   "metadata": {
    "execution": {
     "iopub.execute_input": "2024-01-19T23:20:04.815743Z",
     "iopub.status.busy": "2024-01-19T23:20:04.815508Z",
     "iopub.status.idle": "2024-01-19T23:20:05.036881Z",
     "shell.execute_reply": "2024-01-19T23:20:05.035879Z",
     "shell.execute_reply.started": "2024-01-19T23:20:04.815727Z"
    },
    "tags": []
   },
   "outputs": [],
   "source": [
    "import numpy as np\n",
    "import numpy.random as npr\n",
    "import matplotlib.pyplot as plt\n",
    "from utils.misc import get_cpt_ts\n",
    "plt.style.use(FIG_ROOT/\"base.mplstyle\")\n",
    "%matplotlib inline"
   ]
  },
  {
   "cell_type": "code",
   "execution_count": 18,
   "id": "02eee38d-bf3c-4845-a43f-b9d9629f5438",
   "metadata": {
    "execution": {
     "iopub.execute_input": "2024-01-19T23:22:55.164410Z",
     "iopub.status.busy": "2024-01-19T23:22:55.163816Z",
     "iopub.status.idle": "2024-01-19T23:22:55.176710Z",
     "shell.execute_reply": "2024-01-19T23:22:55.175634Z",
     "shell.execute_reply.started": "2024-01-19T23:22:55.164364Z"
    },
    "tags": []
   },
   "outputs": [],
   "source": [
    "\n",
    "def _get_cpt_ts_wrapper(length, ncpt, margin_size=None, mean_diff_sd=10, err_sd=1):\n",
    "    \"\"\"\n",
    "    Generate a time series with change points.\n",
    "\n",
    "    Parameters:\n",
    "    - length (int): Length of the time series.\n",
    "    - ncpt (int): Number of change points.\n",
    "    - margin_size (int, optional): Size of the margin around the time series where change points cannot occur. If not provided, it is set to 10% of the length.\n",
    "    - mean_diff_sd (float, optional): Standard deviation of the mean differences between segments. Default is 10.\n",
    "    - err_sd (float, optional): Standard deviation of the error term. Default is 1.\n",
    "\n",
    "    Returns:\n",
    "    - ts (numpy.ndarray): Generated time series with change points.\n",
    "    \"\"\"\n",
    "    if margin_size is None:\n",
    "        margin_size = int(length*0.1)\n",
    "    cpts = np.sort(npr.choice(np.arange(1+margin_size, length-margin_size), size=ncpt, replace=False))\n",
    "    if ncpt >= 2:\n",
    "        while np.diff(cpts).min() < margin_size:\n",
    "            cpts = np.sort(npr.choice(np.arange(1+margin_size, length-margin_size), size=ncpt, replace=False))\n",
    "        \n",
    "    mean_diff = np.abs(npr.randn(ncpt))*mean_diff_sd + 5\n",
    "    mean_diff = mean_diff * (-1)**np.arange(ncpt)\n",
    "    ts = get_cpt_ts(mean_diff, cpts, err_sd, length=length)\n",
    "    return ts"
   ]
  },
  {
   "cell_type": "code",
   "execution_count": 19,
   "id": "3a6c5556-62fa-497b-a5b3-d129c540ab80",
   "metadata": {
    "execution": {
     "iopub.execute_input": "2024-01-19T23:22:55.467775Z",
     "iopub.status.busy": "2024-01-19T23:22:55.467235Z",
     "iopub.status.idle": "2024-01-19T23:22:55.564491Z",
     "shell.execute_reply": "2024-01-19T23:22:55.563957Z",
     "shell.execute_reply.started": "2024-01-19T23:22:55.467730Z"
    },
    "tags": []
   },
   "outputs": [
    {
     "name": "stdout",
     "output_type": "stream",
     "text": [
      "[] []\n"
     ]
    },
    {
     "data": {
      "text/plain": [
       "[<matplotlib.lines.Line2D at 0x7f78b5dd9220>]"
      ]
     },
     "execution_count": 19,
     "metadata": {},
     "output_type": "execute_result"
    },
    {
     "data": {
      "image/png": "[encoded data removed]",
      "text/plain": [
       "<Figure size 432x288 with 1 Axes>"
      ]
     },
     "metadata": {
      "needs_background": "light"
     },
     "output_type": "display_data"
    }
   ],
   "source": [
    "length = 100\n",
    "ncpt = 5\n",
    "margin_size = 10\n",
    "mean_diff_sd = 10\n",
    "err_sd = 1\n",
    "\n",
    "\n",
    "\n",
    "ts = _get_cpt_ts_wrapper(length=1000, ncpt=0)\n",
    "plt.plot(ts)"
   ]
  },
  {
   "cell_type": "code",
   "execution_count": null,
   "id": "e543f389-1ecd-48ad-804e-a47c8072cf3c",
   "metadata": {},
   "outputs": [],
   "source": []
  },
  {
   "cell_type": "code",
   "execution_count": null,
   "id": "6626eb91-a4ba-407e-94c2-23dc0c7fe94f",
   "metadata": {},
   "outputs": [],
   "source": []
  }
 ],
 "metadata": {
  "kernelspec": {
   "display_name": "Python 3 (ipykernel)",
   "language": "python",
   "name": "python3"
  },
  "language_info": {
   "codemirror_mode": {
    "name": "ipython",
    "version": 3
   },
   "file_extension": ".py",
   "mimetype": "text/x-python",
   "name": "python",
   "nbconvert_exporter": "python",
   "pygments_lexer": "ipython3",
   "version": "3.9.7"
  }
 },
 "nbformat": 4,
 "nbformat_minor": 5
}
