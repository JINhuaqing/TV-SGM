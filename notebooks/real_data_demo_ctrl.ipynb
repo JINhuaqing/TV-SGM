{
 "cells": [
  {
   "cell_type": "markdown",
   "id": "6c3785c4-9f12-48d6-b30b-543b5d0a2f85",
   "metadata": {},
   "source": [
    "Now I run the real data (Ctrl data in AD_vs_Ctrl dataset)\n",
    "\n",
    "Convert to dB Scale\n",
    "\n",
    "- 由于现在我处理的ctrl的spectrogram的freqs pts和eye MEG data 一样，所以你可以用SGM_net_large_eye_close来simulate PSD。\n",
    "- 但是，顺序是不一样的，我用的是36-MEG data的顺序训练的这个net。"
   ]
  },
  {
   "cell_type": "code",
   "execution_count": 1,
   "id": "77566fcf-6190-41eb-8168-972aeea4fcad",
   "metadata": {
    "execution": {
     "iopub.execute_input": "2023-12-12T23:24:13.080553Z",
     "iopub.status.busy": "2023-12-12T23:24:13.079871Z",
     "iopub.status.idle": "2023-12-12T23:24:13.099079Z",
     "shell.execute_reply": "2023-12-12T23:24:13.098073Z",
     "shell.execute_reply.started": "2023-12-12T23:24:13.080508Z"
    },
    "tags": []
   },
   "outputs": [
    {
     "data": {
      "text/plain": [
       "False"
      ]
     },
     "execution_count": 1,
     "metadata": {},
     "output_type": "execute_result"
    }
   ],
   "source": [
    "RUN_PYTHON_SCRIPT = False"
   ]
  },
  {
   "cell_type": "code",
   "execution_count": 2,
   "id": "ba9942dd",
   "metadata": {
    "ExecuteTime": {
     "end_time": "2023-04-04T17:37:57.771920Z",
     "start_time": "2023-04-04T17:37:56.085736Z"
    },
    "execution": {
     "iopub.execute_input": "2023-12-12T23:24:13.799556Z",
     "iopub.status.busy": "2023-12-12T23:24:13.799055Z",
     "iopub.status.idle": "2023-12-12T23:24:13.915096Z",
     "shell.execute_reply": "2023-12-12T23:24:13.914467Z",
     "shell.execute_reply.started": "2023-12-12T23:24:13.799514Z"
    },
    "tags": []
   },
   "outputs": [],
   "source": [
    "import sys\n",
    "sys.path.append(\"../mypkg\")\n",
    "from constants import RES_ROOT, FIG_ROOT, DATA_ROOT"
   ]
  },
  {
   "cell_type": "code",
   "execution_count": 3,
   "id": "ad09a305",
   "metadata": {
    "ExecuteTime": {
     "end_time": "2023-04-04T17:38:03.434191Z",
     "start_time": "2023-04-04T17:37:58.883670Z"
    },
    "execution": {
     "iopub.execute_input": "2023-12-12T23:24:14.639793Z",
     "iopub.status.busy": "2023-12-12T23:24:14.639164Z",
     "iopub.status.idle": "2023-12-12T23:24:15.494519Z",
     "shell.execute_reply": "2023-12-12T23:24:15.493900Z",
     "shell.execute_reply.started": "2023-12-12T23:24:14.639748Z"
    },
    "tags": []
   },
   "outputs": [],
   "source": [
    "import numpy as np\n",
    "import scipy\n",
    "import matplotlib.pyplot as plt\n",
    "import seaborn as sns\n",
    "from easydict import EasyDict as edict\n",
    "from tqdm import trange, tqdm\n",
    "import time\n",
    "\n",
    "plt.style.use(FIG_ROOT/\"base.mplstyle\")"
   ]
  },
  {
   "cell_type": "code",
   "execution_count": 4,
   "id": "ef25fde2-bcc1-402d-935e-9c4053a76696",
   "metadata": {
    "execution": {
     "iopub.execute_input": "2023-12-12T23:24:21.113914Z",
     "iopub.status.busy": "2023-12-12T23:24:21.112677Z",
     "iopub.status.idle": "2023-12-12T23:24:21.144879Z",
     "shell.execute_reply": "2023-12-12T23:24:21.143990Z",
     "shell.execute_reply.started": "2023-12-12T23:24:21.113857Z"
    },
    "tags": []
   },
   "outputs": [],
   "source": [
    "%load_ext autoreload\n",
    "%autoreload 2\n",
    "# 0,1, 2, 3, be careful about the space"
   ]
  },
  {
   "cell_type": "code",
   "execution_count": 5,
   "id": "0924abca",
   "metadata": {
    "ExecuteTime": {
     "end_time": "2023-04-04T17:38:12.656580Z",
     "start_time": "2023-04-04T17:38:12.479288Z"
    },
    "execution": {
     "iopub.execute_input": "2023-12-12T23:24:21.726145Z",
     "iopub.status.busy": "2023-12-12T23:24:21.725586Z",
     "iopub.status.idle": "2023-12-12T23:24:23.133891Z",
     "shell.execute_reply": "2023-12-12T23:24:23.132884Z",
     "shell.execute_reply.started": "2023-12-12T23:24:21.726101Z"
    },
    "tags": []
   },
   "outputs": [],
   "source": [
    "from utils.reparam import theta2raw_torch, raw2theta_torch, raw2theta_np\n",
    "from spectrome import Brain\n",
    "from sgm.sgm import SGM\n",
    "from utils.stable import paras_stable_check\n",
    "from utils.misc import save_pkl, save_pkl_dict2folder, load_pkl, load_pkl_folder2dict, delta_time\n",
    "from models.lstm import LSTM_SGM\n",
    "from models.loss import  weighted_mse_loss, reg_R_loss, lin_R_loss, lin_R_fn, reg_R_fn\n",
    "from utils.standardize import std_mat, std_vec"
   ]
  },
  {
   "cell_type": "code",
   "execution_count": 6,
   "id": "318c4ef4",
   "metadata": {
    "ExecuteTime": {
     "end_time": "2023-04-04T17:38:12.665771Z",
     "start_time": "2023-04-04T17:38:12.659314Z"
    },
    "execution": {
     "iopub.execute_input": "2023-12-12T23:24:23.912186Z",
     "iopub.status.busy": "2023-12-12T23:24:23.911431Z",
     "iopub.status.idle": "2023-12-12T23:24:23.952824Z",
     "shell.execute_reply": "2023-12-12T23:24:23.951919Z",
     "shell.execute_reply.started": "2023-12-12T23:24:23.912139Z"
    },
    "tags": []
   },
   "outputs": [],
   "source": [
    "# pkgs for pytorch ( Mar 27, 2023) \n",
    "import torch\n",
    "import torch.nn as nn\n",
    "from torch.functional import F\n",
    "from torch.optim.lr_scheduler import ExponentialLR\n",
    "\n",
    "torch.set_default_dtype(torch.float64)\n",
    "if torch.cuda.is_available():\n",
    "    torch.cuda.set_device(2)\n",
    "    torch.set_default_tensor_type(torch.cuda.DoubleTensor)\n",
    "    torch.backends.cudnn.benchmark = True\n",
    "else:\n",
    "    torch.set_default_tensor_type(torch.DoubleTensor)"
   ]
  },
  {
   "cell_type": "code",
   "execution_count": null,
   "id": "c42cd127-34b0-4132-a0a3-efa7f5c514cf",
   "metadata": {},
   "outputs": [],
   "source": []
  },
  {
   "cell_type": "markdown",
   "id": "6d7a4da6",
   "metadata": {},
   "source": [
    "# Data, fn and paras"
   ]
  },
  {
   "cell_type": "code",
   "execution_count": 7,
   "id": "4bf14395-dc0a-4af2-a2e2-bd504d7818d2",
   "metadata": {
    "execution": {
     "iopub.execute_input": "2023-12-12T23:24:25.647726Z",
     "iopub.status.busy": "2023-12-12T23:24:25.647164Z",
     "iopub.status.idle": "2023-12-12T23:24:26.157626Z",
     "shell.execute_reply": "2023-12-12T23:24:26.156901Z",
     "shell.execute_reply.started": "2023-12-12T23:24:25.647682Z"
    },
    "tags": []
   },
   "outputs": [
    {
     "name": "stdout",
     "output_type": "stream",
     "text": [
      "Load file /data/rajlab1/user_data/jin/MyResearch/TV-SGM/notebooks/../mypkg/../data/AD_vs_Ctrl_ts/spectrogram_scipy.pkl\n"
     ]
    }
   ],
   "source": [
    "psd_all_full0 = load_pkl(DATA_ROOT/\"AD_vs_Ctrl_ts/spectrogram_scipy.pkl\");\n",
    "\n",
    "psd_all_full = np.array([res[\"spectrogram\"] for res in psd_all_full0]);\n",
    "psd_all_full = 10 * np.log10(psd_all_full) # to dB scale\n",
    "time_points = psd_all_full0[0][\"times\"]\n",
    "freqs = psd_all_full0[0][\"freqs\"];"
   ]
  },
  {
   "cell_type": "code",
   "execution_count": 8,
   "id": "e3592408-44fd-4554-870f-b42938765231",
   "metadata": {
    "execution": {
     "iopub.execute_input": "2023-12-12T23:24:28.845520Z",
     "iopub.status.busy": "2023-12-12T23:24:28.844883Z",
     "iopub.status.idle": "2023-12-12T23:24:28.891581Z",
     "shell.execute_reply": "2023-12-12T23:24:28.890562Z",
     "shell.execute_reply.started": "2023-12-12T23:24:28.845474Z"
    },
    "tags": []
   },
   "outputs": [
    {
     "data": {
      "text/plain": [
       "1.0"
      ]
     },
     "execution_count": 8,
     "metadata": {},
     "output_type": "execute_result"
    }
   ],
   "source": [
    "# get order idx\n",
    "# idx from 36-MEG order to Ctrl-data order\n",
    "# org_order: ctrl data order\n",
    "# target_order: SGMnet order, SC order\n",
    "org_order = np.loadtxt(DATA_ROOT/\"AD_vs_Ctrl_ts/roi_order.txt\", dtype=str);\n",
    "target_order0 = np.loadtxt(DATA_ROOT/\"DK_atlas_36MEG.txt\", dtype=str);\n",
    "target_order = np.array([f\"ctx-{roi_name.split('_')[1].lower()}h-{roi_name.split('_')[0].lower()}\" for roi_name in target_order0[:68]]);\n",
    "org2target_idxs = np.array([np.where(org_order==roi)[0][0] for roi in target_order]);\n",
    "(org_order[org2target_idxs] == target_order).mean()"
   ]
  },
  {
   "cell_type": "code",
   "execution_count": 9,
   "id": "180f0d16",
   "metadata": {
    "ExecuteTime": {
     "end_time": "2023-04-04T17:38:18.614858Z",
     "start_time": "2023-04-04T17:38:18.509968Z"
    },
    "execution": {
     "iopub.execute_input": "2023-12-12T23:24:30.678212Z",
     "iopub.status.busy": "2023-12-12T23:24:30.677636Z",
     "iopub.status.idle": "2023-12-12T23:24:30.737007Z",
     "shell.execute_reply": "2023-12-12T23:24:30.736213Z",
     "shell.execute_reply.started": "2023-12-12T23:24:30.678167Z"
    },
    "tags": []
   },
   "outputs": [],
   "source": [
    "# Load the Connectome\n",
    "brain = Brain.Brain()\n",
    "brain.add_connectome(DATA_ROOT)\n",
    "brain.reorder_connectome(brain.connectome, brain.distance_matrix)\n",
    "brain.bi_symmetric_c()\n",
    "brain.reduce_extreme_dir()"
   ]
  },
  {
   "cell_type": "code",
   "execution_count": 10,
   "id": "f85a7c05",
   "metadata": {
    "ExecuteTime": {
     "end_time": "2023-04-04T17:38:22.084241Z",
     "start_time": "2023-04-04T17:38:22.076317Z"
    },
    "execution": {
     "iopub.execute_input": "2023-12-12T23:24:32.237604Z",
     "iopub.status.busy": "2023-12-12T23:24:32.237063Z",
     "iopub.status.idle": "2023-12-12T23:24:32.275848Z",
     "shell.execute_reply": "2023-12-12T23:24:32.275176Z",
     "shell.execute_reply.started": "2023-12-12T23:24:32.237561Z"
    },
    "tags": []
   },
   "outputs": [],
   "source": [
    "# some constant parameters for this file\n",
    "paras = edict()\n",
    "\n",
    "## I reorder them in an alphabetical order and I change tauC to tauG (Mar 27, 2023)\n",
    "## the orginal order is taue, taui, tauC, speed, alpha, gii, gei\n",
    "## paras.par_low = np.asarray([0.005,0.005,0.005,5, 0.1,0.001,0.001])\n",
    "## paras.par_high = np.asarray([0.03, 0.20, 0.03,20,  1,    2,  0.7])\n",
    "##\n",
    "\n",
    "# alpha, gei, gii, taue, tauG, taui, speed \n",
    "paras.par_low = np.array([0.1, 0.001,0.001, 0.005, 0.005, 0.005, 5])\n",
    "paras.par_high = np.asarray([1, 0.7, 2, 0.03, 0.03, 0.20, 20])\n",
    "paras.prior_bds = np.array([paras.par_low, paras.par_high]).T\n",
    "paras.names = [\"alpha\", \"gei\", \"gii\", \"Taue\", \"TauG\", \"Taui\", \"Speed\"]\n",
    "\n",
    "paras.C = brain.reducedConnectome\n",
    "paras.D = brain.distance_matrix\n",
    "paras.freqs = freqs"
   ]
  },
  {
   "cell_type": "code",
   "execution_count": null,
   "id": "1296b9e0",
   "metadata": {},
   "outputs": [],
   "source": []
  },
  {
   "cell_type": "markdown",
   "id": "65ce16ba",
   "metadata": {},
   "source": [
    "# Train the model"
   ]
  },
  {
   "cell_type": "code",
   "execution_count": 11,
   "id": "b49a3544-8248-45e0-b006-4464dbaaf09f",
   "metadata": {
    "ExecuteTime": {
     "end_time": "2023-04-04T17:38:36.267294Z",
     "start_time": "2023-04-04T17:38:35.514912Z"
    },
    "execution": {
     "iopub.execute_input": "2023-12-12T23:24:34.493383Z",
     "iopub.status.busy": "2023-12-12T23:24:34.492833Z",
     "iopub.status.idle": "2023-12-12T23:24:34.590054Z",
     "shell.execute_reply": "2023-12-12T23:24:34.589433Z",
     "shell.execute_reply.started": "2023-12-12T23:24:34.493338Z"
    },
    "tags": []
   },
   "outputs": [
    {
     "name": "stdout",
     "output_type": "stream",
     "text": [
      "Load file /data/rajlab1/user_data/jin/MyResearch/TV-SGM/notebooks/../mypkg/../results/SGM_net_large_eye_close/freqs.pkl\n",
      "Load file /data/rajlab1/user_data/jin/MyResearch/TV-SGM/notebooks/../mypkg/../results/SGM_net_large_eye_close/loss.pkl\n",
      "Load file /data/rajlab1/user_data/jin/MyResearch/TV-SGM/notebooks/../mypkg/../results/SGM_net_large_eye_close/loss_fn.pkl\n",
      "Load file /data/rajlab1/user_data/jin/MyResearch/TV-SGM/notebooks/../mypkg/../results/SGM_net_large_eye_close/loss_test.pkl\n",
      "Load file /data/rajlab1/user_data/jin/MyResearch/TV-SGM/notebooks/../mypkg/../results/SGM_net_large_eye_close/model.pkl\n",
      "Load file /data/rajlab1/user_data/jin/MyResearch/TV-SGM/notebooks/../mypkg/../results/SGM_net_large_eye_close/paras.pkl\n"
     ]
    }
   ],
   "source": [
    "trained_model = load_pkl_folder2dict(RES_ROOT/\"SGM_net_large_eye_close\", excluding=['opt*'])\n",
    "sgm_net = trained_model.model;\n",
    "sgm_net.eval();"
   ]
  },
  {
   "cell_type": "code",
   "execution_count": 12,
   "id": "6fe17f7e-27c4-46fb-8c28-37e34b229746",
   "metadata": {
    "execution": {
     "iopub.execute_input": "2023-12-12T23:24:36.480172Z",
     "iopub.status.busy": "2023-12-12T23:24:36.479441Z",
     "iopub.status.idle": "2023-12-12T23:24:36.813916Z",
     "shell.execute_reply": "2023-12-12T23:24:36.813476Z",
     "shell.execute_reply.started": "2023-12-12T23:24:36.480123Z"
    },
    "tags": []
   },
   "outputs": [
    {
     "data": {
      "image/png": "[encoded data removed]",
      "text/plain": [
       "<Figure size 1000x500 with 1 Axes>"
      ]
     },
     "metadata": {
      "needs_background": "light"
     },
     "output_type": "display_data"
    }
   ],
   "source": [
    "if not RUN_PYTHON_SCRIPT:\n",
    "    plt.plot(np.array(trained_model.loss)/10)\n",
    "    plt.plot(trained_model.loss_test)\n",
    "    #plt.xticks(np.arange(0, 120, 14));\n",
    "    plt.yscale(\"log\")"
   ]
  },
  {
   "cell_type": "code",
   "execution_count": 13,
   "id": "d507dc44",
   "metadata": {
    "ExecuteTime": {
     "end_time": "2023-04-04T17:38:47.060338Z",
     "start_time": "2023-04-04T17:38:46.969000Z"
    },
    "code_folding": [],
    "execution": {
     "iopub.execute_input": "2023-12-12T23:24:38.259081Z",
     "iopub.status.busy": "2023-12-12T23:24:38.258498Z",
     "iopub.status.idle": "2023-12-12T23:24:38.300534Z",
     "shell.execute_reply": "2023-12-12T23:24:38.299916Z",
     "shell.execute_reply.started": "2023-12-12T23:24:38.259034Z"
    },
    "tags": []
   },
   "outputs": [],
   "source": [
    "# functions to generate training sample (Apr 1, 2023)\n",
    "def random_choice(n, batchsize=1, len_seg=None):\n",
    "    \"\"\"Randomly select the lower and upper bound of the segment\n",
    "        args:\n",
    "            n: len of the total time series\n",
    "    \"\"\"\n",
    "    if len_seg is None:\n",
    "        len_seg = torch.randint(low=10, high=100, size=(1, ))\n",
    "    up_bd = torch.randint(low=len_seg.item(), high=n, size=(batchsize, ))\n",
    "    low_bd = up_bd - len_seg\n",
    "    return low_bd, up_bd\n",
    "\n",
    "\n",
    "def random_samples_rnn(X, Y=None, batchsize=1, \n",
    "                       bds=None, \n",
    "                       is_std=True, \n",
    "                       theta2raw_fn=None):\n",
    "    \"\"\"Randomly select a sample from the whole segment\n",
    "        args:\n",
    "            X: PSD, num_seq x 68 x nfreq or \n",
    "               PSD, num_sub x num_seq x 68 x nfreq\n",
    "            Y: params, num x 7, in original sgm scale\n",
    "        return:\n",
    "            X_seqs: len_seq x batchsize x num_fs\n",
    "            Y_seqs: len_seq x batchsize x 7\n",
    "            \n",
    "    \"\"\"\n",
    "    if X.ndim == 4:\n",
    "        # if multiple subjects, pick up a subject\n",
    "        num_sub = X.shape[0]\n",
    "        sub_idx = np.random.randint(low=0, high=num_sub)\n",
    "        X = X[sub_idx]\n",
    "        \n",
    "    if not isinstance(X, torch.Tensor):\n",
    "        X = torch.tensor(X)\n",
    "    if is_std:\n",
    "        #X = X/X.std(axis=(1, 2), keepdims=True)\n",
    "        # Let std for each ROI and each data\n",
    "        X = (X-X.mean(axis=2, keepdims=True))/X.std(axis=2, keepdims=True)\n",
    "    if Y is not None:\n",
    "        if not isinstance(Y, torch.Tensor):\n",
    "            Y = torch.tensor(Y)\n",
    "        if theta2raw_fn: \n",
    "            Y = theta2raw_fn(Y)\n",
    "    if bds is None:\n",
    "        low_bds, up_bds = random_choice(len(X), batchsize)\n",
    "    else:\n",
    "        low_bds, up_bds = bds\n",
    "\n",
    "    X = X.flatten(1)\n",
    "    X_seqs = []\n",
    "    Y_seqs = []\n",
    "    for low_bd, up_bd in zip(low_bds, up_bds):\n",
    "        X_seq = X[low_bd:up_bd, :].unsqueeze(1)\n",
    "        X_seqs.append(X_seq)\n",
    "        if Y is not None:\n",
    "            Y_seq = Y[low_bd:up_bd].unsqueeze(1)\n",
    "            Y_seqs.append(Y_seq)\n",
    "    if Y is not None:\n",
    "        return torch.cat(X_seqs, dim=1), torch.cat(Y_seqs, dim=1)\n",
    "    else:\n",
    "        return torch.cat(X_seqs, dim=1)\n",
    "        "
   ]
  },
  {
   "cell_type": "code",
   "execution_count": 20,
   "id": "2db4078d-5415-4185-9076-db8bdcff80db",
   "metadata": {
    "execution": {
     "iopub.execute_input": "2023-12-12T23:27:40.167116Z",
     "iopub.status.busy": "2023-12-12T23:27:40.166473Z",
     "iopub.status.idle": "2023-12-12T23:27:40.278594Z",
     "shell.execute_reply": "2023-12-12T23:27:40.277294Z",
     "shell.execute_reply.started": "2023-12-12T23:27:40.167069Z"
    },
    "tags": []
   },
   "outputs": [],
   "source": [
    "def evaluate(all_data):\n",
    "    num_sub, len_seq, _, _ = all_data.shape\n",
    "    all_data_raw = torch.tensor(all_data).transpose(1, 0)\n",
    "    all_data_input = (all_data_raw - all_data_raw.mean(axis=-1, keepdims=True))/all_data_raw.std(axis=-1, keepdims=True);\n",
    "    all_data_input = all_data_input.flatten(2);\n",
    "    \n",
    "    with torch.no_grad():\n",
    "        Y_pred = rnn(all_data_input);\n",
    "        X_pred = sgm_net(Y_pred.flatten(0, 1));\n",
    "    corrs = reg_R_fn(all_data_raw.flatten(0, 1), X_pred);\n",
    "    corrs = corrs.reshape(len_seq, num_sub, -1).transpose(1, 0)\n",
    "    return corrs.detach().numpy()"
   ]
  },
  {
   "cell_type": "code",
   "execution_count": 21,
   "id": "ace453aa",
   "metadata": {
    "ExecuteTime": {
     "end_time": "2023-04-04T19:25:30.343060Z",
     "start_time": "2023-04-04T19:25:30.335835Z"
    },
    "execution": {
     "iopub.execute_input": "2023-12-12T23:27:40.782579Z",
     "iopub.status.busy": "2023-12-12T23:27:40.782031Z",
     "iopub.status.idle": "2023-12-12T23:27:41.173611Z",
     "shell.execute_reply": "2023-12-12T23:27:41.173000Z",
     "shell.execute_reply.started": "2023-12-12T23:27:40.782535Z"
    },
    "tags": []
   },
   "outputs": [],
   "source": [
    "paras_rnn = edict()\n",
    "paras_rnn.batchsize = 128\n",
    "paras_rnn.niter = 500\n",
    "paras_rnn.loss_out = 5\n",
    "paras_rnn.eval_out = 20\n",
    "paras_rnn.clip = 1 # from \n",
    "paras_rnn.lr_step = 10\n",
    "\n",
    "paras_rnn.k = 1\n",
    "paras_rnn.hidden_dim = int(1024/1)\n",
    "paras_rnn.output_dim = 7\n",
    "paras_rnn.input_dim = 68*len(paras.freqs)\n",
    "paras_rnn.is_bidirectional = False\n",
    "paras_rnn.unstable_pen = 10000 # Whether to filter out the unstable sps or not, if 0 not, if large number, yes\n",
    "paras_rnn.loss_name = \"corr\" # linR, corr, wmse or mse\n",
    "#paras.names = [\"alpha\", \"gei\", \"gii\", \"Taue\", \"TauG\", \"Taui\", \"Speed\"]\n",
    "# 1 dynamic, 0 static\n",
    "paras_rnn.dy_mask = [1, 1, 1, 1, 1, 1, 0] \n",
    "\n",
    "psd_all = psd_all_full\n",
    "#  real data, should be num_sub x len_seq x nrois x nfreqs\n",
    "#  or len_seq x nrois x nfreqs\n",
    "all_data = psd_all.transpose(0, 3, 1, 2)\n",
    "# make the ctrl data order is compatible to SGM net \n",
    "all_data = all_data[:, :, org2target_idxs]\n",
    "\n",
    "all_data_raw = torch.tensor(all_data).transpose(1, 0)\n",
    "all_data_input = (all_data_raw - all_data_raw.mean(axis=-1, keepdims=True))/all_data_raw.std(axis=-1, keepdims=True);\n",
    "all_data_input = all_data_input.flatten(2);"
   ]
  },
  {
   "cell_type": "code",
   "execution_count": 22,
   "id": "2b8b59c2",
   "metadata": {
    "ExecuteTime": {
     "end_time": "2023-04-04T20:27:57.475018Z",
     "start_time": "2023-04-04T20:27:57.334374Z"
    },
    "execution": {
     "iopub.execute_input": "2023-12-12T23:27:43.263531Z",
     "iopub.status.busy": "2023-12-12T23:27:43.262911Z",
     "iopub.status.idle": "2023-12-12T23:27:43.408309Z",
     "shell.execute_reply": "2023-12-12T23:27:43.407860Z",
     "shell.execute_reply.started": "2023-12-12T23:27:43.263486Z"
    },
    "tags": []
   },
   "outputs": [
    {
     "name": "stdout",
     "output_type": "stream",
     "text": [
      "Adjusting learning rate of group 0 to 2.0000e-04.\n"
     ]
    },
    {
     "data": {
      "text/plain": [
       "<torch.optim.lr_scheduler.ExponentialLR at 0x7fd3db54daf0>"
      ]
     },
     "execution_count": 22,
     "metadata": {},
     "output_type": "execute_result"
    }
   ],
   "source": [
    "rnn = LSTM_SGM(input_dim=paras_rnn.input_dim, \n",
    "               hidden_dim=paras_rnn.hidden_dim, \n",
    "               output_dim=paras_rnn.output_dim, \n",
    "               is_bidirectional=paras_rnn.is_bidirectional, \n",
    "               prior_bds=torch.tensor(paras.prior_bds), \n",
    "               k = paras_rnn.k, \n",
    "               dy_mask = paras_rnn.dy_mask\n",
    ")\n",
    "if paras_rnn.loss_name.startswith(\"corr\"):\n",
    "    loss_fn = reg_R_loss\n",
    "elif paras_rnn.loss_name.startswith(\"linR\"):\n",
    "    loss_fn = lin_R_loss\n",
    "elif paras_rnn.loss_name.startswith(\"wmse\"):\n",
    "    loss_fn = weighted_mse_loss\n",
    "elif paras_rnn.loss_name.startswith(\"mse\"):\n",
    "    loss_fn = nn.MSELoss()\n",
    "else:\n",
    "    raise KeyError(\"No such loss\")\n",
    "\n",
    "optimizer = torch.optim.AdamW(rnn.parameters(), lr=2e-4, weight_decay=0)\n",
    "scheduler = ExponentialLR(optimizer, gamma=0.9, verbose=True)"
   ]
  },
  {
   "cell_type": "code",
   "execution_count": null,
   "id": "16653792",
   "metadata": {
    "ExecuteTime": {
     "end_time": "2023-04-04T20:39:31.112388Z",
     "start_time": "2023-04-04T20:27:58.069870Z"
    },
    "execution": {
     "iopub.execute_input": "2023-12-12T23:27:44.180645Z",
     "iopub.status.busy": "2023-12-12T23:27:44.180099Z"
    },
    "scrolled": true,
    "tags": []
   },
   "outputs": [
    {
     "name": "stdout",
     "output_type": "stream",
     "text": [
      "At iter 5/500, the losses are -0.72958 (train). The time used is 22.293s. \n",
      "Adjusting learning rate of group 0 to 1.8000e-04.\n",
      "At iter 10/500, the losses are -0.77988 (train). The time used is 17.861s. \n",
      "At iter 15/500, the losses are -0.78050 (train). The time used is 22.409s. \n",
      "Adjusting learning rate of group 0 to 1.6200e-04.\n",
      "At iter 20/500, the losses are -0.78125 (train). The time used is 22.713s. \n",
      "====================================================================================================\n",
      "At iter 20/500, the losses on all data are 0.78185. The time used is 1.830s. \n",
      "====================================================================================================\n",
      "At iter 25/500, the losses are -0.78228 (train). The time used is 25.251s. \n",
      "Adjusting learning rate of group 0 to 1.4580e-04.\n",
      "At iter 30/500, the losses are -0.78358 (train). The time used is 20.801s. \n",
      "At iter 35/500, the losses are -0.78474 (train). The time used is 22.127s. \n",
      "Adjusting learning rate of group 0 to 1.3122e-04.\n",
      "At iter 40/500, the losses are -0.78536 (train). The time used is 21.858s. \n",
      "====================================================================================================\n",
      "At iter 40/500, the losses on all data are 0.78558. The time used is 1.428s. \n",
      "====================================================================================================\n",
      "At iter 45/500, the losses are -0.78565 (train). The time used is 18.350s. \n",
      "Adjusting learning rate of group 0 to 1.1810e-04.\n",
      "At iter 50/500, the losses are -0.78597 (train). The time used is 19.148s. \n",
      "At iter 55/500, the losses are -0.78624 (train). The time used is 18.341s. \n",
      "Adjusting learning rate of group 0 to 1.0629e-04.\n",
      "At iter 60/500, the losses are -0.78643 (train). The time used is 23.243s. \n",
      "====================================================================================================\n",
      "At iter 60/500, the losses on all data are 0.78654. The time used is 1.851s. \n",
      "====================================================================================================\n",
      "At iter 65/500, the losses are -0.78658 (train). The time used is 24.735s. \n",
      "Adjusting learning rate of group 0 to 9.5659e-05.\n",
      "At iter 70/500, the losses are -0.78671 (train). The time used is 18.327s. \n",
      "At iter 75/500, the losses are -0.78682 (train). The time used is 17.902s. \n",
      "Adjusting learning rate of group 0 to 8.6093e-05.\n",
      "At iter 80/500, the losses are -0.78690 (train). The time used is 22.295s. \n",
      "====================================================================================================\n",
      "At iter 80/500, the losses on all data are 0.78695. The time used is 1.424s. \n",
      "====================================================================================================\n",
      "At iter 85/500, the losses are -0.78697 (train). The time used is 19.635s. \n",
      "Adjusting learning rate of group 0 to 7.7484e-05.\n",
      "At iter 90/500, the losses are -0.78703 (train). The time used is 19.979s. \n",
      "At iter 95/500, the losses are -0.78709 (train). The time used is 17.874s. \n",
      "Adjusting learning rate of group 0 to 6.9736e-05.\n",
      "At iter 100/500, the losses are -0.78713 (train). The time used is 22.912s. \n",
      "====================================================================================================\n",
      "At iter 100/500, the losses on all data are 0.78716. The time used is 1.836s. \n",
      "====================================================================================================\n",
      "At iter 105/500, the losses are -0.78718 (train). The time used is 23.974s. \n",
      "Adjusting learning rate of group 0 to 6.2762e-05.\n",
      "At iter 110/500, the losses are -0.78722 (train). The time used is 18.367s. \n",
      "At iter 115/500, the losses are -0.78725 (train). The time used is 21.731s. \n",
      "Adjusting learning rate of group 0 to 5.6486e-05.\n",
      "At iter 120/500, the losses are -0.78729 (train). The time used is 21.551s. \n",
      "====================================================================================================\n",
      "At iter 120/500, the losses on all data are 0.78731. The time used is 1.828s. \n",
      "====================================================================================================\n",
      "At iter 125/500, the losses are -0.78732 (train). The time used is 24.048s. \n",
      "Adjusting learning rate of group 0 to 5.0837e-05.\n",
      "At iter 130/500, the losses are -0.78735 (train). The time used is 23.454s. \n",
      "At iter 135/500, the losses are -0.78738 (train). The time used is 23.347s. \n",
      "Adjusting learning rate of group 0 to 4.5754e-05.\n",
      "At iter 140/500, the losses are -0.78741 (train). The time used is 23.991s. \n",
      "====================================================================================================\n",
      "At iter 140/500, the losses on all data are 0.78742. The time used is 1.778s. \n",
      "====================================================================================================\n",
      "At iter 145/500, the losses are -0.78743 (train). The time used is 23.601s. \n",
      "Adjusting learning rate of group 0 to 4.1178e-05.\n",
      "At iter 150/500, the losses are -0.78745 (train). The time used is 20.397s. \n",
      "At iter 155/500, the losses are -0.78747 (train). The time used is 17.862s. \n",
      "Adjusting learning rate of group 0 to 3.7060e-05.\n",
      "At iter 160/500, the losses are -0.78749 (train). The time used is 19.499s. \n",
      "====================================================================================================\n",
      "At iter 160/500, the losses on all data are 0.78750. The time used is 1.795s. \n",
      "====================================================================================================\n",
      "At iter 165/500, the losses are -0.78751 (train). The time used is 19.491s. \n"
     ]
    }
   ],
   "source": [
    "# training\n",
    "loss_cur = 0\n",
    "losses = []\n",
    "losses_test = []\n",
    "\n",
    "t0 = time.time()\n",
    "sgm_net.eval()\n",
    "loss_add = 0\n",
    "for ix in range(paras_rnn.niter):\n",
    "    rnn.train()\n",
    "    #X_seq = random_samples_rnn(all_data[24], \n",
    "    #                           batchsize=paras_rnn.batchsize)\n",
    "    X_seq = all_data_input\n",
    "    # Zero the gradients\n",
    "    optimizer.zero_grad()\n",
    "    \n",
    "    theta_pred = rnn(X_seq)\n",
    "    X_pred = sgm_net(theta_pred.flatten(0, 1))\n",
    "    loss_main = loss_fn(X_seq.flatten(0, 1).reshape(-1, 68, len(paras.freqs)),\n",
    "                   X_pred)\n",
    "    if paras_rnn.unstable_pen > 0:\n",
    "        unstable_inds = paras_stable_check(theta_pred.flatten(0, 1).detach().numpy());\n",
    "        unstable_inds = torch.tensor(unstable_inds).reshape(*theta_pred.shape[:2])\n",
    "        loss_add = (paras_rnn.unstable_pen * unstable_inds.unsqueeze(-1) * theta_pred).mean();\n",
    "    loss = loss_main + loss_add\n",
    "    \n",
    "    # Perform backward pass\n",
    "    loss.backward()\n",
    "    \n",
    "    torch.nn.utils.clip_grad_norm_(rnn.parameters(), paras_rnn.clip)\n",
    "    # Perform optimization\n",
    "    optimizer.step()\n",
    "    \n",
    "    if ix % paras_rnn.lr_step == (paras_rnn.lr_step-1):\n",
    "        scheduler.step()\n",
    "    \n",
    "    loss_cur = loss_cur + loss_main.item()\n",
    "    if ix % paras_rnn.loss_out == (paras_rnn.loss_out-1):\n",
    "        losses.append(loss_cur/paras_rnn.loss_out)\n",
    "        print(f\"At iter {ix+1}/{paras_rnn.niter}, \"\n",
    "              f\"the losses are {loss_cur/paras_rnn.loss_out:.5f} (train). \"\n",
    "              f\"The time used is {delta_time(t0):.3f}s. \"\n",
    "             )\n",
    "        loss_cur = 0\n",
    "        t0 = time.time()\n",
    "        \n",
    "    if ix % paras_rnn.eval_out == (paras_rnn.eval_out-1):\n",
    "        rnn.eval()\n",
    "        loss_test = evaluate(all_data).mean()\n",
    "        losses_test.append(loss_test)\n",
    "        print(f\"=\"*100)\n",
    "        print(f\"At iter {ix+1}/{paras_rnn.niter}, \"\n",
    "              f\"the losses on all data are {loss_test:.5f}. \"\n",
    "              f\"The time used is {delta_time(t0):.3f}s. \"\n",
    "             )\n",
    "        print(f\"=\"*100)\n",
    "        t0 = time.time()\n",
    "    \n"
   ]
  },
  {
   "cell_type": "code",
   "execution_count": 24,
   "id": "041b9d90",
   "metadata": {
    "ExecuteTime": {
     "end_time": "2023-04-04T20:55:50.277877Z",
     "start_time": "2023-04-04T20:55:50.180639Z"
    },
    "execution": {
     "iopub.execute_input": "2023-05-09T18:50:11.565491Z",
     "iopub.status.busy": "2023-05-09T18:50:11.564960Z",
     "iopub.status.idle": "2023-05-09T18:50:12.400844Z",
     "shell.execute_reply": "2023-05-09T18:50:12.399454Z",
     "shell.execute_reply.started": "2023-05-09T18:50:11.565463Z"
    },
    "tags": []
   },
   "outputs": [
    {
     "data": {
      "image/png": "[encoded data removed]",
      "text/plain": [
       "<Figure size 432x288 with 1 Axes>"
      ]
     },
     "metadata": {
      "needs_background": "light"
     },
     "output_type": "display_data"
    }
   ],
   "source": [
    "if not RUN_PYTHON_SCRIPT:\n",
    "    plt.plot(losses[:])\n",
    "    #plt.yscale(\"log\")"
   ]
  },
  {
   "cell_type": "code",
   "execution_count": null,
   "id": "20c1147e",
   "metadata": {},
   "outputs": [],
   "source": []
  },
  {
   "cell_type": "markdown",
   "id": "2ef8fc65",
   "metadata": {},
   "source": [
    "# Save"
   ]
  },
  {
   "cell_type": "code",
   "execution_count": 35,
   "id": "e11d6603-bb35-4621-8d20-25265af5685e",
   "metadata": {
    "execution": {
     "iopub.execute_input": "2023-05-09T20:28:49.256044Z",
     "iopub.status.busy": "2023-05-09T20:28:49.255404Z",
     "iopub.status.idle": "2023-05-09T20:28:49.267747Z",
     "shell.execute_reply": "2023-05-09T20:28:49.266709Z",
     "shell.execute_reply.started": "2023-05-09T20:28:49.255999Z"
    },
    "tags": []
   },
   "outputs": [
    {
     "data": {
      "text/plain": [
       "'LSTM_simu_net_corr_alpha_gei_gii_Taue_TauG_Taui'"
      ]
     },
     "execution_count": 35,
     "metadata": {},
     "output_type": "execute_result"
    }
   ],
   "source": [
    "dy_part = \"_\".join(np.array(paras.names)[np.array(paras_rnn.dy_mask)==0][:-1])\n",
    "folder_name = f\"LSTM_simu_net_{paras_rnn.loss_name}_{dy_part}\";\n",
    "folder_name"
   ]
  },
  {
   "cell_type": "code",
   "execution_count": 54,
   "id": "8865f4f0",
   "metadata": {
    "ExecuteTime": {
     "end_time": "2023-04-04T20:56:01.835052Z",
     "start_time": "2023-04-04T20:55:55.813367Z"
    },
    "execution": {
     "iopub.execute_input": "2023-05-09T20:36:28.795851Z",
     "iopub.status.busy": "2023-05-09T20:36:28.795211Z",
     "iopub.status.idle": "2023-05-09T20:36:34.647855Z",
     "shell.execute_reply": "2023-05-09T20:36:34.605687Z",
     "shell.execute_reply.started": "2023-05-09T20:36:28.795807Z"
    },
    "tags": []
   },
   "outputs": [
    {
     "name": "stdout",
     "output_type": "stream",
     "text": [
      "Load file /data/rajlab1/user_data/jin/MyResearch/TV-SGM/notebooks/../mypkg/../results/LSTM_simu_net_corr_alpha_gei_gii_Taue_TauG_Taui/loss.pkl\n",
      "Load file /data/rajlab1/user_data/jin/MyResearch/TV-SGM/notebooks/../mypkg/../results/LSTM_simu_net_corr_alpha_gei_gii_Taue_TauG_Taui/loss_fn.pkl\n",
      "Load file /data/rajlab1/user_data/jin/MyResearch/TV-SGM/notebooks/../mypkg/../results/LSTM_simu_net_corr_alpha_gei_gii_Taue_TauG_Taui/model.pkl\n",
      "Load file /data/rajlab1/user_data/jin/MyResearch/TV-SGM/notebooks/../mypkg/../results/LSTM_simu_net_corr_alpha_gei_gii_Taue_TauG_Taui/optimizer.pkl\n",
      "Load file /data/rajlab1/user_data/jin/MyResearch/TV-SGM/notebooks/../mypkg/../results/LSTM_simu_net_corr_alpha_gei_gii_Taue_TauG_Taui/paras.pkl\n",
      "Load file /data/rajlab1/user_data/jin/MyResearch/TV-SGM/notebooks/../mypkg/../results/LSTM_simu_net_corr_alpha_gei_gii_Taue_TauG_Taui/sgm_paramss_est.pkl\n"
     ]
    }
   ],
   "source": [
    "if (RES_ROOT/folder_name).exists():\n",
    "    trained_model = load_pkl_folder2dict(RES_ROOT/folder_name)\n",
    "else:\n",
    "    trained_model = edict()\n",
    "    trained_model.model = rnn\n",
    "    trained_model.loss_fn = loss_fn\n",
    "    trained_model.optimizer = optimizer\n",
    "    trained_model.paras = paras_rnn\n",
    "    trained_model.loss = losses\n",
    "    save_pkl_dict2folder(RES_ROOT/folder_name, trained_model, is_force=True)"
   ]
  },
  {
   "cell_type": "code",
   "execution_count": null,
   "id": "ef95b8d8-ed67-42b4-baac-8448f6cb203f",
   "metadata": {},
   "outputs": [],
   "source": []
  },
  {
   "cell_type": "markdown",
   "id": "73a978aa-d304-4743-871a-7c56d5e0a3e6",
   "metadata": {},
   "source": [
    "# PSD "
   ]
  },
  {
   "cell_type": "code",
   "execution_count": 56,
   "id": "06ca1333-81c2-4dfe-a619-c749f077704a",
   "metadata": {
    "execution": {
     "iopub.execute_input": "2023-05-09T20:36:58.724931Z",
     "iopub.status.busy": "2023-05-09T20:36:58.724138Z",
     "iopub.status.idle": "2023-05-09T20:37:22.635050Z",
     "shell.execute_reply": "2023-05-09T20:37:22.633622Z",
     "shell.execute_reply.started": "2023-05-09T20:36:58.724881Z"
    },
    "tags": []
   },
   "outputs": [
    {
     "name": "stderr",
     "output_type": "stream",
     "text": [
      "100%|██████████████████████████████████████████████████████████████████████████████████████████████████████████████████████████████████████████| 36/36 [00:07<00:00,  4.78it/s]\n"
     ]
    },
    {
     "name": "stdout",
     "output_type": "stream",
     "text": [
      "Save to /data/rajlab1/user_data/jin/MyResearch/TV-SGM/notebooks/../mypkg/../results/LSTM_simu_net_corr_alpha_gei_gii_Taue_TauG_Taui/loss.pkl\n",
      "Save to /data/rajlab1/user_data/jin/MyResearch/TV-SGM/notebooks/../mypkg/../results/LSTM_simu_net_corr_alpha_gei_gii_Taue_TauG_Taui/loss_fn.pkl\n",
      "Save to /data/rajlab1/user_data/jin/MyResearch/TV-SGM/notebooks/../mypkg/../results/LSTM_simu_net_corr_alpha_gei_gii_Taue_TauG_Taui/model.pkl\n",
      "Save to /data/rajlab1/user_data/jin/MyResearch/TV-SGM/notebooks/../mypkg/../results/LSTM_simu_net_corr_alpha_gei_gii_Taue_TauG_Taui/optimizer.pkl\n",
      "Save to /data/rajlab1/user_data/jin/MyResearch/TV-SGM/notebooks/../mypkg/../results/LSTM_simu_net_corr_alpha_gei_gii_Taue_TauG_Taui/paras.pkl\n",
      "Save to /data/rajlab1/user_data/jin/MyResearch/TV-SGM/notebooks/../mypkg/../results/LSTM_simu_net_corr_alpha_gei_gii_Taue_TauG_Taui/sgm_paramss_est.pkl\n"
     ]
    }
   ],
   "source": [
    "trained_model.model.eval()\n",
    "sgm_paramss_est = []\n",
    "for data_idx  in trange(36):\n",
    "    cur_data = psd_all[:, :, :, data_idx].transpose(2, 0, 1)\n",
    "    X_test = random_samples_rnn(cur_data,\n",
    "                                bds=[[0], [360]],\n",
    "                                theta2raw_fn=None)\n",
    "    with torch.no_grad():\n",
    "        Y_pred = trained_model.model(X_test).squeeze()\n",
    "        sgm_paramss_est.append(Y_pred.numpy())\n",
    "sgm_paramss_est = np.array(sgm_paramss_est);\n",
    "\n",
    "trained_model.sgm_paramss_est = sgm_paramss_est\n",
    "save_pkl_dict2folder(RES_ROOT/folder_name, trained_model, is_force=True)"
   ]
  },
  {
   "cell_type": "code",
   "execution_count": 58,
   "id": "88d8ec8c-4960-4d7d-b038-2579796ccd52",
   "metadata": {
    "execution": {
     "iopub.execute_input": "2023-05-09T20:38:14.819993Z",
     "iopub.status.busy": "2023-05-09T20:38:14.819350Z",
     "iopub.status.idle": "2023-05-09T20:38:14.843788Z",
     "shell.execute_reply": "2023-05-09T20:38:14.842370Z",
     "shell.execute_reply.started": "2023-05-09T20:38:14.819945Z"
    },
    "tags": []
   },
   "outputs": [],
   "source": [
    "# calculate rec PSD and save, only need once\n",
    "# only for all static model\n",
    "if False:\n",
    "    sgmmodel = SGM(paras.C, paras.D, paras.freqs)\n",
    "    def fn(sgm_param):\n",
    "        cur_PSD = sgmmodel.run_local_coupling_forward(sgm_param)\n",
    "        return cur_PSD[:68]\n",
    "        \n",
    "    X_recs = []\n",
    "    for sgm_params_est in tqdm(trained_model.sgm_paramss_est, total=36):\n",
    "        X_rec = fn(sgm_params_est[0])\n",
    "        X_rec = np.tile(X_rec, (len(sgm_params_est), 1, 1))\n",
    "        X_recs.append(X_rec)\n",
    "    # save\n",
    "    trained_model.Rec_PSD = np.array(X_recs)\n",
    "    save_pkl_dict2folder(RES_ROOT/folder_name, trained_model, is_force=False)"
   ]
  },
  {
   "cell_type": "code",
   "execution_count": null,
   "id": "6b240252-8bd6-4aab-ac90-a802c8f421de",
   "metadata": {
    "execution": {
     "iopub.execute_input": "2023-05-09T18:50:34.960681Z",
     "iopub.status.busy": "2023-05-09T18:50:34.959773Z",
     "iopub.status.idle": "2023-05-09T19:35:21.673196Z",
     "shell.execute_reply": "2023-05-09T19:35:21.670059Z",
     "shell.execute_reply.started": "2023-05-09T18:50:34.960633Z"
    },
    "tags": []
   },
   "outputs": [],
   "source": [
    "# calculate rec PSD and save, only need once\n",
    "import multiprocessing as mp\n",
    "num_core = 20\n",
    "\n",
    "sgmmodel = SGM(paras.C, paras.D, paras.freqs)\n",
    "def fn(sgm_param):\n",
    "    cur_PSD = sgmmodel.run_local_coupling_forward(sgm_param)\n",
    "    return cur_PSD[:68]\n",
    "    \n",
    "if __name__ == \"__main__\":\n",
    "    X_recs = []\n",
    "    for sgm_params_est in sgm_paramss_est:\n",
    "        with mp.Pool(num_core) as pool:\n",
    "            all_procs = pool.imap(fn, sgm_params_est)\n",
    "            X_rec = list(tqdm(all_procs, total=len(sgm_params_est)))\n",
    "        X_recs.append(X_rec)\n",
    "# save\n",
    "trained_model.Rec_PSD = np.array(X_recs)\n",
    "save_pkl_dict2folder(RES_ROOT/folder_name, trained_model, is_force=False)"
   ]
  },
  {
   "cell_type": "code",
   "execution_count": null,
   "id": "043ff2fb-e467-4a8f-b576-01905f2cb496",
   "metadata": {},
   "outputs": [],
   "source": []
  }
 ],
 "metadata": {
  "kernelspec": {
   "display_name": "Python 3 (ipykernel)",
   "language": "python",
   "name": "python3"
  },
  "language_info": {
   "codemirror_mode": {
    "name": "ipython",
    "version": 3
   },
   "file_extension": ".py",
   "mimetype": "text/x-python",
   "name": "python",
   "nbconvert_exporter": "python",
   "pygments_lexer": "ipython3",
   "version": "3.9.7"
  },
  "toc": {
   "base_numbering": 1,
   "nav_menu": {},
   "number_sections": true,
   "sideBar": true,
   "skip_h1_title": false,
   "title_cell": "Table of Contents",
   "title_sidebar": "Contents",
   "toc_cell": false,
   "toc_position": {
    "height": "calc(100% - 180px)",
    "left": "10px",
    "top": "150px",
    "width": "165px"
   },
   "toc_section_display": true,
   "toc_window_display": true
  },
  "toc-autonumbering": true,
  "toc-showcode": false
 },
 "nbformat": 4,
 "nbformat_minor": 5
}
